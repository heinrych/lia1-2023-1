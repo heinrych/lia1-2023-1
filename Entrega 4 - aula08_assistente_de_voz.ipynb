{
  "cells": [
    {
      "cell_type": "code",
      "execution_count": null,
      "metadata": {
        "id": "FYPVFdglkoKF"
      },
      "outputs": [],
      "source": [
        "pip install -q gtts\n",
        "pip install -q vosk\n",
        "apt-get install portaudio19-dev\n",
        "apt-get install build-essential\n",
        "pip install --no-cache-dir pyaudio\n",
        "pip install SpeechRecognition\n",
        "apt-get install -q -y portaudio19-dev\n",
        "pip install -q pyaudio\n",
        "pip install -q gtts\n"
      ]
    },
    {
      "attachments": {},
      "cell_type": "markdown",
      "metadata": {},
      "source": [
        "## Imports"
      ]
    },
    {
      "cell_type": "code",
      "execution_count": 11,
      "metadata": {
        "id": "hbu2ydH-L7G9"
      },
      "outputs": [],
      "source": [
        "from IPython.display import Audio\n",
        "import speech_recognition as sr\n",
        "from gtts import gTTS\n"
      ]
    },
    {
      "attachments": {},
      "cell_type": "markdown",
      "metadata": {},
      "source": [
        "### Output de audio - professor"
      ]
    },
    {
      "cell_type": "code",
      "execution_count": 12,
      "metadata": {
        "id": "ULc0xj7KkrnR"
      },
      "outputs": [],
      "source": [
        "diser_texto= \"Eu sou brasileiro\"\n",
        "language = 'pt'\n",
        "gtts_object = gTTS(text = diser_texto,\n",
        "                   lang = language,\n",
        "                   slow = False)\n",
        "gtts_object.save('gtts1.wav')"
      ]
    },
    {
      "cell_type": "code",
      "execution_count": 13,
      "metadata": {
        "colab": {
          "base_uri": "https://localhost:8080/",
          "height": 75
        },
        "id": "msEyINKAmug3",
        "outputId": "036329a1-c05a-4d62-f403-162123bf94b0"
      },
      "outputs": [
        {
          "data": {
            "text/html": [
              "\n",
              "                <audio  controls=\"controls\" >\n",
              "                    <source src=\"data:audio/wav;base64,//NExAASKHXsAUwYAQOEyp2JYlk8zMzAwWLFixYsWL169+973uIQAAAADDw8PDwAAAAADDw8PDwAAAAADDw8PDwAAADP8PDz/gf+Z//5n+Z///iP/9r/XeztGYKQ/3Xp//NExAoUGdqMAZg4AA6IJt/9JxdEb74OzjPfcxTz/6nvYw0r+o+TMGhAXhYFBaeZ/B+D8mynmGiSLxlEb/40GhAbjc8wk7jUIxeY/93xYZ////LVJ1Z4ukOAMwLGOFIw//NExAwUGdqwAdNAASUBTQFsomqky8l7+8+vl4+d2+UR6nVyuA8AQCACYacUD8Ox15YjA0EoNyqUFaC9oY5VJjn6nrI0IZD1FxtwPiKeJ+TECnqq4ZzABSWZR4ZQ0fTN//NExA4UucqwAMnelT0W2FIY8dJ+Jm6mN2P6je/9Ge+sSKYdEKNCP4o3ldZbVRNNI2mdOxWvi1P92l3vfrTX+MxMfTawRNQXr2LfesSEMpjzdY7f/KUiMqUBZFZmU3jO//NExA4VAb6sANHWlNwWGXclYAUt1F3oEjcT03CgkaMAQW2MBJGvdjaA5HR8GI/DoWvKh1n+4JR+P939xfztiumnVocobIn/cbTHAVz6v////+ml5+q5BPM9ytPqDTR9//NExA0TQZ6oAMvQlVe69jAyFfv/LDH/+i7s//lQhX71ACSFbAixk8ttDcCw1H9QlCCInHgQMVnNH16k3/XX81f/P7FF0PnqE9iQCBK9h3GsOJWXc1hTgg2eQo2atWwk//NExBMTadKkANPKlUPiLv+qmm+9n6UDRvDCF8W55lWthBk/Hz9YFidRJtWKRpUCIwm6kbKx/p6kbXJiI4WIW4xyEiRx0xsyZLc1hfGAJqAzFLe/ZQaCiHG6msLoT1Qa//NExBgSkaqoANPKlf8naLYjMXoKaHIyRPptZZ8/+l/+pSeZbVKVjvEQBGMdXUi//t3ZdTDUEBwKKjHdVEFVal3WMdbUXM+zeTmVI35MuCaSoDdjo/hWnuXRcBKlEvOS//NExCAREaqkANNKlSJYIQcr3UeKJ/1L9DflfSj8wkKi3Vk/bqv2KrlmYFktxbwkTuqQ3OY+zk9vIjq/djJgFEdzBb1XVDFLev+o3aRVLV3lRuJHfMJ0qZvX6N9fqhym//NExC4Q8TqgAM5EcLhkZ74dcoRFzpNp94RFSn//01//CS59vXhidAyTEnv2ACeHlL/2v364EKdn5v/0bT///////b6ndHISz2yEW2Qp0IVzuSoGc51PJ+TUO/ud5CMw//NExD0R4rawAHiEuXfwQ4eAGQA8PpD6K+qCi/f//////1/rke3rYhKLOJmZDRACCA4jgAY7P0QhiBAqCiFCYuQXUPBFgANEGOMBGUKdCDhiCYuAAocowVUT///////L//NExEgQGxLAABAKuf////////////+f/n3pZ49p5+JZpS0vkzMNpr+e5+3SmSGLPHBwI8UwOzAkRS/NUaK2jwLCMxQo5JohDYFWBP////////////9TfM2sxPXLWlop//NExFoRQx7EAAhQvGMRbmoHEbPUsrbTpkoWocCoQuSLjcOz7LEUk44TW5QoN0MOk02BVx4j0IpJI+0f////////+9Lnoi5rVWzFVjUEAVBxGFTHEhczw0juhyCwkPFy//NExGgQsyLAABAQvIFHEHgcWUXBxABQOQpyAcgZiBkIGGIocCyhgdgqKgB////////v//r+Yf+Plr5iO6WnuuA+VqIS4lhQtqHRH6CxZAkk2oUTAyNDhhCD6UKY8xCB//NExHgQiwq8AAgKuXKUQDw5hhBD8XPUXoRnIDwiqhH/7////////9f3XU8/VfDcRGMnisgfClQf3jJepSxly0QzCoiDAamB6dAOhkdIPHnEB1y4dGOSKlHlTZQhmjFP//NExIgRkyK4ABAQvBBPFhdN1zfZdAHQORlOQ0C4GaCrLHH3gXN852IxxgACipZfJ////+hL///+39K0p+n+juVCmUuyGZDe2rfDNCgIEOTeaKfF/rvCgo4UkFJr8U9j//NExJQROxq4ABAQvV4FniYzi2EQjIXSoQe+H4rVBArFN3KAy1cc1uu47RwVp2Yj+bgP7z+/uX3v/7nn/86//rP/6yUtTC5YZM5UEFSq57lfz2EvpAKCIldAVkaIl+5N//NExKISOpq0AHlEuXSa7f//z//2XVJVcO/rdgZAjVaX2MrKGYS+duQFY8KTAoM47rJgDcQhFOYilAPIETztIEe8wP/f5f5H4t8dDDpsEL+O6YnL50eBhx5ZRSGlZKC9//NExKwY+c6gANYSlOgOf//Z/9Othy/zdwsIlvrd6zKhQk2oHFtMZjmgFCZSCjMDrcd7ozcLomaWoonvOH/v9Pn/JN48LPKC9vL+o8zIfANN0PIPlD8qnL+uWkEJtgD2//NExJsT8cKkANTOlNu/yOGcvoXXluSgEFjvMpoLsA7IDN0XI+44kes1fzL/9v/URfxEOdDDvUjaiIqeowJACDs0weGvcKW7upRjX1JSQEMWK45nagFYwFygMMRGWTw5//NExJ4QeaaoAMzOlKCwtpHkYQYAaUTayRYxHJK/mSfpJ//O/+az2QdBatcePdWo/Sw3Pc00Fo4ONSUPXkSb0f///+toMUrU8sQFnBiyQcUkLnBQHNlgzVg1pxdOFQUm//NExK8RIbKkANTKlQ3EQMipdGWHLA5FOGJ1qySbaT37f/T5G+JOZxGHR3RidZc0w4jqYeBCiuw4OoZBLNVoTqc5RoCTrDiMbg1nhAHmcXIKp2Rb/xAUCWA3QKkfgHhC//NExL0Tgc6cAN0OlCC0j6nG0eqrRf571s/0Pp/KmJY0ajD+pnUdG71mhUXGnjUdB6AIWMjw1EkX+6/////////9dkjwRd3iyl03crEiMZEOmHCEl2RxhSoHZDklGck0//NExMITGcqUANzKlUCGeBrQDVigDMunD5PDtMkqR01RTZZuUH9f1N8zeregRBX5A8/qXqjWnMApSsKiIDAKyrUICyZ7////9JL+ujCAsutfiarDc540IDMMAWQM4QFg//NExMgXWtaMAN0OuPTEKREkrDZfkvE5DQmcvzQIUpZdYcs89a1Vr2htrk5Wp+36P8sgGnh0BDgKS/////9/+uoaKhi8Ar7XgIQ6Yg/phAAhwAYfCxnE7AHDgLOVF/H6//NExL0VYcKIANSKlMv7ZU7I/xoJIy4eNbnBezv5BKgWABcgFhqRCBJ82UNF837unusNf/9Vi7rUUrfQWFziUccBl0stW2YATm0xpvJykNGYtNAZyb5kqwPZI6uVqueh//NExLoR0Jp0AN5YTMZxKVLlwUkNuLgyVYznQuHA1ar+euOwMmsejeo84zRdgFwvz6EILYh+g8Ft2yAeM6MQDws8wqBQEIYQj8jC7EO8jehnX+3Mo3///mGNzzPU97/o//NExMUR6JpkAOZeTGHj8LDDmoMKUworL7sDC5syBJVkQZWXfV0P8TyhgwW48v011j1TeebYGn0lv8sUBz8WKSURMlQLGb6ZjDsJGs6ce3T24DlHf/Pst7/43YAtazp7//NExNAhGtqIANvUuK7Evr571OPflzeeUi/D/rV8N/nUo+czwlcWvWt8+pD2XeaytafxX6fr7vW5awy95LNVkSf8PJOxRuLfuALAG6DV1YIcCNTMkCTMOzJlpsZokmR5//NExJ4fGcacAVrAALBTlEY46dNUjU4TZMESFmkeILF1M4iiMoJ0HYRQ1FwARoIgQYdiSJitmK5mbufJ88SY+DAfy+XlIrVWSBms0SSUUyCG6ajP/0af6SBOJpJIf/////NExHQgYxqoAZqIAf/////9bLf/6KZdUAxFpd85WJRA6FptLTViUsCDIAkwm2hglLD3I9lzGALLuy1JIjyOJ4vJYfOQEc01RIYAlEojyOaai7EAhzSKl1imQ1ReLyUZ//NExEUf+wqsAdmAAXmRdNVCEhqUS6svjHrN0zFRGltV5hbmdKiiX2SVkwa+Xz9DTT/////9b//f77VNsu60VtJ9E6kifQq0OH9YSANJUu4nkFxQXu4SigMek/WMGOH///NExBgXKdK0AJZglP/SJQa/mcAMGz1vTdwgKX1PzpAVTzaAyT9MhjtUmITnnZZ4dSStQ6Em5n60Uusxr1HDuqUT61bH9H///+zQ9xJ4mEYwnSirWEQKpDkYC4PPhK4y//NExA4Vic64AI5UlEZVvmOoIXHb/9vU5OXPwepak5n/WqhhDyZ9+DAJxvygmN4qk/IQwHhiqUC9J30F7vzPnfIvnmXlBgP30IkpX////+itBEYByKqTX9S7BG7e0FXB//NExAoSIc7AAHvKlC9y+5dB/Z/9p4/+ZE8z/+2EJnp6ookKXzaEYJH6O3jDpVBYOi6OYxmbKhP///lejiQ8cHzqCTP////045CRer17+1U0zXAq5dm29ONCJ5yw2LZd//NExBQRkc60AMrElFth1/2VPr1AyBs0lVAAYTKnbUwE/p/8zm1Y1/////VU6OKN//wG//6zjgwqQCDhcD3lKmO9qroCgt0tBkLhDpPrGk/9Steha2YU5/////o///////NExCAQuxqwAHiEvPt5V//vfb0W6PO3T/2SypUGQ4R0coc5SoLHc8xEcc4IGKFJNkNQFyd84VVdfl9//ouf/5//7ft///39bTN6f/v1P0VGPpnd1pQ68w05FY8sWNHh//NExDARcxasAJBOucE9o4Okx9hg4KsLR5hSLB8gpE0fMCUnkKiiAZif1Zwvv////+CUv////L/////5l++v0/WnJOhqf+ztKg1RioHyhIFGh8ecXDogqjhIPB4QEw6Y//NExD0ROxqwAIBKvUQ6owYBhAfMmua3cbuEnbfDedR58+//F+Bd/nPMqmeMd//+e6f/////kVP9f9W0R2cyiJLf781aKzGmZQ6EhEYIh0SdkqWiKXQSOJqzzm7jZTYE//NExEsQ4wq0AMBKuWv2MJXndUEijef5wN+hhDasGAGuUSBBxEMFDwdtmcjLVnDiPKQPiAp////23FxA4Md///9dLhv/iil1r8/91iq0Pt4fH79wlGRIXxz8RH+I/4Cz//NExFoQWbq0AMCKlPeo70taKIHiXl3oDBtqU4w6brVRGS3zT80+o39Q0GrUVytD/q//8qG6FdmsdcZVSN+oJnAU1LYjS3C2wUSO3GRb4ZN6iSX5GRAQjZbGBXD8dak5//NExGsRkcKwAMnalDgqR/W0omtfHYkkirJb9Nvp/nHtSJw626zX/0///fkP2PqVkNretyoRcB7V3cAzxVD4wRpSR1k2e8yJcteUAxok7Jl0T0BadSSLmJMs/lFvWRa+//NExHcRkcasAKKalLYstXUgVWz+U4lxOCrrP////zP5YmqVa7hXZASTFjS+nsXREAMGw+trGZLeYDKERRzopMNYXFkDJA4QD7aaaT9N0n6C0UdN2Lxepj0KBSRUMAMT//NExIMRWTqkAMzgcIWfDD3LFbCx7/////9FNYnWz5H1tGTfpwRfPxwEaKcDlT3zb6IGLF/6nL9bVqqcScrWGLqEyGmhMXGYcZ9b+/PzvsVviKechiB4TuhaYJZuYeki//NExJAS2TKkANTacNWGED7NkPhkNHxUiHyLf/////rVeWi5bh0Lg4eLNDlkejpgIQaeioPdw3g1WQ5a3Nr5p8P+Ps9b+l+vfdYIPA3O6orOP/rM//zP/6SddZIuO5dx//NExJcV0XacANPMlDMFc2xWF55nJ0z1bSsmLy1mKj/4pzTP/7E//X1Yuq+N/4+F2JnQEHYzohEmjqnrCP3frh9Nj4YEooo9rKRWp6ekqvXB6CbI5hOsoC8nW+G+EfJv//NExJIXKaqUAN4SlDsoCBJf1Axb8ZRkh0TCxCA4baiqnPUFwShvmzmR+RjG/GmpTSjJuSkabbmxjv2XMub/6ChxLImBdlOv39TAGEh+xxQ8z/zXWSaopobhk21+wR9f//NExIgbub6gANPSlMj6Nu8N29i1gPH6tZWRSJk+EJlV4yCgX9ROerl69p14ukMwX0XCwRFBbWV1fZm33/+tnfSe/Jn79WbZVmp3yFywQBn/6//xzradStf+noYruzYG//NExGwY2bawAMvYlEai0vvZ1A3R6G9DW5AdzORkxrVKo/UVLBpERnzPmjezihRkmswgJEcnz3N3d35n3/P/9q/uXK3AiaF////9Vc+6xedvcs4BBFWmzmU2soJsxW52//NExFsRmaLEAMKSlK5FqubmG8w1tSVUYaDZbgNBJkCaTpg4gmRKPRJLJ7Na81+2f99+ZNTl7JxUJs+SZ///1pTb/SVNn8IBCRS7GunvArYrs/LqdtE5FZTlM9vAs2Lh//NExGcRua68AMHMlOBE544PjmY3MDwSiEEQsQtEGDe7q55//jj+okgYRsGWP/////6qknfropW8JKBbrWiuT1vtuoT6P26v31OXOnhv9Es8UAKS5M4hvFBlDOYUF3EB//NExHMRYaa8AMCQlCLs5OG5DJf5d/zz+5b0aKIQE2HVs///9P/XlvMrxMHmcFHoq1b+LM4TyHDdP506cG2rdW+877F2MWF4+ljiVZ56A2lrnDckowd51nR533X06+nf//NExIARuZ64AMFSlJ106hs64j3IHgqIv//7FI3z1ZGa3JlZQ/M7MDSl+MdMGF169n15j68/y3zHudsLhFsKApOJYPzYFAAgMixgmOrOVUIeuq4SapB7NRh0dRyMDwSB//NExIwR+cq0AMCWlN///XF6kG9ouPZ3BoovU3XvHl/woLf76P31fV9W1b83y2mXCEsmASaQnBsPsXPRiATSSxZeJ+Wv78ac1iggiKCAemFEof//9dEaZUhEELbUHtgX//NExJcSIb6wAMnQlAYrpow3sQDH9+/fV9fLax+t7UKk6BiKNhrpREo0zUDa7ioa1mSp04/xxxC/yhykT+IM2cTwkb4o//7PoUa/+gsq1V6VRJztQdTF/nBikegT/EBv//NExKEQ+ZqsAMnQlH79+3fltDecrz/qD5WLCayESYt2PrmFRg2pJlOzX9lfP7f375LZ4NX+zizr7f//so/7IEpzM+koIHpG4BaJhM/8Ow1CeeKA3/bVubo3XktiZhho//NExLASicqoAKHWlNnHQsNy1AfOqq1AfOaPCKR3bRtP6Pm8eJKIg6oeo9///DX/023SzlJJxhiuVMja893Y2p5ci5O2jgi8VVYzqtqc6v7sFG50gQNqUYFYwGAg8Vpf//NExLgRYcqoAMnWlJPTswxDLYuzkJRXL+mzxm+HT2DAxBAwD4uT21pwIe4MhAMDo6MYCgiQRFpCvoEiW/86Kw+WmDZ2sFNoW82EkVauPBYpowCtcBoDQtLopIA3K1Tr//NExMUQuZ6oAMHOlHGLxQwqkQGcJmBWhIkbpbFeOo1m9VDyxQFRR67H2f////8eiljwrdGRQoGmyoMN1HGgzfQUGFLX8fcu+iKbxDi1wxrMW6GLTSegyG929ij6NJVZ//NExNUSqWKMAMJMlGqE+58m4ZJGYC2kiKdGSmJVe1W1Mxbej+Cs9/kqXC/VwdDw4yg+QMeIzpVjKoJBS3jysnBPbquPRfi3OxuyIy3ZLHguhq+UamGhd31/f/5XzrkP//NExN0WoVKYANMSlChvE5VIgQT0QlNzObyj6E10JdC3/ylc1iSEjJciPvAO3hTx/G1eM4CqKosGx40cwEJXaLNJ8zLQCOIeWkxQhEmTMyLcknsXOU48+xKoUKHuOF7p//NExNUS4VaYANPMlO/fpyhpjDnt30K08RINn5GCAs4ACW4xMFAJ+x2EB8DpVAVTRbpYNBnWT088h0tXrJUAn3Ln+EJh8dDXZkgfR7qwnfPiG8/7OfUnGNaX+4f+B6An//NExNwS+aKQAN4UlBoekOo6xxtHLXzy7va+USbfCt1t/5uCohz0IvfSQ7QBJRERGkB7TGtkoQcqLl/H/l5iig70OxpGxcU3SpvUWVZFwWvG5l9VMu6p3Exx5Tc/s1ll//NExOMSMaKQAMxOlY53vze1ZF8FpYw9yBqIpu3N6PiYXat2+ppR3zWQvJDgqKPu5CDcmRvNQWKxli2YcADrj6MgnxrO4zEaaIVi6AFxxxVKN0vjXZPP7/NfSS2v/jvp//NExO0Y+baAAN4WlSK4sJuQ44Hkkv//dTCxj/0A0hVfisLwDICZ8pnUm5QHMEMHLDLgkIF1zi4gogAeazDBhL6OYU6JKjEYToelUxmRdIcBmKZBIpxcfN1/axysJDSz//NExNwUaaqEAN4OlRlOw52M+iHf3AoEkf///Z0KZWECie6wBlJWYr1Geg4QCtYX0AQoSHgOnoAwBQdHxShiCBE8jaLQEhBj0yMj4DUFTJnL0XZvy4YKEYo+8cJhggY3//NExN0SUWqEANPKlHWViLyTCwMi3/R/9XN1uoqQtsvUMAjLIE6yXKJEFERalubLC7RgmYg1ALkmVelUORKodqFuXZ1Xw+lVqCmCkwZxIZ0EhnEtS62pUmNQxwCMqAiT//NExOYUGSJ4ANvKcMdlf3Q7tUeRO/IsxFVCNmdabgoBGb6IxIOiWYQrFx61eN112AK2Ncos2fbnQBYmBZk6hIFBUSiZQdStJcJigULDlMCAi1kBQWLGiyx/bFUrcGnN//NExOgUYR5oANsGcM42dqDk6jjzwdaviqoxSgD8E2bK2hDWqFWrIiMxEwrDwuEEqGMNRIYg2Kd94tc08u+Wk6VpyjccTfoUaK1p7V1PTN0wzpMtriGP44H6/Xf9S/Ps//NExOkT2SJYANvGcJ2qe90ZzLnJrf2+/MzOubPVEMP8104xHtdC4ICJm5G1lU1YLvXFiFJUeg8QQTGoRBgoHgQD5MIjFi4UeefMDqUJMOfHRdoqdvVUpJYGirtEXOkn//NExOwVGJYAAMMMTC69QMqBrLa2yTk/BWFFFEEYl2wyyx5Xse6ZGokaCQRKEkITUGKGKDcHy3pBpagWj2wxMHEtW4xyhi85zlPTvJv1nfqn+PoES/n4B/oPEa89wh7p//NExOoVCIn0AHpGTdBYfvlt33wje2nGDtaM/A+BIiqxg8pymY+eE6skkzBXuHHbKKMaxqiy5E/FPGqKgugtj+DJcAnRR3IWPFOEoLH/extrRfQ95r2f5+Lv3rre/1qW//NExOgT4JnwAHpGTK7Y41L/5RTlPf/5P3oIQDsaiFjraYGYJkJha9Zpbprbpx3ZN2CCNzwDfcLeV/9tTOwIJCeBEfeSOUwZHwNu1/rOr8+u/SwHplIIUPAEYeeIr4/0//NExOsVqLXwAMGGTR3+CO1mR/jnh9//p6kBIBruKvJ8ziy6oeNkqNttA4alqoR+2RPBBVaXOKQs7/1Jb22L8g1PvvLuO3wTGJviK/LP7b9Urkppru6LhXS6Otfmoykv//NExOcTgFIAAMJEJXcnHrcBgrzftLFdj79KKqhZ8Fr0brDrREQBHGrIscNXgQfNRM8VDzjtPhXhYRfW3ztnieYuSmVeo/42XGzDZ1O29Xn+d83/+r/rL89+j1zunNa0//NExOwUuJXwAHmGTdK3LftlUmAvzM8IXgFIFcENLwXKOQiUBkBNIGJDClWiYVNK/7/////+X+wscscUSXhRKwVYYKmjSZsoqWWaXG2WPMesNuOOdKb8s2U+sksLJLwq//NExOwU2G30AHpMKcsFSXlSRwo4aKOxmG4wp0xBTUUzLjEwMKqqqqqqqqqqqqqqqqqqqqqqqqqqqqqqqqqqqqqqqqqqqqqqqqqqqqqqqqqqqqqqqqqqqqqqqqqqqqqq//NExOsUMGn0AMJGKaqqqqqqqqqqqqqqqqqqqqqqqqqqqqqqqqqqqqqqqqqqqqqqqqqqqqqqqqqqqqqqqqqqqqqqqqqqqqqqqqqqqqqqqqqqqqqqqqqqqqqqqqqqqqqq//NExO0VgFXQAHpGJaqqqqqqqqqqqqqqqqqqqqqqqqqqqqqqqqqqqqqqqqqqqqqqqqqqqqqqqqqqqqqqqqqqqqqqqqqqqqqqqqqqqqqqqqqqqqqqqqqqqqqqqqqqqqqq\" type=\"audio/wav\" />\n",
              "                    Your browser does not support the audio element.\n",
              "                </audio>\n",
              "              "
            ],
            "text/plain": [
              "<IPython.lib.display.Audio object>"
            ]
          },
          "execution_count": 13,
          "metadata": {},
          "output_type": "execute_result"
        }
      ],
      "source": [
        "Audio ('gtts1.wav')"
      ]
    },
    {
      "attachments": {},
      "cell_type": "markdown",
      "metadata": {},
      "source": [
        "### Teste assistente online -- Professor"
      ]
    },
    {
      "cell_type": "code",
      "execution_count": 15,
      "metadata": {},
      "outputs": [
        {
          "name": "stdout",
          "output_type": "stream",
          "text": [
            "para\n"
          ]
        }
      ],
      "source": [
        "# Arquivo principal\n",
        "\n",
        "# Assistente online!\n",
        "\n",
        "\n",
        "# Criar um reconhecedor de voz\n",
        "r = sr.Recognizer()\n",
        "\n",
        "# Abrir o microfone para capturar áudio\n",
        "with sr.Microphone() as source:\n",
        "    aux = \"\"\n",
        "    while aux != \"para\":\n",
        "        # Definir microfone como fonte de áudio\n",
        "        audio = r.listen(source)\n",
        "        aux = r.recognize_google(audio, language='pt')\n",
        "        print(aux)\n"
      ]
    },
    {
      "attachments": {},
      "cell_type": "markdown",
      "metadata": {},
      "source": [
        "### Assistente offiline -- Professor"
      ]
    },
    {
      "cell_type": "code",
      "execution_count": 8,
      "metadata": {
        "colab": {
          "base_uri": "https://localhost:8080/",
          "height": 397
        },
        "id": "XailUdGgmzK0",
        "outputId": "3375026a-c539-464c-b697-3f7439529afc"
      },
      "outputs": [
        {
          "name": "stdout",
          "output_type": "stream",
          "text": [
            "{\n",
            "  \"partial\" : \"\"\n",
            "}\n",
            "{\n",
            "  \"partial\" : \"\"\n",
            "}\n",
            "{\n",
            "  \"partial\" : \"\"\n",
            "}\n",
            "{\n",
            "  \"partial\" : \"\"\n",
            "}\n",
            "{\n",
            "  \"partial\" : \"\"\n",
            "}\n",
            "{\n",
            "  \"partial\" : \"\"\n",
            "}\n",
            "{\n",
            "  \"partial\" : \"\"\n",
            "}\n",
            "{\n",
            "  \"partial\" : \"para\"\n",
            "}\n",
            "{\n",
            "  \"partial\" : \"para\"\n",
            "}\n",
            "{\n",
            "  \"partial\" : \"para\"\n",
            "}\n",
            "{\n",
            "  \"partial\" : \"para\"\n",
            "}\n",
            "{\n",
            "  \"partial\" : \"para\"\n",
            "}\n",
            "{\n",
            "  \"partial\" : \"para\"\n",
            "}\n",
            "{\n",
            "  \"partial\" : \"para\"\n",
            "}\n",
            "{\n",
            "  \"partial\" : \"para\"\n",
            "}\n",
            "{\n",
            "  \"partial\" : \"para\"\n",
            "}\n",
            "{\n",
            "  \"text\" : \"para para\"\n",
            "}\n",
            "{\"text\": \"\"}\n"
          ]
        }
      ],
      "source": [
        "\n",
        "\n",
        "# Assistente offline!\n",
        "#!/usr/bin/env python3\n",
        "\n",
        "from vosk import Model, KaldiRecognizer\n",
        "import os\n",
        "import pyaudio\n",
        "\n",
        "model = Model('vosk-model-small-pt-0.3')\n",
        "rec = KaldiRecognizer(model, 16000)\n",
        "\n",
        "p = pyaudio.PyAudio()\n",
        "stream = p.open(format=pyaudio.paInt16, channels=1, rate=16000, input=True, frames_per_buffer=8000)\n",
        "stream.start_stream()\n",
        "\n",
        "while True:\n",
        "    data = stream.read(4000)\n",
        "    if len(data) == 0:\n",
        "        break\n",
        "    if rec.AcceptWaveform(data):\n",
        "        result = rec.Result()\n",
        "        print(result)\n",
        "        if \"para\" in result.lower():  # Verifica se \"para\" está presente no resultado (ignorando maiúsculas/minúsculas)\n",
        "            break\n",
        "    else:\n",
        "        print(rec.PartialResult())\n",
        "\n",
        "print(rec.FinalResult())"
      ]
    },
    {
      "attachments": {},
      "cell_type": "markdown",
      "metadata": {},
      "source": [
        "## Assistente online teste 01"
      ]
    },
    {
      "cell_type": "code",
      "execution_count": 18,
      "metadata": {},
      "outputs": [
        {
          "name": "stdout",
          "output_type": "stream",
          "text": [
            "parar\n"
          ]
        }
      ],
      "source": [
        "import speech_recognition as sr\n",
        "\n",
        "\n",
        "r = sr.Recognizer()\n",
        "\n",
        "with sr.Microphone() as source:\n",
        "    while True:\n",
        "        try:\n",
        "            \n",
        "            audio = r.listen(source)\n",
        "\n",
        "            # Reconhecer o áudio utilizando a API do Google\n",
        "            text = r.recognize_google(audio, language='pt')\n",
        "\n",
        "            print(text)  # Imprimir o texto transcrito\n",
        "            if text == \"parar\":\n",
        "                break\n",
        "\n",
        "        except sr.UnknownValueError:\n",
        "            print(\"Não foi possível entender a fala\")\n",
        "        except KeyboardInterrupt:\n",
        "            print(\"Assistente interrompido.\")\n",
        "            break\n",
        "\n",
        "        except sr.RequestError as e:\n",
        "            print(f\"Erro na solicitação para a API do Google: {e}\")\n"
      ]
    },
    {
      "attachments": {},
      "cell_type": "markdown",
      "metadata": {},
      "source": [
        "# Assistente offline teste 02"
      ]
    },
    {
      "cell_type": "code",
      "execution_count": 17,
      "metadata": {},
      "outputs": [
        {
          "name": "stdout",
          "output_type": "stream",
          "text": [
            "Diga alguma coisa...\n",
            "Texto reconhecido: \n",
            "Texto reconhecido: \n",
            "Texto reconhecido: \n",
            "Texto reconhecido: \n",
            "Texto reconhecido: \n",
            "Assistente interrompido.\n"
          ]
        }
      ],
      "source": [
        "import speech_recognition as sr\n",
        "from vosk import Model, KaldiRecognizer\n",
        "\n",
        "model = Model('vosk-model-small-pt-0.3')\n",
        "\n",
        "recognizer = sr.Recognizer()\n",
        "\n",
        "microphone = sr.Microphone()\n",
        "\n",
        "with microphone as source:\n",
        "    print(\"Diga alguma coisa...\")\n",
        "    while True:\n",
        "        try:\n",
        "            audio = recognizer.listen(source)\n",
        "            rec = KaldiRecognizer(model, 16000)\n",
        "            result = rec.Result()\n",
        "\n",
        "            # Extrair o texto reconhecido\n",
        "            if result:\n",
        "                text = result[result.index('text') + 8: result.index('}') - 1]\n",
        "                print(\"Texto reconhecido:\", text)\n",
        "\n",
        "                if 'para' in text.lower():\n",
        "                    print(\"Parando o assistente...\")\n",
        "                    break\n",
        "\n",
        "        except KeyboardInterrupt:\n",
        "            print(\"Assistente interrompido.\")\n",
        "            break\n",
        "\n",
        "        except sr.UnknownValueError:\n",
        "            print(\"Não foi possível reconhecer o áudio.\")\n",
        "\n",
        "        except sr.RequestError as e:\n",
        "            print(f\"Erro ao solicitar resultados do serviço de reconhecimento de fala: {e}\")\n",
        "\n"
      ]
    },
    {
      "attachments": {},
      "cell_type": "markdown",
      "metadata": {},
      "source": [
        "## Assistente online teste 03"
      ]
    },
    {
      "cell_type": "code",
      "execution_count": 19,
      "metadata": {},
      "outputs": [
        {
          "name": "stdout",
          "output_type": "stream",
          "text": [
            "Diga algo...\n",
            "Texto reconhecido: olá hello\n",
            "Texto reconhecido: Away\n",
            "Texto reconhecido: parar\n",
            "Encerrando o assistente...\n"
          ]
        }
      ],
      "source": [
        "import speech_recognition as sr\n",
        "\n",
        "r = sr.Recognizer()\n",
        "language = \"pt-BR\"\n",
        "\n",
        "with sr.Microphone() as source:\n",
        "    print(\"Diga algo...\")\n",
        "    while True:\n",
        "        try:\n",
        "          \n",
        "            audio = r.listen(source)\n",
        "\n",
        "            text = r.recognize_google(audio, language=language)\n",
        "\n",
        "            print(\"Texto reconhecido:\", text)\n",
        "            if 'parar' in text.lower():\n",
        "                print(\"Encerrando o assistente...\")\n",
        "                break\n",
        "\n",
        "        except KeyboardInterrupt:\n",
        "            print(\"Assistente interrompido.\")\n",
        "            break\n",
        "\n",
        "        except sr.UnknownValueError:\n",
        "            print(\"Não foi possível reconhecer o áudio.\")\n",
        "\n",
        "        except sr.RequestError as e:\n",
        "            print(f\"Erro ao solicitar resultados do serviço de reconhecimento de fala: {e}\")\n",
        "\n"
      ]
    }
  ],
  "metadata": {
    "colab": {
      "provenance": []
    },
    "kernelspec": {
      "display_name": "Python 3",
      "name": "python3"
    },
    "language_info": {
      "codemirror_mode": {
        "name": "ipython",
        "version": 3
      },
      "file_extension": ".py",
      "mimetype": "text/x-python",
      "name": "python",
      "nbconvert_exporter": "python",
      "pygments_lexer": "ipython3",
      "version": "3.11.2"
    }
  },
  "nbformat": 4,
  "nbformat_minor": 0
}
