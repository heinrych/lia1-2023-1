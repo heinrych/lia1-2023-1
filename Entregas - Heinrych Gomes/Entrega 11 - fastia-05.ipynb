{
 "cells": [
  {
   "cell_type": "markdown",
   "id": "4b364e70",
   "metadata": {
    "papermill": {
     "duration": 0.038174,
     "end_time": "2023-07-15T00:24:01.062435",
     "exception": false,
     "start_time": "2023-07-15T00:24:01.024261",
     "status": "completed"
    },
    "tags": []
   },
   "source": [
    "***\n",
    "Aluno: Heinrych Matheus Gomes Andrade \n",
    "\n",
    "Matricula: 201802726\n",
    "\n",
    "Fast ia 05\n",
    "***"
   ]
  },
  {
   "cell_type": "markdown",
   "id": "9ff29c96",
   "metadata": {
    "papermill": {
     "duration": 0.035428,
     "end_time": "2023-07-15T00:24:01.133794",
     "exception": false,
     "start_time": "2023-07-15T00:24:01.098366",
     "status": "completed"
    },
    "tags": []
   },
   "source": [
    "# PARTE 01"
   ]
  },
  {
   "cell_type": "markdown",
   "id": "649bc6e5",
   "metadata": {
    "papermill": {
     "duration": 0.035968,
     "end_time": "2023-07-15T00:24:01.206301",
     "exception": false,
     "start_time": "2023-07-15T00:24:01.170333",
     "status": "completed"
    },
    "tags": []
   },
   "source": [
    "## Introdução"
   ]
  },
  {
   "cell_type": "code",
   "execution_count": 1,
   "id": "e96875f1",
   "metadata": {
    "execution": {
     "iopub.execute_input": "2023-07-15T00:24:01.279184Z",
     "iopub.status.busy": "2023-07-15T00:24:01.278724Z",
     "iopub.status.idle": "2023-07-15T00:24:01.292103Z",
     "shell.execute_reply": "2023-07-15T00:24:01.291250Z"
    },
    "papermill": {
     "duration": 0.052133,
     "end_time": "2023-07-15T00:24:01.294085",
     "exception": false,
     "start_time": "2023-07-15T00:24:01.241952",
     "status": "completed"
    },
    "tags": []
   },
   "outputs": [],
   "source": [
    "import os\n",
    "from pathlib import Path\n",
    "\n",
    "iskaggle = os.environ.get('KAGGLE_KERNEL_RUN_TYPE', '')\n",
    "if iskaggle: path = Path('../input/titanic')\n",
    "else:\n",
    "    path = Path('titanic')\n",
    "    if not path.exists():\n",
    "        import zipfile,kaggle\n",
    "        kaggle.api.competition_download_cli(str(path))\n",
    "        zipfile.ZipFile(f'{path}.zip').extractall(path)"
   ]
  },
  {
   "cell_type": "code",
   "execution_count": 2,
   "id": "a4c37d7c",
   "metadata": {
    "execution": {
     "iopub.execute_input": "2023-07-15T00:24:01.366688Z",
     "iopub.status.busy": "2023-07-15T00:24:01.366419Z",
     "iopub.status.idle": "2023-07-15T00:24:04.942774Z",
     "shell.execute_reply": "2023-07-15T00:24:04.941822Z"
    },
    "papermill": {
     "duration": 3.615684,
     "end_time": "2023-07-15T00:24:04.945564",
     "exception": false,
     "start_time": "2023-07-15T00:24:01.329880",
     "status": "completed"
    },
    "tags": []
   },
   "outputs": [],
   "source": [
    "import torch, numpy as np, pandas as pd\n",
    "np.set_printoptions(linewidth=140)\n",
    "torch.set_printoptions(linewidth=140, sci_mode=False, edgeitems=7)\n",
    "pd.set_option('display.width', 140)"
   ]
  },
  {
   "cell_type": "markdown",
   "id": "a1669781",
   "metadata": {
    "heading_collapsed": true,
    "papermill": {
     "duration": 0.035392,
     "end_time": "2023-07-15T00:24:05.017258",
     "exception": false,
     "start_time": "2023-07-15T00:24:04.981866",
     "status": "completed"
    },
    "tags": []
   },
   "source": [
    "## Limpando o dataset"
   ]
  },
  {
   "cell_type": "code",
   "execution_count": 3,
   "id": "2bc1873e",
   "metadata": {
    "execution": {
     "iopub.execute_input": "2023-07-15T00:24:05.090978Z",
     "iopub.status.busy": "2023-07-15T00:24:05.090075Z",
     "iopub.status.idle": "2023-07-15T00:24:05.134858Z",
     "shell.execute_reply": "2023-07-15T00:24:05.133824Z"
    },
    "hidden": true,
    "papermill": {
     "duration": 0.084965,
     "end_time": "2023-07-15T00:24:05.138067",
     "exception": false,
     "start_time": "2023-07-15T00:24:05.053102",
     "status": "completed"
    },
    "scrolled": true,
    "tags": []
   },
   "outputs": [
    {
     "data": {
      "text/html": [
       "<div>\n",
       "<style scoped>\n",
       "    .dataframe tbody tr th:only-of-type {\n",
       "        vertical-align: middle;\n",
       "    }\n",
       "\n",
       "    .dataframe tbody tr th {\n",
       "        vertical-align: top;\n",
       "    }\n",
       "\n",
       "    .dataframe thead th {\n",
       "        text-align: right;\n",
       "    }\n",
       "</style>\n",
       "<table border=\"1\" class=\"dataframe\">\n",
       "  <thead>\n",
       "    <tr style=\"text-align: right;\">\n",
       "      <th></th>\n",
       "      <th>PassengerId</th>\n",
       "      <th>Survived</th>\n",
       "      <th>Pclass</th>\n",
       "      <th>Name</th>\n",
       "      <th>Sex</th>\n",
       "      <th>Age</th>\n",
       "      <th>SibSp</th>\n",
       "      <th>Parch</th>\n",
       "      <th>Ticket</th>\n",
       "      <th>Fare</th>\n",
       "      <th>Cabin</th>\n",
       "      <th>Embarked</th>\n",
       "    </tr>\n",
       "  </thead>\n",
       "  <tbody>\n",
       "    <tr>\n",
       "      <th>0</th>\n",
       "      <td>1</td>\n",
       "      <td>0</td>\n",
       "      <td>3</td>\n",
       "      <td>Braund, Mr. Owen Harris</td>\n",
       "      <td>male</td>\n",
       "      <td>22.0</td>\n",
       "      <td>1</td>\n",
       "      <td>0</td>\n",
       "      <td>A/5 21171</td>\n",
       "      <td>7.2500</td>\n",
       "      <td>NaN</td>\n",
       "      <td>S</td>\n",
       "    </tr>\n",
       "    <tr>\n",
       "      <th>1</th>\n",
       "      <td>2</td>\n",
       "      <td>1</td>\n",
       "      <td>1</td>\n",
       "      <td>Cumings, Mrs. John Bradley (Florence Briggs Th...</td>\n",
       "      <td>female</td>\n",
       "      <td>38.0</td>\n",
       "      <td>1</td>\n",
       "      <td>0</td>\n",
       "      <td>PC 17599</td>\n",
       "      <td>71.2833</td>\n",
       "      <td>C85</td>\n",
       "      <td>C</td>\n",
       "    </tr>\n",
       "    <tr>\n",
       "      <th>2</th>\n",
       "      <td>3</td>\n",
       "      <td>1</td>\n",
       "      <td>3</td>\n",
       "      <td>Heikkinen, Miss. Laina</td>\n",
       "      <td>female</td>\n",
       "      <td>26.0</td>\n",
       "      <td>0</td>\n",
       "      <td>0</td>\n",
       "      <td>STON/O2. 3101282</td>\n",
       "      <td>7.9250</td>\n",
       "      <td>NaN</td>\n",
       "      <td>S</td>\n",
       "    </tr>\n",
       "    <tr>\n",
       "      <th>3</th>\n",
       "      <td>4</td>\n",
       "      <td>1</td>\n",
       "      <td>1</td>\n",
       "      <td>Futrelle, Mrs. Jacques Heath (Lily May Peel)</td>\n",
       "      <td>female</td>\n",
       "      <td>35.0</td>\n",
       "      <td>1</td>\n",
       "      <td>0</td>\n",
       "      <td>113803</td>\n",
       "      <td>53.1000</td>\n",
       "      <td>C123</td>\n",
       "      <td>S</td>\n",
       "    </tr>\n",
       "    <tr>\n",
       "      <th>4</th>\n",
       "      <td>5</td>\n",
       "      <td>0</td>\n",
       "      <td>3</td>\n",
       "      <td>Allen, Mr. William Henry</td>\n",
       "      <td>male</td>\n",
       "      <td>35.0</td>\n",
       "      <td>0</td>\n",
       "      <td>0</td>\n",
       "      <td>373450</td>\n",
       "      <td>8.0500</td>\n",
       "      <td>NaN</td>\n",
       "      <td>S</td>\n",
       "    </tr>\n",
       "    <tr>\n",
       "      <th>...</th>\n",
       "      <td>...</td>\n",
       "      <td>...</td>\n",
       "      <td>...</td>\n",
       "      <td>...</td>\n",
       "      <td>...</td>\n",
       "      <td>...</td>\n",
       "      <td>...</td>\n",
       "      <td>...</td>\n",
       "      <td>...</td>\n",
       "      <td>...</td>\n",
       "      <td>...</td>\n",
       "      <td>...</td>\n",
       "    </tr>\n",
       "    <tr>\n",
       "      <th>886</th>\n",
       "      <td>887</td>\n",
       "      <td>0</td>\n",
       "      <td>2</td>\n",
       "      <td>Montvila, Rev. Juozas</td>\n",
       "      <td>male</td>\n",
       "      <td>27.0</td>\n",
       "      <td>0</td>\n",
       "      <td>0</td>\n",
       "      <td>211536</td>\n",
       "      <td>13.0000</td>\n",
       "      <td>NaN</td>\n",
       "      <td>S</td>\n",
       "    </tr>\n",
       "    <tr>\n",
       "      <th>887</th>\n",
       "      <td>888</td>\n",
       "      <td>1</td>\n",
       "      <td>1</td>\n",
       "      <td>Graham, Miss. Margaret Edith</td>\n",
       "      <td>female</td>\n",
       "      <td>19.0</td>\n",
       "      <td>0</td>\n",
       "      <td>0</td>\n",
       "      <td>112053</td>\n",
       "      <td>30.0000</td>\n",
       "      <td>B42</td>\n",
       "      <td>S</td>\n",
       "    </tr>\n",
       "    <tr>\n",
       "      <th>888</th>\n",
       "      <td>889</td>\n",
       "      <td>0</td>\n",
       "      <td>3</td>\n",
       "      <td>Johnston, Miss. Catherine Helen \"Carrie\"</td>\n",
       "      <td>female</td>\n",
       "      <td>NaN</td>\n",
       "      <td>1</td>\n",
       "      <td>2</td>\n",
       "      <td>W./C. 6607</td>\n",
       "      <td>23.4500</td>\n",
       "      <td>NaN</td>\n",
       "      <td>S</td>\n",
       "    </tr>\n",
       "    <tr>\n",
       "      <th>889</th>\n",
       "      <td>890</td>\n",
       "      <td>1</td>\n",
       "      <td>1</td>\n",
       "      <td>Behr, Mr. Karl Howell</td>\n",
       "      <td>male</td>\n",
       "      <td>26.0</td>\n",
       "      <td>0</td>\n",
       "      <td>0</td>\n",
       "      <td>111369</td>\n",
       "      <td>30.0000</td>\n",
       "      <td>C148</td>\n",
       "      <td>C</td>\n",
       "    </tr>\n",
       "    <tr>\n",
       "      <th>890</th>\n",
       "      <td>891</td>\n",
       "      <td>0</td>\n",
       "      <td>3</td>\n",
       "      <td>Dooley, Mr. Patrick</td>\n",
       "      <td>male</td>\n",
       "      <td>32.0</td>\n",
       "      <td>0</td>\n",
       "      <td>0</td>\n",
       "      <td>370376</td>\n",
       "      <td>7.7500</td>\n",
       "      <td>NaN</td>\n",
       "      <td>Q</td>\n",
       "    </tr>\n",
       "  </tbody>\n",
       "</table>\n",
       "<p>891 rows × 12 columns</p>\n",
       "</div>"
      ],
      "text/plain": [
       "     PassengerId  Survived  Pclass                                               Name     Sex   Age  SibSp  Parch            Ticket  \\\n",
       "0              1         0       3                            Braund, Mr. Owen Harris    male  22.0      1      0         A/5 21171   \n",
       "1              2         1       1  Cumings, Mrs. John Bradley (Florence Briggs Th...  female  38.0      1      0          PC 17599   \n",
       "2              3         1       3                             Heikkinen, Miss. Laina  female  26.0      0      0  STON/O2. 3101282   \n",
       "3              4         1       1       Futrelle, Mrs. Jacques Heath (Lily May Peel)  female  35.0      1      0            113803   \n",
       "4              5         0       3                           Allen, Mr. William Henry    male  35.0      0      0            373450   \n",
       "..           ...       ...     ...                                                ...     ...   ...    ...    ...               ...   \n",
       "886          887         0       2                              Montvila, Rev. Juozas    male  27.0      0      0            211536   \n",
       "887          888         1       1                       Graham, Miss. Margaret Edith  female  19.0      0      0            112053   \n",
       "888          889         0       3           Johnston, Miss. Catherine Helen \"Carrie\"  female   NaN      1      2        W./C. 6607   \n",
       "889          890         1       1                              Behr, Mr. Karl Howell    male  26.0      0      0            111369   \n",
       "890          891         0       3                                Dooley, Mr. Patrick    male  32.0      0      0            370376   \n",
       "\n",
       "        Fare Cabin Embarked  \n",
       "0     7.2500   NaN        S  \n",
       "1    71.2833   C85        C  \n",
       "2     7.9250   NaN        S  \n",
       "3    53.1000  C123        S  \n",
       "4     8.0500   NaN        S  \n",
       "..       ...   ...      ...  \n",
       "886  13.0000   NaN        S  \n",
       "887  30.0000   B42        S  \n",
       "888  23.4500   NaN        S  \n",
       "889  30.0000  C148        C  \n",
       "890   7.7500   NaN        Q  \n",
       "\n",
       "[891 rows x 12 columns]"
      ]
     },
     "execution_count": 3,
     "metadata": {},
     "output_type": "execute_result"
    }
   ],
   "source": [
    "df = pd.read_csv(path/'train.csv')\n",
    "df"
   ]
  },
  {
   "cell_type": "code",
   "execution_count": 4,
   "id": "32f02faf",
   "metadata": {
    "execution": {
     "iopub.execute_input": "2023-07-15T00:24:05.211866Z",
     "iopub.status.busy": "2023-07-15T00:24:05.211548Z",
     "iopub.status.idle": "2023-07-15T00:24:05.220572Z",
     "shell.execute_reply": "2023-07-15T00:24:05.219706Z"
    },
    "hidden": true,
    "papermill": {
     "duration": 0.048123,
     "end_time": "2023-07-15T00:24:05.222685",
     "exception": false,
     "start_time": "2023-07-15T00:24:05.174562",
     "status": "completed"
    },
    "tags": []
   },
   "outputs": [
    {
     "data": {
      "text/plain": [
       "PassengerId      0\n",
       "Survived         0\n",
       "Pclass           0\n",
       "Name             0\n",
       "Sex              0\n",
       "Age            177\n",
       "SibSp            0\n",
       "Parch            0\n",
       "Ticket           0\n",
       "Fare             0\n",
       "Cabin          687\n",
       "Embarked         2\n",
       "dtype: int64"
      ]
     },
     "execution_count": 4,
     "metadata": {},
     "output_type": "execute_result"
    }
   ],
   "source": [
    "df.isna().sum()"
   ]
  },
  {
   "cell_type": "code",
   "execution_count": 5,
   "id": "a45402a7",
   "metadata": {
    "execution": {
     "iopub.execute_input": "2023-07-15T00:24:05.296296Z",
     "iopub.status.busy": "2023-07-15T00:24:05.296023Z",
     "iopub.status.idle": "2023-07-15T00:24:05.318695Z",
     "shell.execute_reply": "2023-07-15T00:24:05.317698Z"
    },
    "hidden": true,
    "papermill": {
     "duration": 0.061693,
     "end_time": "2023-07-15T00:24:05.320782",
     "exception": false,
     "start_time": "2023-07-15T00:24:05.259089",
     "status": "completed"
    },
    "tags": []
   },
   "outputs": [
    {
     "data": {
      "text/plain": [
       "PassengerId                      1\n",
       "Survived                       0.0\n",
       "Pclass                         3.0\n",
       "Name           Abbing, Mr. Anthony\n",
       "Sex                           male\n",
       "Age                           24.0\n",
       "SibSp                          0.0\n",
       "Parch                          0.0\n",
       "Ticket                        1601\n",
       "Fare                          8.05\n",
       "Cabin                      B96 B98\n",
       "Embarked                         S\n",
       "Name: 0, dtype: object"
      ]
     },
     "execution_count": 5,
     "metadata": {},
     "output_type": "execute_result"
    }
   ],
   "source": [
    "modes = df.mode().iloc[0] ## retorna a mediana e tras os elementos mais frequentes\n",
    "modes"
   ]
  },
  {
   "cell_type": "code",
   "execution_count": 6,
   "id": "c21157f4",
   "metadata": {
    "execution": {
     "iopub.execute_input": "2023-07-15T00:24:05.397518Z",
     "iopub.status.busy": "2023-07-15T00:24:05.396057Z",
     "iopub.status.idle": "2023-07-15T00:24:05.408596Z",
     "shell.execute_reply": "2023-07-15T00:24:05.407800Z"
    },
    "hidden": true,
    "papermill": {
     "duration": 0.052015,
     "end_time": "2023-07-15T00:24:05.410604",
     "exception": false,
     "start_time": "2023-07-15T00:24:05.358589",
     "status": "completed"
    },
    "tags": []
   },
   "outputs": [],
   "source": [
    "df.fillna(modes, inplace=True)"
   ]
  },
  {
   "cell_type": "code",
   "execution_count": 7,
   "id": "1fdadd05",
   "metadata": {
    "execution": {
     "iopub.execute_input": "2023-07-15T00:24:05.487131Z",
     "iopub.status.busy": "2023-07-15T00:24:05.486354Z",
     "iopub.status.idle": "2023-07-15T00:24:05.495736Z",
     "shell.execute_reply": "2023-07-15T00:24:05.494801Z"
    },
    "hidden": true,
    "papermill": {
     "duration": 0.049692,
     "end_time": "2023-07-15T00:24:05.497614",
     "exception": false,
     "start_time": "2023-07-15T00:24:05.447922",
     "status": "completed"
    },
    "tags": []
   },
   "outputs": [
    {
     "data": {
      "text/plain": [
       "PassengerId    0\n",
       "Survived       0\n",
       "Pclass         0\n",
       "Name           0\n",
       "Sex            0\n",
       "Age            0\n",
       "SibSp          0\n",
       "Parch          0\n",
       "Ticket         0\n",
       "Fare           0\n",
       "Cabin          0\n",
       "Embarked       0\n",
       "dtype: int64"
      ]
     },
     "execution_count": 7,
     "metadata": {},
     "output_type": "execute_result"
    }
   ],
   "source": [
    "df.isna().sum()"
   ]
  },
  {
   "cell_type": "code",
   "execution_count": 8,
   "id": "14860a28",
   "metadata": {
    "execution": {
     "iopub.execute_input": "2023-07-15T00:24:05.575435Z",
     "iopub.status.busy": "2023-07-15T00:24:05.573906Z",
     "iopub.status.idle": "2023-07-15T00:24:05.606586Z",
     "shell.execute_reply": "2023-07-15T00:24:05.605746Z"
    },
    "hidden": true,
    "papermill": {
     "duration": 0.072036,
     "end_time": "2023-07-15T00:24:05.608476",
     "exception": false,
     "start_time": "2023-07-15T00:24:05.536440",
     "status": "completed"
    },
    "tags": []
   },
   "outputs": [
    {
     "data": {
      "text/html": [
       "<div>\n",
       "<style scoped>\n",
       "    .dataframe tbody tr th:only-of-type {\n",
       "        vertical-align: middle;\n",
       "    }\n",
       "\n",
       "    .dataframe tbody tr th {\n",
       "        vertical-align: top;\n",
       "    }\n",
       "\n",
       "    .dataframe thead th {\n",
       "        text-align: right;\n",
       "    }\n",
       "</style>\n",
       "<table border=\"1\" class=\"dataframe\">\n",
       "  <thead>\n",
       "    <tr style=\"text-align: right;\">\n",
       "      <th></th>\n",
       "      <th>PassengerId</th>\n",
       "      <th>Survived</th>\n",
       "      <th>Pclass</th>\n",
       "      <th>Age</th>\n",
       "      <th>SibSp</th>\n",
       "      <th>Parch</th>\n",
       "      <th>Fare</th>\n",
       "    </tr>\n",
       "  </thead>\n",
       "  <tbody>\n",
       "    <tr>\n",
       "      <th>count</th>\n",
       "      <td>891.000000</td>\n",
       "      <td>891.000000</td>\n",
       "      <td>891.000000</td>\n",
       "      <td>891.000000</td>\n",
       "      <td>891.000000</td>\n",
       "      <td>891.000000</td>\n",
       "      <td>891.000000</td>\n",
       "    </tr>\n",
       "    <tr>\n",
       "      <th>mean</th>\n",
       "      <td>446.000000</td>\n",
       "      <td>0.383838</td>\n",
       "      <td>2.308642</td>\n",
       "      <td>28.566970</td>\n",
       "      <td>0.523008</td>\n",
       "      <td>0.381594</td>\n",
       "      <td>32.204208</td>\n",
       "    </tr>\n",
       "    <tr>\n",
       "      <th>std</th>\n",
       "      <td>257.353842</td>\n",
       "      <td>0.486592</td>\n",
       "      <td>0.836071</td>\n",
       "      <td>13.199572</td>\n",
       "      <td>1.102743</td>\n",
       "      <td>0.806057</td>\n",
       "      <td>49.693429</td>\n",
       "    </tr>\n",
       "    <tr>\n",
       "      <th>min</th>\n",
       "      <td>1.000000</td>\n",
       "      <td>0.000000</td>\n",
       "      <td>1.000000</td>\n",
       "      <td>0.420000</td>\n",
       "      <td>0.000000</td>\n",
       "      <td>0.000000</td>\n",
       "      <td>0.000000</td>\n",
       "    </tr>\n",
       "    <tr>\n",
       "      <th>25%</th>\n",
       "      <td>223.500000</td>\n",
       "      <td>0.000000</td>\n",
       "      <td>2.000000</td>\n",
       "      <td>22.000000</td>\n",
       "      <td>0.000000</td>\n",
       "      <td>0.000000</td>\n",
       "      <td>7.910400</td>\n",
       "    </tr>\n",
       "    <tr>\n",
       "      <th>50%</th>\n",
       "      <td>446.000000</td>\n",
       "      <td>0.000000</td>\n",
       "      <td>3.000000</td>\n",
       "      <td>24.000000</td>\n",
       "      <td>0.000000</td>\n",
       "      <td>0.000000</td>\n",
       "      <td>14.454200</td>\n",
       "    </tr>\n",
       "    <tr>\n",
       "      <th>75%</th>\n",
       "      <td>668.500000</td>\n",
       "      <td>1.000000</td>\n",
       "      <td>3.000000</td>\n",
       "      <td>35.000000</td>\n",
       "      <td>1.000000</td>\n",
       "      <td>0.000000</td>\n",
       "      <td>31.000000</td>\n",
       "    </tr>\n",
       "    <tr>\n",
       "      <th>max</th>\n",
       "      <td>891.000000</td>\n",
       "      <td>1.000000</td>\n",
       "      <td>3.000000</td>\n",
       "      <td>80.000000</td>\n",
       "      <td>8.000000</td>\n",
       "      <td>6.000000</td>\n",
       "      <td>512.329200</td>\n",
       "    </tr>\n",
       "  </tbody>\n",
       "</table>\n",
       "</div>"
      ],
      "text/plain": [
       "       PassengerId    Survived      Pclass         Age       SibSp       Parch        Fare\n",
       "count   891.000000  891.000000  891.000000  891.000000  891.000000  891.000000  891.000000\n",
       "mean    446.000000    0.383838    2.308642   28.566970    0.523008    0.381594   32.204208\n",
       "std     257.353842    0.486592    0.836071   13.199572    1.102743    0.806057   49.693429\n",
       "min       1.000000    0.000000    1.000000    0.420000    0.000000    0.000000    0.000000\n",
       "25%     223.500000    0.000000    2.000000   22.000000    0.000000    0.000000    7.910400\n",
       "50%     446.000000    0.000000    3.000000   24.000000    0.000000    0.000000   14.454200\n",
       "75%     668.500000    1.000000    3.000000   35.000000    1.000000    0.000000   31.000000\n",
       "max     891.000000    1.000000    3.000000   80.000000    8.000000    6.000000  512.329200"
      ]
     },
     "execution_count": 8,
     "metadata": {},
     "output_type": "execute_result"
    }
   ],
   "source": [
    "import numpy as np\n",
    "\n",
    "df.describe(include=(np.number))"
   ]
  },
  {
   "cell_type": "code",
   "execution_count": 9,
   "id": "8c045d03",
   "metadata": {
    "execution": {
     "iopub.execute_input": "2023-07-15T00:24:05.684709Z",
     "iopub.status.busy": "2023-07-15T00:24:05.684221Z",
     "iopub.status.idle": "2023-07-15T00:24:05.982992Z",
     "shell.execute_reply": "2023-07-15T00:24:05.982099Z"
    },
    "hidden": true,
    "papermill": {
     "duration": 0.338258,
     "end_time": "2023-07-15T00:24:05.985051",
     "exception": false,
     "start_time": "2023-07-15T00:24:05.646793",
     "status": "completed"
    },
    "tags": []
   },
   "outputs": [
    {
     "data": {
      "image/png": "[encoded data removed]",
      "text/plain": [
       "<Figure size 640x480 with 1 Axes>"
      ]
     },
     "metadata": {},
     "output_type": "display_data"
    }
   ],
   "source": [
    "df['Fare'].hist();"
   ]
  },
  {
   "cell_type": "code",
   "execution_count": 10,
   "id": "0a18caee",
   "metadata": {
    "execution": {
     "iopub.execute_input": "2023-07-15T00:24:06.061593Z",
     "iopub.status.busy": "2023-07-15T00:24:06.060611Z",
     "iopub.status.idle": "2023-07-15T00:24:06.066795Z",
     "shell.execute_reply": "2023-07-15T00:24:06.065940Z"
    },
    "hidden": true,
    "papermill": {
     "duration": 0.046251,
     "end_time": "2023-07-15T00:24:06.068972",
     "exception": false,
     "start_time": "2023-07-15T00:24:06.022721",
     "status": "completed"
    },
    "tags": []
   },
   "outputs": [],
   "source": [
    "df['LogFare'] = np.log(df['Fare']+1)"
   ]
  },
  {
   "cell_type": "code",
   "execution_count": 11,
   "id": "f940c842",
   "metadata": {
    "execution": {
     "iopub.execute_input": "2023-07-15T00:24:06.145555Z",
     "iopub.status.busy": "2023-07-15T00:24:06.145205Z",
     "iopub.status.idle": "2023-07-15T00:24:06.415613Z",
     "shell.execute_reply": "2023-07-15T00:24:06.414643Z"
    },
    "hidden": true,
    "papermill": {
     "duration": 0.311378,
     "end_time": "2023-07-15T00:24:06.417662",
     "exception": false,
     "start_time": "2023-07-15T00:24:06.106284",
     "status": "completed"
    },
    "tags": []
   },
   "outputs": [
    {
     "data": {
      "image/png": "[encoded data removed]",
      "text/plain": [
       "<Figure size 640x480 with 1 Axes>"
      ]
     },
     "metadata": {},
     "output_type": "display_data"
    }
   ],
   "source": [
    "df['LogFare'].hist();"
   ]
  },
  {
   "cell_type": "code",
   "execution_count": 12,
   "id": "7676c642",
   "metadata": {
    "execution": {
     "iopub.execute_input": "2023-07-15T00:24:06.494313Z",
     "iopub.status.busy": "2023-07-15T00:24:06.493989Z",
     "iopub.status.idle": "2023-07-15T00:24:06.502929Z",
     "shell.execute_reply": "2023-07-15T00:24:06.502040Z"
    },
    "hidden": true,
    "papermill": {
     "duration": 0.04965,
     "end_time": "2023-07-15T00:24:06.504942",
     "exception": false,
     "start_time": "2023-07-15T00:24:06.455292",
     "status": "completed"
    },
    "tags": []
   },
   "outputs": [
    {
     "data": {
      "text/plain": [
       "[1, 2, 3]"
      ]
     },
     "execution_count": 12,
     "metadata": {},
     "output_type": "execute_result"
    }
   ],
   "source": [
    "pclasses = sorted(df.Pclass.unique())\n",
    "pclasses"
   ]
  },
  {
   "cell_type": "code",
   "execution_count": 13,
   "id": "2c6590b6",
   "metadata": {
    "execution": {
     "iopub.execute_input": "2023-07-15T00:24:06.581756Z",
     "iopub.status.busy": "2023-07-15T00:24:06.580859Z",
     "iopub.status.idle": "2023-07-15T00:24:06.600135Z",
     "shell.execute_reply": "2023-07-15T00:24:06.599230Z"
    },
    "hidden": true,
    "papermill": {
     "duration": 0.059498,
     "end_time": "2023-07-15T00:24:06.602155",
     "exception": false,
     "start_time": "2023-07-15T00:24:06.542657",
     "status": "completed"
    },
    "tags": []
   },
   "outputs": [
    {
     "data": {
      "text/html": [
       "<div>\n",
       "<style scoped>\n",
       "    .dataframe tbody tr th:only-of-type {\n",
       "        vertical-align: middle;\n",
       "    }\n",
       "\n",
       "    .dataframe tbody tr th {\n",
       "        vertical-align: top;\n",
       "    }\n",
       "\n",
       "    .dataframe thead th {\n",
       "        text-align: right;\n",
       "    }\n",
       "</style>\n",
       "<table border=\"1\" class=\"dataframe\">\n",
       "  <thead>\n",
       "    <tr style=\"text-align: right;\">\n",
       "      <th></th>\n",
       "      <th>Name</th>\n",
       "      <th>Sex</th>\n",
       "      <th>Ticket</th>\n",
       "      <th>Cabin</th>\n",
       "      <th>Embarked</th>\n",
       "    </tr>\n",
       "  </thead>\n",
       "  <tbody>\n",
       "    <tr>\n",
       "      <th>count</th>\n",
       "      <td>891</td>\n",
       "      <td>891</td>\n",
       "      <td>891</td>\n",
       "      <td>891</td>\n",
       "      <td>891</td>\n",
       "    </tr>\n",
       "    <tr>\n",
       "      <th>unique</th>\n",
       "      <td>891</td>\n",
       "      <td>2</td>\n",
       "      <td>681</td>\n",
       "      <td>147</td>\n",
       "      <td>3</td>\n",
       "    </tr>\n",
       "    <tr>\n",
       "      <th>top</th>\n",
       "      <td>Braund, Mr. Owen Harris</td>\n",
       "      <td>male</td>\n",
       "      <td>347082</td>\n",
       "      <td>B96 B98</td>\n",
       "      <td>S</td>\n",
       "    </tr>\n",
       "    <tr>\n",
       "      <th>freq</th>\n",
       "      <td>1</td>\n",
       "      <td>577</td>\n",
       "      <td>7</td>\n",
       "      <td>691</td>\n",
       "      <td>646</td>\n",
       "    </tr>\n",
       "  </tbody>\n",
       "</table>\n",
       "</div>"
      ],
      "text/plain": [
       "                           Name   Sex  Ticket    Cabin Embarked\n",
       "count                       891   891     891      891      891\n",
       "unique                      891     2     681      147        3\n",
       "top     Braund, Mr. Owen Harris  male  347082  B96 B98        S\n",
       "freq                          1   577       7      691      646"
      ]
     },
     "execution_count": 13,
     "metadata": {},
     "output_type": "execute_result"
    }
   ],
   "source": [
    "df.describe(include=[object])"
   ]
  },
  {
   "cell_type": "code",
   "execution_count": 14,
   "id": "acc0b971",
   "metadata": {
    "execution": {
     "iopub.execute_input": "2023-07-15T00:24:06.691538Z",
     "iopub.status.busy": "2023-07-15T00:24:06.691220Z",
     "iopub.status.idle": "2023-07-15T00:24:06.707320Z",
     "shell.execute_reply": "2023-07-15T00:24:06.706372Z"
    },
    "hidden": true,
    "papermill": {
     "duration": 0.056637,
     "end_time": "2023-07-15T00:24:06.709259",
     "exception": false,
     "start_time": "2023-07-15T00:24:06.652622",
     "status": "completed"
    },
    "tags": []
   },
   "outputs": [
    {
     "data": {
      "text/plain": [
       "Index(['PassengerId', 'Survived', 'Name', 'Age', 'SibSp', 'Parch', 'Ticket', 'Fare', 'Cabin', 'LogFare', 'Sex_female', 'Sex_male',\n",
       "       'Pclass_1', 'Pclass_2', 'Pclass_3', 'Embarked_C', 'Embarked_Q', 'Embarked_S'],\n",
       "      dtype='object')"
      ]
     },
     "execution_count": 14,
     "metadata": {},
     "output_type": "execute_result"
    }
   ],
   "source": [
    "df = pd.get_dummies(df, columns=[\"Sex\",\"Pclass\",\"Embarked\"])\n",
    "df.columns"
   ]
  },
  {
   "cell_type": "code",
   "execution_count": 15,
   "id": "664f9f9d",
   "metadata": {
    "execution": {
     "iopub.execute_input": "2023-07-15T00:24:06.789738Z",
     "iopub.status.busy": "2023-07-15T00:24:06.788964Z",
     "iopub.status.idle": "2023-07-15T00:24:06.803062Z",
     "shell.execute_reply": "2023-07-15T00:24:06.802127Z"
    },
    "hidden": true,
    "papermill": {
     "duration": 0.055994,
     "end_time": "2023-07-15T00:24:06.805241",
     "exception": false,
     "start_time": "2023-07-15T00:24:06.749247",
     "status": "completed"
    },
    "tags": []
   },
   "outputs": [
    {
     "data": {
      "text/html": [
       "<div>\n",
       "<style scoped>\n",
       "    .dataframe tbody tr th:only-of-type {\n",
       "        vertical-align: middle;\n",
       "    }\n",
       "\n",
       "    .dataframe tbody tr th {\n",
       "        vertical-align: top;\n",
       "    }\n",
       "\n",
       "    .dataframe thead th {\n",
       "        text-align: right;\n",
       "    }\n",
       "</style>\n",
       "<table border=\"1\" class=\"dataframe\">\n",
       "  <thead>\n",
       "    <tr style=\"text-align: right;\">\n",
       "      <th></th>\n",
       "      <th>Sex_male</th>\n",
       "      <th>Sex_female</th>\n",
       "      <th>Pclass_1</th>\n",
       "      <th>Pclass_2</th>\n",
       "      <th>Pclass_3</th>\n",
       "      <th>Embarked_C</th>\n",
       "      <th>Embarked_Q</th>\n",
       "      <th>Embarked_S</th>\n",
       "    </tr>\n",
       "  </thead>\n",
       "  <tbody>\n",
       "    <tr>\n",
       "      <th>0</th>\n",
       "      <td>1</td>\n",
       "      <td>0</td>\n",
       "      <td>0</td>\n",
       "      <td>0</td>\n",
       "      <td>1</td>\n",
       "      <td>0</td>\n",
       "      <td>0</td>\n",
       "      <td>1</td>\n",
       "    </tr>\n",
       "    <tr>\n",
       "      <th>1</th>\n",
       "      <td>0</td>\n",
       "      <td>1</td>\n",
       "      <td>1</td>\n",
       "      <td>0</td>\n",
       "      <td>0</td>\n",
       "      <td>1</td>\n",
       "      <td>0</td>\n",
       "      <td>0</td>\n",
       "    </tr>\n",
       "    <tr>\n",
       "      <th>2</th>\n",
       "      <td>0</td>\n",
       "      <td>1</td>\n",
       "      <td>0</td>\n",
       "      <td>0</td>\n",
       "      <td>1</td>\n",
       "      <td>0</td>\n",
       "      <td>0</td>\n",
       "      <td>1</td>\n",
       "    </tr>\n",
       "    <tr>\n",
       "      <th>3</th>\n",
       "      <td>0</td>\n",
       "      <td>1</td>\n",
       "      <td>1</td>\n",
       "      <td>0</td>\n",
       "      <td>0</td>\n",
       "      <td>0</td>\n",
       "      <td>0</td>\n",
       "      <td>1</td>\n",
       "    </tr>\n",
       "    <tr>\n",
       "      <th>4</th>\n",
       "      <td>1</td>\n",
       "      <td>0</td>\n",
       "      <td>0</td>\n",
       "      <td>0</td>\n",
       "      <td>1</td>\n",
       "      <td>0</td>\n",
       "      <td>0</td>\n",
       "      <td>1</td>\n",
       "    </tr>\n",
       "  </tbody>\n",
       "</table>\n",
       "</div>"
      ],
      "text/plain": [
       "   Sex_male  Sex_female  Pclass_1  Pclass_2  Pclass_3  Embarked_C  Embarked_Q  Embarked_S\n",
       "0         1           0         0         0         1           0           0           1\n",
       "1         0           1         1         0         0           1           0           0\n",
       "2         0           1         0         0         1           0           0           1\n",
       "3         0           1         1         0         0           0           0           1\n",
       "4         1           0         0         0         1           0           0           1"
      ]
     },
     "execution_count": 15,
     "metadata": {},
     "output_type": "execute_result"
    }
   ],
   "source": [
    "added_cols = ['Sex_male', 'Sex_female', 'Pclass_1', 'Pclass_2', 'Pclass_3', 'Embarked_C', 'Embarked_Q', 'Embarked_S']\n",
    "df[added_cols].head()"
   ]
  },
  {
   "cell_type": "code",
   "execution_count": 16,
   "id": "590d8838",
   "metadata": {
    "execution": {
     "iopub.execute_input": "2023-07-15T00:24:06.929420Z",
     "iopub.status.busy": "2023-07-15T00:24:06.928786Z",
     "iopub.status.idle": "2023-07-15T00:24:06.960152Z",
     "shell.execute_reply": "2023-07-15T00:24:06.959239Z"
    },
    "hidden": true,
    "papermill": {
     "duration": 0.107505,
     "end_time": "2023-07-15T00:24:06.962220",
     "exception": false,
     "start_time": "2023-07-15T00:24:06.854715",
     "status": "completed"
    },
    "tags": []
   },
   "outputs": [],
   "source": [
    "from torch import tensor\n",
    "\n",
    "t_dep = tensor(df.Survived)"
   ]
  },
  {
   "cell_type": "code",
   "execution_count": 17,
   "id": "befcddbb",
   "metadata": {
    "execution": {
     "iopub.execute_input": "2023-07-15T00:24:07.040923Z",
     "iopub.status.busy": "2023-07-15T00:24:07.039427Z",
     "iopub.status.idle": "2023-07-15T00:24:07.121130Z",
     "shell.execute_reply": "2023-07-15T00:24:07.120260Z"
    },
    "hidden": true,
    "papermill": {
     "duration": 0.122483,
     "end_time": "2023-07-15T00:24:07.123239",
     "exception": false,
     "start_time": "2023-07-15T00:24:07.000756",
     "status": "completed"
    },
    "tags": []
   },
   "outputs": [
    {
     "data": {
      "text/plain": [
       "tensor([[22.0000,  1.0000,  0.0000,  2.1102,  1.0000,  0.0000,  0.0000,  0.0000,  1.0000,  0.0000,  0.0000,  1.0000],\n",
       "        [38.0000,  1.0000,  0.0000,  4.2806,  0.0000,  1.0000,  1.0000,  0.0000,  0.0000,  1.0000,  0.0000,  0.0000],\n",
       "        [26.0000,  0.0000,  0.0000,  2.1889,  0.0000,  1.0000,  0.0000,  0.0000,  1.0000,  0.0000,  0.0000,  1.0000],\n",
       "        [35.0000,  1.0000,  0.0000,  3.9908,  0.0000,  1.0000,  1.0000,  0.0000,  0.0000,  0.0000,  0.0000,  1.0000],\n",
       "        [35.0000,  0.0000,  0.0000,  2.2028,  1.0000,  0.0000,  0.0000,  0.0000,  1.0000,  0.0000,  0.0000,  1.0000],\n",
       "        [24.0000,  0.0000,  0.0000,  2.2469,  1.0000,  0.0000,  0.0000,  0.0000,  1.0000,  0.0000,  1.0000,  0.0000],\n",
       "        [54.0000,  0.0000,  0.0000,  3.9677,  1.0000,  0.0000,  1.0000,  0.0000,  0.0000,  0.0000,  0.0000,  1.0000],\n",
       "        ...,\n",
       "        [25.0000,  0.0000,  0.0000,  2.0857,  1.0000,  0.0000,  0.0000,  0.0000,  1.0000,  0.0000,  0.0000,  1.0000],\n",
       "        [39.0000,  0.0000,  5.0000,  3.4054,  0.0000,  1.0000,  0.0000,  0.0000,  1.0000,  0.0000,  1.0000,  0.0000],\n",
       "        [27.0000,  0.0000,  0.0000,  2.6391,  1.0000,  0.0000,  0.0000,  1.0000,  0.0000,  0.0000,  0.0000,  1.0000],\n",
       "        [19.0000,  0.0000,  0.0000,  3.4340,  0.0000,  1.0000,  1.0000,  0.0000,  0.0000,  0.0000,  0.0000,  1.0000],\n",
       "        [24.0000,  1.0000,  2.0000,  3.1966,  0.0000,  1.0000,  0.0000,  0.0000,  1.0000,  0.0000,  0.0000,  1.0000],\n",
       "        [26.0000,  0.0000,  0.0000,  3.4340,  1.0000,  0.0000,  1.0000,  0.0000,  0.0000,  1.0000,  0.0000,  0.0000],\n",
       "        [32.0000,  0.0000,  0.0000,  2.1691,  1.0000,  0.0000,  0.0000,  0.0000,  1.0000,  0.0000,  1.0000,  0.0000]])"
      ]
     },
     "execution_count": 17,
     "metadata": {},
     "output_type": "execute_result"
    }
   ],
   "source": [
    "indep_cols = ['Age', 'SibSp', 'Parch', 'LogFare'] + added_cols\n",
    "\n",
    "t_indep = tensor(df[indep_cols].values, dtype=torch.float)\n",
    "t_indep"
   ]
  },
  {
   "cell_type": "code",
   "execution_count": 18,
   "id": "8e431ad1",
   "metadata": {
    "execution": {
     "iopub.execute_input": "2023-07-15T00:24:07.202059Z",
     "iopub.status.busy": "2023-07-15T00:24:07.201125Z",
     "iopub.status.idle": "2023-07-15T00:24:07.207649Z",
     "shell.execute_reply": "2023-07-15T00:24:07.206530Z"
    },
    "hidden": true,
    "papermill": {
     "duration": 0.047432,
     "end_time": "2023-07-15T00:24:07.209590",
     "exception": false,
     "start_time": "2023-07-15T00:24:07.162158",
     "status": "completed"
    },
    "tags": []
   },
   "outputs": [
    {
     "data": {
      "text/plain": [
       "torch.Size([891, 12])"
      ]
     },
     "execution_count": 18,
     "metadata": {},
     "output_type": "execute_result"
    }
   ],
   "source": [
    "t_indep.shape"
   ]
  },
  {
   "cell_type": "markdown",
   "id": "279071f7",
   "metadata": {
    "papermill": {
     "duration": 0.038164,
     "end_time": "2023-07-15T00:24:07.285773",
     "exception": false,
     "start_time": "2023-07-15T00:24:07.247609",
     "status": "completed"
    },
    "tags": []
   },
   "source": [
    "## Configurando um modelo linear"
   ]
  },
  {
   "cell_type": "code",
   "execution_count": 19,
   "id": "c5cb3cb9",
   "metadata": {
    "execution": {
     "iopub.execute_input": "2023-07-15T00:24:07.363969Z",
     "iopub.status.busy": "2023-07-15T00:24:07.363160Z",
     "iopub.status.idle": "2023-07-15T00:24:07.379360Z",
     "shell.execute_reply": "2023-07-15T00:24:07.378337Z"
    },
    "papermill": {
     "duration": 0.057435,
     "end_time": "2023-07-15T00:24:07.381319",
     "exception": false,
     "start_time": "2023-07-15T00:24:07.323884",
     "status": "completed"
    },
    "tags": []
   },
   "outputs": [
    {
     "data": {
      "text/plain": [
       "tensor([-0.4629,  0.1386,  0.2409, -0.2262, -0.2632, -0.3147,  0.4876,  0.3136,  0.2799, -0.4392,  0.2103,  0.3625])"
      ]
     },
     "execution_count": 19,
     "metadata": {},
     "output_type": "execute_result"
    }
   ],
   "source": [
    "torch.manual_seed(442)\n",
    "\n",
    "n_coeff = t_indep.shape[1]\n",
    "coeffs = torch.rand(n_coeff)-0.5\n",
    "coeffs"
   ]
  },
  {
   "cell_type": "code",
   "execution_count": 20,
   "id": "53f830ab",
   "metadata": {
    "execution": {
     "iopub.execute_input": "2023-07-15T00:24:07.460245Z",
     "iopub.status.busy": "2023-07-15T00:24:07.459363Z",
     "iopub.status.idle": "2023-07-15T00:24:07.467617Z",
     "shell.execute_reply": "2023-07-15T00:24:07.466689Z"
    },
    "papermill": {
     "duration": 0.050019,
     "end_time": "2023-07-15T00:24:07.469602",
     "exception": false,
     "start_time": "2023-07-15T00:24:07.419583",
     "status": "completed"
    },
    "tags": []
   },
   "outputs": [
    {
     "data": {
      "text/plain": [
       "tensor([[-10.1838,   0.1386,   0.0000,  -0.4772,  -0.2632,  -0.0000,   0.0000,   0.0000,   0.2799,  -0.0000,   0.0000,   0.3625],\n",
       "        [-17.5902,   0.1386,   0.0000,  -0.9681,  -0.0000,  -0.3147,   0.4876,   0.0000,   0.0000,  -0.4392,   0.0000,   0.0000],\n",
       "        [-12.0354,   0.0000,   0.0000,  -0.4950,  -0.0000,  -0.3147,   0.0000,   0.0000,   0.2799,  -0.0000,   0.0000,   0.3625],\n",
       "        [-16.2015,   0.1386,   0.0000,  -0.9025,  -0.0000,  -0.3147,   0.4876,   0.0000,   0.0000,  -0.0000,   0.0000,   0.3625],\n",
       "        [-16.2015,   0.0000,   0.0000,  -0.4982,  -0.2632,  -0.0000,   0.0000,   0.0000,   0.2799,  -0.0000,   0.0000,   0.3625],\n",
       "        [-11.1096,   0.0000,   0.0000,  -0.5081,  -0.2632,  -0.0000,   0.0000,   0.0000,   0.2799,  -0.0000,   0.2103,   0.0000],\n",
       "        [-24.9966,   0.0000,   0.0000,  -0.8973,  -0.2632,  -0.0000,   0.4876,   0.0000,   0.0000,  -0.0000,   0.0000,   0.3625],\n",
       "        ...,\n",
       "        [-11.5725,   0.0000,   0.0000,  -0.4717,  -0.2632,  -0.0000,   0.0000,   0.0000,   0.2799,  -0.0000,   0.0000,   0.3625],\n",
       "        [-18.0531,   0.0000,   1.2045,  -0.7701,  -0.0000,  -0.3147,   0.0000,   0.0000,   0.2799,  -0.0000,   0.2103,   0.0000],\n",
       "        [-12.4983,   0.0000,   0.0000,  -0.5968,  -0.2632,  -0.0000,   0.0000,   0.3136,   0.0000,  -0.0000,   0.0000,   0.3625],\n",
       "        [ -8.7951,   0.0000,   0.0000,  -0.7766,  -0.0000,  -0.3147,   0.4876,   0.0000,   0.0000,  -0.0000,   0.0000,   0.3625],\n",
       "        [-11.1096,   0.1386,   0.4818,  -0.7229,  -0.0000,  -0.3147,   0.0000,   0.0000,   0.2799,  -0.0000,   0.0000,   0.3625],\n",
       "        [-12.0354,   0.0000,   0.0000,  -0.7766,  -0.2632,  -0.0000,   0.4876,   0.0000,   0.0000,  -0.4392,   0.0000,   0.0000],\n",
       "        [-14.8128,   0.0000,   0.0000,  -0.4905,  -0.2632,  -0.0000,   0.0000,   0.0000,   0.2799,  -0.0000,   0.2103,   0.0000]])"
      ]
     },
     "execution_count": 20,
     "metadata": {},
     "output_type": "execute_result"
    }
   ],
   "source": [
    "t_indep*coeffs"
   ]
  },
  {
   "cell_type": "code",
   "execution_count": 21,
   "id": "158082fa",
   "metadata": {
    "execution": {
     "iopub.execute_input": "2023-07-15T00:24:07.548543Z",
     "iopub.status.busy": "2023-07-15T00:24:07.547715Z",
     "iopub.status.idle": "2023-07-15T00:24:07.557003Z",
     "shell.execute_reply": "2023-07-15T00:24:07.556169Z"
    },
    "papermill": {
     "duration": 0.050589,
     "end_time": "2023-07-15T00:24:07.558969",
     "exception": false,
     "start_time": "2023-07-15T00:24:07.508380",
     "status": "completed"
    },
    "tags": []
   },
   "outputs": [],
   "source": [
    "vals,indices = t_indep.max(dim=0)\n",
    "t_indep = t_indep / vals"
   ]
  },
  {
   "cell_type": "code",
   "execution_count": 22,
   "id": "0d39b08d",
   "metadata": {
    "execution": {
     "iopub.execute_input": "2023-07-15T00:24:07.637081Z",
     "iopub.status.busy": "2023-07-15T00:24:07.636251Z",
     "iopub.status.idle": "2023-07-15T00:24:07.643939Z",
     "shell.execute_reply": "2023-07-15T00:24:07.643056Z"
    },
    "papermill": {
     "duration": 0.048849,
     "end_time": "2023-07-15T00:24:07.645946",
     "exception": false,
     "start_time": "2023-07-15T00:24:07.597097",
     "status": "completed"
    },
    "tags": []
   },
   "outputs": [
    {
     "data": {
      "text/plain": [
       "tensor([[-0.1273,  0.0173,  0.0000, -0.0765, -0.2632, -0.0000,  0.0000,  0.0000,  0.2799, -0.0000,  0.0000,  0.3625],\n",
       "        [-0.2199,  0.0173,  0.0000, -0.1551, -0.0000, -0.3147,  0.4876,  0.0000,  0.0000, -0.4392,  0.0000,  0.0000],\n",
       "        [-0.1504,  0.0000,  0.0000, -0.0793, -0.0000, -0.3147,  0.0000,  0.0000,  0.2799, -0.0000,  0.0000,  0.3625],\n",
       "        [-0.2025,  0.0173,  0.0000, -0.1446, -0.0000, -0.3147,  0.4876,  0.0000,  0.0000, -0.0000,  0.0000,  0.3625],\n",
       "        [-0.2025,  0.0000,  0.0000, -0.0798, -0.2632, -0.0000,  0.0000,  0.0000,  0.2799, -0.0000,  0.0000,  0.3625],\n",
       "        [-0.1389,  0.0000,  0.0000, -0.0814, -0.2632, -0.0000,  0.0000,  0.0000,  0.2799, -0.0000,  0.2103,  0.0000],\n",
       "        [-0.3125,  0.0000,  0.0000, -0.1438, -0.2632, -0.0000,  0.4876,  0.0000,  0.0000, -0.0000,  0.0000,  0.3625],\n",
       "        ...,\n",
       "        [-0.1447,  0.0000,  0.0000, -0.0756, -0.2632, -0.0000,  0.0000,  0.0000,  0.2799, -0.0000,  0.0000,  0.3625],\n",
       "        [-0.2257,  0.0000,  0.2008, -0.1234, -0.0000, -0.3147,  0.0000,  0.0000,  0.2799, -0.0000,  0.2103,  0.0000],\n",
       "        [-0.1562,  0.0000,  0.0000, -0.0956, -0.2632, -0.0000,  0.0000,  0.3136,  0.0000, -0.0000,  0.0000,  0.3625],\n",
       "        [-0.1099,  0.0000,  0.0000, -0.1244, -0.0000, -0.3147,  0.4876,  0.0000,  0.0000, -0.0000,  0.0000,  0.3625],\n",
       "        [-0.1389,  0.0173,  0.0803, -0.1158, -0.0000, -0.3147,  0.0000,  0.0000,  0.2799, -0.0000,  0.0000,  0.3625],\n",
       "        [-0.1504,  0.0000,  0.0000, -0.1244, -0.2632, -0.0000,  0.4876,  0.0000,  0.0000, -0.4392,  0.0000,  0.0000],\n",
       "        [-0.1852,  0.0000,  0.0000, -0.0786, -0.2632, -0.0000,  0.0000,  0.0000,  0.2799, -0.0000,  0.2103,  0.0000]])"
      ]
     },
     "execution_count": 22,
     "metadata": {},
     "output_type": "execute_result"
    }
   ],
   "source": [
    "t_indep*coeffs"
   ]
  },
  {
   "cell_type": "code",
   "execution_count": 23,
   "id": "6970e89a",
   "metadata": {
    "execution": {
     "iopub.execute_input": "2023-07-15T00:24:07.724269Z",
     "iopub.status.busy": "2023-07-15T00:24:07.723514Z",
     "iopub.status.idle": "2023-07-15T00:24:07.729211Z",
     "shell.execute_reply": "2023-07-15T00:24:07.728414Z"
    },
    "papermill": {
     "duration": 0.046706,
     "end_time": "2023-07-15T00:24:07.731147",
     "exception": false,
     "start_time": "2023-07-15T00:24:07.684441",
     "status": "completed"
    },
    "tags": []
   },
   "outputs": [],
   "source": [
    "preds = (t_indep*coeffs).sum(axis=1)"
   ]
  },
  {
   "cell_type": "code",
   "execution_count": 24,
   "id": "c30fffce",
   "metadata": {
    "execution": {
     "iopub.execute_input": "2023-07-15T00:24:07.813531Z",
     "iopub.status.busy": "2023-07-15T00:24:07.813242Z",
     "iopub.status.idle": "2023-07-15T00:24:07.821867Z",
     "shell.execute_reply": "2023-07-15T00:24:07.820990Z"
    },
    "papermill": {
     "duration": 0.050246,
     "end_time": "2023-07-15T00:24:07.823784",
     "exception": false,
     "start_time": "2023-07-15T00:24:07.773538",
     "status": "completed"
    },
    "tags": []
   },
   "outputs": [
    {
     "data": {
      "text/plain": [
       "tensor([ 0.1927, -0.6239,  0.0979,  0.2056,  0.0968,  0.0066,  0.1306,  0.3476,  0.1613, -0.6285])"
      ]
     },
     "execution_count": 24,
     "metadata": {},
     "output_type": "execute_result"
    }
   ],
   "source": [
    "preds[:10]"
   ]
  },
  {
   "cell_type": "code",
   "execution_count": 25,
   "id": "2aa82dbc",
   "metadata": {
    "execution": {
     "iopub.execute_input": "2023-07-15T00:24:07.902948Z",
     "iopub.status.busy": "2023-07-15T00:24:07.902145Z",
     "iopub.status.idle": "2023-07-15T00:24:07.910943Z",
     "shell.execute_reply": "2023-07-15T00:24:07.910054Z"
    },
    "papermill": {
     "duration": 0.050784,
     "end_time": "2023-07-15T00:24:07.912884",
     "exception": false,
     "start_time": "2023-07-15T00:24:07.862100",
     "status": "completed"
    },
    "tags": []
   },
   "outputs": [
    {
     "data": {
      "text/plain": [
       "tensor(0.5382)"
      ]
     },
     "execution_count": 25,
     "metadata": {},
     "output_type": "execute_result"
    }
   ],
   "source": [
    "loss = torch.abs(preds-t_dep).mean()\n",
    "loss"
   ]
  },
  {
   "cell_type": "code",
   "execution_count": 26,
   "id": "0e3b0f12",
   "metadata": {
    "execution": {
     "iopub.execute_input": "2023-07-15T00:24:07.992552Z",
     "iopub.status.busy": "2023-07-15T00:24:07.991798Z",
     "iopub.status.idle": "2023-07-15T00:24:07.997227Z",
     "shell.execute_reply": "2023-07-15T00:24:07.996388Z"
    },
    "papermill": {
     "duration": 0.046966,
     "end_time": "2023-07-15T00:24:07.999216",
     "exception": false,
     "start_time": "2023-07-15T00:24:07.952250",
     "status": "completed"
    },
    "tags": []
   },
   "outputs": [],
   "source": [
    "def calc_preds(coeffs, indeps): return (indeps*coeffs).sum(axis=1)\n",
    "def calc_loss(coeffs, indeps, deps): return torch.abs(calc_preds(coeffs, indeps)-deps).mean()"
   ]
  },
  {
   "cell_type": "markdown",
   "id": "508bc6d6",
   "metadata": {
    "papermill": {
     "duration": 0.03837,
     "end_time": "2023-07-15T00:24:08.076406",
     "exception": false,
     "start_time": "2023-07-15T00:24:08.038036",
     "status": "completed"
    },
    "tags": []
   },
   "source": [
    "## Fazendo o gradiente descendente"
   ]
  },
  {
   "cell_type": "code",
   "execution_count": 27,
   "id": "173fba8f",
   "metadata": {
    "execution": {
     "iopub.execute_input": "2023-07-15T00:24:08.157293Z",
     "iopub.status.busy": "2023-07-15T00:24:08.156399Z",
     "iopub.status.idle": "2023-07-15T00:24:08.163227Z",
     "shell.execute_reply": "2023-07-15T00:24:08.162314Z"
    },
    "papermill": {
     "duration": 0.049703,
     "end_time": "2023-07-15T00:24:08.165229",
     "exception": false,
     "start_time": "2023-07-15T00:24:08.115526",
     "status": "completed"
    },
    "tags": []
   },
   "outputs": [
    {
     "data": {
      "text/plain": [
       "tensor([-0.4629,  0.1386,  0.2409, -0.2262, -0.2632, -0.3147,  0.4876,  0.3136,  0.2799, -0.4392,  0.2103,  0.3625], requires_grad=True)"
      ]
     },
     "execution_count": 27,
     "metadata": {},
     "output_type": "execute_result"
    }
   ],
   "source": [
    "coeffs.requires_grad_()"
   ]
  },
  {
   "cell_type": "code",
   "execution_count": 28,
   "id": "d0d27457",
   "metadata": {
    "execution": {
     "iopub.execute_input": "2023-07-15T00:24:08.245004Z",
     "iopub.status.busy": "2023-07-15T00:24:08.244176Z",
     "iopub.status.idle": "2023-07-15T00:24:08.253178Z",
     "shell.execute_reply": "2023-07-15T00:24:08.252227Z"
    },
    "papermill": {
     "duration": 0.050759,
     "end_time": "2023-07-15T00:24:08.255165",
     "exception": false,
     "start_time": "2023-07-15T00:24:08.204406",
     "status": "completed"
    },
    "tags": []
   },
   "outputs": [
    {
     "data": {
      "text/plain": [
       "tensor(0.5382, grad_fn=<MeanBackward0>)"
      ]
     },
     "execution_count": 28,
     "metadata": {},
     "output_type": "execute_result"
    }
   ],
   "source": [
    "loss = calc_loss(coeffs, t_indep, t_dep)\n",
    "loss"
   ]
  },
  {
   "cell_type": "code",
   "execution_count": 29,
   "id": "b336c845",
   "metadata": {
    "execution": {
     "iopub.execute_input": "2023-07-15T00:24:08.334280Z",
     "iopub.status.busy": "2023-07-15T00:24:08.333478Z",
     "iopub.status.idle": "2023-07-15T00:24:08.411081Z",
     "shell.execute_reply": "2023-07-15T00:24:08.410095Z"
    },
    "papermill": {
     "duration": 0.119766,
     "end_time": "2023-07-15T00:24:08.413474",
     "exception": false,
     "start_time": "2023-07-15T00:24:08.293708",
     "status": "completed"
    },
    "tags": []
   },
   "outputs": [],
   "source": [
    "loss.backward()"
   ]
  },
  {
   "cell_type": "code",
   "execution_count": 30,
   "id": "b6651bcd",
   "metadata": {
    "execution": {
     "iopub.execute_input": "2023-07-15T00:24:08.496827Z",
     "iopub.status.busy": "2023-07-15T00:24:08.495984Z",
     "iopub.status.idle": "2023-07-15T00:24:08.502891Z",
     "shell.execute_reply": "2023-07-15T00:24:08.501992Z"
    },
    "papermill": {
     "duration": 0.049275,
     "end_time": "2023-07-15T00:24:08.504861",
     "exception": false,
     "start_time": "2023-07-15T00:24:08.455586",
     "status": "completed"
    },
    "tags": []
   },
   "outputs": [
    {
     "data": {
      "text/plain": [
       "tensor([-0.0106,  0.0129, -0.0041, -0.0484,  0.2099, -0.2132, -0.1212, -0.0247,  0.1425, -0.1886, -0.0191,  0.2043])"
      ]
     },
     "execution_count": 30,
     "metadata": {},
     "output_type": "execute_result"
    }
   ],
   "source": [
    "coeffs.grad"
   ]
  },
  {
   "cell_type": "code",
   "execution_count": 31,
   "id": "eecfb2da",
   "metadata": {
    "execution": {
     "iopub.execute_input": "2023-07-15T00:24:08.585605Z",
     "iopub.status.busy": "2023-07-15T00:24:08.584122Z",
     "iopub.status.idle": "2023-07-15T00:24:08.593166Z",
     "shell.execute_reply": "2023-07-15T00:24:08.592247Z"
    },
    "papermill": {
     "duration": 0.051324,
     "end_time": "2023-07-15T00:24:08.595186",
     "exception": false,
     "start_time": "2023-07-15T00:24:08.543862",
     "status": "completed"
    },
    "tags": []
   },
   "outputs": [
    {
     "data": {
      "text/plain": [
       "tensor([-0.0212,  0.0258, -0.0082, -0.0969,  0.4198, -0.4265, -0.2424, -0.0494,  0.2851, -0.3771, -0.0382,  0.4085])"
      ]
     },
     "execution_count": 31,
     "metadata": {},
     "output_type": "execute_result"
    }
   ],
   "source": [
    "loss = calc_loss(coeffs, t_indep, t_dep)\n",
    "loss.backward()\n",
    "coeffs.grad"
   ]
  },
  {
   "cell_type": "code",
   "execution_count": 32,
   "id": "09e94bc1",
   "metadata": {
    "execution": {
     "iopub.execute_input": "2023-07-15T00:24:08.675012Z",
     "iopub.status.busy": "2023-07-15T00:24:08.674190Z",
     "iopub.status.idle": "2023-07-15T00:24:08.683197Z",
     "shell.execute_reply": "2023-07-15T00:24:08.681785Z"
    },
    "papermill": {
     "duration": 0.051258,
     "end_time": "2023-07-15T00:24:08.685214",
     "exception": false,
     "start_time": "2023-07-15T00:24:08.633956",
     "status": "completed"
    },
    "tags": []
   },
   "outputs": [
    {
     "name": "stdout",
     "output_type": "stream",
     "text": [
      "tensor(0.4945)\n"
     ]
    }
   ],
   "source": [
    "loss = calc_loss(coeffs, t_indep, t_dep)\n",
    "loss.backward()\n",
    "with torch.no_grad():\n",
    "    coeffs.sub_(coeffs.grad * 0.1)\n",
    "    coeffs.grad.zero_()\n",
    "    print(calc_loss(coeffs, t_indep, t_dep))"
   ]
  },
  {
   "cell_type": "markdown",
   "id": "0e14973d",
   "metadata": {
    "papermill": {
     "duration": 0.041101,
     "end_time": "2023-07-15T00:24:08.765565",
     "exception": false,
     "start_time": "2023-07-15T00:24:08.724464",
     "status": "completed"
    },
    "tags": []
   },
   "source": [
    "## Training the linear model"
   ]
  },
  {
   "cell_type": "code",
   "execution_count": 33,
   "id": "c40688f0",
   "metadata": {
    "execution": {
     "iopub.execute_input": "2023-07-15T00:24:08.848278Z",
     "iopub.status.busy": "2023-07-15T00:24:08.847954Z",
     "iopub.status.idle": "2023-07-15T00:24:10.096175Z",
     "shell.execute_reply": "2023-07-15T00:24:10.095101Z"
    },
    "papermill": {
     "duration": 1.292304,
     "end_time": "2023-07-15T00:24:10.098740",
     "exception": false,
     "start_time": "2023-07-15T00:24:08.806436",
     "status": "completed"
    },
    "tags": []
   },
   "outputs": [],
   "source": [
    "from fastai.data.transforms import RandomSplitter\n",
    "trn_split,val_split=RandomSplitter(seed=42)(df)"
   ]
  },
  {
   "cell_type": "code",
   "execution_count": 34,
   "id": "79ee0f04",
   "metadata": {
    "execution": {
     "iopub.execute_input": "2023-07-15T00:24:10.183787Z",
     "iopub.status.busy": "2023-07-15T00:24:10.183241Z",
     "iopub.status.idle": "2023-07-15T00:24:10.196773Z",
     "shell.execute_reply": "2023-07-15T00:24:10.195828Z"
    },
    "papermill": {
     "duration": 0.05708,
     "end_time": "2023-07-15T00:24:10.198781",
     "exception": false,
     "start_time": "2023-07-15T00:24:10.141701",
     "status": "completed"
    },
    "tags": []
   },
   "outputs": [
    {
     "data": {
      "text/plain": [
       "(713, 178)"
      ]
     },
     "execution_count": 34,
     "metadata": {},
     "output_type": "execute_result"
    }
   ],
   "source": [
    "trn_indep,val_indep = t_indep[trn_split],t_indep[val_split]\n",
    "trn_dep,val_dep = t_dep[trn_split],t_dep[val_split]\n",
    "len(trn_indep),len(val_indep)"
   ]
  },
  {
   "cell_type": "code",
   "execution_count": 35,
   "id": "4e3b4949",
   "metadata": {
    "execution": {
     "iopub.execute_input": "2023-07-15T00:24:10.279253Z",
     "iopub.status.busy": "2023-07-15T00:24:10.278416Z",
     "iopub.status.idle": "2023-07-15T00:24:10.283443Z",
     "shell.execute_reply": "2023-07-15T00:24:10.282626Z"
    },
    "papermill": {
     "duration": 0.047729,
     "end_time": "2023-07-15T00:24:10.285512",
     "exception": false,
     "start_time": "2023-07-15T00:24:10.237783",
     "status": "completed"
    },
    "tags": []
   },
   "outputs": [],
   "source": [
    "def update_coeffs(coeffs, lr):\n",
    "    coeffs.sub_(coeffs.grad * lr)\n",
    "    coeffs.grad.zero_()"
   ]
  },
  {
   "cell_type": "code",
   "execution_count": 36,
   "id": "5ddae203",
   "metadata": {
    "execution": {
     "iopub.execute_input": "2023-07-15T00:24:10.366116Z",
     "iopub.status.busy": "2023-07-15T00:24:10.365287Z",
     "iopub.status.idle": "2023-07-15T00:24:10.370742Z",
     "shell.execute_reply": "2023-07-15T00:24:10.369923Z"
    },
    "papermill": {
     "duration": 0.047706,
     "end_time": "2023-07-15T00:24:10.372672",
     "exception": false,
     "start_time": "2023-07-15T00:24:10.324966",
     "status": "completed"
    },
    "tags": []
   },
   "outputs": [],
   "source": [
    "def one_epoch(coeffs, lr):\n",
    "    loss = calc_loss(coeffs, trn_indep, trn_dep)\n",
    "    loss.backward()\n",
    "    with torch.no_grad(): update_coeffs(coeffs, lr)\n",
    "    print(f\"{loss:.3f}\", end=\"; \")"
   ]
  },
  {
   "cell_type": "code",
   "execution_count": 37,
   "id": "7177dc4f",
   "metadata": {
    "execution": {
     "iopub.execute_input": "2023-07-15T00:24:10.464373Z",
     "iopub.status.busy": "2023-07-15T00:24:10.463594Z",
     "iopub.status.idle": "2023-07-15T00:24:10.469562Z",
     "shell.execute_reply": "2023-07-15T00:24:10.468694Z"
    },
    "papermill": {
     "duration": 0.051198,
     "end_time": "2023-07-15T00:24:10.471680",
     "exception": false,
     "start_time": "2023-07-15T00:24:10.420482",
     "status": "completed"
    },
    "tags": []
   },
   "outputs": [],
   "source": [
    "def init_coeffs(): return (torch.rand(n_coeff)-0.5).requires_grad_()"
   ]
  },
  {
   "cell_type": "code",
   "execution_count": 38,
   "id": "87cfd47f",
   "metadata": {
    "execution": {
     "iopub.execute_input": "2023-07-15T00:24:10.553297Z",
     "iopub.status.busy": "2023-07-15T00:24:10.552513Z",
     "iopub.status.idle": "2023-07-15T00:24:10.558042Z",
     "shell.execute_reply": "2023-07-15T00:24:10.557218Z"
    },
    "papermill": {
     "duration": 0.047693,
     "end_time": "2023-07-15T00:24:10.559966",
     "exception": false,
     "start_time": "2023-07-15T00:24:10.512273",
     "status": "completed"
    },
    "tags": []
   },
   "outputs": [],
   "source": [
    "def train_model(epochs=30, lr=0.01):\n",
    "    torch.manual_seed(442)\n",
    "    coeffs = init_coeffs()\n",
    "    for i in range(epochs): one_epoch(coeffs, lr=lr)\n",
    "    return coeffs"
   ]
  },
  {
   "cell_type": "code",
   "execution_count": 39,
   "id": "3cfc9308",
   "metadata": {
    "execution": {
     "iopub.execute_input": "2023-07-15T00:24:10.640703Z",
     "iopub.status.busy": "2023-07-15T00:24:10.639899Z",
     "iopub.status.idle": "2023-07-15T00:24:10.650337Z",
     "shell.execute_reply": "2023-07-15T00:24:10.649193Z"
    },
    "papermill": {
     "duration": 0.052913,
     "end_time": "2023-07-15T00:24:10.652376",
     "exception": false,
     "start_time": "2023-07-15T00:24:10.599463",
     "status": "completed"
    },
    "tags": []
   },
   "outputs": [
    {
     "name": "stdout",
     "output_type": "stream",
     "text": [
      "0.536; 0.502; 0.477; 0.454; 0.431; 0.409; 0.388; 0.367; 0.349; 0.336; 0.330; 0.326; 0.329; 0.304; 0.314; 0.296; 0.300; 0.289; "
     ]
    }
   ],
   "source": [
    "coeffs = train_model(18, lr=0.2)"
   ]
  },
  {
   "cell_type": "code",
   "execution_count": 40,
   "id": "86caf92a",
   "metadata": {
    "execution": {
     "iopub.execute_input": "2023-07-15T00:24:10.733207Z",
     "iopub.status.busy": "2023-07-15T00:24:10.732333Z",
     "iopub.status.idle": "2023-07-15T00:24:10.742782Z",
     "shell.execute_reply": "2023-07-15T00:24:10.741823Z"
    },
    "papermill": {
     "duration": 0.053162,
     "end_time": "2023-07-15T00:24:10.744817",
     "exception": false,
     "start_time": "2023-07-15T00:24:10.691655",
     "status": "completed"
    },
    "tags": []
   },
   "outputs": [
    {
     "data": {
      "text/plain": [
       "{'Age': tensor(-0.2694),\n",
       " 'SibSp': tensor(0.0901),\n",
       " 'Parch': tensor(0.2359),\n",
       " 'LogFare': tensor(0.0280),\n",
       " 'Sex_male': tensor(-0.3990),\n",
       " 'Sex_female': tensor(0.2345),\n",
       " 'Pclass_1': tensor(0.7232),\n",
       " 'Pclass_2': tensor(0.4112),\n",
       " 'Pclass_3': tensor(0.3601),\n",
       " 'Embarked_C': tensor(0.0955),\n",
       " 'Embarked_Q': tensor(0.2395),\n",
       " 'Embarked_S': tensor(0.2122)}"
      ]
     },
     "execution_count": 40,
     "metadata": {},
     "output_type": "execute_result"
    }
   ],
   "source": [
    "def show_coeffs(): return dict(zip(indep_cols, coeffs.requires_grad_(False)))\n",
    "show_coeffs()"
   ]
  },
  {
   "cell_type": "markdown",
   "id": "f94121e4",
   "metadata": {
    "papermill": {
     "duration": 0.040847,
     "end_time": "2023-07-15T00:24:10.828482",
     "exception": false,
     "start_time": "2023-07-15T00:24:10.787635",
     "status": "completed"
    },
    "tags": []
   },
   "source": [
    "## Obtendo a acuracia"
   ]
  },
  {
   "cell_type": "code",
   "execution_count": 41,
   "id": "911faa75",
   "metadata": {
    "execution": {
     "iopub.execute_input": "2023-07-15T00:24:10.909344Z",
     "iopub.status.busy": "2023-07-15T00:24:10.909024Z",
     "iopub.status.idle": "2023-07-15T00:24:10.913600Z",
     "shell.execute_reply": "2023-07-15T00:24:10.912603Z"
    },
    "papermill": {
     "duration": 0.047111,
     "end_time": "2023-07-15T00:24:10.915944",
     "exception": false,
     "start_time": "2023-07-15T00:24:10.868833",
     "status": "completed"
    },
    "tags": []
   },
   "outputs": [],
   "source": [
    "preds = calc_preds(coeffs, val_indep)"
   ]
  },
  {
   "cell_type": "code",
   "execution_count": 42,
   "id": "e51211c5",
   "metadata": {
    "execution": {
     "iopub.execute_input": "2023-07-15T00:24:10.996636Z",
     "iopub.status.busy": "2023-07-15T00:24:10.996341Z",
     "iopub.status.idle": "2023-07-15T00:24:11.003617Z",
     "shell.execute_reply": "2023-07-15T00:24:11.002636Z"
    },
    "papermill": {
     "duration": 0.050073,
     "end_time": "2023-07-15T00:24:11.005791",
     "exception": false,
     "start_time": "2023-07-15T00:24:10.955718",
     "status": "completed"
    },
    "tags": []
   },
   "outputs": [
    {
     "data": {
      "text/plain": [
       "tensor([ True,  True,  True,  True,  True,  True,  True,  True,  True,  True, False, False, False,  True,  True, False])"
      ]
     },
     "execution_count": 42,
     "metadata": {},
     "output_type": "execute_result"
    }
   ],
   "source": [
    "results = val_dep.bool()==(preds>0.5)\n",
    "results[:16]"
   ]
  },
  {
   "cell_type": "code",
   "execution_count": 43,
   "id": "aa34e956",
   "metadata": {
    "execution": {
     "iopub.execute_input": "2023-07-15T00:24:11.086880Z",
     "iopub.status.busy": "2023-07-15T00:24:11.086572Z",
     "iopub.status.idle": "2023-07-15T00:24:11.093648Z",
     "shell.execute_reply": "2023-07-15T00:24:11.092749Z"
    },
    "papermill": {
     "duration": 0.049923,
     "end_time": "2023-07-15T00:24:11.095816",
     "exception": false,
     "start_time": "2023-07-15T00:24:11.045893",
     "status": "completed"
    },
    "tags": []
   },
   "outputs": [
    {
     "data": {
      "text/plain": [
       "tensor(0.7865)"
      ]
     },
     "execution_count": 43,
     "metadata": {},
     "output_type": "execute_result"
    }
   ],
   "source": [
    "results.float().mean()"
   ]
  },
  {
   "cell_type": "code",
   "execution_count": 44,
   "id": "40d96e8c",
   "metadata": {
    "execution": {
     "iopub.execute_input": "2023-07-15T00:24:11.180522Z",
     "iopub.status.busy": "2023-07-15T00:24:11.180217Z",
     "iopub.status.idle": "2023-07-15T00:24:11.187982Z",
     "shell.execute_reply": "2023-07-15T00:24:11.187035Z"
    },
    "papermill": {
     "duration": 0.0541,
     "end_time": "2023-07-15T00:24:11.189922",
     "exception": false,
     "start_time": "2023-07-15T00:24:11.135822",
     "status": "completed"
    },
    "tags": []
   },
   "outputs": [
    {
     "data": {
      "text/plain": [
       "tensor(0.7865)"
      ]
     },
     "execution_count": 44,
     "metadata": {},
     "output_type": "execute_result"
    }
   ],
   "source": [
    "def acc(coeffs): return (val_dep.bool()==(calc_preds(coeffs, val_indep)>0.5)).float().mean()\n",
    "acc(coeffs)"
   ]
  },
  {
   "cell_type": "markdown",
   "id": "821c7b05",
   "metadata": {
    "papermill": {
     "duration": 0.039417,
     "end_time": "2023-07-15T00:24:11.269244",
     "exception": false,
     "start_time": "2023-07-15T00:24:11.229827",
     "status": "completed"
    },
    "tags": []
   },
   "source": [
    "## Usando a função sigmoid"
   ]
  },
  {
   "cell_type": "code",
   "execution_count": 45,
   "id": "f0f38ab8",
   "metadata": {
    "execution": {
     "iopub.execute_input": "2023-07-15T00:24:11.350661Z",
     "iopub.status.busy": "2023-07-15T00:24:11.349730Z",
     "iopub.status.idle": "2023-07-15T00:24:11.357196Z",
     "shell.execute_reply": "2023-07-15T00:24:11.356269Z"
    },
    "papermill": {
     "duration": 0.050345,
     "end_time": "2023-07-15T00:24:11.359199",
     "exception": false,
     "start_time": "2023-07-15T00:24:11.308854",
     "status": "completed"
    },
    "tags": []
   },
   "outputs": [
    {
     "data": {
      "text/plain": [
       "tensor([ 0.8160,  0.1295, -0.0148,  0.1831,  0.1520,  0.1350,  0.7279,  0.7754,  0.3222,  0.6740,  0.0753,  0.0389,  0.2216,  0.7631,\n",
       "         0.0678,  0.3997,  0.3324,  0.8278,  0.1078,  0.7126,  0.1023,  0.3627,  0.9937,  0.8050,  0.1153,  0.1455,  0.8652,  0.3425])"
      ]
     },
     "execution_count": 45,
     "metadata": {},
     "output_type": "execute_result"
    }
   ],
   "source": [
    "preds[:28]"
   ]
  },
  {
   "cell_type": "code",
   "execution_count": 46,
   "id": "c86e42fd",
   "metadata": {
    "execution": {
     "iopub.execute_input": "2023-07-15T00:24:11.441087Z",
     "iopub.status.busy": "2023-07-15T00:24:11.440262Z",
     "iopub.status.idle": "2023-07-15T00:24:12.113005Z",
     "shell.execute_reply": "2023-07-15T00:24:12.111984Z"
    },
    "papermill": {
     "duration": 0.715719,
     "end_time": "2023-07-15T00:24:12.115110",
     "exception": false,
     "start_time": "2023-07-15T00:24:11.399391",
     "status": "completed"
    },
    "tags": []
   },
   "outputs": [
    {
     "data": {
      "image/png": "[encoded data removed]",
      "text/plain": [
       "<Figure size 640x480 with 1 Axes>"
      ]
     },
     "metadata": {},
     "output_type": "display_data"
    }
   ],
   "source": [
    "import sympy\n",
    "sympy.plot(\"1/(1+exp(-x))\", xlim=(-5,5));"
   ]
  },
  {
   "cell_type": "code",
   "execution_count": 47,
   "id": "b74f4723",
   "metadata": {
    "execution": {
     "iopub.execute_input": "2023-07-15T00:24:12.200950Z",
     "iopub.status.busy": "2023-07-15T00:24:12.199940Z",
     "iopub.status.idle": "2023-07-15T00:24:12.205053Z",
     "shell.execute_reply": "2023-07-15T00:24:12.204192Z"
    },
    "papermill": {
     "duration": 0.049435,
     "end_time": "2023-07-15T00:24:12.207018",
     "exception": false,
     "start_time": "2023-07-15T00:24:12.157583",
     "status": "completed"
    },
    "tags": []
   },
   "outputs": [],
   "source": [
    "def calc_preds(coeffs, indeps): return torch.sigmoid((indeps*coeffs).sum(axis=1))"
   ]
  },
  {
   "cell_type": "code",
   "execution_count": 48,
   "id": "3ab58634",
   "metadata": {
    "execution": {
     "iopub.execute_input": "2023-07-15T00:24:12.290140Z",
     "iopub.status.busy": "2023-07-15T00:24:12.289286Z",
     "iopub.status.idle": "2023-07-15T00:24:12.307984Z",
     "shell.execute_reply": "2023-07-15T00:24:12.306823Z"
    },
    "papermill": {
     "duration": 0.062317,
     "end_time": "2023-07-15T00:24:12.310027",
     "exception": false,
     "start_time": "2023-07-15T00:24:12.247710",
     "status": "completed"
    },
    "tags": []
   },
   "outputs": [
    {
     "name": "stdout",
     "output_type": "stream",
     "text": [
      "0.510; 0.327; 0.294; 0.207; 0.201; 0.199; 0.198; 0.197; 0.196; 0.196; 0.196; 0.195; 0.195; 0.195; 0.195; 0.195; 0.195; 0.195; 0.194; 0.194; 0.194; 0.194; 0.194; 0.194; 0.194; 0.194; 0.194; 0.194; 0.194; 0.194; "
     ]
    }
   ],
   "source": [
    "coeffs = train_model(lr=100)"
   ]
  },
  {
   "cell_type": "code",
   "execution_count": 49,
   "id": "6c532c1d",
   "metadata": {
    "execution": {
     "iopub.execute_input": "2023-07-15T00:24:12.393569Z",
     "iopub.status.busy": "2023-07-15T00:24:12.392798Z",
     "iopub.status.idle": "2023-07-15T00:24:12.399829Z",
     "shell.execute_reply": "2023-07-15T00:24:12.398943Z"
    },
    "papermill": {
     "duration": 0.050722,
     "end_time": "2023-07-15T00:24:12.401804",
     "exception": false,
     "start_time": "2023-07-15T00:24:12.351082",
     "status": "completed"
    },
    "tags": []
   },
   "outputs": [
    {
     "data": {
      "text/plain": [
       "tensor(0.8258)"
      ]
     },
     "execution_count": 49,
     "metadata": {},
     "output_type": "execute_result"
    }
   ],
   "source": [
    "acc(coeffs)"
   ]
  },
  {
   "cell_type": "code",
   "execution_count": 50,
   "id": "ace201e4",
   "metadata": {
    "execution": {
     "iopub.execute_input": "2023-07-15T00:24:12.485460Z",
     "iopub.status.busy": "2023-07-15T00:24:12.484650Z",
     "iopub.status.idle": "2023-07-15T00:24:12.494567Z",
     "shell.execute_reply": "2023-07-15T00:24:12.493667Z"
    },
    "papermill": {
     "duration": 0.054027,
     "end_time": "2023-07-15T00:24:12.496884",
     "exception": false,
     "start_time": "2023-07-15T00:24:12.442857",
     "status": "completed"
    },
    "tags": []
   },
   "outputs": [
    {
     "data": {
      "text/plain": [
       "{'Age': tensor(-1.5061),\n",
       " 'SibSp': tensor(-1.1575),\n",
       " 'Parch': tensor(-0.4267),\n",
       " 'LogFare': tensor(0.2543),\n",
       " 'Sex_male': tensor(-10.3320),\n",
       " 'Sex_female': tensor(8.4185),\n",
       " 'Pclass_1': tensor(3.8389),\n",
       " 'Pclass_2': tensor(2.1398),\n",
       " 'Pclass_3': tensor(-6.2331),\n",
       " 'Embarked_C': tensor(1.4771),\n",
       " 'Embarked_Q': tensor(2.1168),\n",
       " 'Embarked_S': tensor(-4.7958)}"
      ]
     },
     "execution_count": 50,
     "metadata": {},
     "output_type": "execute_result"
    }
   ],
   "source": [
    "show_coeffs()"
   ]
  },
  {
   "cell_type": "markdown",
   "id": "57d537eb",
   "metadata": {
    "papermill": {
     "duration": 0.040667,
     "end_time": "2023-07-15T00:24:12.579243",
     "exception": false,
     "start_time": "2023-07-15T00:24:12.538576",
     "status": "completed"
    },
    "tags": []
   },
   "source": [
    "## Subindo no kaggle"
   ]
  },
  {
   "cell_type": "code",
   "execution_count": 51,
   "id": "d54edd7b",
   "metadata": {
    "execution": {
     "iopub.execute_input": "2023-07-15T00:24:12.664028Z",
     "iopub.status.busy": "2023-07-15T00:24:12.663098Z",
     "iopub.status.idle": "2023-07-15T00:24:12.676194Z",
     "shell.execute_reply": "2023-07-15T00:24:12.675188Z"
    },
    "papermill": {
     "duration": 0.058181,
     "end_time": "2023-07-15T00:24:12.678220",
     "exception": false,
     "start_time": "2023-07-15T00:24:12.620039",
     "status": "completed"
    },
    "tags": []
   },
   "outputs": [],
   "source": [
    "tst_df = pd.read_csv(path/'test.csv')"
   ]
  },
  {
   "cell_type": "code",
   "execution_count": 52,
   "id": "3405913c",
   "metadata": {
    "execution": {
     "iopub.execute_input": "2023-07-15T00:24:12.762675Z",
     "iopub.status.busy": "2023-07-15T00:24:12.762336Z",
     "iopub.status.idle": "2023-07-15T00:24:12.767808Z",
     "shell.execute_reply": "2023-07-15T00:24:12.766893Z"
    },
    "papermill": {
     "duration": 0.050008,
     "end_time": "2023-07-15T00:24:12.769994",
     "exception": false,
     "start_time": "2023-07-15T00:24:12.719986",
     "status": "completed"
    },
    "tags": []
   },
   "outputs": [],
   "source": [
    "tst_df['Fare'] = tst_df.Fare.fillna(0)"
   ]
  },
  {
   "cell_type": "code",
   "execution_count": 53,
   "id": "8b87bb52",
   "metadata": {
    "execution": {
     "iopub.execute_input": "2023-07-15T00:24:12.857518Z",
     "iopub.status.busy": "2023-07-15T00:24:12.857182Z",
     "iopub.status.idle": "2023-07-15T00:24:12.875874Z",
     "shell.execute_reply": "2023-07-15T00:24:12.874697Z"
    },
    "papermill": {
     "duration": 0.064086,
     "end_time": "2023-07-15T00:24:12.877794",
     "exception": false,
     "start_time": "2023-07-15T00:24:12.813708",
     "status": "completed"
    },
    "tags": []
   },
   "outputs": [],
   "source": [
    "tst_df.fillna(modes, inplace=True)\n",
    "tst_df['LogFare'] = np.log(tst_df['Fare']+1)\n",
    "tst_df = pd.get_dummies(tst_df, columns=[\"Sex\",\"Pclass\",\"Embarked\"])\n",
    "\n",
    "tst_indep = tensor(tst_df[indep_cols].values, dtype=torch.float)\n",
    "tst_indep = tst_indep / vals"
   ]
  },
  {
   "cell_type": "code",
   "execution_count": 54,
   "id": "15a58c69",
   "metadata": {
    "execution": {
     "iopub.execute_input": "2023-07-15T00:24:12.963374Z",
     "iopub.status.busy": "2023-07-15T00:24:12.963023Z",
     "iopub.status.idle": "2023-07-15T00:24:12.968878Z",
     "shell.execute_reply": "2023-07-15T00:24:12.968024Z"
    },
    "papermill": {
     "duration": 0.05115,
     "end_time": "2023-07-15T00:24:12.971067",
     "exception": false,
     "start_time": "2023-07-15T00:24:12.919917",
     "status": "completed"
    },
    "tags": []
   },
   "outputs": [],
   "source": [
    "tst_df['Survived'] = (calc_preds(tst_indep, coeffs)>0.5).int()"
   ]
  },
  {
   "cell_type": "code",
   "execution_count": 55,
   "id": "62a4eec1",
   "metadata": {
    "execution": {
     "iopub.execute_input": "2023-07-15T00:24:13.057537Z",
     "iopub.status.busy": "2023-07-15T00:24:13.056609Z",
     "iopub.status.idle": "2023-07-15T00:24:13.067450Z",
     "shell.execute_reply": "2023-07-15T00:24:13.066618Z"
    },
    "papermill": {
     "duration": 0.055213,
     "end_time": "2023-07-15T00:24:13.069489",
     "exception": false,
     "start_time": "2023-07-15T00:24:13.014276",
     "status": "completed"
    },
    "tags": []
   },
   "outputs": [],
   "source": [
    "sub_df = tst_df[['PassengerId','Survived']]\n",
    "sub_df.to_csv('sub.csv', index=False)"
   ]
  },
  {
   "cell_type": "code",
   "execution_count": 56,
   "id": "2199fbfe",
   "metadata": {
    "execution": {
     "iopub.execute_input": "2023-07-15T00:24:13.153585Z",
     "iopub.status.busy": "2023-07-15T00:24:13.153243Z",
     "iopub.status.idle": "2023-07-15T00:24:14.105788Z",
     "shell.execute_reply": "2023-07-15T00:24:14.104628Z"
    },
    "papermill": {
     "duration": 0.9974,
     "end_time": "2023-07-15T00:24:14.108202",
     "exception": false,
     "start_time": "2023-07-15T00:24:13.110802",
     "status": "completed"
    },
    "tags": []
   },
   "outputs": [
    {
     "name": "stdout",
     "output_type": "stream",
     "text": [
      "PassengerId,Survived\r\n",
      "892,0\r\n",
      "893,0\r\n",
      "894,0\r\n",
      "895,0\r\n",
      "896,0\r\n",
      "897,0\r\n",
      "898,1\r\n",
      "899,0\r\n",
      "900,1\r\n"
     ]
    }
   ],
   "source": [
    "!head sub.csv"
   ]
  },
  {
   "cell_type": "markdown",
   "id": "a48a4cfd",
   "metadata": {
    "papermill": {
     "duration": 0.041109,
     "end_time": "2023-07-15T00:24:14.192020",
     "exception": false,
     "start_time": "2023-07-15T00:24:14.150911",
     "status": "completed"
    },
    "tags": []
   },
   "source": [
    "## Usando matriz de produtos"
   ]
  },
  {
   "cell_type": "code",
   "execution_count": 57,
   "id": "917bb622",
   "metadata": {
    "execution": {
     "iopub.execute_input": "2023-07-15T00:24:14.277729Z",
     "iopub.status.busy": "2023-07-15T00:24:14.277350Z",
     "iopub.status.idle": "2023-07-15T00:24:14.287873Z",
     "shell.execute_reply": "2023-07-15T00:24:14.286983Z"
    },
    "papermill": {
     "duration": 0.055277,
     "end_time": "2023-07-15T00:24:14.289830",
     "exception": false,
     "start_time": "2023-07-15T00:24:14.234553",
     "status": "completed"
    },
    "tags": []
   },
   "outputs": [
    {
     "data": {
      "text/plain": [
       "tensor([ 12.3288, -14.8119, -15.4540, -13.1513, -13.3512, -13.6469,   3.6248,   5.3429, -22.0878,   3.1233, -21.8742, -15.6421, -21.5504,\n",
       "          3.9393, -21.9190, -12.0010, -12.3775,   5.3550, -13.5880,  -3.1015, -21.7237, -12.2081,  12.9767,   4.7427, -21.6525, -14.9135,\n",
       "         -2.7433, -12.3210, -21.5886,   3.9387,   5.3890,  -3.6196, -21.6296, -21.8454,  12.2159,  -3.2275, -12.0289,  13.4560, -21.7230,\n",
       "         -3.1366, -13.2462, -21.7230, -13.6831,  13.3092, -21.6477,  -3.5868, -21.6854, -21.8316, -14.8158,  -2.9386,  -5.3103, -22.2384,\n",
       "        -22.1097, -21.7466, -13.3780, -13.4909, -14.8119, -22.0690, -21.6666, -21.7818,  -5.4439, -21.7407, -12.6551, -21.6671,   4.9238,\n",
       "        -11.5777, -13.3323, -21.9638, -15.3030,   5.0243, -21.7614,   3.1820, -13.4721, -21.7170, -11.6066, -21.5737, -21.7230, -11.9652,\n",
       "        -13.2382, -13.7599, -13.2170,  13.1347, -21.7049, -21.7268,   4.9207,  -7.3198,  -5.3081,   7.1065,  11.4948, -13.3135, -21.8723,\n",
       "        -21.7230,  13.3603, -15.5670,   3.4105,  -7.2857, -13.7197,   3.6909,   3.9763, -14.7227, -21.8268,   3.9387, -21.8743, -21.8367,\n",
       "        -11.8518, -13.6712, -21.8299,   4.9440,  -5.4471, -21.9666,   5.1333,  -3.2187, -11.6008,  13.7920, -21.7230,  12.6369,  -3.7268,\n",
       "        -14.8119, -22.0637,  12.9468, -22.1610,  -6.1827, -14.8119,  -3.2838, -15.4540, -11.6950,  -2.9926,  -3.0110, -21.5664, -13.8268,\n",
       "          7.3426, -21.8418,   5.0744,   5.2582,  13.3415, -21.6289, -13.9898, -21.8112,  -7.3316,   5.2296, -13.4453,  12.7891, -22.1235,\n",
       "        -14.9625,  -3.4339,   6.3089, -21.9839,   3.1968,   7.2400,   2.8558,  -3.1187,   3.7965,   5.4667, -15.1101, -15.0597, -22.9391,\n",
       "        -21.7230,  -3.0346, -13.5206, -21.7011,  13.4425,  -7.2690, -21.8335, -12.0582,  13.0489,   6.7993,   5.2160,   5.0794, -12.6957,\n",
       "        -12.1838,  -3.0873, -21.6070,   7.0744, -21.7170, -22.1001,   6.8159, -11.6002, -21.6310])"
      ]
     },
     "execution_count": 57,
     "metadata": {},
     "output_type": "execute_result"
    }
   ],
   "source": [
    "(val_indep*coeffs).sum(axis=1)"
   ]
  },
  {
   "cell_type": "code",
   "execution_count": 58,
   "id": "b5a5f76c",
   "metadata": {
    "execution": {
     "iopub.execute_input": "2023-07-15T00:24:14.374413Z",
     "iopub.status.busy": "2023-07-15T00:24:14.373608Z",
     "iopub.status.idle": "2023-07-15T00:24:14.419663Z",
     "shell.execute_reply": "2023-07-15T00:24:14.418821Z"
    },
    "papermill": {
     "duration": 0.090599,
     "end_time": "2023-07-15T00:24:14.421861",
     "exception": false,
     "start_time": "2023-07-15T00:24:14.331262",
     "status": "completed"
    },
    "tags": []
   },
   "outputs": [
    {
     "data": {
      "text/plain": [
       "tensor([ 12.3288, -14.8119, -15.4540, -13.1513, -13.3511, -13.6468,   3.6248,   5.3429, -22.0878,   3.1233, -21.8742, -15.6421, -21.5504,\n",
       "          3.9393, -21.9190, -12.0010, -12.3775,   5.3550, -13.5880,  -3.1015, -21.7237, -12.2081,  12.9767,   4.7427, -21.6525, -14.9135,\n",
       "         -2.7433, -12.3210, -21.5886,   3.9387,   5.3890,  -3.6196, -21.6296, -21.8454,  12.2159,  -3.2275, -12.0289,  13.4560, -21.7230,\n",
       "         -3.1366, -13.2462, -21.7230, -13.6831,  13.3092, -21.6477,  -3.5868, -21.6854, -21.8316, -14.8158,  -2.9386,  -5.3103, -22.2384,\n",
       "        -22.1097, -21.7466, -13.3780, -13.4909, -14.8119, -22.0690, -21.6666, -21.7818,  -5.4439, -21.7407, -12.6551, -21.6671,   4.9238,\n",
       "        -11.5777, -13.3323, -21.9638, -15.3030,   5.0243, -21.7614,   3.1820, -13.4721, -21.7170, -11.6066, -21.5737, -21.7230, -11.9652,\n",
       "        -13.2382, -13.7599, -13.2170,  13.1347, -21.7049, -21.7268,   4.9207,  -7.3198,  -5.3081,   7.1065,  11.4948, -13.3135, -21.8723,\n",
       "        -21.7230,  13.3603, -15.5670,   3.4105,  -7.2857, -13.7197,   3.6909,   3.9763, -14.7227, -21.8268,   3.9387, -21.8743, -21.8367,\n",
       "        -11.8518, -13.6712, -21.8299,   4.9440,  -5.4471, -21.9666,   5.1333,  -3.2187, -11.6008,  13.7920, -21.7230,  12.6369,  -3.7268,\n",
       "        -14.8119, -22.0637,  12.9468, -22.1610,  -6.1827, -14.8119,  -3.2838, -15.4540, -11.6950,  -2.9926,  -3.0110, -21.5664, -13.8268,\n",
       "          7.3426, -21.8418,   5.0744,   5.2582,  13.3415, -21.6289, -13.9898, -21.8112,  -7.3316,   5.2296, -13.4453,  12.7891, -22.1235,\n",
       "        -14.9625,  -3.4339,   6.3089, -21.9839,   3.1968,   7.2400,   2.8558,  -3.1187,   3.7965,   5.4667, -15.1101, -15.0597, -22.9391,\n",
       "        -21.7230,  -3.0346, -13.5206, -21.7011,  13.4425,  -7.2690, -21.8335, -12.0582,  13.0489,   6.7993,   5.2160,   5.0794, -12.6957,\n",
       "        -12.1838,  -3.0873, -21.6070,   7.0744, -21.7170, -22.1001,   6.8159, -11.6002, -21.6310])"
      ]
     },
     "execution_count": 58,
     "metadata": {},
     "output_type": "execute_result"
    }
   ],
   "source": [
    "val_indep@coeffs"
   ]
  },
  {
   "cell_type": "code",
   "execution_count": 59,
   "id": "7d29e20d",
   "metadata": {
    "execution": {
     "iopub.execute_input": "2023-07-15T00:24:14.510308Z",
     "iopub.status.busy": "2023-07-15T00:24:14.509963Z",
     "iopub.status.idle": "2023-07-15T00:24:14.514549Z",
     "shell.execute_reply": "2023-07-15T00:24:14.513597Z"
    },
    "papermill": {
     "duration": 0.049601,
     "end_time": "2023-07-15T00:24:14.516688",
     "exception": false,
     "start_time": "2023-07-15T00:24:14.467087",
     "status": "completed"
    },
    "tags": []
   },
   "outputs": [],
   "source": [
    "def calc_preds(coeffs, indeps): return torch.sigmoid(indeps@coeffs)"
   ]
  },
  {
   "cell_type": "code",
   "execution_count": 60,
   "id": "6b3bfa16",
   "metadata": {
    "execution": {
     "iopub.execute_input": "2023-07-15T00:24:14.601322Z",
     "iopub.status.busy": "2023-07-15T00:24:14.600996Z",
     "iopub.status.idle": "2023-07-15T00:24:14.605720Z",
     "shell.execute_reply": "2023-07-15T00:24:14.604823Z"
    },
    "papermill": {
     "duration": 0.049387,
     "end_time": "2023-07-15T00:24:14.607721",
     "exception": false,
     "start_time": "2023-07-15T00:24:14.558334",
     "status": "completed"
    },
    "tags": []
   },
   "outputs": [],
   "source": [
    "def init_coeffs(): return (torch.rand(n_coeff, 1)*0.1).requires_grad_()"
   ]
  },
  {
   "cell_type": "code",
   "execution_count": 61,
   "id": "5218443d",
   "metadata": {
    "execution": {
     "iopub.execute_input": "2023-07-15T00:24:14.693971Z",
     "iopub.status.busy": "2023-07-15T00:24:14.692927Z",
     "iopub.status.idle": "2023-07-15T00:24:14.698450Z",
     "shell.execute_reply": "2023-07-15T00:24:14.697601Z"
    },
    "papermill": {
     "duration": 0.051091,
     "end_time": "2023-07-15T00:24:14.700387",
     "exception": false,
     "start_time": "2023-07-15T00:24:14.649296",
     "status": "completed"
    },
    "tags": []
   },
   "outputs": [],
   "source": [
    "trn_dep = trn_dep[:,None]\n",
    "val_dep = val_dep[:,None]"
   ]
  },
  {
   "cell_type": "code",
   "execution_count": 62,
   "id": "643e9808",
   "metadata": {
    "execution": {
     "iopub.execute_input": "2023-07-15T00:24:14.800339Z",
     "iopub.status.busy": "2023-07-15T00:24:14.799710Z",
     "iopub.status.idle": "2023-07-15T00:24:14.816582Z",
     "shell.execute_reply": "2023-07-15T00:24:14.815418Z"
    },
    "papermill": {
     "duration": 0.073631,
     "end_time": "2023-07-15T00:24:14.819273",
     "exception": false,
     "start_time": "2023-07-15T00:24:14.745642",
     "status": "completed"
    },
    "tags": []
   },
   "outputs": [
    {
     "name": "stdout",
     "output_type": "stream",
     "text": [
      "0.512; 0.323; 0.290; 0.205; 0.200; 0.198; 0.197; 0.197; 0.196; 0.196; 0.196; 0.195; 0.195; 0.195; 0.195; 0.195; 0.195; 0.194; 0.194; 0.194; 0.194; 0.194; 0.194; 0.194; 0.194; 0.194; 0.194; 0.194; 0.194; 0.194; "
     ]
    }
   ],
   "source": [
    "coeffs = train_model(lr=100)"
   ]
  },
  {
   "cell_type": "code",
   "execution_count": 63,
   "id": "017319db",
   "metadata": {
    "execution": {
     "iopub.execute_input": "2023-07-15T00:24:14.907436Z",
     "iopub.status.busy": "2023-07-15T00:24:14.907120Z",
     "iopub.status.idle": "2023-07-15T00:24:14.914426Z",
     "shell.execute_reply": "2023-07-15T00:24:14.913247Z"
    },
    "papermill": {
     "duration": 0.052107,
     "end_time": "2023-07-15T00:24:14.916715",
     "exception": false,
     "start_time": "2023-07-15T00:24:14.864608",
     "status": "completed"
    },
    "tags": []
   },
   "outputs": [
    {
     "data": {
      "text/plain": [
       "tensor(0.8258)"
      ]
     },
     "execution_count": 63,
     "metadata": {},
     "output_type": "execute_result"
    }
   ],
   "source": [
    "acc(coeffs)"
   ]
  },
  {
   "cell_type": "markdown",
   "id": "e75f6d8f",
   "metadata": {
    "papermill": {
     "duration": 0.041303,
     "end_time": "2023-07-15T00:24:15.001243",
     "exception": false,
     "start_time": "2023-07-15T00:24:14.959940",
     "status": "completed"
    },
    "tags": []
   },
   "source": [
    "## REde neural"
   ]
  },
  {
   "cell_type": "code",
   "execution_count": 64,
   "id": "188fcad0",
   "metadata": {
    "execution": {
     "iopub.execute_input": "2023-07-15T00:24:15.086594Z",
     "iopub.status.busy": "2023-07-15T00:24:15.085610Z",
     "iopub.status.idle": "2023-07-15T00:24:15.092351Z",
     "shell.execute_reply": "2023-07-15T00:24:15.091520Z"
    },
    "papermill": {
     "duration": 0.051374,
     "end_time": "2023-07-15T00:24:15.094304",
     "exception": false,
     "start_time": "2023-07-15T00:24:15.042930",
     "status": "completed"
    },
    "tags": []
   },
   "outputs": [],
   "source": [
    "def init_coeffs(n_hidden=20):\n",
    "    layer1 = (torch.rand(n_coeff, n_hidden)-0.5)/n_hidden\n",
    "    layer2 = torch.rand(n_hidden, 1)-0.3\n",
    "    const = torch.rand(1)[0]\n",
    "    return layer1.requires_grad_(),layer2.requires_grad_(),const.requires_grad_()"
   ]
  },
  {
   "cell_type": "code",
   "execution_count": 65,
   "id": "89f9c6e0",
   "metadata": {
    "execution": {
     "iopub.execute_input": "2023-07-15T00:24:15.180079Z",
     "iopub.status.busy": "2023-07-15T00:24:15.179462Z",
     "iopub.status.idle": "2023-07-15T00:24:15.184551Z",
     "shell.execute_reply": "2023-07-15T00:24:15.183681Z"
    },
    "papermill": {
     "duration": 0.050524,
     "end_time": "2023-07-15T00:24:15.186497",
     "exception": false,
     "start_time": "2023-07-15T00:24:15.135973",
     "status": "completed"
    },
    "tags": []
   },
   "outputs": [],
   "source": [
    "import torch.nn.functional as F\n",
    "\n",
    "def calc_preds(coeffs, indeps):\n",
    "    l1,l2,const = coeffs\n",
    "    res = F.relu(indeps@l1)\n",
    "    res = res@l2 + const\n",
    "    return torch.sigmoid(res)"
   ]
  },
  {
   "cell_type": "code",
   "execution_count": 66,
   "id": "dc1e711c",
   "metadata": {
    "execution": {
     "iopub.execute_input": "2023-07-15T00:24:15.272252Z",
     "iopub.status.busy": "2023-07-15T00:24:15.271365Z",
     "iopub.status.idle": "2023-07-15T00:24:15.276673Z",
     "shell.execute_reply": "2023-07-15T00:24:15.275737Z"
    },
    "papermill": {
     "duration": 0.049766,
     "end_time": "2023-07-15T00:24:15.278621",
     "exception": false,
     "start_time": "2023-07-15T00:24:15.228855",
     "status": "completed"
    },
    "tags": []
   },
   "outputs": [],
   "source": [
    "def update_coeffs(coeffs, lr):\n",
    "    for layer in coeffs:\n",
    "        layer.sub_(layer.grad * lr)\n",
    "        layer.grad.zero_()"
   ]
  },
  {
   "cell_type": "code",
   "execution_count": 67,
   "id": "29ceb58a",
   "metadata": {
    "execution": {
     "iopub.execute_input": "2023-07-15T00:24:15.363551Z",
     "iopub.status.busy": "2023-07-15T00:24:15.362678Z",
     "iopub.status.idle": "2023-07-15T00:24:15.396809Z",
     "shell.execute_reply": "2023-07-15T00:24:15.395826Z"
    },
    "papermill": {
     "duration": 0.078825,
     "end_time": "2023-07-15T00:24:15.398814",
     "exception": false,
     "start_time": "2023-07-15T00:24:15.319989",
     "status": "completed"
    },
    "tags": []
   },
   "outputs": [
    {
     "name": "stdout",
     "output_type": "stream",
     "text": [
      "0.543; 0.532; 0.520; 0.505; 0.487; 0.466; 0.439; 0.407; 0.373; 0.343; 0.319; 0.301; 0.286; 0.274; 0.264; 0.256; 0.250; 0.245; 0.240; 0.237; 0.234; 0.231; 0.229; 0.227; 0.226; 0.224; 0.223; 0.222; 0.221; 0.220; "
     ]
    }
   ],
   "source": [
    "coeffs = train_model(lr=1.4)"
   ]
  },
  {
   "cell_type": "code",
   "execution_count": 68,
   "id": "5fc4fea1",
   "metadata": {
    "execution": {
     "iopub.execute_input": "2023-07-15T00:24:15.484015Z",
     "iopub.status.busy": "2023-07-15T00:24:15.483680Z",
     "iopub.status.idle": "2023-07-15T00:24:15.503245Z",
     "shell.execute_reply": "2023-07-15T00:24:15.502165Z"
    },
    "papermill": {
     "duration": 0.064596,
     "end_time": "2023-07-15T00:24:15.505176",
     "exception": false,
     "start_time": "2023-07-15T00:24:15.440580",
     "status": "completed"
    },
    "tags": []
   },
   "outputs": [
    {
     "name": "stdout",
     "output_type": "stream",
     "text": [
      "0.543; 0.400; 0.260; 0.390; 0.221; 0.211; 0.197; 0.195; 0.193; 0.193; 0.193; 0.193; 0.193; 0.193; 0.193; 0.193; 0.193; 0.192; 0.192; 0.192; 0.192; 0.192; 0.192; 0.192; 0.192; 0.192; 0.192; 0.192; 0.192; 0.192; "
     ]
    }
   ],
   "source": [
    "coeffs = train_model(lr=20)"
   ]
  },
  {
   "cell_type": "code",
   "execution_count": 69,
   "id": "771e2f77",
   "metadata": {
    "execution": {
     "iopub.execute_input": "2023-07-15T00:24:15.594055Z",
     "iopub.status.busy": "2023-07-15T00:24:15.593167Z",
     "iopub.status.idle": "2023-07-15T00:24:15.600586Z",
     "shell.execute_reply": "2023-07-15T00:24:15.599611Z"
    },
    "papermill": {
     "duration": 0.055505,
     "end_time": "2023-07-15T00:24:15.602560",
     "exception": false,
     "start_time": "2023-07-15T00:24:15.547055",
     "status": "completed"
    },
    "tags": []
   },
   "outputs": [
    {
     "data": {
      "text/plain": [
       "tensor(0.8258)"
      ]
     },
     "execution_count": 69,
     "metadata": {},
     "output_type": "execute_result"
    }
   ],
   "source": [
    "acc(coeffs)"
   ]
  },
  {
   "cell_type": "markdown",
   "id": "851af9ec",
   "metadata": {
    "papermill": {
     "duration": 0.042687,
     "end_time": "2023-07-15T00:24:15.687858",
     "exception": false,
     "start_time": "2023-07-15T00:24:15.645171",
     "status": "completed"
    },
    "tags": []
   },
   "source": [
    "## Deep learning -- Aprendizado profundo"
   ]
  },
  {
   "cell_type": "code",
   "execution_count": 70,
   "id": "b4b32ed6",
   "metadata": {
    "execution": {
     "iopub.execute_input": "2023-07-15T00:24:15.773195Z",
     "iopub.status.busy": "2023-07-15T00:24:15.772356Z",
     "iopub.status.idle": "2023-07-15T00:24:15.779687Z",
     "shell.execute_reply": "2023-07-15T00:24:15.778701Z"
    },
    "papermill": {
     "duration": 0.0518,
     "end_time": "2023-07-15T00:24:15.781605",
     "exception": false,
     "start_time": "2023-07-15T00:24:15.729805",
     "status": "completed"
    },
    "tags": []
   },
   "outputs": [],
   "source": [
    "def init_coeffs():\n",
    "    hiddens = [10, 10]  # <-- set this to the size of each hidden layer you want\n",
    "    sizes = [n_coeff] + hiddens + [1]\n",
    "    n = len(sizes)\n",
    "    layers = [(torch.rand(sizes[i], sizes[i+1])-0.3)/sizes[i+1]*4 for i in range(n-1)]\n",
    "    consts = [(torch.rand(1)[0]-0.5)*0.1 for i in range(n-1)]\n",
    "    for l in layers+consts: l.requires_grad_()\n",
    "    return layers,consts"
   ]
  },
  {
   "cell_type": "code",
   "execution_count": 71,
   "id": "c46817ce",
   "metadata": {
    "execution": {
     "iopub.execute_input": "2023-07-15T00:24:15.870222Z",
     "iopub.status.busy": "2023-07-15T00:24:15.869892Z",
     "iopub.status.idle": "2023-07-15T00:24:15.875853Z",
     "shell.execute_reply": "2023-07-15T00:24:15.874735Z"
    },
    "papermill": {
     "duration": 0.051213,
     "end_time": "2023-07-15T00:24:15.877862",
     "exception": false,
     "start_time": "2023-07-15T00:24:15.826649",
     "status": "completed"
    },
    "tags": []
   },
   "outputs": [],
   "source": [
    "import torch.nn.functional as F\n",
    "\n",
    "def calc_preds(coeffs, indeps):\n",
    "    layers,consts = coeffs\n",
    "    n = len(layers)\n",
    "    res = indeps\n",
    "    for i,l in enumerate(layers):\n",
    "        res = res@l + consts[i]\n",
    "        if i!=n-1: res = F.relu(res)\n",
    "    return torch.sigmoid(res)"
   ]
  },
  {
   "cell_type": "code",
   "execution_count": 72,
   "id": "efef7713",
   "metadata": {
    "execution": {
     "iopub.execute_input": "2023-07-15T00:24:15.963206Z",
     "iopub.status.busy": "2023-07-15T00:24:15.962422Z",
     "iopub.status.idle": "2023-07-15T00:24:15.967690Z",
     "shell.execute_reply": "2023-07-15T00:24:15.966897Z"
    },
    "papermill": {
     "duration": 0.050187,
     "end_time": "2023-07-15T00:24:15.969654",
     "exception": false,
     "start_time": "2023-07-15T00:24:15.919467",
     "status": "completed"
    },
    "tags": []
   },
   "outputs": [],
   "source": [
    "def update_coeffs(coeffs, lr):\n",
    "    layers,consts = coeffs\n",
    "    for layer in layers+consts:\n",
    "        layer.sub_(layer.grad * lr)\n",
    "        layer.grad.zero_()"
   ]
  },
  {
   "cell_type": "code",
   "execution_count": 73,
   "id": "2e8b4cfc",
   "metadata": {
    "execution": {
     "iopub.execute_input": "2023-07-15T00:24:16.056018Z",
     "iopub.status.busy": "2023-07-15T00:24:16.054391Z",
     "iopub.status.idle": "2023-07-15T00:24:16.081693Z",
     "shell.execute_reply": "2023-07-15T00:24:16.080678Z"
    },
    "papermill": {
     "duration": 0.072294,
     "end_time": "2023-07-15T00:24:16.083823",
     "exception": false,
     "start_time": "2023-07-15T00:24:16.011529",
     "status": "completed"
    },
    "tags": []
   },
   "outputs": [
    {
     "name": "stdout",
     "output_type": "stream",
     "text": [
      "0.521; 0.483; 0.427; 0.379; 0.379; 0.379; 0.379; 0.378; 0.378; 0.378; 0.378; 0.378; 0.378; 0.378; 0.378; 0.378; 0.377; 0.376; 0.371; 0.333; 0.239; 0.224; 0.208; 0.204; 0.203; 0.203; 0.207; 0.197; 0.196; 0.195; "
     ]
    }
   ],
   "source": [
    "coeffs = train_model(lr=4)"
   ]
  },
  {
   "cell_type": "code",
   "execution_count": 74,
   "id": "dcc12464",
   "metadata": {
    "execution": {
     "iopub.execute_input": "2023-07-15T00:24:16.171055Z",
     "iopub.status.busy": "2023-07-15T00:24:16.170134Z",
     "iopub.status.idle": "2023-07-15T00:24:16.179947Z",
     "shell.execute_reply": "2023-07-15T00:24:16.178854Z"
    },
    "papermill": {
     "duration": 0.056182,
     "end_time": "2023-07-15T00:24:16.182149",
     "exception": false,
     "start_time": "2023-07-15T00:24:16.125967",
     "status": "completed"
    },
    "tags": []
   },
   "outputs": [
    {
     "data": {
      "text/plain": [
       "tensor(0.8258)"
      ]
     },
     "execution_count": 74,
     "metadata": {},
     "output_type": "execute_result"
    }
   ],
   "source": [
    "acc(coeffs)"
   ]
  },
  {
   "cell_type": "markdown",
   "id": "4bd33292",
   "metadata": {
    "papermill": {
     "duration": 0.041718,
     "end_time": "2023-07-15T00:24:16.266945",
     "exception": false,
     "start_time": "2023-07-15T00:24:16.225227",
     "status": "completed"
    },
    "tags": []
   },
   "source": [
    "***\n",
    "Aluno: Heinrych Matheus Gomes Andrade \n",
    "\n",
    "Matricula: 201802726\n",
    "\n",
    "Fast ia 05\n",
    "***"
   ]
  },
  {
   "cell_type": "markdown",
   "id": "91d4160c",
   "metadata": {
    "papermill": {
     "duration": 0.04163,
     "end_time": "2023-07-15T00:24:16.350527",
     "exception": false,
     "start_time": "2023-07-15T00:24:16.308897",
     "status": "completed"
    },
    "tags": []
   },
   "source": [
    "# PARTE 02 como voce poderia usar um framework"
   ]
  },
  {
   "cell_type": "markdown",
   "id": "8334ff0e",
   "metadata": {
    "papermill": {
     "duration": 0.041718,
     "end_time": "2023-07-15T00:24:16.434049",
     "exception": false,
     "start_time": "2023-07-15T00:24:16.392331",
     "status": "completed"
    },
    "tags": []
   },
   "source": [
    "## introducao"
   ]
  },
  {
   "cell_type": "code",
   "execution_count": 75,
   "id": "d2d9c7d9",
   "metadata": {
    "execution": {
     "iopub.execute_input": "2023-07-15T00:24:16.563542Z",
     "iopub.status.busy": "2023-07-15T00:24:16.563193Z",
     "iopub.status.idle": "2023-07-15T00:24:29.085129Z",
     "shell.execute_reply": "2023-07-15T00:24:29.083834Z"
    },
    "papermill": {
     "duration": 12.568176,
     "end_time": "2023-07-15T00:24:29.087828",
     "exception": false,
     "start_time": "2023-07-15T00:24:16.519652",
     "status": "completed"
    },
    "tags": []
   },
   "outputs": [],
   "source": [
    "from pathlib import Path\n",
    "import os\n",
    "\n",
    "iskaggle = os.environ.get('KAGGLE_KERNEL_RUN_TYPE', '')\n",
    "if iskaggle:\n",
    "    path = Path('../input/titanic')\n",
    "    !pip install -Uqq fastai\n",
    "else:\n",
    "    import zipfile,kaggle\n",
    "    path = Path('titanic')\n",
    "    if not path.exists():\n",
    "        kaggle.api.competition_download_cli(str(path))\n",
    "        zipfile.ZipFile(f'{path}.zip').extractall(path)"
   ]
  },
  {
   "cell_type": "code",
   "execution_count": 76,
   "id": "105a2880",
   "metadata": {
    "execution": {
     "iopub.execute_input": "2023-07-15T00:24:29.176843Z",
     "iopub.status.busy": "2023-07-15T00:24:29.175895Z",
     "iopub.status.idle": "2023-07-15T00:24:29.225804Z",
     "shell.execute_reply": "2023-07-15T00:24:29.224714Z"
    },
    "papermill": {
     "duration": 0.096151,
     "end_time": "2023-07-15T00:24:29.227965",
     "exception": false,
     "start_time": "2023-07-15T00:24:29.131814",
     "status": "completed"
    },
    "tags": []
   },
   "outputs": [],
   "source": [
    "from fastai.tabular.all import *\n",
    "\n",
    "pd.options.display.float_format = '{:.2f}'.format\n",
    "set_seed(42)"
   ]
  },
  {
   "cell_type": "markdown",
   "id": "782355ef",
   "metadata": {
    "papermill": {
     "duration": 0.042183,
     "end_time": "2023-07-15T00:24:29.312735",
     "exception": false,
     "start_time": "2023-07-15T00:24:29.270552",
     "status": "completed"
    },
    "tags": []
   },
   "source": [
    "## preprocessamento"
   ]
  },
  {
   "cell_type": "code",
   "execution_count": 77,
   "id": "aacdde58",
   "metadata": {
    "execution": {
     "iopub.execute_input": "2023-07-15T00:24:29.399635Z",
     "iopub.status.busy": "2023-07-15T00:24:29.398663Z",
     "iopub.status.idle": "2023-07-15T00:24:29.411659Z",
     "shell.execute_reply": "2023-07-15T00:24:29.410803Z"
    },
    "papermill": {
     "duration": 0.058691,
     "end_time": "2023-07-15T00:24:29.413689",
     "exception": false,
     "start_time": "2023-07-15T00:24:29.354998",
     "status": "completed"
    },
    "tags": []
   },
   "outputs": [],
   "source": [
    "df = pd.read_csv(path/'train.csv')\n"
   ]
  },
  {
   "cell_type": "code",
   "execution_count": 78,
   "id": "b9b0b6c1",
   "metadata": {
    "execution": {
     "iopub.execute_input": "2023-07-15T00:24:29.500591Z",
     "iopub.status.busy": "2023-07-15T00:24:29.499733Z",
     "iopub.status.idle": "2023-07-15T00:24:29.522958Z",
     "shell.execute_reply": "2023-07-15T00:24:29.522121Z"
    },
    "papermill": {
     "duration": 0.06816,
     "end_time": "2023-07-15T00:24:29.524885",
     "exception": false,
     "start_time": "2023-07-15T00:24:29.456725",
     "status": "completed"
    },
    "tags": []
   },
   "outputs": [],
   "source": [
    "def add_features(df):\n",
    "    df['LogFare'] = np.log1p(df['Fare'])\n",
    "    df['Deck'] = df.Cabin.str[0].map(dict(A=\"ABC\", B=\"ABC\", C=\"ABC\", D=\"DE\", E=\"DE\", F=\"FG\", G=\"FG\"))\n",
    "    df['Family'] = df.SibSp+df.Parch\n",
    "    df['Alone'] = df.Family==0\n",
    "    df['TicketFreq'] = df.groupby('Ticket')['Ticket'].transform('count')\n",
    "    df['Title'] = df.Name.str.split(', ', expand=True)[1].str.split('.', expand=True)[0]\n",
    "    df['Title'] = df.Title.map(dict(Mr=\"Mr\",Miss=\"Miss\",Mrs=\"Mrs\",Master=\"Master\"))\n",
    "\n",
    "add_features(df)"
   ]
  },
  {
   "cell_type": "code",
   "execution_count": 79,
   "id": "482cd80d",
   "metadata": {
    "execution": {
     "iopub.execute_input": "2023-07-15T00:24:29.611375Z",
     "iopub.status.busy": "2023-07-15T00:24:29.610479Z",
     "iopub.status.idle": "2023-07-15T00:24:29.616553Z",
     "shell.execute_reply": "2023-07-15T00:24:29.615677Z"
    },
    "papermill": {
     "duration": 0.05119,
     "end_time": "2023-07-15T00:24:29.618616",
     "exception": false,
     "start_time": "2023-07-15T00:24:29.567426",
     "status": "completed"
    },
    "tags": []
   },
   "outputs": [],
   "source": [
    "splits = RandomSplitter(seed=42)(df) ## fazendo o split dos dados mantendo qual a semente para sempre gerar os mesmos"
   ]
  },
  {
   "cell_type": "code",
   "execution_count": 80,
   "id": "fa82f34b",
   "metadata": {
    "execution": {
     "iopub.execute_input": "2023-07-15T00:24:29.704934Z",
     "iopub.status.busy": "2023-07-15T00:24:29.704041Z",
     "iopub.status.idle": "2023-07-15T00:24:29.772301Z",
     "shell.execute_reply": "2023-07-15T00:24:29.771302Z"
    },
    "papermill": {
     "duration": 0.113835,
     "end_time": "2023-07-15T00:24:29.774683",
     "exception": false,
     "start_time": "2023-07-15T00:24:29.660848",
     "status": "completed"
    },
    "tags": []
   },
   "outputs": [],
   "source": [
    "dls = TabularPandas(\n",
    "    df, splits=splits,\n",
    "    procs = [Categorify, FillMissing, Normalize],\n",
    "    cat_names=[\"Sex\",\"Pclass\",\"Embarked\",\"Deck\", \"Title\"],\n",
    "    cont_names=['Age', 'SibSp', 'Parch', 'LogFare', 'Alone', 'TicketFreq', 'Family'],\n",
    "    y_names=\"Survived\", y_block = CategoryBlock(),\n",
    ").dataloaders(path=\".\") ## usando a função para montar o dado de treino"
   ]
  },
  {
   "cell_type": "markdown",
   "id": "2a3b96f7",
   "metadata": {
    "papermill": {
     "duration": 0.043649,
     "end_time": "2023-07-15T00:24:29.863575",
     "exception": false,
     "start_time": "2023-07-15T00:24:29.819926",
     "status": "completed"
    },
    "tags": []
   },
   "source": [
    "## Treinando o modelo"
   ]
  },
  {
   "cell_type": "code",
   "execution_count": 81,
   "id": "a73b3bab",
   "metadata": {
    "execution": {
     "iopub.execute_input": "2023-07-15T00:24:29.950494Z",
     "iopub.status.busy": "2023-07-15T00:24:29.950151Z",
     "iopub.status.idle": "2023-07-15T00:24:29.961992Z",
     "shell.execute_reply": "2023-07-15T00:24:29.961180Z"
    },
    "papermill": {
     "duration": 0.057404,
     "end_time": "2023-07-15T00:24:29.963924",
     "exception": false,
     "start_time": "2023-07-15T00:24:29.906520",
     "status": "completed"
    },
    "tags": []
   },
   "outputs": [],
   "source": [
    "learn = tabular_learner(dls, metrics=accuracy, layers=[10,10])"
   ]
  },
  {
   "cell_type": "code",
   "execution_count": 82,
   "id": "150f732c",
   "metadata": {
    "execution": {
     "iopub.execute_input": "2023-07-15T00:24:30.049198Z",
     "iopub.status.busy": "2023-07-15T00:24:30.048526Z",
     "iopub.status.idle": "2023-07-15T00:24:37.217597Z",
     "shell.execute_reply": "2023-07-15T00:24:37.216636Z"
    },
    "papermill": {
     "duration": 7.214002,
     "end_time": "2023-07-15T00:24:37.219867",
     "exception": false,
     "start_time": "2023-07-15T00:24:30.005865",
     "status": "completed"
    },
    "tags": []
   },
   "outputs": [
    {
     "data": {
      "text/html": [
       "\n",
       "<style>\n",
       "    /* Turns off some styling */\n",
       "    progress {\n",
       "        /* gets rid of default border in Firefox and Opera. */\n",
       "        border: none;\n",
       "        /* Needs to be in here for Safari polyfill so background images work as expected. */\n",
       "        background-size: auto;\n",
       "    }\n",
       "    progress:not([value]), progress:not([value])::-webkit-progress-bar {\n",
       "        background: repeating-linear-gradient(45deg, #7e7e7e, #7e7e7e 10px, #5c5c5c 10px, #5c5c5c 20px);\n",
       "    }\n",
       "    .progress-bar-interrupted, .progress-bar-interrupted::-webkit-progress-bar {\n",
       "        background: #F44336;\n",
       "    }\n",
       "</style>\n"
      ],
      "text/plain": [
       "<IPython.core.display.HTML object>"
      ]
     },
     "metadata": {},
     "output_type": "display_data"
    },
    {
     "data": {
      "text/html": [],
      "text/plain": [
       "<IPython.core.display.HTML object>"
      ]
     },
     "metadata": {},
     "output_type": "display_data"
    },
    {
     "data": {
      "text/plain": [
       "SuggestedLRs(slide=0.05754399299621582, valley=0.013182567432522774)"
      ]
     },
     "execution_count": 82,
     "metadata": {},
     "output_type": "execute_result"
    },
    {
     "data": {
      "image/png": "[encoded data removed]",
      "text/plain": [
       "<Figure size 640x480 with 1 Axes>"
      ]
     },
     "metadata": {},
     "output_type": "display_data"
    }
   ],
   "source": [
    "learn.lr_find(suggest_funcs=(slide, valley))"
   ]
  },
  {
   "cell_type": "code",
   "execution_count": 83,
   "id": "6c3d0295",
   "metadata": {
    "execution": {
     "iopub.execute_input": "2023-07-15T00:24:37.309985Z",
     "iopub.status.busy": "2023-07-15T00:24:37.308332Z",
     "iopub.status.idle": "2023-07-15T00:24:39.766560Z",
     "shell.execute_reply": "2023-07-15T00:24:39.765485Z"
    },
    "papermill": {
     "duration": 2.504797,
     "end_time": "2023-07-15T00:24:39.768950",
     "exception": false,
     "start_time": "2023-07-15T00:24:37.264153",
     "status": "completed"
    },
    "tags": []
   },
   "outputs": [
    {
     "data": {
      "text/html": [
       "\n",
       "<style>\n",
       "    /* Turns off some styling */\n",
       "    progress {\n",
       "        /* gets rid of default border in Firefox and Opera. */\n",
       "        border: none;\n",
       "        /* Needs to be in here for Safari polyfill so background images work as expected. */\n",
       "        background-size: auto;\n",
       "    }\n",
       "    progress:not([value]), progress:not([value])::-webkit-progress-bar {\n",
       "        background: repeating-linear-gradient(45deg, #7e7e7e, #7e7e7e 10px, #5c5c5c 10px, #5c5c5c 20px);\n",
       "    }\n",
       "    .progress-bar-interrupted, .progress-bar-interrupted::-webkit-progress-bar {\n",
       "        background: #F44336;\n",
       "    }\n",
       "</style>\n"
      ],
      "text/plain": [
       "<IPython.core.display.HTML object>"
      ]
     },
     "metadata": {},
     "output_type": "display_data"
    },
    {
     "data": {
      "text/html": [
       "<table border=\"1\" class=\"dataframe\">\n",
       "  <thead>\n",
       "    <tr style=\"text-align: left;\">\n",
       "      <th>epoch</th>\n",
       "      <th>train_loss</th>\n",
       "      <th>valid_loss</th>\n",
       "      <th>accuracy</th>\n",
       "      <th>time</th>\n",
       "    </tr>\n",
       "  </thead>\n",
       "  <tbody>\n",
       "    <tr>\n",
       "      <td>0</td>\n",
       "      <td>0.577146</td>\n",
       "      <td>0.582949</td>\n",
       "      <td>0.606742</td>\n",
       "      <td>00:00</td>\n",
       "    </tr>\n",
       "    <tr>\n",
       "      <td>1</td>\n",
       "      <td>0.510818</td>\n",
       "      <td>0.498523</td>\n",
       "      <td>0.786517</td>\n",
       "      <td>00:00</td>\n",
       "    </tr>\n",
       "    <tr>\n",
       "      <td>2</td>\n",
       "      <td>0.467023</td>\n",
       "      <td>0.459841</td>\n",
       "      <td>0.797753</td>\n",
       "      <td>00:00</td>\n",
       "    </tr>\n",
       "    <tr>\n",
       "      <td>3</td>\n",
       "      <td>0.439957</td>\n",
       "      <td>0.468547</td>\n",
       "      <td>0.797753</td>\n",
       "      <td>00:00</td>\n",
       "    </tr>\n",
       "    <tr>\n",
       "      <td>4</td>\n",
       "      <td>0.427232</td>\n",
       "      <td>0.415261</td>\n",
       "      <td>0.825843</td>\n",
       "      <td>00:00</td>\n",
       "    </tr>\n",
       "    <tr>\n",
       "      <td>5</td>\n",
       "      <td>0.416340</td>\n",
       "      <td>0.437362</td>\n",
       "      <td>0.820225</td>\n",
       "      <td>00:00</td>\n",
       "    </tr>\n",
       "    <tr>\n",
       "      <td>6</td>\n",
       "      <td>0.408347</td>\n",
       "      <td>0.413253</td>\n",
       "      <td>0.848315</td>\n",
       "      <td>00:00</td>\n",
       "    </tr>\n",
       "    <tr>\n",
       "      <td>7</td>\n",
       "      <td>0.400442</td>\n",
       "      <td>0.406075</td>\n",
       "      <td>0.803371</td>\n",
       "      <td>00:00</td>\n",
       "    </tr>\n",
       "    <tr>\n",
       "      <td>8</td>\n",
       "      <td>0.397265</td>\n",
       "      <td>0.443730</td>\n",
       "      <td>0.820225</td>\n",
       "      <td>00:00</td>\n",
       "    </tr>\n",
       "    <tr>\n",
       "      <td>9</td>\n",
       "      <td>0.392389</td>\n",
       "      <td>0.432267</td>\n",
       "      <td>0.831461</td>\n",
       "      <td>00:00</td>\n",
       "    </tr>\n",
       "    <tr>\n",
       "      <td>10</td>\n",
       "      <td>0.389983</td>\n",
       "      <td>0.415383</td>\n",
       "      <td>0.831461</td>\n",
       "      <td>00:00</td>\n",
       "    </tr>\n",
       "    <tr>\n",
       "      <td>11</td>\n",
       "      <td>0.386057</td>\n",
       "      <td>0.425319</td>\n",
       "      <td>0.820225</td>\n",
       "      <td>00:00</td>\n",
       "    </tr>\n",
       "    <tr>\n",
       "      <td>12</td>\n",
       "      <td>0.382527</td>\n",
       "      <td>0.435054</td>\n",
       "      <td>0.831461</td>\n",
       "      <td>00:00</td>\n",
       "    </tr>\n",
       "    <tr>\n",
       "      <td>13</td>\n",
       "      <td>0.378309</td>\n",
       "      <td>0.429746</td>\n",
       "      <td>0.831461</td>\n",
       "      <td>00:00</td>\n",
       "    </tr>\n",
       "    <tr>\n",
       "      <td>14</td>\n",
       "      <td>0.374304</td>\n",
       "      <td>0.419489</td>\n",
       "      <td>0.825843</td>\n",
       "      <td>00:00</td>\n",
       "    </tr>\n",
       "    <tr>\n",
       "      <td>15</td>\n",
       "      <td>0.372190</td>\n",
       "      <td>0.425431</td>\n",
       "      <td>0.831461</td>\n",
       "      <td>00:00</td>\n",
       "    </tr>\n",
       "  </tbody>\n",
       "</table>"
      ],
      "text/plain": [
       "<IPython.core.display.HTML object>"
      ]
     },
     "metadata": {},
     "output_type": "display_data"
    }
   ],
   "source": [
    "learn.fit(16, lr=0.03)"
   ]
  },
  {
   "cell_type": "markdown",
   "id": "5fae5061",
   "metadata": {
    "papermill": {
     "duration": 0.043345,
     "end_time": "2023-07-15T00:24:39.859945",
     "exception": false,
     "start_time": "2023-07-15T00:24:39.816600",
     "status": "completed"
    },
    "tags": []
   },
   "source": [
    "## subindo os resultados no kaggle"
   ]
  },
  {
   "cell_type": "code",
   "execution_count": 84,
   "id": "10e830a0",
   "metadata": {
    "execution": {
     "iopub.execute_input": "2023-07-15T00:24:39.950587Z",
     "iopub.status.busy": "2023-07-15T00:24:39.949680Z",
     "iopub.status.idle": "2023-07-15T00:24:39.968843Z",
     "shell.execute_reply": "2023-07-15T00:24:39.967973Z"
    },
    "papermill": {
     "duration": 0.068084,
     "end_time": "2023-07-15T00:24:39.970796",
     "exception": false,
     "start_time": "2023-07-15T00:24:39.902712",
     "status": "completed"
    },
    "tags": []
   },
   "outputs": [],
   "source": [
    "tst_df = pd.read_csv(path/'test.csv')\n",
    "tst_df['Fare'] = tst_df.Fare.fillna(0)\n",
    "add_features(tst_df)"
   ]
  },
  {
   "cell_type": "code",
   "execution_count": 85,
   "id": "ec3ecbaf",
   "metadata": {
    "execution": {
     "iopub.execute_input": "2023-07-15T00:24:40.059740Z",
     "iopub.status.busy": "2023-07-15T00:24:40.058853Z",
     "iopub.status.idle": "2023-07-15T00:24:40.139888Z",
     "shell.execute_reply": "2023-07-15T00:24:40.139034Z"
    },
    "papermill": {
     "duration": 0.12674,
     "end_time": "2023-07-15T00:24:40.141878",
     "exception": false,
     "start_time": "2023-07-15T00:24:40.015138",
     "status": "completed"
    },
    "tags": []
   },
   "outputs": [
    {
     "data": {
      "text/html": [
       "\n",
       "<style>\n",
       "    /* Turns off some styling */\n",
       "    progress {\n",
       "        /* gets rid of default border in Firefox and Opera. */\n",
       "        border: none;\n",
       "        /* Needs to be in here for Safari polyfill so background images work as expected. */\n",
       "        background-size: auto;\n",
       "    }\n",
       "    progress:not([value]), progress:not([value])::-webkit-progress-bar {\n",
       "        background: repeating-linear-gradient(45deg, #7e7e7e, #7e7e7e 10px, #5c5c5c 10px, #5c5c5c 20px);\n",
       "    }\n",
       "    .progress-bar-interrupted, .progress-bar-interrupted::-webkit-progress-bar {\n",
       "        background: #F44336;\n",
       "    }\n",
       "</style>\n"
      ],
      "text/plain": [
       "<IPython.core.display.HTML object>"
      ]
     },
     "metadata": {},
     "output_type": "display_data"
    },
    {
     "data": {
      "text/html": [],
      "text/plain": [
       "<IPython.core.display.HTML object>"
      ]
     },
     "metadata": {},
     "output_type": "display_data"
    }
   ],
   "source": [
    "tst_dl = learn.dls.test_dl(tst_df)\n",
    "preds,_ = learn.get_preds(dl=tst_dl)"
   ]
  },
  {
   "cell_type": "code",
   "execution_count": 86,
   "id": "cb0e95e4",
   "metadata": {
    "execution": {
     "iopub.execute_input": "2023-07-15T00:24:40.232597Z",
     "iopub.status.busy": "2023-07-15T00:24:40.231528Z",
     "iopub.status.idle": "2023-07-15T00:24:40.241015Z",
     "shell.execute_reply": "2023-07-15T00:24:40.240129Z"
    },
    "papermill": {
     "duration": 0.056503,
     "end_time": "2023-07-15T00:24:40.243019",
     "exception": false,
     "start_time": "2023-07-15T00:24:40.186516",
     "status": "completed"
    },
    "tags": []
   },
   "outputs": [],
   "source": [
    "tst_df['Survived'] = (preds[:,1]>0.5).int()\n",
    "sub_df = tst_df[['PassengerId','Survived']]\n",
    "sub_df.to_csv('sub.csv', index=False)"
   ]
  },
  {
   "cell_type": "code",
   "execution_count": 87,
   "id": "245f233f",
   "metadata": {
    "execution": {
     "iopub.execute_input": "2023-07-15T00:24:40.331964Z",
     "iopub.status.busy": "2023-07-15T00:24:40.331125Z",
     "iopub.status.idle": "2023-07-15T00:24:41.306958Z",
     "shell.execute_reply": "2023-07-15T00:24:41.305776Z"
    },
    "papermill": {
     "duration": 1.02306,
     "end_time": "2023-07-15T00:24:41.309387",
     "exception": false,
     "start_time": "2023-07-15T00:24:40.286327",
     "status": "completed"
    },
    "tags": []
   },
   "outputs": [
    {
     "name": "stdout",
     "output_type": "stream",
     "text": [
      "PassengerId,Survived\r\n",
      "892,0\r\n",
      "893,0\r\n",
      "894,0\r\n",
      "895,0\r\n",
      "896,1\r\n",
      "897,0\r\n",
      "898,1\r\n",
      "899,0\r\n",
      "900,1\r\n"
     ]
    }
   ],
   "source": [
    "!head sub.csv"
   ]
  },
  {
   "cell_type": "code",
   "execution_count": 88,
   "id": "b3aa7c0b",
   "metadata": {
    "execution": {
     "iopub.execute_input": "2023-07-15T00:24:41.401201Z",
     "iopub.status.busy": "2023-07-15T00:24:41.400844Z",
     "iopub.status.idle": "2023-07-15T00:24:41.407217Z",
     "shell.execute_reply": "2023-07-15T00:24:41.406244Z"
    },
    "papermill": {
     "duration": 0.054742,
     "end_time": "2023-07-15T00:24:41.409202",
     "exception": false,
     "start_time": "2023-07-15T00:24:41.354460",
     "status": "completed"
    },
    "tags": []
   },
   "outputs": [],
   "source": [
    "def ensemble():\n",
    "    learn = tabular_learner(dls, metrics=accuracy, layers=[10,10])\n",
    "    with learn.no_bar(),learn.no_logging(): learn.fit(16, lr=0.03)\n",
    "    return learn.get_preds(dl=tst_dl)[0]"
   ]
  },
  {
   "cell_type": "code",
   "execution_count": 89,
   "id": "345b7bba",
   "metadata": {
    "execution": {
     "iopub.execute_input": "2023-07-15T00:24:41.500361Z",
     "iopub.status.busy": "2023-07-15T00:24:41.499539Z",
     "iopub.status.idle": "2023-07-15T00:24:51.306849Z",
     "shell.execute_reply": "2023-07-15T00:24:51.305825Z"
    },
    "papermill": {
     "duration": 9.85478,
     "end_time": "2023-07-15T00:24:51.308981",
     "exception": false,
     "start_time": "2023-07-15T00:24:41.454201",
     "status": "completed"
    },
    "tags": []
   },
   "outputs": [
    {
     "data": {
      "text/html": [
       "\n",
       "<style>\n",
       "    /* Turns off some styling */\n",
       "    progress {\n",
       "        /* gets rid of default border in Firefox and Opera. */\n",
       "        border: none;\n",
       "        /* Needs to be in here for Safari polyfill so background images work as expected. */\n",
       "        background-size: auto;\n",
       "    }\n",
       "    progress:not([value]), progress:not([value])::-webkit-progress-bar {\n",
       "        background: repeating-linear-gradient(45deg, #7e7e7e, #7e7e7e 10px, #5c5c5c 10px, #5c5c5c 20px);\n",
       "    }\n",
       "    .progress-bar-interrupted, .progress-bar-interrupted::-webkit-progress-bar {\n",
       "        background: #F44336;\n",
       "    }\n",
       "</style>\n"
      ],
      "text/plain": [
       "<IPython.core.display.HTML object>"
      ]
     },
     "metadata": {},
     "output_type": "display_data"
    },
    {
     "data": {
      "text/html": [],
      "text/plain": [
       "<IPython.core.display.HTML object>"
      ]
     },
     "metadata": {},
     "output_type": "display_data"
    },
    {
     "data": {
      "text/html": [
       "\n",
       "<style>\n",
       "    /* Turns off some styling */\n",
       "    progress {\n",
       "        /* gets rid of default border in Firefox and Opera. */\n",
       "        border: none;\n",
       "        /* Needs to be in here for Safari polyfill so background images work as expected. */\n",
       "        background-size: auto;\n",
       "    }\n",
       "    progress:not([value]), progress:not([value])::-webkit-progress-bar {\n",
       "        background: repeating-linear-gradient(45deg, #7e7e7e, #7e7e7e 10px, #5c5c5c 10px, #5c5c5c 20px);\n",
       "    }\n",
       "    .progress-bar-interrupted, .progress-bar-interrupted::-webkit-progress-bar {\n",
       "        background: #F44336;\n",
       "    }\n",
       "</style>\n"
      ],
      "text/plain": [
       "<IPython.core.display.HTML object>"
      ]
     },
     "metadata": {},
     "output_type": "display_data"
    },
    {
     "data": {
      "text/html": [],
      "text/plain": [
       "<IPython.core.display.HTML object>"
      ]
     },
     "metadata": {},
     "output_type": "display_data"
    },
    {
     "data": {
      "text/html": [
       "\n",
       "<style>\n",
       "    /* Turns off some styling */\n",
       "    progress {\n",
       "        /* gets rid of default border in Firefox and Opera. */\n",
       "        border: none;\n",
       "        /* Needs to be in here for Safari polyfill so background images work as expected. */\n",
       "        background-size: auto;\n",
       "    }\n",
       "    progress:not([value]), progress:not([value])::-webkit-progress-bar {\n",
       "        background: repeating-linear-gradient(45deg, #7e7e7e, #7e7e7e 10px, #5c5c5c 10px, #5c5c5c 20px);\n",
       "    }\n",
       "    .progress-bar-interrupted, .progress-bar-interrupted::-webkit-progress-bar {\n",
       "        background: #F44336;\n",
       "    }\n",
       "</style>\n"
      ],
      "text/plain": [
       "<IPython.core.display.HTML object>"
      ]
     },
     "metadata": {},
     "output_type": "display_data"
    },
    {
     "data": {
      "text/html": [],
      "text/plain": [
       "<IPython.core.display.HTML object>"
      ]
     },
     "metadata": {},
     "output_type": "display_data"
    },
    {
     "data": {
      "text/html": [
       "\n",
       "<style>\n",
       "    /* Turns off some styling */\n",
       "    progress {\n",
       "        /* gets rid of default border in Firefox and Opera. */\n",
       "        border: none;\n",
       "        /* Needs to be in here for Safari polyfill so background images work as expected. */\n",
       "        background-size: auto;\n",
       "    }\n",
       "    progress:not([value]), progress:not([value])::-webkit-progress-bar {\n",
       "        background: repeating-linear-gradient(45deg, #7e7e7e, #7e7e7e 10px, #5c5c5c 10px, #5c5c5c 20px);\n",
       "    }\n",
       "    .progress-bar-interrupted, .progress-bar-interrupted::-webkit-progress-bar {\n",
       "        background: #F44336;\n",
       "    }\n",
       "</style>\n"
      ],
      "text/plain": [
       "<IPython.core.display.HTML object>"
      ]
     },
     "metadata": {},
     "output_type": "display_data"
    },
    {
     "data": {
      "text/html": [],
      "text/plain": [
       "<IPython.core.display.HTML object>"
      ]
     },
     "metadata": {},
     "output_type": "display_data"
    },
    {
     "data": {
      "text/html": [
       "\n",
       "<style>\n",
       "    /* Turns off some styling */\n",
       "    progress {\n",
       "        /* gets rid of default border in Firefox and Opera. */\n",
       "        border: none;\n",
       "        /* Needs to be in here for Safari polyfill so background images work as expected. */\n",
       "        background-size: auto;\n",
       "    }\n",
       "    progress:not([value]), progress:not([value])::-webkit-progress-bar {\n",
       "        background: repeating-linear-gradient(45deg, #7e7e7e, #7e7e7e 10px, #5c5c5c 10px, #5c5c5c 20px);\n",
       "    }\n",
       "    .progress-bar-interrupted, .progress-bar-interrupted::-webkit-progress-bar {\n",
       "        background: #F44336;\n",
       "    }\n",
       "</style>\n"
      ],
      "text/plain": [
       "<IPython.core.display.HTML object>"
      ]
     },
     "metadata": {},
     "output_type": "display_data"
    },
    {
     "data": {
      "text/html": [],
      "text/plain": [
       "<IPython.core.display.HTML object>"
      ]
     },
     "metadata": {},
     "output_type": "display_data"
    }
   ],
   "source": [
    "learns = [ensemble() for _ in range(5)]\n",
    "ens_preds = torch.stack(learns).mean(0)"
   ]
  },
  {
   "cell_type": "code",
   "execution_count": 90,
   "id": "6c5ae6cb",
   "metadata": {
    "execution": {
     "iopub.execute_input": "2023-07-15T00:24:51.403109Z",
     "iopub.status.busy": "2023-07-15T00:24:51.402406Z",
     "iopub.status.idle": "2023-07-15T00:24:51.411607Z",
     "shell.execute_reply": "2023-07-15T00:24:51.410787Z"
    },
    "papermill": {
     "duration": 0.058264,
     "end_time": "2023-07-15T00:24:51.413543",
     "exception": false,
     "start_time": "2023-07-15T00:24:51.355279",
     "status": "completed"
    },
    "tags": []
   },
   "outputs": [],
   "source": [
    "tst_df['Survived'] = (ens_preds[:,1]>0.5).int()\n",
    "sub_df = tst_df[['PassengerId','Survived']]\n",
    "sub_df.to_csv('ens_sub.csv', index=False)"
   ]
  },
  {
   "cell_type": "markdown",
   "id": "0445a852",
   "metadata": {
    "papermill": {
     "duration": 0.044438,
     "end_time": "2023-07-15T00:24:51.503573",
     "exception": false,
     "start_time": "2023-07-15T00:24:51.459135",
     "status": "completed"
    },
    "tags": []
   },
   "source": [
    "***\n",
    "Aluno: Heinrych Matheus Gomes Andrade \n",
    "\n",
    "Matricula: 201802726\n",
    "\n",
    "Fast ia 05\n",
    "***"
   ]
  },
  {
   "cell_type": "markdown",
   "id": "a30e04c6",
   "metadata": {
    "papermill": {
     "duration": 0.044624,
     "end_time": "2023-07-15T00:24:51.592866",
     "exception": false,
     "start_time": "2023-07-15T00:24:51.548242",
     "status": "completed"
    },
    "tags": []
   },
   "source": [
    "# PARTE 03 Como o random forest realmente trabalha"
   ]
  },
  {
   "cell_type": "markdown",
   "id": "6b485458",
   "metadata": {
    "papermill": {
     "duration": 0.044625,
     "end_time": "2023-07-15T00:24:51.682448",
     "exception": false,
     "start_time": "2023-07-15T00:24:51.637823",
     "status": "completed"
    },
    "tags": []
   },
   "source": [
    "## Introdução e configuração"
   ]
  },
  {
   "cell_type": "code",
   "execution_count": 91,
   "id": "8b2896db",
   "metadata": {
    "execution": {
     "iopub.execute_input": "2023-07-15T00:24:51.774526Z",
     "iopub.status.busy": "2023-07-15T00:24:51.773511Z",
     "iopub.status.idle": "2023-07-15T00:24:51.779153Z",
     "shell.execute_reply": "2023-07-15T00:24:51.778235Z"
    },
    "papermill": {
     "duration": 0.053756,
     "end_time": "2023-07-15T00:24:51.781130",
     "exception": false,
     "start_time": "2023-07-15T00:24:51.727374",
     "status": "completed"
    },
    "tags": []
   },
   "outputs": [],
   "source": [
    "from fastai.imports import *\n",
    "np.set_printoptions(linewidth=130)"
   ]
  },
  {
   "cell_type": "code",
   "execution_count": 92,
   "id": "5ea534f6",
   "metadata": {
    "execution": {
     "iopub.execute_input": "2023-07-15T00:24:51.873405Z",
     "iopub.status.busy": "2023-07-15T00:24:51.872538Z",
     "iopub.status.idle": "2023-07-15T00:24:51.898654Z",
     "shell.execute_reply": "2023-07-15T00:24:51.897781Z"
    },
    "papermill": {
     "duration": 0.073979,
     "end_time": "2023-07-15T00:24:51.900729",
     "exception": false,
     "start_time": "2023-07-15T00:24:51.826750",
     "status": "completed"
    },
    "tags": []
   },
   "outputs": [],
   "source": [
    "import os\n",
    "iskaggle = os.environ.get('KAGGLE_KERNEL_RUN_TYPE', '')\n",
    "\n",
    "if iskaggle: path = Path('../input/titanic')\n",
    "else:\n",
    "    import zipfile,kaggle\n",
    "    path = Path('titanic')\n",
    "    kaggle.api.competition_download_cli(str(path))\n",
    "    zipfile.ZipFile(f'{path}.zip').extractall(path)\n",
    "\n",
    "df = pd.read_csv(path/'train.csv')\n",
    "tst_df = pd.read_csv(path/'test.csv')\n",
    "modes = df.mode().iloc[0]"
   ]
  },
  {
   "cell_type": "markdown",
   "id": "d2732d1b",
   "metadata": {
    "papermill": {
     "duration": 0.046927,
     "end_time": "2023-07-15T00:24:51.997787",
     "exception": false,
     "start_time": "2023-07-15T00:24:51.950860",
     "status": "completed"
    },
    "tags": []
   },
   "source": [
    "## Organizando o dataset"
   ]
  },
  {
   "cell_type": "code",
   "execution_count": 93,
   "id": "b3e5796d",
   "metadata": {
    "execution": {
     "iopub.execute_input": "2023-07-15T00:24:52.090601Z",
     "iopub.status.busy": "2023-07-15T00:24:52.089676Z",
     "iopub.status.idle": "2023-07-15T00:24:52.112600Z",
     "shell.execute_reply": "2023-07-15T00:24:52.111746Z"
    },
    "papermill": {
     "duration": 0.071374,
     "end_time": "2023-07-15T00:24:52.114645",
     "exception": false,
     "start_time": "2023-07-15T00:24:52.043271",
     "status": "completed"
    },
    "tags": []
   },
   "outputs": [],
   "source": [
    "def proc_data(df):\n",
    "    df['Fare'] = df.Fare.fillna(0)\n",
    "    df.fillna(modes, inplace=True)\n",
    "    df['LogFare'] = np.log1p(df['Fare'])\n",
    "    df['Embarked'] = pd.Categorical(df.Embarked)\n",
    "    df['Sex'] = pd.Categorical(df.Sex)\n",
    "\n",
    "proc_data(df)\n",
    "proc_data(tst_df)"
   ]
  },
  {
   "cell_type": "code",
   "execution_count": 94,
   "id": "bd7ecc86",
   "metadata": {
    "execution": {
     "iopub.execute_input": "2023-07-15T00:24:52.208013Z",
     "iopub.status.busy": "2023-07-15T00:24:52.206996Z",
     "iopub.status.idle": "2023-07-15T00:24:52.212204Z",
     "shell.execute_reply": "2023-07-15T00:24:52.211347Z"
    },
    "papermill": {
     "duration": 0.054101,
     "end_time": "2023-07-15T00:24:52.214218",
     "exception": false,
     "start_time": "2023-07-15T00:24:52.160117",
     "status": "completed"
    },
    "tags": []
   },
   "outputs": [],
   "source": [
    "cats=[\"Sex\",\"Embarked\"]\n",
    "conts=['Age', 'SibSp', 'Parch', 'LogFare',\"Pclass\"]\n",
    "dep=\"Survived\""
   ]
  },
  {
   "cell_type": "code",
   "execution_count": 95,
   "id": "8280860e",
   "metadata": {
    "execution": {
     "iopub.execute_input": "2023-07-15T00:24:52.305823Z",
     "iopub.status.busy": "2023-07-15T00:24:52.304955Z",
     "iopub.status.idle": "2023-07-15T00:24:52.313104Z",
     "shell.execute_reply": "2023-07-15T00:24:52.312157Z"
    },
    "papermill": {
     "duration": 0.056075,
     "end_time": "2023-07-15T00:24:52.315080",
     "exception": false,
     "start_time": "2023-07-15T00:24:52.259005",
     "status": "completed"
    },
    "tags": []
   },
   "outputs": [
    {
     "data": {
      "text/plain": [
       "0      male\n",
       "1    female\n",
       "2    female\n",
       "3    female\n",
       "4      male\n",
       "Name: Sex, dtype: category\n",
       "Categories (2, object): ['female', 'male']"
      ]
     },
     "execution_count": 95,
     "metadata": {},
     "output_type": "execute_result"
    }
   ],
   "source": [
    "df.Sex.head()\n"
   ]
  },
  {
   "cell_type": "code",
   "execution_count": 96,
   "id": "f2a5de2e",
   "metadata": {
    "execution": {
     "iopub.execute_input": "2023-07-15T00:24:52.406828Z",
     "iopub.status.busy": "2023-07-15T00:24:52.405990Z",
     "iopub.status.idle": "2023-07-15T00:24:52.413449Z",
     "shell.execute_reply": "2023-07-15T00:24:52.412500Z"
    },
    "papermill": {
     "duration": 0.055237,
     "end_time": "2023-07-15T00:24:52.415422",
     "exception": false,
     "start_time": "2023-07-15T00:24:52.360185",
     "status": "completed"
    },
    "tags": []
   },
   "outputs": [
    {
     "data": {
      "text/plain": [
       "0    1\n",
       "1    0\n",
       "2    0\n",
       "3    0\n",
       "4    1\n",
       "dtype: int8"
      ]
     },
     "execution_count": 96,
     "metadata": {},
     "output_type": "execute_result"
    }
   ],
   "source": [
    "df.Sex.cat.codes.head()"
   ]
  },
  {
   "cell_type": "markdown",
   "id": "bcac02b3",
   "metadata": {
    "papermill": {
     "duration": 0.046744,
     "end_time": "2023-07-15T00:24:52.509027",
     "exception": false,
     "start_time": "2023-07-15T00:24:52.462283",
     "status": "completed"
    },
    "tags": []
   },
   "source": [
    "## Split dos graficos"
   ]
  },
  {
   "cell_type": "code",
   "execution_count": 97,
   "id": "633ceacd",
   "metadata": {
    "execution": {
     "iopub.execute_input": "2023-07-15T00:24:52.604932Z",
     "iopub.status.busy": "2023-07-15T00:24:52.603916Z",
     "iopub.status.idle": "2023-07-15T00:24:53.388633Z",
     "shell.execute_reply": "2023-07-15T00:24:53.387701Z"
    },
    "papermill": {
     "duration": 0.835378,
     "end_time": "2023-07-15T00:24:53.390748",
     "exception": false,
     "start_time": "2023-07-15T00:24:52.555370",
     "status": "completed"
    },
    "tags": []
   },
   "outputs": [
    {
     "data": {
      "image/png": "[encoded data removed]",
      "text/plain": [
       "<Figure size 1100x500 with 2 Axes>"
      ]
     },
     "metadata": {},
     "output_type": "display_data"
    }
   ],
   "source": [
    "import seaborn as sns\n",
    "\n",
    "fig,axs = plt.subplots(1,2, figsize=(11,5))\n",
    "sns.barplot(data=df, y=dep, x=\"Sex\", ax=axs[0]).set(title=\"Survival rate\")\n",
    "sns.countplot(data=df, x=\"Sex\", ax=axs[1]).set(title=\"Histogram\");"
   ]
  },
  {
   "cell_type": "code",
   "execution_count": 98,
   "id": "fd53b1d5",
   "metadata": {
    "execution": {
     "iopub.execute_input": "2023-07-15T00:24:53.485093Z",
     "iopub.status.busy": "2023-07-15T00:24:53.484192Z",
     "iopub.status.idle": "2023-07-15T00:24:53.495849Z",
     "shell.execute_reply": "2023-07-15T00:24:53.494973Z"
    },
    "papermill": {
     "duration": 0.060824,
     "end_time": "2023-07-15T00:24:53.497858",
     "exception": false,
     "start_time": "2023-07-15T00:24:53.437034",
     "status": "completed"
    },
    "tags": []
   },
   "outputs": [],
   "source": [
    "from numpy import random\n",
    "from sklearn.model_selection import train_test_split\n",
    "\n",
    "random.seed(42)\n",
    "trn_df,val_df = train_test_split(df, test_size=0.25)\n",
    "trn_df[cats] = trn_df[cats].apply(lambda x: x.cat.codes)\n",
    "val_df[cats] = val_df[cats].apply(lambda x: x.cat.codes)"
   ]
  },
  {
   "cell_type": "code",
   "execution_count": 99,
   "id": "1c72d9c4",
   "metadata": {
    "execution": {
     "iopub.execute_input": "2023-07-15T00:24:53.593371Z",
     "iopub.status.busy": "2023-07-15T00:24:53.592514Z",
     "iopub.status.idle": "2023-07-15T00:24:53.601136Z",
     "shell.execute_reply": "2023-07-15T00:24:53.600240Z"
    },
    "papermill": {
     "duration": 0.057684,
     "end_time": "2023-07-15T00:24:53.603082",
     "exception": false,
     "start_time": "2023-07-15T00:24:53.545398",
     "status": "completed"
    },
    "tags": []
   },
   "outputs": [],
   "source": [
    "def xs_y(df):\n",
    "    xs = df[cats+conts].copy()\n",
    "    return xs,df[dep] if dep in df else None\n",
    "\n",
    "trn_xs,trn_y = xs_y(trn_df)\n",
    "val_xs,val_y = xs_y(val_df)"
   ]
  },
  {
   "cell_type": "code",
   "execution_count": 100,
   "id": "5fa27196",
   "metadata": {
    "execution": {
     "iopub.execute_input": "2023-07-15T00:24:53.698412Z",
     "iopub.status.busy": "2023-07-15T00:24:53.698079Z",
     "iopub.status.idle": "2023-07-15T00:24:53.703035Z",
     "shell.execute_reply": "2023-07-15T00:24:53.702144Z"
    },
    "papermill": {
     "duration": 0.05448,
     "end_time": "2023-07-15T00:24:53.705094",
     "exception": false,
     "start_time": "2023-07-15T00:24:53.650614",
     "status": "completed"
    },
    "tags": []
   },
   "outputs": [],
   "source": [
    "preds = val_xs.Sex==0"
   ]
  },
  {
   "cell_type": "code",
   "execution_count": 101,
   "id": "43352d40",
   "metadata": {
    "execution": {
     "iopub.execute_input": "2023-07-15T00:24:53.798429Z",
     "iopub.status.busy": "2023-07-15T00:24:53.797634Z",
     "iopub.status.idle": "2023-07-15T00:24:53.805066Z",
     "shell.execute_reply": "2023-07-15T00:24:53.804172Z"
    },
    "papermill": {
     "duration": 0.055954,
     "end_time": "2023-07-15T00:24:53.807041",
     "exception": false,
     "start_time": "2023-07-15T00:24:53.751087",
     "status": "completed"
    },
    "tags": []
   },
   "outputs": [
    {
     "data": {
      "text/plain": [
       "0.21524663677130046"
      ]
     },
     "execution_count": 101,
     "metadata": {},
     "output_type": "execute_result"
    }
   ],
   "source": [
    "from sklearn.metrics import mean_absolute_error\n",
    "mean_absolute_error(val_y, preds)"
   ]
  },
  {
   "cell_type": "code",
   "execution_count": 102,
   "id": "59fd6826",
   "metadata": {
    "execution": {
     "iopub.execute_input": "2023-07-15T00:24:53.900832Z",
     "iopub.status.busy": "2023-07-15T00:24:53.899915Z",
     "iopub.status.idle": "2023-07-15T00:24:54.336528Z",
     "shell.execute_reply": "2023-07-15T00:24:54.335630Z"
    },
    "papermill": {
     "duration": 0.48588,
     "end_time": "2023-07-15T00:24:54.338614",
     "exception": false,
     "start_time": "2023-07-15T00:24:53.852734",
     "status": "completed"
    },
    "tags": []
   },
   "outputs": [
    {
     "data": {
      "image/png": "[encoded data removed]",
      "text/plain": [
       "<Figure size 1100x500 with 2 Axes>"
      ]
     },
     "metadata": {},
     "output_type": "display_data"
    }
   ],
   "source": [
    "df_fare = trn_df[trn_df.LogFare>0]\n",
    "fig,axs = plt.subplots(1,2, figsize=(11,5))\n",
    "sns.boxenplot(data=df_fare, x=dep, y=\"LogFare\", ax=axs[0])\n",
    "sns.kdeplot(data=df_fare, x=\"LogFare\", ax=axs[1]);"
   ]
  },
  {
   "cell_type": "code",
   "execution_count": 103,
   "id": "3607d4a4",
   "metadata": {
    "execution": {
     "iopub.execute_input": "2023-07-15T00:24:54.434199Z",
     "iopub.status.busy": "2023-07-15T00:24:54.433255Z",
     "iopub.status.idle": "2023-07-15T00:24:54.438608Z",
     "shell.execute_reply": "2023-07-15T00:24:54.437743Z"
    },
    "papermill": {
     "duration": 0.055013,
     "end_time": "2023-07-15T00:24:54.440616",
     "exception": false,
     "start_time": "2023-07-15T00:24:54.385603",
     "status": "completed"
    },
    "tags": []
   },
   "outputs": [],
   "source": [
    "preds = val_xs.LogFare>2.7"
   ]
  },
  {
   "cell_type": "code",
   "execution_count": 104,
   "id": "1ec7807d",
   "metadata": {
    "execution": {
     "iopub.execute_input": "2023-07-15T00:24:54.535738Z",
     "iopub.status.busy": "2023-07-15T00:24:54.535387Z",
     "iopub.status.idle": "2023-07-15T00:24:54.542497Z",
     "shell.execute_reply": "2023-07-15T00:24:54.541642Z"
    },
    "papermill": {
     "duration": 0.056739,
     "end_time": "2023-07-15T00:24:54.544399",
     "exception": false,
     "start_time": "2023-07-15T00:24:54.487660",
     "status": "completed"
    },
    "tags": []
   },
   "outputs": [
    {
     "data": {
      "text/plain": [
       "0.336322869955157"
      ]
     },
     "execution_count": 104,
     "metadata": {},
     "output_type": "execute_result"
    }
   ],
   "source": [
    "mean_absolute_error(val_y, preds)"
   ]
  },
  {
   "cell_type": "code",
   "execution_count": 105,
   "id": "d1525a7b",
   "metadata": {
    "execution": {
     "iopub.execute_input": "2023-07-15T00:24:54.640367Z",
     "iopub.status.busy": "2023-07-15T00:24:54.639392Z",
     "iopub.status.idle": "2023-07-15T00:24:54.644661Z",
     "shell.execute_reply": "2023-07-15T00:24:54.643661Z"
    },
    "papermill": {
     "duration": 0.055682,
     "end_time": "2023-07-15T00:24:54.646680",
     "exception": false,
     "start_time": "2023-07-15T00:24:54.590998",
     "status": "completed"
    },
    "tags": []
   },
   "outputs": [],
   "source": [
    "def _side_score(side, y):\n",
    "    tot = side.sum()\n",
    "    if tot<=1: return 0\n",
    "    return y[side].std()*tot"
   ]
  },
  {
   "cell_type": "code",
   "execution_count": 106,
   "id": "6e102ec9",
   "metadata": {
    "execution": {
     "iopub.execute_input": "2023-07-15T00:24:54.742352Z",
     "iopub.status.busy": "2023-07-15T00:24:54.741450Z",
     "iopub.status.idle": "2023-07-15T00:24:54.746915Z",
     "shell.execute_reply": "2023-07-15T00:24:54.746007Z"
    },
    "papermill": {
     "duration": 0.055792,
     "end_time": "2023-07-15T00:24:54.748910",
     "exception": false,
     "start_time": "2023-07-15T00:24:54.693118",
     "status": "completed"
    },
    "tags": []
   },
   "outputs": [],
   "source": [
    "def score(col, y, split):\n",
    "    lhs = col<=split\n",
    "    return (_side_score(lhs,y) + _side_score(~lhs,y))/len(y)"
   ]
  },
  {
   "cell_type": "code",
   "execution_count": 107,
   "id": "c1bc8415",
   "metadata": {
    "execution": {
     "iopub.execute_input": "2023-07-15T00:24:54.844728Z",
     "iopub.status.busy": "2023-07-15T00:24:54.844392Z",
     "iopub.status.idle": "2023-07-15T00:24:54.853413Z",
     "shell.execute_reply": "2023-07-15T00:24:54.852424Z"
    },
    "papermill": {
     "duration": 0.059603,
     "end_time": "2023-07-15T00:24:54.855458",
     "exception": false,
     "start_time": "2023-07-15T00:24:54.795855",
     "status": "completed"
    },
    "tags": []
   },
   "outputs": [
    {
     "data": {
      "text/plain": [
       "0.40787530982063946"
      ]
     },
     "execution_count": 107,
     "metadata": {},
     "output_type": "execute_result"
    }
   ],
   "source": [
    "score(trn_xs[\"Sex\"], trn_y, 0.5)"
   ]
  },
  {
   "cell_type": "code",
   "execution_count": 108,
   "id": "9695a341",
   "metadata": {
    "execution": {
     "iopub.execute_input": "2023-07-15T00:24:54.953188Z",
     "iopub.status.busy": "2023-07-15T00:24:54.952860Z",
     "iopub.status.idle": "2023-07-15T00:24:54.963602Z",
     "shell.execute_reply": "2023-07-15T00:24:54.962734Z"
    },
    "papermill": {
     "duration": 0.061653,
     "end_time": "2023-07-15T00:24:54.965571",
     "exception": false,
     "start_time": "2023-07-15T00:24:54.903918",
     "status": "completed"
    },
    "tags": []
   },
   "outputs": [
    {
     "data": {
      "text/plain": [
       "0.47180873952099694"
      ]
     },
     "execution_count": 108,
     "metadata": {},
     "output_type": "execute_result"
    }
   ],
   "source": [
    "score(trn_xs[\"LogFare\"], trn_y, 2.7)"
   ]
  },
  {
   "cell_type": "code",
   "execution_count": 109,
   "id": "b89bdc9f",
   "metadata": {
    "execution": {
     "iopub.execute_input": "2023-07-15T00:24:55.064271Z",
     "iopub.status.busy": "2023-07-15T00:24:55.063933Z",
     "iopub.status.idle": "2023-07-15T00:24:55.095613Z",
     "shell.execute_reply": "2023-07-15T00:24:55.095015Z"
    },
    "papermill": {
     "duration": 0.083144,
     "end_time": "2023-07-15T00:24:55.097806",
     "exception": false,
     "start_time": "2023-07-15T00:24:55.014662",
     "status": "completed"
    },
    "tags": []
   },
   "outputs": [
    {
     "data": {
      "application/vnd.jupyter.widget-view+json": {
       "model_id": "99bc3f3e310a4d2ab71d8222871e1eab",
       "version_major": 2,
       "version_minor": 0
      },
      "text/plain": [
       "interactive(children=(Dropdown(description='nm', options=('Age', 'SibSp', 'Parch', 'LogFare', 'Pclass'), value…"
      ]
     },
     "metadata": {},
     "output_type": "display_data"
    }
   ],
   "source": [
    "def iscore(nm, split):\n",
    "    col = trn_xs[nm]\n",
    "    return score(col, trn_y, split)\n",
    "\n",
    "from ipywidgets import interact\n",
    "interact(nm=conts, split=15.5)(iscore);"
   ]
  },
  {
   "cell_type": "code",
   "execution_count": 110,
   "id": "b48a9f0d",
   "metadata": {
    "execution": {
     "iopub.execute_input": "2023-07-15T00:24:55.195549Z",
     "iopub.status.busy": "2023-07-15T00:24:55.194724Z",
     "iopub.status.idle": "2023-07-15T00:24:55.218235Z",
     "shell.execute_reply": "2023-07-15T00:24:55.217366Z"
    },
    "papermill": {
     "duration": 0.079678,
     "end_time": "2023-07-15T00:24:55.225779",
     "exception": false,
     "start_time": "2023-07-15T00:24:55.146101",
     "status": "completed"
    },
    "tags": []
   },
   "outputs": [
    {
     "data": {
      "application/vnd.jupyter.widget-view+json": {
       "model_id": "d8a5534fc0d94f879cad37a0a8dd0939",
       "version_major": 2,
       "version_minor": 0
      },
      "text/plain": [
       "interactive(children=(Dropdown(description='nm', options=('Sex', 'Embarked'), value='Sex'), IntSlider(value=2,…"
      ]
     },
     "metadata": {},
     "output_type": "display_data"
    }
   ],
   "source": [
    "interact(nm=cats, split=2)(iscore);"
   ]
  },
  {
   "cell_type": "code",
   "execution_count": 111,
   "id": "211fa7f8",
   "metadata": {
    "execution": {
     "iopub.execute_input": "2023-07-15T00:24:55.323311Z",
     "iopub.status.busy": "2023-07-15T00:24:55.322640Z",
     "iopub.status.idle": "2023-07-15T00:24:55.330623Z",
     "shell.execute_reply": "2023-07-15T00:24:55.329627Z"
    },
    "papermill": {
     "duration": 0.057968,
     "end_time": "2023-07-15T00:24:55.332632",
     "exception": false,
     "start_time": "2023-07-15T00:24:55.274664",
     "status": "completed"
    },
    "tags": []
   },
   "outputs": [
    {
     "data": {
      "text/plain": [
       "array([ 0.42,  0.67,  0.75,  0.83,  0.92,  1.  ,  2.  ,  3.  ,  4.  ,  5.  ,  6.  ,  7.  ,  8.  ,  9.  , 10.  , 11.  , 12.  ,\n",
       "       13.  , 14.  , 14.5 , 15.  , 16.  , 17.  , 18.  , 19.  , 20.  , 21.  , 22.  , 23.  , 24.  , 24.5 , 25.  , 26.  , 27.  ,\n",
       "       28.  , 28.5 , 29.  , 30.  , 31.  , 32.  , 32.5 , 33.  , 34.  , 34.5 , 35.  , 36.  , 36.5 , 37.  , 38.  , 39.  , 40.  ,\n",
       "       40.5 , 41.  , 42.  , 43.  , 44.  , 45.  , 45.5 , 46.  , 47.  , 48.  , 49.  , 50.  , 51.  , 52.  , 53.  , 54.  , 55.  ,\n",
       "       55.5 , 56.  , 57.  , 58.  , 59.  , 60.  , 61.  , 62.  , 64.  , 65.  , 70.  , 70.5 , 74.  , 80.  ])"
      ]
     },
     "execution_count": 111,
     "metadata": {},
     "output_type": "execute_result"
    }
   ],
   "source": [
    "nm = \"Age\"\n",
    "col = trn_xs[nm]\n",
    "unq = col.unique()\n",
    "unq.sort()\n",
    "unq"
   ]
  },
  {
   "cell_type": "code",
   "execution_count": 112,
   "id": "8356b946",
   "metadata": {
    "execution": {
     "iopub.execute_input": "2023-07-15T00:24:55.429533Z",
     "iopub.status.busy": "2023-07-15T00:24:55.428571Z",
     "iopub.status.idle": "2023-07-15T00:24:55.501260Z",
     "shell.execute_reply": "2023-07-15T00:24:55.500252Z"
    },
    "papermill": {
     "duration": 0.122715,
     "end_time": "2023-07-15T00:24:55.503430",
     "exception": false,
     "start_time": "2023-07-15T00:24:55.380715",
     "status": "completed"
    },
    "tags": []
   },
   "outputs": [
    {
     "data": {
      "text/plain": [
       "6.0"
      ]
     },
     "execution_count": 112,
     "metadata": {},
     "output_type": "execute_result"
    }
   ],
   "source": [
    "scores = np.array([score(col, trn_y, o) for o in unq if not np.isnan(o)])\n",
    "unq[scores.argmin()]"
   ]
  },
  {
   "cell_type": "code",
   "execution_count": 113,
   "id": "699105d7",
   "metadata": {
    "execution": {
     "iopub.execute_input": "2023-07-15T00:24:55.600453Z",
     "iopub.status.busy": "2023-07-15T00:24:55.599856Z",
     "iopub.status.idle": "2023-07-15T00:24:55.673643Z",
     "shell.execute_reply": "2023-07-15T00:24:55.672547Z"
    },
    "papermill": {
     "duration": 0.124702,
     "end_time": "2023-07-15T00:24:55.675823",
     "exception": false,
     "start_time": "2023-07-15T00:24:55.551121",
     "status": "completed"
    },
    "tags": []
   },
   "outputs": [
    {
     "data": {
      "text/plain": [
       "(6.0, 0.478316717508991)"
      ]
     },
     "execution_count": 113,
     "metadata": {},
     "output_type": "execute_result"
    }
   ],
   "source": [
    "def min_col(df, nm):\n",
    "    col,y = df[nm],df[dep]\n",
    "    unq = col.dropna().unique()\n",
    "    scores = np.array([score(col, y, o) for o in unq if not np.isnan(o)])\n",
    "    idx = scores.argmin()\n",
    "    return unq[idx],scores[idx]\n",
    "\n",
    "min_col(trn_df, \"Age\")"
   ]
  },
  {
   "cell_type": "code",
   "execution_count": 114,
   "id": "cd11b91d",
   "metadata": {
    "execution": {
     "iopub.execute_input": "2023-07-15T00:24:55.773603Z",
     "iopub.status.busy": "2023-07-15T00:24:55.772123Z",
     "iopub.status.idle": "2023-07-15T00:24:56.041226Z",
     "shell.execute_reply": "2023-07-15T00:24:56.040326Z"
    },
    "papermill": {
     "duration": 0.319891,
     "end_time": "2023-07-15T00:24:56.043543",
     "exception": false,
     "start_time": "2023-07-15T00:24:55.723652",
     "status": "completed"
    },
    "tags": []
   },
   "outputs": [
    {
     "data": {
      "text/plain": [
       "{'Sex': (0, 0.40787530982063946),\n",
       " 'Embarked': (0, 0.47883342573147836),\n",
       " 'Age': (6.0, 0.478316717508991),\n",
       " 'SibSp': (4, 0.4783740258817434),\n",
       " 'Parch': (0, 0.4805296527841601),\n",
       " 'LogFare': (2.4390808375825834, 0.4620823937736597),\n",
       " 'Pclass': (2, 0.46048261885806596)}"
      ]
     },
     "execution_count": 114,
     "metadata": {},
     "output_type": "execute_result"
    }
   ],
   "source": [
    "cols = cats+conts\n",
    "{o:min_col(trn_df, o) for o in cols}"
   ]
  },
  {
   "cell_type": "markdown",
   "id": "ee998f25",
   "metadata": {
    "papermill": {
     "duration": 0.048101,
     "end_time": "2023-07-15T00:24:56.184004",
     "exception": false,
     "start_time": "2023-07-15T00:24:56.135903",
     "status": "completed"
    },
    "tags": []
   },
   "source": [
    "## Creating a decision tree¶\n"
   ]
  },
  {
   "cell_type": "code",
   "execution_count": 115,
   "id": "201d0b09",
   "metadata": {
    "execution": {
     "iopub.execute_input": "2023-07-15T00:24:56.280363Z",
     "iopub.status.busy": "2023-07-15T00:24:56.280000Z",
     "iopub.status.idle": "2023-07-15T00:24:56.286243Z",
     "shell.execute_reply": "2023-07-15T00:24:56.285628Z"
    },
    "papermill": {
     "duration": 0.056596,
     "end_time": "2023-07-15T00:24:56.288039",
     "exception": false,
     "start_time": "2023-07-15T00:24:56.231443",
     "status": "completed"
    },
    "tags": []
   },
   "outputs": [],
   "source": [
    "cols.remove(\"Sex\")\n",
    "ismale = trn_df.Sex==1\n",
    "males,females = trn_df[ismale],trn_df[~ismale]"
   ]
  },
  {
   "cell_type": "code",
   "execution_count": 116,
   "id": "669bba1e",
   "metadata": {
    "execution": {
     "iopub.execute_input": "2023-07-15T00:24:56.384602Z",
     "iopub.status.busy": "2023-07-15T00:24:56.383511Z",
     "iopub.status.idle": "2023-07-15T00:24:56.584656Z",
     "shell.execute_reply": "2023-07-15T00:24:56.583744Z"
    },
    "papermill": {
     "duration": 0.25175,
     "end_time": "2023-07-15T00:24:56.586703",
     "exception": false,
     "start_time": "2023-07-15T00:24:56.334953",
     "status": "completed"
    },
    "tags": []
   },
   "outputs": [
    {
     "data": {
      "text/plain": [
       "{'Embarked': (0, 0.3875581870410906),\n",
       " 'Age': (6.0, 0.3739828371010595),\n",
       " 'SibSp': (4, 0.3875864227586273),\n",
       " 'Parch': (0, 0.3874704821461959),\n",
       " 'LogFare': (2.803360380906535, 0.3804856231758151),\n",
       " 'Pclass': (1, 0.38155442004360934)}"
      ]
     },
     "execution_count": 116,
     "metadata": {},
     "output_type": "execute_result"
    }
   ],
   "source": [
    "{o:min_col(males, o) for o in cols}\n"
   ]
  },
  {
   "cell_type": "code",
   "execution_count": 117,
   "id": "8833fa72",
   "metadata": {
    "execution": {
     "iopub.execute_input": "2023-07-15T00:24:56.696159Z",
     "iopub.status.busy": "2023-07-15T00:24:56.695799Z",
     "iopub.status.idle": "2023-07-15T00:24:56.931046Z",
     "shell.execute_reply": "2023-07-15T00:24:56.929917Z"
    },
    "papermill": {
     "duration": 0.294722,
     "end_time": "2023-07-15T00:24:56.933864",
     "exception": false,
     "start_time": "2023-07-15T00:24:56.639142",
     "status": "completed"
    },
    "tags": []
   },
   "outputs": [
    {
     "data": {
      "text/plain": [
       "{'Embarked': (0, 0.4295252982857327),\n",
       " 'Age': (50.0, 0.4225927658431649),\n",
       " 'SibSp': (4, 0.42319212059713535),\n",
       " 'Parch': (3, 0.4193314500446158),\n",
       " 'LogFare': (4.256321678298823, 0.41350598332911376),\n",
       " 'Pclass': (2, 0.3335388911567601)}"
      ]
     },
     "execution_count": 117,
     "metadata": {},
     "output_type": "execute_result"
    }
   ],
   "source": [
    "{o:min_col(females, o) for o in cols}"
   ]
  },
  {
   "cell_type": "code",
   "execution_count": 118,
   "id": "6f9d4a82",
   "metadata": {
    "execution": {
     "iopub.execute_input": "2023-07-15T00:24:57.040085Z",
     "iopub.status.busy": "2023-07-15T00:24:57.039717Z",
     "iopub.status.idle": "2023-07-15T00:24:57.259772Z",
     "shell.execute_reply": "2023-07-15T00:24:57.258818Z"
    },
    "papermill": {
     "duration": 0.274497,
     "end_time": "2023-07-15T00:24:57.262324",
     "exception": false,
     "start_time": "2023-07-15T00:24:56.987827",
     "status": "completed"
    },
    "tags": []
   },
   "outputs": [],
   "source": [
    "from sklearn.tree import DecisionTreeClassifier, export_graphviz\n",
    "\n",
    "m = DecisionTreeClassifier(max_leaf_nodes=4).fit(trn_xs, trn_y);"
   ]
  },
  {
   "cell_type": "code",
   "execution_count": 119,
   "id": "1f3db629",
   "metadata": {
    "execution": {
     "iopub.execute_input": "2023-07-15T00:24:57.360627Z",
     "iopub.status.busy": "2023-07-15T00:24:57.359664Z",
     "iopub.status.idle": "2023-07-15T00:24:57.396530Z",
     "shell.execute_reply": "2023-07-15T00:24:57.395624Z"
    },
    "papermill": {
     "duration": 0.087604,
     "end_time": "2023-07-15T00:24:57.398605",
     "exception": false,
     "start_time": "2023-07-15T00:24:57.311001",
     "status": "completed"
    },
    "tags": []
   },
   "outputs": [],
   "source": [
    "import graphviz\n",
    "\n",
    "def draw_tree(t, df, size=10, ratio=0.6, precision=2, **kwargs):\n",
    "    s=export_graphviz(t, out_file=None, feature_names=df.columns, filled=True, rounded=True,\n",
    "                      special_characters=True, rotate=False, precision=precision, **kwargs)\n",
    "    return graphviz.Source(re.sub('Tree {', f'Tree {{ size={size}; ratio={ratio}', s))"
   ]
  },
  {
   "cell_type": "code",
   "execution_count": 120,
   "id": "02bd2a71",
   "metadata": {
    "execution": {
     "iopub.execute_input": "2023-07-15T00:24:57.495518Z",
     "iopub.status.busy": "2023-07-15T00:24:57.495230Z",
     "iopub.status.idle": "2023-07-15T00:24:57.616258Z",
     "shell.execute_reply": "2023-07-15T00:24:57.615385Z"
    },
    "papermill": {
     "duration": 0.171669,
     "end_time": "2023-07-15T00:24:57.618271",
     "exception": false,
     "start_time": "2023-07-15T00:24:57.446602",
     "status": "completed"
    },
    "tags": []
   },
   "outputs": [
    {
     "data": {
      "image/svg+xml": [
       "<?xml version=\"1.0\" encoding=\"UTF-8\" standalone=\"no\"?>\n",
       "<!DOCTYPE svg PUBLIC \"-//W3C//DTD SVG 1.1//EN\"\n",
       " \"http://www.w3.org/Graphics/SVG/1.1/DTD/svg11.dtd\">\n",
       "<!-- Generated by graphviz version 8.0.5 (20230506.1012)\n",
       " -->\n",
       "<!-- Title: Tree Pages: 1 -->\n",
       "<svg width=\"589pt\" height=\"357pt\"\n",
       " viewBox=\"0.00 0.00 588.50 356.92\" xmlns=\"http://www.w3.org/2000/svg\" xmlns:xlink=\"http://www.w3.org/1999/xlink\">\n",
       "<g id=\"graph0\" class=\"graph\" transform=\"scale(1 1) rotate(0) translate(4 352.92)\">\n",
       "<title>Tree</title>\n",
       "<polygon fill=\"white\" stroke=\"none\" points=\"-4,4 -4,-352.92 584.5,-352.92 584.5,4 -4,4\"/>\n",
       "<!-- 0 -->\n",
       "<g id=\"node1\" class=\"node\">\n",
       "<title>0</title>\n",
       "<path fill=\"#f5ceb2\" stroke=\"black\" d=\"M349,-340.5C349,-340.5 225,-340.5 225,-340.5 219,-340.5 213,-334.5 213,-328.5 213,-328.5 213,-275.5 213,-275.5 213,-269.5 219,-263.5 225,-263.5 225,-263.5 349,-263.5 349,-263.5 355,-263.5 361,-269.5 361,-275.5 361,-275.5 361,-328.5 361,-328.5 361,-334.5 355,-340.5 349,-340.5\"/>\n",
       "<text text-anchor=\"start\" x=\"252.5\" y=\"-323.2\" font-family=\"Helvetica,sans-Serif\" font-size=\"14.00\">Sex ≤ 0.5</text>\n",
       "<text text-anchor=\"start\" x=\"248\" y=\"-305.95\" font-family=\"Helvetica,sans-Serif\" font-size=\"14.00\">gini = 0.47</text>\n",
       "<text text-anchor=\"start\" x=\"234.12\" y=\"-288.7\" font-family=\"Helvetica,sans-Serif\" font-size=\"14.00\">samples = 668</text>\n",
       "<text text-anchor=\"start\" x=\"221\" y=\"-271.45\" font-family=\"Helvetica,sans-Serif\" font-size=\"14.00\">value = [415, 253]</text>\n",
       "</g>\n",
       "<!-- 1 -->\n",
       "<g id=\"node2\" class=\"node\">\n",
       "<title>1</title>\n",
       "<path fill=\"#7ebfee\" stroke=\"black\" d=\"M266.5,-202.5C266.5,-202.5 151.5,-202.5 151.5,-202.5 145.5,-202.5 139.5,-196.5 139.5,-190.5 139.5,-190.5 139.5,-137.5 139.5,-137.5 139.5,-131.5 145.5,-125.5 151.5,-125.5 151.5,-125.5 266.5,-125.5 266.5,-125.5 272.5,-125.5 278.5,-131.5 278.5,-137.5 278.5,-137.5 278.5,-190.5 278.5,-190.5 278.5,-196.5 272.5,-202.5 266.5,-202.5\"/>\n",
       "<text text-anchor=\"start\" x=\"165.88\" y=\"-185.2\" font-family=\"Helvetica,sans-Serif\" font-size=\"14.00\">Pclass ≤ 2.5</text>\n",
       "<text text-anchor=\"start\" x=\"170\" y=\"-167.95\" font-family=\"Helvetica,sans-Serif\" font-size=\"14.00\">gini = 0.38</text>\n",
       "<text text-anchor=\"start\" x=\"156.12\" y=\"-150.7\" font-family=\"Helvetica,sans-Serif\" font-size=\"14.00\">samples = 229</text>\n",
       "<text text-anchor=\"start\" x=\"147.5\" y=\"-133.45\" font-family=\"Helvetica,sans-Serif\" font-size=\"14.00\">value = [59, 170]</text>\n",
       "</g>\n",
       "<!-- 0&#45;&gt;1 -->\n",
       "<g id=\"edge1\" class=\"edge\">\n",
       "<title>0&#45;&gt;1</title>\n",
       "<path fill=\"none\" stroke=\"black\" d=\"M265.27,-263.12C256.14,-247.2 245.43,-228.53 235.82,-211.77\"/>\n",
       "<polygon fill=\"black\" stroke=\"black\" points=\"238.62,-210.61 230.61,-203.68 232.55,-214.1 238.62,-210.61\"/>\n",
       "<text text-anchor=\"middle\" x=\"224.07\" y=\"-222.13\" font-family=\"Helvetica,sans-Serif\" font-size=\"14.00\">True</text>\n",
       "</g>\n",
       "<!-- 2 -->\n",
       "<g id=\"node5\" class=\"node\">\n",
       "<title>2</title>\n",
       "<path fill=\"#eb9e67\" stroke=\"black\" d=\"M423.5,-202.5C423.5,-202.5 308.5,-202.5 308.5,-202.5 302.5,-202.5 296.5,-196.5 296.5,-190.5 296.5,-190.5 296.5,-137.5 296.5,-137.5 296.5,-131.5 302.5,-125.5 308.5,-125.5 308.5,-125.5 423.5,-125.5 423.5,-125.5 429.5,-125.5 435.5,-131.5 435.5,-137.5 435.5,-137.5 435.5,-190.5 435.5,-190.5 435.5,-196.5 429.5,-202.5 423.5,-202.5\"/>\n",
       "<text text-anchor=\"start\" x=\"330.75\" y=\"-185.2\" font-family=\"Helvetica,sans-Serif\" font-size=\"14.00\">Age ≤ 6.5</text>\n",
       "<text text-anchor=\"start\" x=\"327\" y=\"-167.95\" font-family=\"Helvetica,sans-Serif\" font-size=\"14.00\">gini = 0.31</text>\n",
       "<text text-anchor=\"start\" x=\"313.12\" y=\"-150.7\" font-family=\"Helvetica,sans-Serif\" font-size=\"14.00\">samples = 439</text>\n",
       "<text text-anchor=\"start\" x=\"304.5\" y=\"-133.45\" font-family=\"Helvetica,sans-Serif\" font-size=\"14.00\">value = [356, 83]</text>\n",
       "</g>\n",
       "<!-- 0&#45;&gt;2 -->\n",
       "<g id=\"edge4\" class=\"edge\">\n",
       "<title>0&#45;&gt;2</title>\n",
       "<path fill=\"none\" stroke=\"black\" d=\"M309.01,-263.12C318.25,-247.2 329.1,-228.53 338.83,-211.77\"/>\n",
       "<polygon fill=\"black\" stroke=\"black\" points=\"342.12,-214.09 344.11,-203.68 336.06,-210.57 342.12,-214.09\"/>\n",
       "<text text-anchor=\"middle\" x=\"350.52\" y=\"-222.17\" font-family=\"Helvetica,sans-Serif\" font-size=\"14.00\">False</text>\n",
       "</g>\n",
       "<!-- 3 -->\n",
       "<g id=\"node3\" class=\"node\">\n",
       "<title>3</title>\n",
       "<path fill=\"#40a0e6\" stroke=\"black\" d=\"M118,-65.88C118,-65.88 12,-65.88 12,-65.88 6,-65.88 0,-59.88 0,-53.88 0,-53.88 0,-18.12 0,-18.12 0,-12.12 6,-6.12 12,-6.12 12,-6.12 118,-6.12 118,-6.12 124,-6.12 130,-12.12 130,-18.12 130,-18.12 130,-53.88 130,-53.88 130,-59.88 124,-65.88 118,-65.88\"/>\n",
       "<text text-anchor=\"start\" x=\"26\" y=\"-48.58\" font-family=\"Helvetica,sans-Serif\" font-size=\"14.00\">gini = 0.06</text>\n",
       "<text text-anchor=\"start\" x=\"12.12\" y=\"-31.32\" font-family=\"Helvetica,sans-Serif\" font-size=\"14.00\">samples = 120</text>\n",
       "<text text-anchor=\"start\" x=\"8\" y=\"-14.07\" font-family=\"Helvetica,sans-Serif\" font-size=\"14.00\">value = [4, 116]</text>\n",
       "</g>\n",
       "<!-- 1&#45;&gt;3 -->\n",
       "<g id=\"edge2\" class=\"edge\">\n",
       "<title>1&#45;&gt;3</title>\n",
       "<path fill=\"none\" stroke=\"black\" d=\"M165.8,-125.2C147.12,-108.85 125.34,-89.8 106.82,-73.59\"/>\n",
       "<polygon fill=\"black\" stroke=\"black\" points=\"109.39,-70.32 99.56,-66.37 104.78,-75.59 109.39,-70.32\"/>\n",
       "</g>\n",
       "<!-- 4 -->\n",
       "<g id=\"node4\" class=\"node\">\n",
       "<title>4</title>\n",
       "<path fill=\"#fffdfb\" stroke=\"black\" d=\"M266,-65.88C266,-65.88 160,-65.88 160,-65.88 154,-65.88 148,-59.88 148,-53.88 148,-53.88 148,-18.12 148,-18.12 148,-12.12 154,-6.12 160,-6.12 160,-6.12 266,-6.12 266,-6.12 272,-6.12 278,-12.12 278,-18.12 278,-18.12 278,-53.88 278,-53.88 278,-59.88 272,-65.88 266,-65.88\"/>\n",
       "<text text-anchor=\"start\" x=\"178.5\" y=\"-48.58\" font-family=\"Helvetica,sans-Serif\" font-size=\"14.00\">gini = 0.5</text>\n",
       "<text text-anchor=\"start\" x=\"160.12\" y=\"-31.32\" font-family=\"Helvetica,sans-Serif\" font-size=\"14.00\">samples = 109</text>\n",
       "<text text-anchor=\"start\" x=\"156\" y=\"-14.07\" font-family=\"Helvetica,sans-Serif\" font-size=\"14.00\">value = [55, 54]</text>\n",
       "</g>\n",
       "<!-- 1&#45;&gt;4 -->\n",
       "<g id=\"edge3\" class=\"edge\">\n",
       "<title>1&#45;&gt;4</title>\n",
       "<path fill=\"none\" stroke=\"black\" d=\"M210.2,-125.2C210.68,-110.03 211.24,-92.53 211.73,-77.14\"/>\n",
       "<polygon fill=\"black\" stroke=\"black\" points=\"215.25,-77.47 212.07,-67.37 208.25,-77.25 215.25,-77.47\"/>\n",
       "</g>\n",
       "<!-- 5 -->\n",
       "<g id=\"node6\" class=\"node\">\n",
       "<title>5</title>\n",
       "<path fill=\"#88c4ef\" stroke=\"black\" d=\"M411.5,-65.88C411.5,-65.88 314.5,-65.88 314.5,-65.88 308.5,-65.88 302.5,-59.88 302.5,-53.88 302.5,-53.88 302.5,-18.12 302.5,-18.12 302.5,-12.12 308.5,-6.12 314.5,-6.12 314.5,-6.12 411.5,-6.12 411.5,-6.12 417.5,-6.12 423.5,-12.12 423.5,-18.12 423.5,-18.12 423.5,-53.88 423.5,-53.88 423.5,-59.88 417.5,-65.88 411.5,-65.88\"/>\n",
       "<text text-anchor=\"start\" x=\"324\" y=\"-48.58\" font-family=\"Helvetica,sans-Serif\" font-size=\"14.00\">gini = 0.41</text>\n",
       "<text text-anchor=\"start\" x=\"314.62\" y=\"-31.32\" font-family=\"Helvetica,sans-Serif\" font-size=\"14.00\">samples = 21</text>\n",
       "<text text-anchor=\"start\" x=\"310.5\" y=\"-14.07\" font-family=\"Helvetica,sans-Serif\" font-size=\"14.00\">value = [6, 15]</text>\n",
       "</g>\n",
       "<!-- 2&#45;&gt;5 -->\n",
       "<g id=\"edge5\" class=\"edge\">\n",
       "<title>2&#45;&gt;5</title>\n",
       "<path fill=\"none\" stroke=\"black\" d=\"M365.1,-125.2C364.74,-110.03 364.32,-92.53 363.96,-77.14\"/>\n",
       "<polygon fill=\"black\" stroke=\"black\" points=\"367.44,-77.28 363.7,-67.37 360.44,-77.45 367.44,-77.28\"/>\n",
       "</g>\n",
       "<!-- 6 -->\n",
       "<g id=\"node7\" class=\"node\">\n",
       "<title>6</title>\n",
       "<path fill=\"#ea995f\" stroke=\"black\" d=\"M568.5,-65.88C568.5,-65.88 453.5,-65.88 453.5,-65.88 447.5,-65.88 441.5,-59.88 441.5,-53.88 441.5,-53.88 441.5,-18.12 441.5,-18.12 441.5,-12.12 447.5,-6.12 453.5,-6.12 453.5,-6.12 568.5,-6.12 568.5,-6.12 574.5,-6.12 580.5,-12.12 580.5,-18.12 580.5,-18.12 580.5,-53.88 580.5,-53.88 580.5,-59.88 574.5,-65.88 568.5,-65.88\"/>\n",
       "<text text-anchor=\"start\" x=\"472\" y=\"-48.58\" font-family=\"Helvetica,sans-Serif\" font-size=\"14.00\">gini = 0.27</text>\n",
       "<text text-anchor=\"start\" x=\"458.12\" y=\"-31.32\" font-family=\"Helvetica,sans-Serif\" font-size=\"14.00\">samples = 418</text>\n",
       "<text text-anchor=\"start\" x=\"449.5\" y=\"-14.07\" font-family=\"Helvetica,sans-Serif\" font-size=\"14.00\">value = [350, 68]</text>\n",
       "</g>\n",
       "<!-- 2&#45;&gt;6 -->\n",
       "<g id=\"edge6\" class=\"edge\">\n",
       "<title>2&#45;&gt;6</title>\n",
       "<path fill=\"none\" stroke=\"black\" d=\"M409.5,-125.2C428.4,-108.78 450.44,-89.63 469.14,-73.37\"/>\n",
       "<polygon fill=\"black\" stroke=\"black\" points=\"470.95,-75.57 476.2,-66.37 466.36,-70.28 470.95,-75.57\"/>\n",
       "</g>\n",
       "</g>\n",
       "</svg>\n"
      ],
      "text/plain": [
       "<graphviz.sources.Source at 0x7bf6b788ceb0>"
      ]
     },
     "execution_count": 120,
     "metadata": {},
     "output_type": "execute_result"
    }
   ],
   "source": [
    "draw_tree(m, trn_xs, size=10)"
   ]
  },
  {
   "cell_type": "code",
   "execution_count": 121,
   "id": "aab7e714",
   "metadata": {
    "execution": {
     "iopub.execute_input": "2023-07-15T00:24:57.717201Z",
     "iopub.status.busy": "2023-07-15T00:24:57.716852Z",
     "iopub.status.idle": "2023-07-15T00:24:57.721943Z",
     "shell.execute_reply": "2023-07-15T00:24:57.720974Z"
    },
    "papermill": {
     "duration": 0.057077,
     "end_time": "2023-07-15T00:24:57.723973",
     "exception": false,
     "start_time": "2023-07-15T00:24:57.666896",
     "status": "completed"
    },
    "tags": []
   },
   "outputs": [],
   "source": [
    "def gini(cond):\n",
    "    act = df.loc[cond, dep]\n",
    "    return 1 - act.mean()**2 - (1-act).mean()**2"
   ]
  },
  {
   "cell_type": "code",
   "execution_count": 122,
   "id": "b3175d79",
   "metadata": {
    "execution": {
     "iopub.execute_input": "2023-07-15T00:24:57.823570Z",
     "iopub.status.busy": "2023-07-15T00:24:57.823249Z",
     "iopub.status.idle": "2023-07-15T00:24:57.831776Z",
     "shell.execute_reply": "2023-07-15T00:24:57.830935Z"
    },
    "papermill": {
     "duration": 0.060652,
     "end_time": "2023-07-15T00:24:57.833757",
     "exception": false,
     "start_time": "2023-07-15T00:24:57.773105",
     "status": "completed"
    },
    "tags": []
   },
   "outputs": [
    {
     "data": {
      "text/plain": [
       "(0.3828350034484158, 0.3064437162277842)"
      ]
     },
     "execution_count": 122,
     "metadata": {},
     "output_type": "execute_result"
    }
   ],
   "source": [
    "gini(df.Sex=='female'), gini(df.Sex=='male')\n"
   ]
  },
  {
   "cell_type": "code",
   "execution_count": 123,
   "id": "4487da1e",
   "metadata": {
    "execution": {
     "iopub.execute_input": "2023-07-15T00:24:57.933597Z",
     "iopub.status.busy": "2023-07-15T00:24:57.932670Z",
     "iopub.status.idle": "2023-07-15T00:24:57.942919Z",
     "shell.execute_reply": "2023-07-15T00:24:57.941720Z"
    },
    "papermill": {
     "duration": 0.063223,
     "end_time": "2023-07-15T00:24:57.945381",
     "exception": false,
     "start_time": "2023-07-15T00:24:57.882158",
     "status": "completed"
    },
    "tags": []
   },
   "outputs": [
    {
     "data": {
      "text/plain": [
       "0.2242152466367713"
      ]
     },
     "execution_count": 123,
     "metadata": {},
     "output_type": "execute_result"
    }
   ],
   "source": [
    "mean_absolute_error(val_y, m.predict(val_xs))\n"
   ]
  },
  {
   "cell_type": "code",
   "execution_count": 124,
   "id": "628178dd",
   "metadata": {
    "execution": {
     "iopub.execute_input": "2023-07-15T00:24:58.053246Z",
     "iopub.status.busy": "2023-07-15T00:24:58.052869Z",
     "iopub.status.idle": "2023-07-15T00:24:58.091717Z",
     "shell.execute_reply": "2023-07-15T00:24:58.090785Z"
    },
    "papermill": {
     "duration": 0.095062,
     "end_time": "2023-07-15T00:24:58.093843",
     "exception": false,
     "start_time": "2023-07-15T00:24:57.998781",
     "status": "completed"
    },
    "tags": []
   },
   "outputs": [
    {
     "data": {
      "image/svg+xml": [
       "<?xml version=\"1.0\" encoding=\"UTF-8\" standalone=\"no\"?>\n",
       "<!DOCTYPE svg PUBLIC \"-//W3C//DTD SVG 1.1//EN\"\n",
       " \"http://www.w3.org/Graphics/SVG/1.1/DTD/svg11.dtd\">\n",
       "<!-- Generated by graphviz version 8.0.5 (20230506.1012)\n",
       " -->\n",
       "<!-- Title: Tree Pages: 1 -->\n",
       "<svg width=\"864pt\" height=\"521pt\"\n",
       " viewBox=\"0.00 0.00 864.00 520.94\" xmlns=\"http://www.w3.org/2000/svg\" xmlns:xlink=\"http://www.w3.org/1999/xlink\">\n",
       "<g id=\"graph0\" class=\"graph\" transform=\"scale(0.698541 0.698541) rotate(0) translate(4 741.75)\">\n",
       "<title>Tree</title>\n",
       "<polygon fill=\"white\" stroke=\"none\" points=\"-4,4 -4,-741.75 1232.86,-741.75 1232.86,4 -4,4\"/>\n",
       "<!-- 0 -->\n",
       "<g id=\"node1\" class=\"node\">\n",
       "<title>0</title>\n",
       "<path fill=\"#f5ceb2\" stroke=\"black\" d=\"M656.87,-737.5C656.87,-737.5 532.87,-737.5 532.87,-737.5 526.87,-737.5 520.87,-731.5 520.87,-725.5 520.87,-725.5 520.87,-672.5 520.87,-672.5 520.87,-666.5 526.87,-660.5 532.87,-660.5 532.87,-660.5 656.87,-660.5 656.87,-660.5 662.87,-660.5 668.87,-666.5 668.87,-672.5 668.87,-672.5 668.87,-725.5 668.87,-725.5 668.87,-731.5 662.87,-737.5 656.87,-737.5\"/>\n",
       "<text text-anchor=\"start\" x=\"560.37\" y=\"-720.2\" font-family=\"Helvetica,sans-Serif\" font-size=\"14.00\">Sex ≤ 0.5</text>\n",
       "<text text-anchor=\"start\" x=\"555.87\" y=\"-702.95\" font-family=\"Helvetica,sans-Serif\" font-size=\"14.00\">gini = 0.47</text>\n",
       "<text text-anchor=\"start\" x=\"541.99\" y=\"-685.7\" font-family=\"Helvetica,sans-Serif\" font-size=\"14.00\">samples = 668</text>\n",
       "<text text-anchor=\"start\" x=\"528.87\" y=\"-668.45\" font-family=\"Helvetica,sans-Serif\" font-size=\"14.00\">value = [415, 253]</text>\n",
       "</g>\n",
       "<!-- 1 -->\n",
       "<g id=\"node2\" class=\"node\">\n",
       "<title>1</title>\n",
       "<path fill=\"#7ebfee\" stroke=\"black\" d=\"M497.37,-624.5C497.37,-624.5 382.37,-624.5 382.37,-624.5 376.37,-624.5 370.37,-618.5 370.37,-612.5 370.37,-612.5 370.37,-559.5 370.37,-559.5 370.37,-553.5 376.37,-547.5 382.37,-547.5 382.37,-547.5 497.37,-547.5 497.37,-547.5 503.37,-547.5 509.37,-553.5 509.37,-559.5 509.37,-559.5 509.37,-612.5 509.37,-612.5 509.37,-618.5 503.37,-624.5 497.37,-624.5\"/>\n",
       "<text text-anchor=\"start\" x=\"396.74\" y=\"-607.2\" font-family=\"Helvetica,sans-Serif\" font-size=\"14.00\">Pclass ≤ 2.5</text>\n",
       "<text text-anchor=\"start\" x=\"400.87\" y=\"-589.95\" font-family=\"Helvetica,sans-Serif\" font-size=\"14.00\">gini = 0.38</text>\n",
       "<text text-anchor=\"start\" x=\"386.99\" y=\"-572.7\" font-family=\"Helvetica,sans-Serif\" font-size=\"14.00\">samples = 229</text>\n",
       "<text text-anchor=\"start\" x=\"378.37\" y=\"-555.45\" font-family=\"Helvetica,sans-Serif\" font-size=\"14.00\">value = [59, 170]</text>\n",
       "</g>\n",
       "<!-- 0&#45;&gt;1 -->\n",
       "<g id=\"edge1\" class=\"edge\">\n",
       "<title>0&#45;&gt;1</title>\n",
       "<path fill=\"none\" stroke=\"black\" d=\"M541.96,-660.11C528.94,-650.79 514.88,-640.72 501.49,-631.13\"/>\n",
       "<polygon fill=\"black\" stroke=\"black\" points=\"503.97,-627.88 493.8,-624.91 499.89,-633.57 503.97,-627.88\"/>\n",
       "<text text-anchor=\"middle\" x=\"496.88\" y=\"-644.9\" font-family=\"Helvetica,sans-Serif\" font-size=\"14.00\">True</text>\n",
       "</g>\n",
       "<!-- 8 -->\n",
       "<g id=\"node9\" class=\"node\">\n",
       "<title>8</title>\n",
       "<path fill=\"#eb9e67\" stroke=\"black\" d=\"M816.37,-624.5C816.37,-624.5 701.37,-624.5 701.37,-624.5 695.37,-624.5 689.37,-618.5 689.37,-612.5 689.37,-612.5 689.37,-559.5 689.37,-559.5 689.37,-553.5 695.37,-547.5 701.37,-547.5 701.37,-547.5 816.37,-547.5 816.37,-547.5 822.37,-547.5 828.37,-553.5 828.37,-559.5 828.37,-559.5 828.37,-612.5 828.37,-612.5 828.37,-618.5 822.37,-624.5 816.37,-624.5\"/>\n",
       "<text text-anchor=\"start\" x=\"705.99\" y=\"-607.2\" font-family=\"Helvetica,sans-Serif\" font-size=\"14.00\">LogFare ≤ 3.31</text>\n",
       "<text text-anchor=\"start\" x=\"719.87\" y=\"-589.95\" font-family=\"Helvetica,sans-Serif\" font-size=\"14.00\">gini = 0.31</text>\n",
       "<text text-anchor=\"start\" x=\"705.99\" y=\"-572.7\" font-family=\"Helvetica,sans-Serif\" font-size=\"14.00\">samples = 439</text>\n",
       "<text text-anchor=\"start\" x=\"697.37\" y=\"-555.45\" font-family=\"Helvetica,sans-Serif\" font-size=\"14.00\">value = [356, 83]</text>\n",
       "</g>\n",
       "<!-- 0&#45;&gt;8 -->\n",
       "<g id=\"edge8\" class=\"edge\">\n",
       "<title>0&#45;&gt;8</title>\n",
       "<path fill=\"none\" stroke=\"black\" d=\"M650.85,-660.11C664.76,-650.7 679.78,-640.53 694.07,-630.86\"/>\n",
       "<polygon fill=\"black\" stroke=\"black\" points=\"695.54,-633.41 701.86,-624.91 691.62,-627.61 695.54,-633.41\"/>\n",
       "<text text-anchor=\"middle\" x=\"698.13\" y=\"-644.78\" font-family=\"Helvetica,sans-Serif\" font-size=\"14.00\">False</text>\n",
       "</g>\n",
       "<!-- 2 -->\n",
       "<g id=\"node3\" class=\"node\">\n",
       "<title>2</title>\n",
       "<path fill=\"#40a0e6\" stroke=\"black\" d=\"M264.87,-511.5C264.87,-511.5 158.87,-511.5 158.87,-511.5 152.87,-511.5 146.87,-505.5 146.87,-499.5 146.87,-499.5 146.87,-446.5 146.87,-446.5 146.87,-440.5 152.87,-434.5 158.87,-434.5 158.87,-434.5 264.87,-434.5 264.87,-434.5 270.87,-434.5 276.87,-440.5 276.87,-446.5 276.87,-446.5 276.87,-499.5 276.87,-499.5 276.87,-505.5 270.87,-511.5 264.87,-511.5\"/>\n",
       "<text text-anchor=\"start\" x=\"170.24\" y=\"-494.2\" font-family=\"Helvetica,sans-Serif\" font-size=\"14.00\">SibSp ≤ 0.5</text>\n",
       "<text text-anchor=\"start\" x=\"172.87\" y=\"-476.95\" font-family=\"Helvetica,sans-Serif\" font-size=\"14.00\">gini = 0.06</text>\n",
       "<text text-anchor=\"start\" x=\"158.99\" y=\"-459.7\" font-family=\"Helvetica,sans-Serif\" font-size=\"14.00\">samples = 120</text>\n",
       "<text text-anchor=\"start\" x=\"154.87\" y=\"-442.45\" font-family=\"Helvetica,sans-Serif\" font-size=\"14.00\">value = [4, 116]</text>\n",
       "</g>\n",
       "<!-- 1&#45;&gt;2 -->\n",
       "<g id=\"edge2\" class=\"edge\">\n",
       "<title>1&#45;&gt;2</title>\n",
       "<path fill=\"none\" stroke=\"black\" d=\"M369.91,-550.94C343.56,-538.11 313.5,-523.48 286.73,-510.44\"/>\n",
       "<polygon fill=\"black\" stroke=\"black\" points=\"288.54,-506.95 278.02,-505.72 285.48,-513.24 288.54,-506.95\"/>\n",
       "</g>\n",
       "<!-- 5 -->\n",
       "<g id=\"node6\" class=\"node\">\n",
       "<title>5</title>\n",
       "<path fill=\"#fffdfb\" stroke=\"black\" d=\"M492.87,-511.5C492.87,-511.5 386.87,-511.5 386.87,-511.5 380.87,-511.5 374.87,-505.5 374.87,-499.5 374.87,-499.5 374.87,-446.5 374.87,-446.5 374.87,-440.5 380.87,-434.5 386.87,-434.5 386.87,-434.5 492.87,-434.5 492.87,-434.5 498.87,-434.5 504.87,-440.5 504.87,-446.5 504.87,-446.5 504.87,-499.5 504.87,-499.5 504.87,-505.5 498.87,-511.5 492.87,-511.5\"/>\n",
       "<text text-anchor=\"start\" x=\"391.49\" y=\"-494.2\" font-family=\"Helvetica,sans-Serif\" font-size=\"14.00\">LogFare ≤ 2.7</text>\n",
       "<text text-anchor=\"start\" x=\"405.37\" y=\"-476.95\" font-family=\"Helvetica,sans-Serif\" font-size=\"14.00\">gini = 0.5</text>\n",
       "<text text-anchor=\"start\" x=\"386.99\" y=\"-459.7\" font-family=\"Helvetica,sans-Serif\" font-size=\"14.00\">samples = 109</text>\n",
       "<text text-anchor=\"start\" x=\"382.87\" y=\"-442.45\" font-family=\"Helvetica,sans-Serif\" font-size=\"14.00\">value = [55, 54]</text>\n",
       "</g>\n",
       "<!-- 1&#45;&gt;5 -->\n",
       "<g id=\"edge5\" class=\"edge\">\n",
       "<title>1&#45;&gt;5</title>\n",
       "<path fill=\"none\" stroke=\"black\" d=\"M439.87,-547.11C439.87,-539.25 439.87,-530.87 439.87,-522.69\"/>\n",
       "<polygon fill=\"black\" stroke=\"black\" points=\"443.37,-522.72 439.87,-512.72 436.37,-522.72 443.37,-522.72\"/>\n",
       "</g>\n",
       "<!-- 3 -->\n",
       "<g id=\"node4\" class=\"node\">\n",
       "<title>3</title>\n",
       "<path fill=\"#3c9ee5\" stroke=\"black\" d=\"M112.37,-389.88C112.37,-389.88 15.37,-389.88 15.37,-389.88 9.37,-389.88 3.37,-383.88 3.37,-377.88 3.37,-377.88 3.37,-342.12 3.37,-342.12 3.37,-336.12 9.37,-330.12 15.37,-330.12 15.37,-330.12 112.37,-330.12 112.37,-330.12 118.37,-330.12 124.37,-336.12 124.37,-342.12 124.37,-342.12 124.37,-377.88 124.37,-377.88 124.37,-383.88 118.37,-389.88 112.37,-389.88\"/>\n",
       "<text text-anchor=\"start\" x=\"24.87\" y=\"-372.57\" font-family=\"Helvetica,sans-Serif\" font-size=\"14.00\">gini = 0.03</text>\n",
       "<text text-anchor=\"start\" x=\"15.49\" y=\"-355.32\" font-family=\"Helvetica,sans-Serif\" font-size=\"14.00\">samples = 67</text>\n",
       "<text text-anchor=\"start\" x=\"11.37\" y=\"-338.07\" font-family=\"Helvetica,sans-Serif\" font-size=\"14.00\">value = [1, 66]</text>\n",
       "</g>\n",
       "<!-- 2&#45;&gt;3 -->\n",
       "<g id=\"edge3\" class=\"edge\">\n",
       "<title>2&#45;&gt;3</title>\n",
       "<path fill=\"none\" stroke=\"black\" d=\"M161.35,-434.11C145.24,-422.03 127.47,-408.7 111.57,-396.78\"/>\n",
       "<polygon fill=\"black\" stroke=\"black\" points=\"114.05,-393.51 103.95,-390.31 109.85,-399.11 114.05,-393.51\"/>\n",
       "</g>\n",
       "<!-- 4 -->\n",
       "<g id=\"node5\" class=\"node\">\n",
       "<title>4</title>\n",
       "<path fill=\"#45a3e7\" stroke=\"black\" d=\"M260.37,-389.88C260.37,-389.88 163.37,-389.88 163.37,-389.88 157.37,-389.88 151.37,-383.88 151.37,-377.88 151.37,-377.88 151.37,-342.12 151.37,-342.12 151.37,-336.12 157.37,-330.12 163.37,-330.12 163.37,-330.12 260.37,-330.12 260.37,-330.12 266.37,-330.12 272.37,-336.12 272.37,-342.12 272.37,-342.12 272.37,-377.88 272.37,-377.88 272.37,-383.88 266.37,-389.88 260.37,-389.88\"/>\n",
       "<text text-anchor=\"start\" x=\"172.87\" y=\"-372.57\" font-family=\"Helvetica,sans-Serif\" font-size=\"14.00\">gini = 0.11</text>\n",
       "<text text-anchor=\"start\" x=\"163.49\" y=\"-355.32\" font-family=\"Helvetica,sans-Serif\" font-size=\"14.00\">samples = 53</text>\n",
       "<text text-anchor=\"start\" x=\"159.37\" y=\"-338.07\" font-family=\"Helvetica,sans-Serif\" font-size=\"14.00\">value = [3, 50]</text>\n",
       "</g>\n",
       "<!-- 2&#45;&gt;4 -->\n",
       "<g id=\"edge4\" class=\"edge\">\n",
       "<title>2&#45;&gt;4</title>\n",
       "<path fill=\"none\" stroke=\"black\" d=\"M211.87,-434.11C211.87,-423.48 211.87,-411.89 211.87,-401.14\"/>\n",
       "<polygon fill=\"black\" stroke=\"black\" points=\"215.37,-401.31 211.87,-391.31 208.37,-401.31 215.37,-401.31\"/>\n",
       "</g>\n",
       "<!-- 6 -->\n",
       "<g id=\"node7\" class=\"node\">\n",
       "<title>6</title>\n",
       "<path fill=\"#cbe5f8\" stroke=\"black\" d=\"M416.87,-389.88C416.87,-389.88 310.87,-389.88 310.87,-389.88 304.87,-389.88 298.87,-383.88 298.87,-377.88 298.87,-377.88 298.87,-342.12 298.87,-342.12 298.87,-336.12 304.87,-330.12 310.87,-330.12 310.87,-330.12 416.87,-330.12 416.87,-330.12 422.87,-330.12 428.87,-336.12 428.87,-342.12 428.87,-342.12 428.87,-377.88 428.87,-377.88 428.87,-383.88 422.87,-389.88 416.87,-389.88\"/>\n",
       "<text text-anchor=\"start\" x=\"324.87\" y=\"-372.57\" font-family=\"Helvetica,sans-Serif\" font-size=\"14.00\">gini = 0.49</text>\n",
       "<text text-anchor=\"start\" x=\"315.49\" y=\"-355.32\" font-family=\"Helvetica,sans-Serif\" font-size=\"14.00\">samples = 59</text>\n",
       "<text text-anchor=\"start\" x=\"306.87\" y=\"-338.07\" font-family=\"Helvetica,sans-Serif\" font-size=\"14.00\">value = [25, 34]</text>\n",
       "</g>\n",
       "<!-- 5&#45;&gt;6 -->\n",
       "<g id=\"edge6\" class=\"edge\">\n",
       "<title>5&#45;&gt;6</title>\n",
       "<path fill=\"none\" stroke=\"black\" d=\"M413.92,-434.11C406.19,-422.81 397.71,-410.43 389.96,-399.11\"/>\n",
       "<polygon fill=\"black\" stroke=\"black\" points=\"392.47,-397.59 383.94,-391.31 386.7,-401.54 392.47,-397.59\"/>\n",
       "</g>\n",
       "<!-- 7 -->\n",
       "<g id=\"node8\" class=\"node\">\n",
       "<title>7</title>\n",
       "<path fill=\"#f6d5bd\" stroke=\"black\" d=\"M573.87,-389.88C573.87,-389.88 467.87,-389.88 467.87,-389.88 461.87,-389.88 455.87,-383.88 455.87,-377.88 455.87,-377.88 455.87,-342.12 455.87,-342.12 455.87,-336.12 461.87,-330.12 467.87,-330.12 467.87,-330.12 573.87,-330.12 573.87,-330.12 579.87,-330.12 585.87,-336.12 585.87,-342.12 585.87,-342.12 585.87,-377.88 585.87,-377.88 585.87,-383.88 579.87,-389.88 573.87,-389.88\"/>\n",
       "<text text-anchor=\"start\" x=\"481.87\" y=\"-372.57\" font-family=\"Helvetica,sans-Serif\" font-size=\"14.00\">gini = 0.48</text>\n",
       "<text text-anchor=\"start\" x=\"472.49\" y=\"-355.32\" font-family=\"Helvetica,sans-Serif\" font-size=\"14.00\">samples = 50</text>\n",
       "<text text-anchor=\"start\" x=\"463.87\" y=\"-338.07\" font-family=\"Helvetica,sans-Serif\" font-size=\"14.00\">value = [30, 20]</text>\n",
       "</g>\n",
       "<!-- 5&#45;&gt;7 -->\n",
       "<g id=\"edge7\" class=\"edge\">\n",
       "<title>5&#45;&gt;7</title>\n",
       "<path fill=\"none\" stroke=\"black\" d=\"M467.52,-434.11C475.76,-422.81 484.8,-410.43 493.05,-399.11\"/>\n",
       "<polygon fill=\"black\" stroke=\"black\" points=\"496.41,-401.45 499.48,-391.31 490.75,-397.33 496.41,-401.45\"/>\n",
       "</g>\n",
       "<!-- 9 -->\n",
       "<g id=\"node10\" class=\"node\">\n",
       "<title>9</title>\n",
       "<path fill=\"#e99659\" stroke=\"black\" d=\"M816.37,-511.5C816.37,-511.5 701.37,-511.5 701.37,-511.5 695.37,-511.5 689.37,-505.5 689.37,-499.5 689.37,-499.5 689.37,-446.5 689.37,-446.5 689.37,-440.5 695.37,-434.5 701.37,-434.5 701.37,-434.5 816.37,-434.5 816.37,-434.5 822.37,-434.5 828.37,-440.5 828.37,-446.5 828.37,-446.5 828.37,-499.5 828.37,-499.5 828.37,-505.5 822.37,-511.5 816.37,-511.5\"/>\n",
       "<text text-anchor=\"start\" x=\"719.12\" y=\"-494.2\" font-family=\"Helvetica,sans-Serif\" font-size=\"14.00\">Age ≤ 20.5</text>\n",
       "<text text-anchor=\"start\" x=\"719.87\" y=\"-476.95\" font-family=\"Helvetica,sans-Serif\" font-size=\"14.00\">gini = 0.24</text>\n",
       "<text text-anchor=\"start\" x=\"705.99\" y=\"-459.7\" font-family=\"Helvetica,sans-Serif\" font-size=\"14.00\">samples = 320</text>\n",
       "<text text-anchor=\"start\" x=\"697.37\" y=\"-442.45\" font-family=\"Helvetica,sans-Serif\" font-size=\"14.00\">value = [275, 45]</text>\n",
       "</g>\n",
       "<!-- 8&#45;&gt;9 -->\n",
       "<g id=\"edge9\" class=\"edge\">\n",
       "<title>8&#45;&gt;9</title>\n",
       "<path fill=\"none\" stroke=\"black\" d=\"M758.87,-547.11C758.87,-539.25 758.87,-530.87 758.87,-522.69\"/>\n",
       "<polygon fill=\"black\" stroke=\"black\" points=\"762.37,-522.72 758.87,-512.72 755.37,-522.72 762.37,-522.72\"/>\n",
       "</g>\n",
       "<!-- 18 -->\n",
       "<g id=\"node19\" class=\"node\">\n",
       "<title>18</title>\n",
       "<path fill=\"#f1bc96\" stroke=\"black\" d=\"M1055.87,-511.5C1055.87,-511.5 949.87,-511.5 949.87,-511.5 943.87,-511.5 937.87,-505.5 937.87,-499.5 937.87,-499.5 937.87,-446.5 937.87,-446.5 937.87,-440.5 943.87,-434.5 949.87,-434.5 949.87,-434.5 1055.87,-434.5 1055.87,-434.5 1061.87,-434.5 1067.87,-440.5 1067.87,-446.5 1067.87,-446.5 1067.87,-499.5 1067.87,-499.5 1067.87,-505.5 1061.87,-511.5 1055.87,-511.5\"/>\n",
       "<text text-anchor=\"start\" x=\"961.24\" y=\"-494.2\" font-family=\"Helvetica,sans-Serif\" font-size=\"14.00\">SibSp ≤ 0.5</text>\n",
       "<text text-anchor=\"start\" x=\"963.87\" y=\"-476.95\" font-family=\"Helvetica,sans-Serif\" font-size=\"14.00\">gini = 0.43</text>\n",
       "<text text-anchor=\"start\" x=\"949.99\" y=\"-459.7\" font-family=\"Helvetica,sans-Serif\" font-size=\"14.00\">samples = 119</text>\n",
       "<text text-anchor=\"start\" x=\"945.87\" y=\"-442.45\" font-family=\"Helvetica,sans-Serif\" font-size=\"14.00\">value = [81, 38]</text>\n",
       "</g>\n",
       "<!-- 8&#45;&gt;18 -->\n",
       "<g id=\"edge18\" class=\"edge\">\n",
       "<title>8&#45;&gt;18</title>\n",
       "<path fill=\"none\" stroke=\"black\" d=\"M828.79,-553.19C859.8,-539.08 896.34,-522.46 927.91,-508.1\"/>\n",
       "<polygon fill=\"black\" stroke=\"black\" points=\"928.89,-511.04 936.54,-503.72 925.99,-504.67 928.89,-511.04\"/>\n",
       "</g>\n",
       "<!-- 10 -->\n",
       "<g id=\"node11\" class=\"node\">\n",
       "<title>10</title>\n",
       "<path fill=\"#f1b992\" stroke=\"black\" d=\"M730.87,-389.88C730.87,-389.88 624.87,-389.88 624.87,-389.88 618.87,-389.88 612.87,-383.88 612.87,-377.88 612.87,-377.88 612.87,-342.12 612.87,-342.12 612.87,-336.12 618.87,-330.12 624.87,-330.12 624.87,-330.12 730.87,-330.12 730.87,-330.12 736.87,-330.12 742.87,-336.12 742.87,-342.12 742.87,-342.12 742.87,-377.88 742.87,-377.88 742.87,-383.88 736.87,-389.88 730.87,-389.88\"/>\n",
       "<text text-anchor=\"start\" x=\"638.87\" y=\"-372.57\" font-family=\"Helvetica,sans-Serif\" font-size=\"14.00\">gini = 0.43</text>\n",
       "<text text-anchor=\"start\" x=\"629.49\" y=\"-355.32\" font-family=\"Helvetica,sans-Serif\" font-size=\"14.00\">samples = 55</text>\n",
       "<text text-anchor=\"start\" x=\"620.87\" y=\"-338.07\" font-family=\"Helvetica,sans-Serif\" font-size=\"14.00\">value = [38, 17]</text>\n",
       "</g>\n",
       "<!-- 9&#45;&gt;10 -->\n",
       "<g id=\"edge10\" class=\"edge\">\n",
       "<title>9&#45;&gt;10</title>\n",
       "<path fill=\"none\" stroke=\"black\" d=\"M731.22,-434.11C722.97,-422.81 713.93,-410.43 705.68,-399.11\"/>\n",
       "<polygon fill=\"black\" stroke=\"black\" points=\"707.98,-397.33 699.26,-391.31 702.32,-401.45 707.98,-397.33\"/>\n",
       "</g>\n",
       "<!-- 11 -->\n",
       "<g id=\"node12\" class=\"node\">\n",
       "<title>11</title>\n",
       "<path fill=\"#e89050\" stroke=\"black\" d=\"M898.37,-398.5C898.37,-398.5 783.37,-398.5 783.37,-398.5 777.37,-398.5 771.37,-392.5 771.37,-386.5 771.37,-386.5 771.37,-333.5 771.37,-333.5 771.37,-327.5 777.37,-321.5 783.37,-321.5 783.37,-321.5 898.37,-321.5 898.37,-321.5 904.37,-321.5 910.37,-327.5 910.37,-333.5 910.37,-333.5 910.37,-386.5 910.37,-386.5 910.37,-392.5 904.37,-398.5 898.37,-398.5\"/>\n",
       "<text text-anchor=\"start\" x=\"801.12\" y=\"-381.2\" font-family=\"Helvetica,sans-Serif\" font-size=\"14.00\">Age ≤ 32.5</text>\n",
       "<text text-anchor=\"start\" x=\"801.87\" y=\"-363.95\" font-family=\"Helvetica,sans-Serif\" font-size=\"14.00\">gini = 0.19</text>\n",
       "<text text-anchor=\"start\" x=\"787.99\" y=\"-346.7\" font-family=\"Helvetica,sans-Serif\" font-size=\"14.00\">samples = 265</text>\n",
       "<text text-anchor=\"start\" x=\"779.37\" y=\"-329.45\" font-family=\"Helvetica,sans-Serif\" font-size=\"14.00\">value = [237, 28]</text>\n",
       "</g>\n",
       "<!-- 9&#45;&gt;11 -->\n",
       "<g id=\"edge11\" class=\"edge\">\n",
       "<title>9&#45;&gt;11</title>\n",
       "<path fill=\"none\" stroke=\"black\" d=\"M786.86,-434.11C793.19,-425.54 799.98,-416.34 806.55,-407.46\"/>\n",
       "<polygon fill=\"black\" stroke=\"black\" points=\"809.87,-409.84 813,-399.72 804.24,-405.68 809.87,-409.84\"/>\n",
       "</g>\n",
       "<!-- 12 -->\n",
       "<g id=\"node13\" class=\"node\">\n",
       "<title>12</title>\n",
       "<path fill=\"#e99356\" stroke=\"black\" d=\"M819.37,-285.5C819.37,-285.5 704.37,-285.5 704.37,-285.5 698.37,-285.5 692.37,-279.5 692.37,-273.5 692.37,-273.5 692.37,-220.5 692.37,-220.5 692.37,-214.5 698.37,-208.5 704.37,-208.5 704.37,-208.5 819.37,-208.5 819.37,-208.5 825.37,-208.5 831.37,-214.5 831.37,-220.5 831.37,-220.5 831.37,-273.5 831.37,-273.5 831.37,-279.5 825.37,-285.5 819.37,-285.5\"/>\n",
       "<text text-anchor=\"start\" x=\"717.62\" y=\"-268.2\" font-family=\"Helvetica,sans-Serif\" font-size=\"14.00\">Age ≤ 24.75</text>\n",
       "<text text-anchor=\"start\" x=\"722.87\" y=\"-250.95\" font-family=\"Helvetica,sans-Serif\" font-size=\"14.00\">gini = 0.22</text>\n",
       "<text text-anchor=\"start\" x=\"708.99\" y=\"-233.7\" font-family=\"Helvetica,sans-Serif\" font-size=\"14.00\">samples = 181</text>\n",
       "<text text-anchor=\"start\" x=\"700.37\" y=\"-216.45\" font-family=\"Helvetica,sans-Serif\" font-size=\"14.00\">value = [158, 23]</text>\n",
       "</g>\n",
       "<!-- 11&#45;&gt;12 -->\n",
       "<g id=\"edge12\" class=\"edge\">\n",
       "<title>11&#45;&gt;12</title>\n",
       "<path fill=\"none\" stroke=\"black\" d=\"M813.9,-321.11C807.8,-312.54 801.25,-303.34 794.93,-294.46\"/>\n",
       "<polygon fill=\"black\" stroke=\"black\" points=\"797.36,-292.84 788.71,-286.72 791.66,-296.9 797.36,-292.84\"/>\n",
       "</g>\n",
       "<!-- 17 -->\n",
       "<g id=\"node18\" class=\"node\">\n",
       "<title>17</title>\n",
       "<path fill=\"#e78946\" stroke=\"black\" d=\"M967.37,-276.88C967.37,-276.88 870.37,-276.88 870.37,-276.88 864.37,-276.88 858.37,-270.88 858.37,-264.88 858.37,-264.88 858.37,-229.12 858.37,-229.12 858.37,-223.12 864.37,-217.12 870.37,-217.12 870.37,-217.12 967.37,-217.12 967.37,-217.12 973.37,-217.12 979.37,-223.12 979.37,-229.12 979.37,-229.12 979.37,-264.88 979.37,-264.88 979.37,-270.88 973.37,-276.88 967.37,-276.88\"/>\n",
       "<text text-anchor=\"start\" x=\"879.87\" y=\"-259.57\" font-family=\"Helvetica,sans-Serif\" font-size=\"14.00\">gini = 0.11</text>\n",
       "<text text-anchor=\"start\" x=\"870.49\" y=\"-242.32\" font-family=\"Helvetica,sans-Serif\" font-size=\"14.00\">samples = 84</text>\n",
       "<text text-anchor=\"start\" x=\"866.37\" y=\"-225.07\" font-family=\"Helvetica,sans-Serif\" font-size=\"14.00\">value = [79, 5]</text>\n",
       "</g>\n",
       "<!-- 11&#45;&gt;17 -->\n",
       "<g id=\"edge17\" class=\"edge\">\n",
       "<title>11&#45;&gt;17</title>\n",
       "<path fill=\"none\" stroke=\"black\" d=\"M867.49,-321.11C875.43,-309.81 884.13,-297.43 892.08,-286.11\"/>\n",
       "<polygon fill=\"black\" stroke=\"black\" points=\"895.38,-288.51 898.27,-278.31 889.66,-284.48 895.38,-288.51\"/>\n",
       "</g>\n",
       "<!-- 13 -->\n",
       "<g id=\"node14\" class=\"node\">\n",
       "<title>13</title>\n",
       "<path fill=\"#e88d4c\" stroke=\"black\" d=\"M739.37,-172.5C739.37,-172.5 624.37,-172.5 624.37,-172.5 618.37,-172.5 612.37,-166.5 612.37,-160.5 612.37,-160.5 612.37,-107.5 612.37,-107.5 612.37,-101.5 618.37,-95.5 624.37,-95.5 624.37,-95.5 739.37,-95.5 739.37,-95.5 745.37,-95.5 751.37,-101.5 751.37,-107.5 751.37,-107.5 751.37,-160.5 751.37,-160.5 751.37,-166.5 745.37,-172.5 739.37,-172.5\"/>\n",
       "<text text-anchor=\"start\" x=\"628.99\" y=\"-155.2\" font-family=\"Helvetica,sans-Serif\" font-size=\"14.00\">LogFare ≤ 2.18</text>\n",
       "<text text-anchor=\"start\" x=\"642.87\" y=\"-137.95\" font-family=\"Helvetica,sans-Serif\" font-size=\"14.00\">gini = 0.16</text>\n",
       "<text text-anchor=\"start\" x=\"628.99\" y=\"-120.7\" font-family=\"Helvetica,sans-Serif\" font-size=\"14.00\">samples = 114</text>\n",
       "<text text-anchor=\"start\" x=\"620.37\" y=\"-103.45\" font-family=\"Helvetica,sans-Serif\" font-size=\"14.00\">value = [104, 10]</text>\n",
       "</g>\n",
       "<!-- 12&#45;&gt;13 -->\n",
       "<g id=\"edge13\" class=\"edge\">\n",
       "<title>12&#45;&gt;13</title>\n",
       "<path fill=\"none\" stroke=\"black\" d=\"M734.56,-208.11C728.38,-199.54 721.75,-190.34 715.35,-181.46\"/>\n",
       "<polygon fill=\"black\" stroke=\"black\" points=\"717.74,-179.78 709.05,-173.72 712.06,-183.88 717.74,-179.78\"/>\n",
       "</g>\n",
       "<!-- 16 -->\n",
       "<g id=\"node17\" class=\"node\">\n",
       "<title>16</title>\n",
       "<path fill=\"#eb9f69\" stroke=\"black\" d=\"M896.87,-163.88C896.87,-163.88 790.87,-163.88 790.87,-163.88 784.87,-163.88 778.87,-157.88 778.87,-151.88 778.87,-151.88 778.87,-116.12 778.87,-116.12 778.87,-110.12 784.87,-104.12 790.87,-104.12 790.87,-104.12 896.87,-104.12 896.87,-104.12 902.87,-104.12 908.87,-110.12 908.87,-116.12 908.87,-116.12 908.87,-151.88 908.87,-151.88 908.87,-157.88 902.87,-163.88 896.87,-163.88\"/>\n",
       "<text text-anchor=\"start\" x=\"804.87\" y=\"-146.57\" font-family=\"Helvetica,sans-Serif\" font-size=\"14.00\">gini = 0.31</text>\n",
       "<text text-anchor=\"start\" x=\"795.49\" y=\"-129.32\" font-family=\"Helvetica,sans-Serif\" font-size=\"14.00\">samples = 67</text>\n",
       "<text text-anchor=\"start\" x=\"786.87\" y=\"-112.08\" font-family=\"Helvetica,sans-Serif\" font-size=\"14.00\">value = [54, 13]</text>\n",
       "</g>\n",
       "<!-- 12&#45;&gt;16 -->\n",
       "<g id=\"edge16\" class=\"edge\">\n",
       "<title>12&#45;&gt;16</title>\n",
       "<path fill=\"none\" stroke=\"black\" d=\"M789.86,-208.11C798.2,-196.81 807.35,-184.43 815.71,-173.11\"/>\n",
       "<polygon fill=\"black\" stroke=\"black\" points=\"819.09,-175.43 822.21,-165.31 813.46,-171.28 819.09,-175.43\"/>\n",
       "</g>\n",
       "<!-- 14 -->\n",
       "<g id=\"node15\" class=\"node\">\n",
       "<title>14</title>\n",
       "<path fill=\"#e99254\" stroke=\"black\" d=\"M656.37,-59.88C656.37,-59.88 559.37,-59.88 559.37,-59.88 553.37,-59.88 547.37,-53.88 547.37,-47.88 547.37,-47.88 547.37,-12.12 547.37,-12.12 547.37,-6.12 553.37,-0.12 559.37,-0.12 559.37,-0.12 656.37,-0.12 656.37,-0.12 662.37,-0.12 668.37,-6.12 668.37,-12.12 668.37,-12.12 668.37,-47.88 668.37,-47.88 668.37,-53.88 662.37,-59.88 656.37,-59.88\"/>\n",
       "<text text-anchor=\"start\" x=\"568.87\" y=\"-42.58\" font-family=\"Helvetica,sans-Serif\" font-size=\"14.00\">gini = 0.21</text>\n",
       "<text text-anchor=\"start\" x=\"559.49\" y=\"-25.32\" font-family=\"Helvetica,sans-Serif\" font-size=\"14.00\">samples = 50</text>\n",
       "<text text-anchor=\"start\" x=\"555.37\" y=\"-8.07\" font-family=\"Helvetica,sans-Serif\" font-size=\"14.00\">value = [44, 6]</text>\n",
       "</g>\n",
       "<!-- 13&#45;&gt;14 -->\n",
       "<g id=\"edge14\" class=\"edge\">\n",
       "<title>13&#45;&gt;14</title>\n",
       "<path fill=\"none\" stroke=\"black\" d=\"M654.31,-95.02C648.09,-86.44 641.49,-77.34 635.27,-68.77\"/>\n",
       "<polygon fill=\"black\" stroke=\"black\" points=\"637.67,-67.12 628.97,-61.08 632.01,-71.23 637.67,-67.12\"/>\n",
       "</g>\n",
       "<!-- 15 -->\n",
       "<g id=\"node16\" class=\"node\">\n",
       "<title>15</title>\n",
       "<path fill=\"#e78946\" stroke=\"black\" d=\"M804.37,-59.88C804.37,-59.88 707.37,-59.88 707.37,-59.88 701.37,-59.88 695.37,-53.88 695.37,-47.88 695.37,-47.88 695.37,-12.12 695.37,-12.12 695.37,-6.12 701.37,-0.12 707.37,-0.12 707.37,-0.12 804.37,-0.12 804.37,-0.12 810.37,-0.12 816.37,-6.12 816.37,-12.12 816.37,-12.12 816.37,-47.88 816.37,-47.88 816.37,-53.88 810.37,-59.88 804.37,-59.88\"/>\n",
       "<text text-anchor=\"start\" x=\"716.87\" y=\"-42.58\" font-family=\"Helvetica,sans-Serif\" font-size=\"14.00\">gini = 0.12</text>\n",
       "<text text-anchor=\"start\" x=\"707.49\" y=\"-25.32\" font-family=\"Helvetica,sans-Serif\" font-size=\"14.00\">samples = 64</text>\n",
       "<text text-anchor=\"start\" x=\"703.37\" y=\"-8.07\" font-family=\"Helvetica,sans-Serif\" font-size=\"14.00\">value = [60, 4]</text>\n",
       "</g>\n",
       "<!-- 13&#45;&gt;15 -->\n",
       "<g id=\"edge15\" class=\"edge\">\n",
       "<title>13&#45;&gt;15</title>\n",
       "<path fill=\"none\" stroke=\"black\" d=\"M709.42,-95.02C715.64,-86.44 722.25,-77.34 728.46,-68.77\"/>\n",
       "<polygon fill=\"black\" stroke=\"black\" points=\"731.73,-71.23 734.77,-61.08 726.06,-67.12 731.73,-71.23\"/>\n",
       "</g>\n",
       "<!-- 19 -->\n",
       "<g id=\"node20\" class=\"node\">\n",
       "<title>19</title>\n",
       "<path fill=\"#f6d5bd\" stroke=\"black\" d=\"M1055.87,-389.88C1055.87,-389.88 949.87,-389.88 949.87,-389.88 943.87,-389.88 937.87,-383.88 937.87,-377.88 937.87,-377.88 937.87,-342.12 937.87,-342.12 937.87,-336.12 943.87,-330.12 949.87,-330.12 949.87,-330.12 1055.87,-330.12 1055.87,-330.12 1061.87,-330.12 1067.87,-336.12 1067.87,-342.12 1067.87,-342.12 1067.87,-377.88 1067.87,-377.88 1067.87,-383.88 1061.87,-389.88 1055.87,-389.88\"/>\n",
       "<text text-anchor=\"start\" x=\"963.87\" y=\"-372.57\" font-family=\"Helvetica,sans-Serif\" font-size=\"14.00\">gini = 0.48</text>\n",
       "<text text-anchor=\"start\" x=\"954.49\" y=\"-355.32\" font-family=\"Helvetica,sans-Serif\" font-size=\"14.00\">samples = 60</text>\n",
       "<text text-anchor=\"start\" x=\"945.87\" y=\"-338.07\" font-family=\"Helvetica,sans-Serif\" font-size=\"14.00\">value = [36, 24]</text>\n",
       "</g>\n",
       "<!-- 18&#45;&gt;19 -->\n",
       "<g id=\"edge19\" class=\"edge\">\n",
       "<title>18&#45;&gt;19</title>\n",
       "<path fill=\"none\" stroke=\"black\" d=\"M1002.87,-434.11C1002.87,-423.48 1002.87,-411.89 1002.87,-401.14\"/>\n",
       "<polygon fill=\"black\" stroke=\"black\" points=\"1006.37,-401.31 1002.87,-391.31 999.37,-401.31 1006.37,-401.31\"/>\n",
       "</g>\n",
       "<!-- 20 -->\n",
       "<g id=\"node21\" class=\"node\">\n",
       "<title>20</title>\n",
       "<path fill=\"#eda877\" stroke=\"black\" d=\"M1212.87,-389.88C1212.87,-389.88 1106.87,-389.88 1106.87,-389.88 1100.87,-389.88 1094.87,-383.88 1094.87,-377.88 1094.87,-377.88 1094.87,-342.12 1094.87,-342.12 1094.87,-336.12 1100.87,-330.12 1106.87,-330.12 1106.87,-330.12 1212.87,-330.12 1212.87,-330.12 1218.87,-330.12 1224.87,-336.12 1224.87,-342.12 1224.87,-342.12 1224.87,-377.88 1224.87,-377.88 1224.87,-383.88 1218.87,-389.88 1212.87,-389.88\"/>\n",
       "<text text-anchor=\"start\" x=\"1120.87\" y=\"-372.57\" font-family=\"Helvetica,sans-Serif\" font-size=\"14.00\">gini = 0.36</text>\n",
       "<text text-anchor=\"start\" x=\"1111.49\" y=\"-355.32\" font-family=\"Helvetica,sans-Serif\" font-size=\"14.00\">samples = 59</text>\n",
       "<text text-anchor=\"start\" x=\"1102.87\" y=\"-338.07\" font-family=\"Helvetica,sans-Serif\" font-size=\"14.00\">value = [45, 14]</text>\n",
       "</g>\n",
       "<!-- 18&#45;&gt;20 -->\n",
       "<g id=\"edge20\" class=\"edge\">\n",
       "<title>18&#45;&gt;20</title>\n",
       "<path fill=\"none\" stroke=\"black\" d=\"M1056.46,-434.11C1073.7,-421.92 1092.74,-408.46 1109.73,-396.45\"/>\n",
       "<polygon fill=\"black\" stroke=\"black\" points=\"1111.26,-398.94 1117.41,-390.31 1107.22,-393.23 1111.26,-398.94\"/>\n",
       "</g>\n",
       "</g>\n",
       "</svg>\n"
      ],
      "text/plain": [
       "<graphviz.sources.Source at 0x7bf6ec3c0e80>"
      ]
     },
     "execution_count": 124,
     "metadata": {},
     "output_type": "execute_result"
    }
   ],
   "source": [
    "m = DecisionTreeClassifier(min_samples_leaf=50)\n",
    "m.fit(trn_xs, trn_y)\n",
    "draw_tree(m, trn_xs, size=12)"
   ]
  },
  {
   "cell_type": "code",
   "execution_count": 125,
   "id": "67fa177c",
   "metadata": {
    "execution": {
     "iopub.execute_input": "2023-07-15T00:24:58.196626Z",
     "iopub.status.busy": "2023-07-15T00:24:58.196066Z",
     "iopub.status.idle": "2023-07-15T00:24:58.206361Z",
     "shell.execute_reply": "2023-07-15T00:24:58.205314Z"
    },
    "papermill": {
     "duration": 0.063201,
     "end_time": "2023-07-15T00:24:58.208564",
     "exception": false,
     "start_time": "2023-07-15T00:24:58.145363",
     "status": "completed"
    },
    "tags": []
   },
   "outputs": [
    {
     "data": {
      "text/plain": [
       "0.18385650224215247"
      ]
     },
     "execution_count": 125,
     "metadata": {},
     "output_type": "execute_result"
    }
   ],
   "source": [
    "mean_absolute_error(val_y, m.predict(val_xs))"
   ]
  },
  {
   "cell_type": "code",
   "execution_count": 126,
   "id": "ddc60525",
   "metadata": {
    "execution": {
     "iopub.execute_input": "2023-07-15T00:24:58.309750Z",
     "iopub.status.busy": "2023-07-15T00:24:58.309385Z",
     "iopub.status.idle": "2023-07-15T00:24:58.324725Z",
     "shell.execute_reply": "2023-07-15T00:24:58.323809Z"
    },
    "papermill": {
     "duration": 0.06909,
     "end_time": "2023-07-15T00:24:58.326864",
     "exception": false,
     "start_time": "2023-07-15T00:24:58.257774",
     "status": "completed"
    },
    "tags": []
   },
   "outputs": [],
   "source": [
    "tst_df[cats] = tst_df[cats].apply(lambda x: x.cat.codes)\n",
    "tst_xs,_ = xs_y(tst_df)\n",
    "\n",
    "def subm(preds, suff):\n",
    "    tst_df['Survived'] = preds\n",
    "    sub_df = tst_df[['PassengerId','Survived']]\n",
    "    sub_df.to_csv(f'sub-{suff}.csv', index=False)\n",
    "\n",
    "subm(m.predict(tst_xs), 'tree')"
   ]
  },
  {
   "cell_type": "code",
   "execution_count": 127,
   "id": "37b96739",
   "metadata": {
    "execution": {
     "iopub.execute_input": "2023-07-15T00:24:58.429979Z",
     "iopub.status.busy": "2023-07-15T00:24:58.429585Z",
     "iopub.status.idle": "2023-07-15T00:24:58.436996Z",
     "shell.execute_reply": "2023-07-15T00:24:58.436125Z"
    },
    "papermill": {
     "duration": 0.060071,
     "end_time": "2023-07-15T00:24:58.439050",
     "exception": false,
     "start_time": "2023-07-15T00:24:58.378979",
     "status": "completed"
    },
    "tags": []
   },
   "outputs": [
    {
     "data": {
      "text/plain": [
       "0    S\n",
       "1    C\n",
       "2    S\n",
       "3    S\n",
       "4    S\n",
       "Name: Embarked, dtype: category\n",
       "Categories (3, object): ['C', 'Q', 'S']"
      ]
     },
     "execution_count": 127,
     "metadata": {},
     "output_type": "execute_result"
    }
   ],
   "source": [
    "df.Embarked.head()"
   ]
  },
  {
   "cell_type": "code",
   "execution_count": 128,
   "id": "648c90b8",
   "metadata": {
    "execution": {
     "iopub.execute_input": "2023-07-15T00:24:58.539099Z",
     "iopub.status.busy": "2023-07-15T00:24:58.538221Z",
     "iopub.status.idle": "2023-07-15T00:24:58.546054Z",
     "shell.execute_reply": "2023-07-15T00:24:58.545120Z"
    },
    "papermill": {
     "duration": 0.059966,
     "end_time": "2023-07-15T00:24:58.548130",
     "exception": false,
     "start_time": "2023-07-15T00:24:58.488164",
     "status": "completed"
    },
    "tags": []
   },
   "outputs": [
    {
     "data": {
      "text/plain": [
       "0    2\n",
       "1    0\n",
       "2    2\n",
       "3    2\n",
       "4    2\n",
       "dtype: int8"
      ]
     },
     "execution_count": 128,
     "metadata": {},
     "output_type": "execute_result"
    }
   ],
   "source": [
    "df.Embarked.cat.codes.head()"
   ]
  },
  {
   "cell_type": "markdown",
   "id": "b1afc4f2",
   "metadata": {
    "papermill": {
     "duration": 0.049658,
     "end_time": "2023-07-15T00:24:58.647165",
     "exception": false,
     "start_time": "2023-07-15T00:24:58.597507",
     "status": "completed"
    },
    "tags": []
   },
   "source": [
    "## The random forest¶"
   ]
  },
  {
   "cell_type": "code",
   "execution_count": 129,
   "id": "704554e5",
   "metadata": {
    "execution": {
     "iopub.execute_input": "2023-07-15T00:24:58.746965Z",
     "iopub.status.busy": "2023-07-15T00:24:58.746600Z",
     "iopub.status.idle": "2023-07-15T00:24:58.751470Z",
     "shell.execute_reply": "2023-07-15T00:24:58.750584Z"
    },
    "papermill": {
     "duration": 0.057056,
     "end_time": "2023-07-15T00:24:58.753398",
     "exception": false,
     "start_time": "2023-07-15T00:24:58.696342",
     "status": "completed"
    },
    "tags": []
   },
   "outputs": [],
   "source": [
    "def get_tree(prop=0.75):\n",
    "    n = len(trn_y)\n",
    "    idxs = random.choice(n, int(n*prop))\n",
    "    return DecisionTreeClassifier(min_samples_leaf=5).fit(trn_xs.iloc[idxs], trn_y.iloc[idxs])"
   ]
  },
  {
   "cell_type": "code",
   "execution_count": 130,
   "id": "1f8b7c86",
   "metadata": {
    "execution": {
     "iopub.execute_input": "2023-07-15T00:24:58.856852Z",
     "iopub.status.busy": "2023-07-15T00:24:58.855860Z",
     "iopub.status.idle": "2023-07-15T00:24:59.139461Z",
     "shell.execute_reply": "2023-07-15T00:24:59.138454Z"
    },
    "papermill": {
     "duration": 0.339048,
     "end_time": "2023-07-15T00:24:59.142329",
     "exception": false,
     "start_time": "2023-07-15T00:24:58.803281",
     "status": "completed"
    },
    "tags": []
   },
   "outputs": [],
   "source": [
    "trees = [get_tree() for t in range(100)]\n"
   ]
  },
  {
   "cell_type": "code",
   "execution_count": 131,
   "id": "bed76b22",
   "metadata": {
    "execution": {
     "iopub.execute_input": "2023-07-15T00:24:59.245900Z",
     "iopub.status.busy": "2023-07-15T00:24:59.244890Z",
     "iopub.status.idle": "2023-07-15T00:24:59.373501Z",
     "shell.execute_reply": "2023-07-15T00:24:59.372334Z"
    },
    "papermill": {
     "duration": 0.182262,
     "end_time": "2023-07-15T00:24:59.376225",
     "exception": false,
     "start_time": "2023-07-15T00:24:59.193963",
     "status": "completed"
    },
    "tags": []
   },
   "outputs": [
    {
     "data": {
      "text/plain": [
       "0.2272645739910314"
      ]
     },
     "execution_count": 131,
     "metadata": {},
     "output_type": "execute_result"
    }
   ],
   "source": [
    "all_probs = [t.predict(val_xs) for t in trees]\n",
    "avg_probs = np.stack(all_probs).mean(0)\n",
    "\n",
    "mean_absolute_error(val_y, avg_probs)"
   ]
  },
  {
   "cell_type": "code",
   "execution_count": 132,
   "id": "0bd1f6fa",
   "metadata": {
    "execution": {
     "iopub.execute_input": "2023-07-15T00:24:59.481698Z",
     "iopub.status.busy": "2023-07-15T00:24:59.481352Z",
     "iopub.status.idle": "2023-07-15T00:24:59.833695Z",
     "shell.execute_reply": "2023-07-15T00:24:59.832709Z"
    },
    "papermill": {
     "duration": 0.406144,
     "end_time": "2023-07-15T00:24:59.835990",
     "exception": false,
     "start_time": "2023-07-15T00:24:59.429846",
     "status": "completed"
    },
    "tags": []
   },
   "outputs": [
    {
     "data": {
      "text/plain": [
       "0.18834080717488788"
      ]
     },
     "execution_count": 132,
     "metadata": {},
     "output_type": "execute_result"
    }
   ],
   "source": [
    "from sklearn.ensemble import RandomForestClassifier\n",
    "\n",
    "rf = RandomForestClassifier(100, min_samples_leaf=5)\n",
    "rf.fit(trn_xs, trn_y);\n",
    "mean_absolute_error(val_y, rf.predict(val_xs))"
   ]
  },
  {
   "cell_type": "code",
   "execution_count": 133,
   "id": "88b2a017",
   "metadata": {
    "execution": {
     "iopub.execute_input": "2023-07-15T00:24:59.938681Z",
     "iopub.status.busy": "2023-07-15T00:24:59.938326Z",
     "iopub.status.idle": "2023-07-15T00:24:59.966383Z",
     "shell.execute_reply": "2023-07-15T00:24:59.965535Z"
    },
    "papermill": {
     "duration": 0.081877,
     "end_time": "2023-07-15T00:24:59.968616",
     "exception": false,
     "start_time": "2023-07-15T00:24:59.886739",
     "status": "completed"
    },
    "tags": []
   },
   "outputs": [],
   "source": [
    "subm(rf.predict(tst_xs), 'rf')"
   ]
  },
  {
   "cell_type": "code",
   "execution_count": 134,
   "id": "9fdc98f8",
   "metadata": {
    "execution": {
     "iopub.execute_input": "2023-07-15T00:25:00.078142Z",
     "iopub.status.busy": "2023-07-15T00:25:00.077802Z",
     "iopub.status.idle": "2023-07-15T00:25:00.373709Z",
     "shell.execute_reply": "2023-07-15T00:25:00.372695Z"
    },
    "papermill": {
     "duration": 0.354641,
     "end_time": "2023-07-15T00:25:00.375947",
     "exception": false,
     "start_time": "2023-07-15T00:25:00.021306",
     "status": "completed"
    },
    "tags": []
   },
   "outputs": [
    {
     "data": {
      "image/png": "[encoded data removed]",
      "text/plain": [
       "<Figure size 640x480 with 1 Axes>"
      ]
     },
     "metadata": {},
     "output_type": "display_data"
    }
   ],
   "source": [
    "pd.DataFrame(dict(cols=trn_xs.columns, imp=m.feature_importances_)).plot('cols', 'imp', 'barh');"
   ]
  },
  {
   "cell_type": "code",
   "execution_count": null,
   "id": "c23280bc",
   "metadata": {
    "papermill": {
     "duration": 0.050096,
     "end_time": "2023-07-15T00:25:00.478663",
     "exception": false,
     "start_time": "2023-07-15T00:25:00.428567",
     "status": "completed"
    },
    "tags": []
   },
   "outputs": [],
   "source": []
  },
  {
   "cell_type": "code",
   "execution_count": null,
   "id": "cdf59037",
   "metadata": {
    "papermill": {
     "duration": 0.049954,
     "end_time": "2023-07-15T00:25:00.578971",
     "exception": false,
     "start_time": "2023-07-15T00:25:00.529017",
     "status": "completed"
    },
    "tags": []
   },
   "outputs": [],
   "source": []
  },
  {
   "cell_type": "markdown",
   "id": "d2ea361a",
   "metadata": {
    "papermill": {
     "duration": 0.049934,
     "end_time": "2023-07-15T00:25:00.678907",
     "exception": false,
     "start_time": "2023-07-15T00:25:00.628973",
     "status": "completed"
    },
    "tags": []
   },
   "source": []
  }
 ],
 "metadata": {
  "kernelspec": {
   "display_name": "Python 3",
   "language": "python",
   "name": "python3"
  },
  "language_info": {
   "codemirror_mode": {
    "name": "ipython",
    "version": 3
   },
   "file_extension": ".py",
   "mimetype": "text/x-python",
   "name": "python",
   "nbconvert_exporter": "python",
   "pygments_lexer": "ipython3",
   "version": "3.10.10"
  },
  "papermill": {
   "default_parameters": {},
   "duration": 72.751466,
   "end_time": "2023-07-15T00:25:02.653834",
   "environment_variables": {},
   "exception": null,
   "input_path": "__notebook__.ipynb",
   "output_path": "__notebook__.ipynb",
   "parameters": {},
   "start_time": "2023-07-15T00:23:49.902368",
   "version": "2.4.0"
  },
  "widgets": {
   "application/vnd.jupyter.widget-state+json": {
    "state": {
     "07203daf07074c73bc53ce39ebdc52c3": {
      "model_module": "@jupyter-widgets/controls",
      "model_module_version": "1.5.0",
      "model_name": "DropdownModel",
      "state": {
       "_dom_classes": [],
       "_model_module": "@jupyter-widgets/controls",
       "_model_module_version": "1.5.0",
       "_model_name": "DropdownModel",
       "_options_labels": [
        "Sex",
        "Embarked"
       ],
       "_view_count": null,
       "_view_module": "@jupyter-widgets/controls",
       "_view_module_version": "1.5.0",
       "_view_name": "DropdownView",
       "description": "nm",
       "description_tooltip": null,
       "disabled": false,
       "index": 0,
       "layout": "IPY_MODEL_3309c46bfb1946fba19a9a40008179d2",
       "style": "IPY_MODEL_74ad72c5dc1d463d815715d02238ec22"
      }
     },
     "0fa5cba7e62c402c859abc15b92513fe": {
      "model_module": "@jupyter-widgets/controls",
      "model_module_version": "1.5.0",
      "model_name": "SliderStyleModel",
      "state": {
       "_model_module": "@jupyter-widgets/controls",
       "_model_module_version": "1.5.0",
       "_model_name": "SliderStyleModel",
       "_view_count": null,
       "_view_module": "@jupyter-widgets/base",
       "_view_module_version": "1.2.0",
       "_view_name": "StyleView",
       "description_width": "",
       "handle_color": null
      }
     },
     "3309c46bfb1946fba19a9a40008179d2": {
      "model_module": "@jupyter-widgets/base",
      "model_module_version": "1.2.0",
      "model_name": "LayoutModel",
      "state": {
       "_model_module": "@jupyter-widgets/base",
       "_model_module_version": "1.2.0",
       "_model_name": "LayoutModel",
       "_view_count": null,
       "_view_module": "@jupyter-widgets/base",
       "_view_module_version": "1.2.0",
       "_view_name": "LayoutView",
       "align_content": null,
       "align_items": null,
       "align_self": null,
       "border": null,
       "bottom": null,
       "display": null,
       "flex": null,
       "flex_flow": null,
       "grid_area": null,
       "grid_auto_columns": null,
       "grid_auto_flow": null,
       "grid_auto_rows": null,
       "grid_column": null,
       "grid_gap": null,
       "grid_row": null,
       "grid_template_areas": null,
       "grid_template_columns": null,
       "grid_template_rows": null,
       "height": null,
       "justify_content": null,
       "justify_items": null,
       "left": null,
       "margin": null,
       "max_height": null,
       "max_width": null,
       "min_height": null,
       "min_width": null,
       "object_fit": null,
       "object_position": null,
       "order": null,
       "overflow": null,
       "overflow_x": null,
       "overflow_y": null,
       "padding": null,
       "right": null,
       "top": null,
       "visibility": null,
       "width": null
      }
     },
     "352c2d0d665d4e9c896c8bbe45d9c864": {
      "model_module": "@jupyter-widgets/base",
      "model_module_version": "1.2.0",
      "model_name": "LayoutModel",
      "state": {
       "_model_module": "@jupyter-widgets/base",
       "_model_module_version": "1.2.0",
       "_model_name": "LayoutModel",
       "_view_count": null,
       "_view_module": "@jupyter-widgets/base",
       "_view_module_version": "1.2.0",
       "_view_name": "LayoutView",
       "align_content": null,
       "align_items": null,
       "align_self": null,
       "border": null,
       "bottom": null,
       "display": null,
       "flex": null,
       "flex_flow": null,
       "grid_area": null,
       "grid_auto_columns": null,
       "grid_auto_flow": null,
       "grid_auto_rows": null,
       "grid_column": null,
       "grid_gap": null,
       "grid_row": null,
       "grid_template_areas": null,
       "grid_template_columns": null,
       "grid_template_rows": null,
       "height": null,
       "justify_content": null,
       "justify_items": null,
       "left": null,
       "margin": null,
       "max_height": null,
       "max_width": null,
       "min_height": null,
       "min_width": null,
       "object_fit": null,
       "object_position": null,
       "order": null,
       "overflow": null,
       "overflow_x": null,
       "overflow_y": null,
       "padding": null,
       "right": null,
       "top": null,
       "visibility": null,
       "width": null
      }
     },
     "3f4f501eccb640bb93c1a4f7bfc5efaa": {
      "model_module": "@jupyter-widgets/controls",
      "model_module_version": "1.5.0",
      "model_name": "FloatSliderModel",
      "state": {
       "_dom_classes": [],
       "_model_module": "@jupyter-widgets/controls",
       "_model_module_version": "1.5.0",
       "_model_name": "FloatSliderModel",
       "_view_count": null,
       "_view_module": "@jupyter-widgets/controls",
       "_view_module_version": "1.5.0",
       "_view_name": "FloatSliderView",
       "continuous_update": true,
       "description": "split",
       "description_tooltip": null,
       "disabled": false,
       "layout": "IPY_MODEL_5b46cfa3140048f598787f1e96e5d647",
       "max": 46.5,
       "min": -15.5,
       "orientation": "horizontal",
       "readout": true,
       "readout_format": ".2f",
       "step": 0.1,
       "style": "IPY_MODEL_8262a7c7eca344dcbd3d8d74221e725d",
       "value": 15.5
      }
     },
     "41648e8430564d0d8a395ef18823dc7c": {
      "model_module": "@jupyter-widgets/controls",
      "model_module_version": "1.5.0",
      "model_name": "DescriptionStyleModel",
      "state": {
       "_model_module": "@jupyter-widgets/controls",
       "_model_module_version": "1.5.0",
       "_model_name": "DescriptionStyleModel",
       "_view_count": null,
       "_view_module": "@jupyter-widgets/base",
       "_view_module_version": "1.2.0",
       "_view_name": "StyleView",
       "description_width": ""
      }
     },
     "4e06ac4aa5fe4feba61cf41a51fe6bd6": {
      "model_module": "@jupyter-widgets/base",
      "model_module_version": "1.2.0",
      "model_name": "LayoutModel",
      "state": {
       "_model_module": "@jupyter-widgets/base",
       "_model_module_version": "1.2.0",
       "_model_name": "LayoutModel",
       "_view_count": null,
       "_view_module": "@jupyter-widgets/base",
       "_view_module_version": "1.2.0",
       "_view_name": "LayoutView",
       "align_content": null,
       "align_items": null,
       "align_self": null,
       "border": null,
       "bottom": null,
       "display": null,
       "flex": null,
       "flex_flow": null,
       "grid_area": null,
       "grid_auto_columns": null,
       "grid_auto_flow": null,
       "grid_auto_rows": null,
       "grid_column": null,
       "grid_gap": null,
       "grid_row": null,
       "grid_template_areas": null,
       "grid_template_columns": null,
       "grid_template_rows": null,
       "height": null,
       "justify_content": null,
       "justify_items": null,
       "left": null,
       "margin": null,
       "max_height": null,
       "max_width": null,
       "min_height": null,
       "min_width": null,
       "object_fit": null,
       "object_position": null,
       "order": null,
       "overflow": null,
       "overflow_x": null,
       "overflow_y": null,
       "padding": null,
       "right": null,
       "top": null,
       "visibility": null,
       "width": null
      }
     },
     "5059d08ad42940fca6df6e6856a77c15": {
      "model_module": "@jupyter-widgets/base",
      "model_module_version": "1.2.0",
      "model_name": "LayoutModel",
      "state": {
       "_model_module": "@jupyter-widgets/base",
       "_model_module_version": "1.2.0",
       "_model_name": "LayoutModel",
       "_view_count": null,
       "_view_module": "@jupyter-widgets/base",
       "_view_module_version": "1.2.0",
       "_view_name": "LayoutView",
       "align_content": null,
       "align_items": null,
       "align_self": null,
       "border": null,
       "bottom": null,
       "display": null,
       "flex": null,
       "flex_flow": null,
       "grid_area": null,
       "grid_auto_columns": null,
       "grid_auto_flow": null,
       "grid_auto_rows": null,
       "grid_column": null,
       "grid_gap": null,
       "grid_row": null,
       "grid_template_areas": null,
       "grid_template_columns": null,
       "grid_template_rows": null,
       "height": null,
       "justify_content": null,
       "justify_items": null,
       "left": null,
       "margin": null,
       "max_height": null,
       "max_width": null,
       "min_height": null,
       "min_width": null,
       "object_fit": null,
       "object_position": null,
       "order": null,
       "overflow": null,
       "overflow_x": null,
       "overflow_y": null,
       "padding": null,
       "right": null,
       "top": null,
       "visibility": null,
       "width": null
      }
     },
     "5b46cfa3140048f598787f1e96e5d647": {
      "model_module": "@jupyter-widgets/base",
      "model_module_version": "1.2.0",
      "model_name": "LayoutModel",
      "state": {
       "_model_module": "@jupyter-widgets/base",
       "_model_module_version": "1.2.0",
       "_model_name": "LayoutModel",
       "_view_count": null,
       "_view_module": "@jupyter-widgets/base",
       "_view_module_version": "1.2.0",
       "_view_name": "LayoutView",
       "align_content": null,
       "align_items": null,
       "align_self": null,
       "border": null,
       "bottom": null,
       "display": null,
       "flex": null,
       "flex_flow": null,
       "grid_area": null,
       "grid_auto_columns": null,
       "grid_auto_flow": null,
       "grid_auto_rows": null,
       "grid_column": null,
       "grid_gap": null,
       "grid_row": null,
       "grid_template_areas": null,
       "grid_template_columns": null,
       "grid_template_rows": null,
       "height": null,
       "justify_content": null,
       "justify_items": null,
       "left": null,
       "margin": null,
       "max_height": null,
       "max_width": null,
       "min_height": null,
       "min_width": null,
       "object_fit": null,
       "object_position": null,
       "order": null,
       "overflow": null,
       "overflow_x": null,
       "overflow_y": null,
       "padding": null,
       "right": null,
       "top": null,
       "visibility": null,
       "width": null
      }
     },
     "73ec73d8aca94526aa5caf450e325473": {
      "model_module": "@jupyter-widgets/output",
      "model_module_version": "1.0.0",
      "model_name": "OutputModel",
      "state": {
       "_dom_classes": [],
       "_model_module": "@jupyter-widgets/output",
       "_model_module_version": "1.0.0",
       "_model_name": "OutputModel",
       "_view_count": null,
       "_view_module": "@jupyter-widgets/output",
       "_view_module_version": "1.0.0",
       "_view_name": "OutputView",
       "layout": "IPY_MODEL_d769c2d63ed1482388a6beed59809853",
       "msg_id": "",
       "outputs": [
        {
         "data": {
          "text/plain": "0.48105614369455413"
         },
         "metadata": {},
         "output_type": "display_data"
        }
       ]
      }
     },
     "74ad72c5dc1d463d815715d02238ec22": {
      "model_module": "@jupyter-widgets/controls",
      "model_module_version": "1.5.0",
      "model_name": "DescriptionStyleModel",
      "state": {
       "_model_module": "@jupyter-widgets/controls",
       "_model_module_version": "1.5.0",
       "_model_name": "DescriptionStyleModel",
       "_view_count": null,
       "_view_module": "@jupyter-widgets/base",
       "_view_module_version": "1.2.0",
       "_view_name": "StyleView",
       "description_width": ""
      }
     },
     "8262a7c7eca344dcbd3d8d74221e725d": {
      "model_module": "@jupyter-widgets/controls",
      "model_module_version": "1.5.0",
      "model_name": "SliderStyleModel",
      "state": {
       "_model_module": "@jupyter-widgets/controls",
       "_model_module_version": "1.5.0",
       "_model_name": "SliderStyleModel",
       "_view_count": null,
       "_view_module": "@jupyter-widgets/base",
       "_view_module_version": "1.2.0",
       "_view_name": "StyleView",
       "description_width": "",
       "handle_color": null
      }
     },
     "99bc3f3e310a4d2ab71d8222871e1eab": {
      "model_module": "@jupyter-widgets/controls",
      "model_module_version": "1.5.0",
      "model_name": "VBoxModel",
      "state": {
       "_dom_classes": [
        "widget-interact"
       ],
       "_model_module": "@jupyter-widgets/controls",
       "_model_module_version": "1.5.0",
       "_model_name": "VBoxModel",
       "_view_count": null,
       "_view_module": "@jupyter-widgets/controls",
       "_view_module_version": "1.5.0",
       "_view_name": "VBoxView",
       "box_style": "",
       "children": [
        "IPY_MODEL_f7594b1c97d2481e9c38c040cb6bac18",
        "IPY_MODEL_3f4f501eccb640bb93c1a4f7bfc5efaa",
        "IPY_MODEL_73ec73d8aca94526aa5caf450e325473"
       ],
       "layout": "IPY_MODEL_352c2d0d665d4e9c896c8bbe45d9c864"
      }
     },
     "9e18ea0706824478ae53da6021248c19": {
      "model_module": "@jupyter-widgets/base",
      "model_module_version": "1.2.0",
      "model_name": "LayoutModel",
      "state": {
       "_model_module": "@jupyter-widgets/base",
       "_model_module_version": "1.2.0",
       "_model_name": "LayoutModel",
       "_view_count": null,
       "_view_module": "@jupyter-widgets/base",
       "_view_module_version": "1.2.0",
       "_view_name": "LayoutView",
       "align_content": null,
       "align_items": null,
       "align_self": null,
       "border": null,
       "bottom": null,
       "display": null,
       "flex": null,
       "flex_flow": null,
       "grid_area": null,
       "grid_auto_columns": null,
       "grid_auto_flow": null,
       "grid_auto_rows": null,
       "grid_column": null,
       "grid_gap": null,
       "grid_row": null,
       "grid_template_areas": null,
       "grid_template_columns": null,
       "grid_template_rows": null,
       "height": null,
       "justify_content": null,
       "justify_items": null,
       "left": null,
       "margin": null,
       "max_height": null,
       "max_width": null,
       "min_height": null,
       "min_width": null,
       "object_fit": null,
       "object_position": null,
       "order": null,
       "overflow": null,
       "overflow_x": null,
       "overflow_y": null,
       "padding": null,
       "right": null,
       "top": null,
       "visibility": null,
       "width": null
      }
     },
     "c8b82ec81ceb442ba6e8fd05b1772275": {
      "model_module": "@jupyter-widgets/output",
      "model_module_version": "1.0.0",
      "model_name": "OutputModel",
      "state": {
       "_dom_classes": [],
       "_model_module": "@jupyter-widgets/output",
       "_model_module_version": "1.0.0",
       "_model_name": "OutputModel",
       "_view_count": null,
       "_view_module": "@jupyter-widgets/output",
       "_view_module_version": "1.0.0",
       "_view_name": "OutputView",
       "layout": "IPY_MODEL_5059d08ad42940fca6df6e6856a77c15",
       "msg_id": "",
       "outputs": [
        {
         "data": {
          "text/plain": "0.4854373192013831"
         },
         "metadata": {},
         "output_type": "display_data"
        }
       ]
      }
     },
     "cd4ef4690c6e45b9b5e31b99dc6b6258": {
      "model_module": "@jupyter-widgets/controls",
      "model_module_version": "1.5.0",
      "model_name": "IntSliderModel",
      "state": {
       "_dom_classes": [],
       "_model_module": "@jupyter-widgets/controls",
       "_model_module_version": "1.5.0",
       "_model_name": "IntSliderModel",
       "_view_count": null,
       "_view_module": "@jupyter-widgets/controls",
       "_view_module_version": "1.5.0",
       "_view_name": "IntSliderView",
       "continuous_update": true,
       "description": "split",
       "description_tooltip": null,
       "disabled": false,
       "layout": "IPY_MODEL_9e18ea0706824478ae53da6021248c19",
       "max": 6,
       "min": -2,
       "orientation": "horizontal",
       "readout": true,
       "readout_format": "d",
       "step": 1,
       "style": "IPY_MODEL_0fa5cba7e62c402c859abc15b92513fe",
       "value": 2
      }
     },
     "d769c2d63ed1482388a6beed59809853": {
      "model_module": "@jupyter-widgets/base",
      "model_module_version": "1.2.0",
      "model_name": "LayoutModel",
      "state": {
       "_model_module": "@jupyter-widgets/base",
       "_model_module_version": "1.2.0",
       "_model_name": "LayoutModel",
       "_view_count": null,
       "_view_module": "@jupyter-widgets/base",
       "_view_module_version": "1.2.0",
       "_view_name": "LayoutView",
       "align_content": null,
       "align_items": null,
       "align_self": null,
       "border": null,
       "bottom": null,
       "display": null,
       "flex": null,
       "flex_flow": null,
       "grid_area": null,
       "grid_auto_columns": null,
       "grid_auto_flow": null,
       "grid_auto_rows": null,
       "grid_column": null,
       "grid_gap": null,
       "grid_row": null,
       "grid_template_areas": null,
       "grid_template_columns": null,
       "grid_template_rows": null,
       "height": null,
       "justify_content": null,
       "justify_items": null,
       "left": null,
       "margin": null,
       "max_height": null,
       "max_width": null,
       "min_height": null,
       "min_width": null,
       "object_fit": null,
       "object_position": null,
       "order": null,
       "overflow": null,
       "overflow_x": null,
       "overflow_y": null,
       "padding": null,
       "right": null,
       "top": null,
       "visibility": null,
       "width": null
      }
     },
     "d8a5534fc0d94f879cad37a0a8dd0939": {
      "model_module": "@jupyter-widgets/controls",
      "model_module_version": "1.5.0",
      "model_name": "VBoxModel",
      "state": {
       "_dom_classes": [
        "widget-interact"
       ],
       "_model_module": "@jupyter-widgets/controls",
       "_model_module_version": "1.5.0",
       "_model_name": "VBoxModel",
       "_view_count": null,
       "_view_module": "@jupyter-widgets/controls",
       "_view_module_version": "1.5.0",
       "_view_name": "VBoxView",
       "box_style": "",
       "children": [
        "IPY_MODEL_07203daf07074c73bc53ce39ebdc52c3",
        "IPY_MODEL_cd4ef4690c6e45b9b5e31b99dc6b6258",
        "IPY_MODEL_c8b82ec81ceb442ba6e8fd05b1772275"
       ],
       "layout": "IPY_MODEL_db45bfc1d6dd49d3abec7fcd98c990a4"
      }
     },
     "db45bfc1d6dd49d3abec7fcd98c990a4": {
      "model_module": "@jupyter-widgets/base",
      "model_module_version": "1.2.0",
      "model_name": "LayoutModel",
      "state": {
       "_model_module": "@jupyter-widgets/base",
       "_model_module_version": "1.2.0",
       "_model_name": "LayoutModel",
       "_view_count": null,
       "_view_module": "@jupyter-widgets/base",
       "_view_module_version": "1.2.0",
       "_view_name": "LayoutView",
       "align_content": null,
       "align_items": null,
       "align_self": null,
       "border": null,
       "bottom": null,
       "display": null,
       "flex": null,
       "flex_flow": null,
       "grid_area": null,
       "grid_auto_columns": null,
       "grid_auto_flow": null,
       "grid_auto_rows": null,
       "grid_column": null,
       "grid_gap": null,
       "grid_row": null,
       "grid_template_areas": null,
       "grid_template_columns": null,
       "grid_template_rows": null,
       "height": null,
       "justify_content": null,
       "justify_items": null,
       "left": null,
       "margin": null,
       "max_height": null,
       "max_width": null,
       "min_height": null,
       "min_width": null,
       "object_fit": null,
       "object_position": null,
       "order": null,
       "overflow": null,
       "overflow_x": null,
       "overflow_y": null,
       "padding": null,
       "right": null,
       "top": null,
       "visibility": null,
       "width": null
      }
     },
     "f7594b1c97d2481e9c38c040cb6bac18": {
      "model_module": "@jupyter-widgets/controls",
      "model_module_version": "1.5.0",
      "model_name": "DropdownModel",
      "state": {
       "_dom_classes": [],
       "_model_module": "@jupyter-widgets/controls",
       "_model_module_version": "1.5.0",
       "_model_name": "DropdownModel",
       "_options_labels": [
        "Age",
        "SibSp",
        "Parch",
        "LogFare",
        "Pclass"
       ],
       "_view_count": null,
       "_view_module": "@jupyter-widgets/controls",
       "_view_module_version": "1.5.0",
       "_view_name": "DropdownView",
       "description": "nm",
       "description_tooltip": null,
       "disabled": false,
       "index": 0,
       "layout": "IPY_MODEL_4e06ac4aa5fe4feba61cf41a51fe6bd6",
       "style": "IPY_MODEL_41648e8430564d0d8a395ef18823dc7c"
      }
     }
    },
    "version_major": 2,
    "version_minor": 0
   }
  }
 },
 "nbformat": 4,
 "nbformat_minor": 5
}
