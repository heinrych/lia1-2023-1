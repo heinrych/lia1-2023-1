{
 "cells": [
  {
   "cell_type": "markdown",
   "id": "5f5c23e5",
   "metadata": {
    "id": "72d76465",
    "papermill": {
     "duration": 0.006844,
     "end_time": "2023-05-03T13:23:23.085875",
     "exception": false,
     "start_time": "2023-05-03T13:23:23.079031",
     "status": "completed"
    },
    "tags": []
   },
   "source": [
    "Aqui irei desenvolver meu primeiro codigo de inovação"
   ]
  },
  {
   "cell_type": "code",
   "execution_count": 1,
   "id": "1feca951",
   "metadata": {
    "execution": {
     "iopub.execute_input": "2023-05-03T13:23:23.101247Z",
     "iopub.status.busy": "2023-05-03T13:23:23.100605Z",
     "iopub.status.idle": "2023-05-03T13:23:23.119584Z",
     "shell.execute_reply": "2023-05-03T13:23:23.118005Z"
    },
    "papermill": {
     "duration": 0.030475,
     "end_time": "2023-05-03T13:23:23.122852",
     "exception": false,
     "start_time": "2023-05-03T13:23:23.092377",
     "status": "completed"
    },
    "tags": []
   },
   "outputs": [
    {
     "name": "stdout",
     "output_type": "stream",
     "text": [
      "/kaggle/input/aula-03052023/arquivo1.txt\n",
      "/kaggle/input/aula-03052023/arquivo2.txt\n"
     ]
    }
   ],
   "source": [
    "import os\n",
    "for dirname, _, filenames in os.walk('/kaggle/input/aula-03052023'):\n",
    "    for filename in filenames:\n",
    "        print(os.path.join(dirname, filename))"
   ]
  },
  {
   "cell_type": "markdown",
   "id": "b8642632",
   "metadata": {
    "id": "275176f2",
    "papermill": {
     "duration": 0.00631,
     "end_time": "2023-05-03T13:23:23.135978",
     "exception": false,
     "start_time": "2023-05-03T13:23:23.129668",
     "status": "completed"
    },
    "tags": []
   },
   "source": [
    "<hr style=\"height:10px\"> \n",
    " \n",
    "<div class='container2'>\n",
    "\t\t<div>\n",
    "\t\t\t<img src='EMC_UFG.svg' ALIGN='left' style='width:10em'>\n",
    "\t\t</div>\t\n",
    "\t<div style='padding: 0 7em 2em 12em;'>\n",
    "\t<h1>Laboratório de Inovação e Automação 1 (LIA 1)</h1>\n",
    "\t<div style=\"font-size:12pt;float:left;\"> 2023/1 | 46M34 | Sala 200 CAE</div><br><br>\n",
    "    <div style=\"font-size:12pt;float:left;\"><b>Projetos de Inteligência Artificial</b></div>\n",
    "\t</div>\n",
    "</div>\n",
    "\n",
    "\n",
    " <hr style=\"height:5px\"> \n",
    "\n",
    "    \n",
    "<h2>Introdução ao Ambiente de Projetos</h2>\n",
    "\n",
    "Notebook desenvolvido por: <a href=\"http://lattes.cnpq.br/1346824250595330\">Prof. Dr. Adriano C. Santana</a>\n",
    "\n",
    " <hr style=\"height:2px\"> "
   ]
  },
  {
   "cell_type": "code",
   "execution_count": 2,
   "id": "cbd9b34e",
   "metadata": {
    "execution": {
     "iopub.execute_input": "2023-05-03T13:23:23.151018Z",
     "iopub.status.busy": "2023-05-03T13:23:23.150564Z",
     "iopub.status.idle": "2023-05-03T13:23:23.157176Z",
     "shell.execute_reply": "2023-05-03T13:23:23.155841Z"
    },
    "id": "05d92cf6",
    "outputId": "ac70c5db-2120-44aa-e5d0-b2ada366b77d",
    "papermill": {
     "duration": 0.017112,
     "end_time": "2023-05-03T13:23:23.159682",
     "exception": false,
     "start_time": "2023-05-03T13:23:23.142570",
     "status": "completed"
    },
    "tags": []
   },
   "outputs": [
    {
     "name": "stdout",
     "output_type": "stream",
     "text": [
      "A versão da linguagem Python usada neste projeto é 3.10.10\n"
     ]
    }
   ],
   "source": [
    "from platform import python_version\n",
    "print(f'A versão da linguagem Python usada neste projeto é {python_version()}')"
   ]
  },
  {
   "cell_type": "code",
   "execution_count": 3,
   "id": "2d67af4c",
   "metadata": {
    "execution": {
     "iopub.execute_input": "2023-05-03T13:23:23.175144Z",
     "iopub.status.busy": "2023-05-03T13:23:23.174075Z",
     "iopub.status.idle": "2023-05-03T13:23:23.180945Z",
     "shell.execute_reply": "2023-05-03T13:23:23.179481Z"
    },
    "id": "ca4407fe",
    "outputId": "1421cc31-8827-49f5-8500-bed505a1c03f",
    "papermill": {
     "duration": 0.017338,
     "end_time": "2023-05-03T13:23:23.183401",
     "exception": false,
     "start_time": "2023-05-03T13:23:23.166063",
     "status": "completed"
    },
    "tags": []
   },
   "outputs": [
    {
     "name": "stdout",
     "output_type": "stream",
     "text": [
      "ola mundo\n"
     ]
    }
   ],
   "source": [
    "print(\"ola mundo\")"
   ]
  },
  {
   "cell_type": "markdown",
   "id": "adb1e48e",
   "metadata": {
    "id": "83991a7e",
    "papermill": {
     "duration": 0.007649,
     "end_time": "2023-05-03T13:23:23.197618",
     "exception": false,
     "start_time": "2023-05-03T13:23:23.189969",
     "status": "completed"
    },
    "tags": []
   },
   "source": [
    "# *Operadores aritmeticos*"
   ]
  },
  {
   "cell_type": "code",
   "execution_count": 4,
   "id": "0d6a2264",
   "metadata": {
    "execution": {
     "iopub.execute_input": "2023-05-03T13:23:23.212797Z",
     "iopub.status.busy": "2023-05-03T13:23:23.212389Z",
     "iopub.status.idle": "2023-05-03T13:23:23.220946Z",
     "shell.execute_reply": "2023-05-03T13:23:23.219487Z"
    },
    "id": "9b7f4147",
    "outputId": "0882096d-f911-4722-ebcf-7f93501af95b",
    "papermill": {
     "duration": 0.019252,
     "end_time": "2023-05-03T13:23:23.223619",
     "exception": false,
     "start_time": "2023-05-03T13:23:23.204367",
     "status": "completed"
    },
    "tags": []
   },
   "outputs": [
    {
     "data": {
      "text/plain": [
       "2"
      ]
     },
     "execution_count": 4,
     "metadata": {},
     "output_type": "execute_result"
    }
   ],
   "source": [
    "# adição\n",
    "1 + 1"
   ]
  },
  {
   "cell_type": "code",
   "execution_count": 5,
   "id": "88192476",
   "metadata": {
    "execution": {
     "iopub.execute_input": "2023-05-03T13:23:23.239870Z",
     "iopub.status.busy": "2023-05-03T13:23:23.239404Z",
     "iopub.status.idle": "2023-05-03T13:23:23.245811Z",
     "shell.execute_reply": "2023-05-03T13:23:23.244862Z"
    },
    "id": "06721e6e",
    "outputId": "f7d55df1-2e4b-478a-de86-2f16e56b0f03",
    "papermill": {
     "duration": 0.017486,
     "end_time": "2023-05-03T13:23:23.248294",
     "exception": false,
     "start_time": "2023-05-03T13:23:23.230808",
     "status": "completed"
    },
    "tags": []
   },
   "outputs": [
    {
     "data": {
      "text/plain": [
       "1"
      ]
     },
     "execution_count": 5,
     "metadata": {},
     "output_type": "execute_result"
    }
   ],
   "source": [
    "# Subtração\n",
    "2 - 1"
   ]
  },
  {
   "cell_type": "code",
   "execution_count": 6,
   "id": "27f4ffda",
   "metadata": {
    "execution": {
     "iopub.execute_input": "2023-05-03T13:23:23.264143Z",
     "iopub.status.busy": "2023-05-03T13:23:23.263743Z",
     "iopub.status.idle": "2023-05-03T13:23:23.271866Z",
     "shell.execute_reply": "2023-05-03T13:23:23.270099Z"
    },
    "id": "6f4b807c",
    "outputId": "0af048d3-a50e-4f6a-cbe2-51eb43325696",
    "papermill": {
     "duration": 0.019439,
     "end_time": "2023-05-03T13:23:23.274804",
     "exception": false,
     "start_time": "2023-05-03T13:23:23.255365",
     "status": "completed"
    },
    "tags": []
   },
   "outputs": [
    {
     "data": {
      "text/plain": [
       "4"
      ]
     },
     "execution_count": 6,
     "metadata": {},
     "output_type": "execute_result"
    }
   ],
   "source": [
    "# Multiiplicação\n",
    "2 * 2"
   ]
  },
  {
   "cell_type": "code",
   "execution_count": 7,
   "id": "3faba840",
   "metadata": {
    "execution": {
     "iopub.execute_input": "2023-05-03T13:23:23.291022Z",
     "iopub.status.busy": "2023-05-03T13:23:23.290636Z",
     "iopub.status.idle": "2023-05-03T13:23:23.298303Z",
     "shell.execute_reply": "2023-05-03T13:23:23.296847Z"
    },
    "id": "6ff00cc8",
    "outputId": "bf5ee0f0-47a4-476e-c762-09761d5890c5",
    "papermill": {
     "duration": 0.018788,
     "end_time": "2023-05-03T13:23:23.300921",
     "exception": false,
     "start_time": "2023-05-03T13:23:23.282133",
     "status": "completed"
    },
    "tags": []
   },
   "outputs": [
    {
     "data": {
      "text/plain": [
       "0.5"
      ]
     },
     "execution_count": 7,
     "metadata": {},
     "output_type": "execute_result"
    }
   ],
   "source": [
    "# Divisão\n",
    "1 / 2"
   ]
  },
  {
   "cell_type": "code",
   "execution_count": 8,
   "id": "d01fc036",
   "metadata": {
    "execution": {
     "iopub.execute_input": "2023-05-03T13:23:23.317582Z",
     "iopub.status.busy": "2023-05-03T13:23:23.317178Z",
     "iopub.status.idle": "2023-05-03T13:23:23.324591Z",
     "shell.execute_reply": "2023-05-03T13:23:23.323144Z"
    },
    "id": "b3207e3b",
    "outputId": "de1b060b-2d1d-40e1-e5de-e193c1d34c6a",
    "papermill": {
     "duration": 0.018496,
     "end_time": "2023-05-03T13:23:23.326882",
     "exception": false,
     "start_time": "2023-05-03T13:23:23.308386",
     "status": "completed"
    },
    "tags": []
   },
   "outputs": [
    {
     "data": {
      "text/plain": [
       "4"
      ]
     },
     "execution_count": 8,
     "metadata": {},
     "output_type": "execute_result"
    }
   ],
   "source": [
    "# Potência\n",
    "\n",
    "2 ** 2"
   ]
  },
  {
   "cell_type": "code",
   "execution_count": 9,
   "id": "2c3802ab",
   "metadata": {
    "execution": {
     "iopub.execute_input": "2023-05-03T13:23:23.344090Z",
     "iopub.status.busy": "2023-05-03T13:23:23.343093Z",
     "iopub.status.idle": "2023-05-03T13:23:23.351129Z",
     "shell.execute_reply": "2023-05-03T13:23:23.349860Z"
    },
    "id": "652c6b9c",
    "outputId": "0c7f670d-88c3-404e-9a5c-c91c8f493a34",
    "papermill": {
     "duration": 0.019159,
     "end_time": "2023-05-03T13:23:23.353554",
     "exception": false,
     "start_time": "2023-05-03T13:23:23.334395",
     "status": "completed"
    },
    "tags": []
   },
   "outputs": [
    {
     "data": {
      "text/plain": [
       "1"
      ]
     },
     "execution_count": 9,
     "metadata": {},
     "output_type": "execute_result"
    }
   ],
   "source": [
    "# Módulo (resto da divisão)\n",
    "\n",
    "10 % 3"
   ]
  },
  {
   "cell_type": "markdown",
   "id": "965ca919",
   "metadata": {
    "id": "75dc9c2a",
    "papermill": {
     "duration": 0.007421,
     "end_time": "2023-05-03T13:23:23.368571",
     "exception": false,
     "start_time": "2023-05-03T13:23:23.361150",
     "status": "completed"
    },
    "tags": []
   },
   "source": [
    "# Tipo de dados (Type)\n"
   ]
  },
  {
   "cell_type": "code",
   "execution_count": 10,
   "id": "20ab91a6",
   "metadata": {
    "execution": {
     "iopub.execute_input": "2023-05-03T13:23:23.386589Z",
     "iopub.status.busy": "2023-05-03T13:23:23.385801Z",
     "iopub.status.idle": "2023-05-03T13:23:23.393177Z",
     "shell.execute_reply": "2023-05-03T13:23:23.392010Z"
    },
    "id": "284ab5ab",
    "outputId": "ea1ba735-f044-4b87-cabb-a024fa7f622e",
    "papermill": {
     "duration": 0.018785,
     "end_time": "2023-05-03T13:23:23.395568",
     "exception": false,
     "start_time": "2023-05-03T13:23:23.376783",
     "status": "completed"
    },
    "tags": []
   },
   "outputs": [
    {
     "data": {
      "text/plain": [
       "int"
      ]
     },
     "execution_count": 10,
     "metadata": {},
     "output_type": "execute_result"
    }
   ],
   "source": [
    "# Qual o tipo do (?) -> inteiro\n",
    "type(5)"
   ]
  },
  {
   "cell_type": "code",
   "execution_count": 11,
   "id": "e0da5680",
   "metadata": {
    "execution": {
     "iopub.execute_input": "2023-05-03T13:23:23.412934Z",
     "iopub.status.busy": "2023-05-03T13:23:23.412505Z",
     "iopub.status.idle": "2023-05-03T13:23:23.420053Z",
     "shell.execute_reply": "2023-05-03T13:23:23.418810Z"
    },
    "id": "cbc90401",
    "outputId": "445b2b6a-edc2-4832-f2ea-be592b93ca67",
    "papermill": {
     "duration": 0.019296,
     "end_time": "2023-05-03T13:23:23.422664",
     "exception": false,
     "start_time": "2023-05-03T13:23:23.403368",
     "status": "completed"
    },
    "tags": []
   },
   "outputs": [
    {
     "data": {
      "text/plain": [
       "float"
      ]
     },
     "execution_count": 11,
     "metadata": {},
     "output_type": "execute_result"
    }
   ],
   "source": [
    "# Qual o tipo do (?) -> Float - Deciaml\n",
    "type(5.0)"
   ]
  },
  {
   "cell_type": "code",
   "execution_count": 12,
   "id": "5f8bbfde",
   "metadata": {
    "execution": {
     "iopub.execute_input": "2023-05-03T13:23:23.441605Z",
     "iopub.status.busy": "2023-05-03T13:23:23.441125Z",
     "iopub.status.idle": "2023-05-03T13:23:23.449179Z",
     "shell.execute_reply": "2023-05-03T13:23:23.447700Z"
    },
    "id": "eea0cb1a",
    "outputId": "035516ea-7ce6-4c14-e273-14171cb2b2bb",
    "papermill": {
     "duration": 0.020367,
     "end_time": "2023-05-03T13:23:23.451644",
     "exception": false,
     "start_time": "2023-05-03T13:23:23.431277",
     "status": "completed"
    },
    "tags": []
   },
   "outputs": [
    {
     "data": {
      "text/plain": [
       "str"
      ]
     },
     "execution_count": 12,
     "metadata": {},
     "output_type": "execute_result"
    }
   ],
   "source": [
    "# Qual o tipo do (?) -> String\n",
    "a = \"Estudando Python!\"\n",
    "type(a)"
   ]
  },
  {
   "cell_type": "markdown",
   "id": "8661b6c0",
   "metadata": {
    "id": "b0479743",
    "papermill": {
     "duration": 0.007261,
     "end_time": "2023-05-03T13:23:23.466859",
     "exception": false,
     "start_time": "2023-05-03T13:23:23.459598",
     "status": "completed"
    },
    "tags": []
   },
   "source": [
    "# Condicional if\n",
    "\n"
   ]
  },
  {
   "cell_type": "code",
   "execution_count": 13,
   "id": "fbe44503",
   "metadata": {
    "execution": {
     "iopub.execute_input": "2023-05-03T13:23:23.484920Z",
     "iopub.status.busy": "2023-05-03T13:23:23.484475Z",
     "iopub.status.idle": "2023-05-03T13:23:23.491457Z",
     "shell.execute_reply": "2023-05-03T13:23:23.489692Z"
    },
    "id": "9d5f6041",
    "outputId": "8984a827-32ad-408d-da27-b7c82223c28a",
    "papermill": {
     "duration": 0.018826,
     "end_time": "2023-05-03T13:23:23.493829",
     "exception": false,
     "start_time": "2023-05-03T13:23:23.475003",
     "status": "completed"
    },
    "tags": []
   },
   "outputs": [
    {
     "name": "stdout",
     "output_type": "stream",
     "text": [
      "A sentença é verdadeira\n"
     ]
    }
   ],
   "source": [
    "#Condicional if (se)\n",
    "if 5 > 2:\n",
    "    print(\"A sentença é verdadeira\")"
   ]
  },
  {
   "cell_type": "code",
   "execution_count": 14,
   "id": "3bc563ce",
   "metadata": {
    "execution": {
     "iopub.execute_input": "2023-05-03T13:23:23.513203Z",
     "iopub.status.busy": "2023-05-03T13:23:23.512743Z",
     "iopub.status.idle": "2023-05-03T13:23:23.519135Z",
     "shell.execute_reply": "2023-05-03T13:23:23.517525Z"
    },
    "id": "40f70dd1",
    "outputId": "927e6572-3a91-4bfc-d74d-eef20f9e1df7",
    "papermill": {
     "duration": 0.018846,
     "end_time": "2023-05-03T13:23:23.521342",
     "exception": false,
     "start_time": "2023-05-03T13:23:23.502496",
     "status": "completed"
    },
    "tags": []
   },
   "outputs": [
    {
     "name": "stdout",
     "output_type": "stream",
     "text": [
      "A sentença é falsa\n"
     ]
    }
   ],
   "source": [
    "#Condicional if.. else\n",
    "if 5 < 2:\n",
    "    print(\"A sentença é verdadeira\")\n",
    "else:\n",
    "    print(\"A sentença é falsa\")"
   ]
  },
  {
   "cell_type": "code",
   "execution_count": 15,
   "id": "468038f1",
   "metadata": {
    "execution": {
     "iopub.execute_input": "2023-05-03T13:23:23.539714Z",
     "iopub.status.busy": "2023-05-03T13:23:23.539241Z",
     "iopub.status.idle": "2023-05-03T13:23:23.545059Z",
     "shell.execute_reply": "2023-05-03T13:23:23.543975Z"
    },
    "id": "c24a93fe",
    "outputId": "535d6463-a739-415f-e77a-174ece939420",
    "papermill": {
     "duration": 0.018175,
     "end_time": "2023-05-03T13:23:23.547330",
     "exception": false,
     "start_time": "2023-05-03T13:23:23.529155",
     "status": "completed"
    },
    "tags": []
   },
   "outputs": [
    {
     "name": "stdout",
     "output_type": "stream",
     "text": [
      "Hoje vai chover!\n"
     ]
    }
   ],
   "source": [
    "#Condicional if.. else com variável\n",
    "dia = \"Quarta-Feira\"\n",
    "if dia == \"Sexta-feira\":\n",
    "    print(\"Hoje fará sol!\")\n",
    "else:\n",
    "    print(\"Hoje vai chover!\")"
   ]
  },
  {
   "cell_type": "markdown",
   "id": "a08c9927",
   "metadata": {
    "id": "7b7d4d0c",
    "papermill": {
     "duration": 0.008395,
     "end_time": "2023-05-03T13:23:23.563946",
     "exception": false,
     "start_time": "2023-05-03T13:23:23.555551",
     "status": "completed"
    },
    "tags": []
   },
   "source": [
    "# Lendo arquivos (.txt)"
   ]
  },
  {
   "cell_type": "code",
   "execution_count": 16,
   "id": "af1c5b7b",
   "metadata": {
    "execution": {
     "iopub.execute_input": "2023-05-03T13:23:23.582190Z",
     "iopub.status.busy": "2023-05-03T13:23:23.581696Z",
     "iopub.status.idle": "2023-05-03T13:23:23.587445Z",
     "shell.execute_reply": "2023-05-03T13:23:23.586295Z"
    },
    "id": "0b93bfe7",
    "papermill": {
     "duration": 0.017833,
     "end_time": "2023-05-03T13:23:23.589825",
     "exception": false,
     "start_time": "2023-05-03T13:23:23.571992",
     "status": "completed"
    },
    "tags": []
   },
   "outputs": [],
   "source": [
    "#Abrindo arquivo para leitura\n",
    "a1 = open(\"/kaggle/input/aula-03052023/arquivo1.txt\",\"r\")"
   ]
  },
  {
   "cell_type": "code",
   "execution_count": 17,
   "id": "ccf1cf57",
   "metadata": {
    "execution": {
     "iopub.execute_input": "2023-05-03T13:23:23.608585Z",
     "iopub.status.busy": "2023-05-03T13:23:23.608059Z",
     "iopub.status.idle": "2023-05-03T13:23:23.614915Z",
     "shell.execute_reply": "2023-05-03T13:23:23.613782Z"
    },
    "id": "b2ee5904",
    "outputId": "d2332d3c-ff75-4e62-ce0b-21f5cd3a5e70",
    "papermill": {
     "duration": 0.018978,
     "end_time": "2023-05-03T13:23:23.617283",
     "exception": false,
     "start_time": "2023-05-03T13:23:23.598305",
     "status": "completed"
    },
    "tags": []
   },
   "outputs": [
    {
     "name": "stdout",
     "output_type": "stream",
     "text": [
      "Jinx!\n"
     ]
    }
   ],
   "source": [
    "# Lendo o arquivo\n",
    "print(a1.read())"
   ]
  },
  {
   "cell_type": "markdown",
   "id": "afafba97",
   "metadata": {
    "id": "f7ffa963",
    "papermill": {
     "duration": 0.008236,
     "end_time": "2023-05-03T13:23:23.633862",
     "exception": false,
     "start_time": "2023-05-03T13:23:23.625626",
     "status": "completed"
    },
    "tags": []
   },
   "source": [
    "# Gravando arquivos (.txt)"
   ]
  },
  {
   "cell_type": "code",
   "execution_count": null,
   "id": "cf8c5e5e",
   "metadata": {
    "papermill": {
     "duration": 0.008239,
     "end_time": "2023-05-03T13:23:23.651556",
     "exception": false,
     "start_time": "2023-05-03T13:23:23.643317",
     "status": "completed"
    },
    "tags": []
   },
   "outputs": [],
   "source": []
  },
  {
   "cell_type": "code",
   "execution_count": null,
   "id": "5da9d154",
   "metadata": {
    "papermill": {
     "duration": 0.00784,
     "end_time": "2023-05-03T13:23:23.667652",
     "exception": false,
     "start_time": "2023-05-03T13:23:23.659812",
     "status": "completed"
    },
    "tags": []
   },
   "outputs": [],
   "source": []
  },
  {
   "cell_type": "code",
   "execution_count": 18,
   "id": "6cdcbcd7",
   "metadata": {
    "execution": {
     "iopub.execute_input": "2023-05-03T13:23:23.689213Z",
     "iopub.status.busy": "2023-05-03T13:23:23.688705Z",
     "iopub.status.idle": "2023-05-03T13:23:23.694578Z",
     "shell.execute_reply": "2023-05-03T13:23:23.693280Z"
    },
    "id": "8c2c9fc4",
    "papermill": {
     "duration": 0.020129,
     "end_time": "2023-05-03T13:23:23.696987",
     "exception": false,
     "start_time": "2023-05-03T13:23:23.676858",
     "status": "completed"
    },
    "tags": []
   },
   "outputs": [],
   "source": [
    "# abrindo aquivo para gravação\n",
    "a2 = open(\"/kaggle/working/arquivo1.txt\",\"w\")"
   ]
  },
  {
   "cell_type": "code",
   "execution_count": 19,
   "id": "efb7ffc7",
   "metadata": {
    "execution": {
     "iopub.execute_input": "2023-05-03T13:23:23.715671Z",
     "iopub.status.busy": "2023-05-03T13:23:23.715154Z",
     "iopub.status.idle": "2023-05-03T13:23:23.722512Z",
     "shell.execute_reply": "2023-05-03T13:23:23.721381Z"
    },
    "id": "31650c11",
    "outputId": "5fe5d20f-cb73-4aa9-990f-00907aedba73",
    "papermill": {
     "duration": 0.019946,
     "end_time": "2023-05-03T13:23:23.725078",
     "exception": false,
     "start_time": "2023-05-03T13:23:23.705132",
     "status": "completed"
    },
    "tags": []
   },
   "outputs": [
    {
     "data": {
      "text/plain": [
       "17"
      ]
     },
     "execution_count": 19,
     "metadata": {},
     "output_type": "execute_result"
    }
   ],
   "source": [
    "a2.write(\"Aprendendo python\")"
   ]
  },
  {
   "cell_type": "code",
   "execution_count": 20,
   "id": "bec6cf92",
   "metadata": {
    "execution": {
     "iopub.execute_input": "2023-05-03T13:23:23.744641Z",
     "iopub.status.busy": "2023-05-03T13:23:23.744116Z",
     "iopub.status.idle": "2023-05-03T13:23:23.749526Z",
     "shell.execute_reply": "2023-05-03T13:23:23.748341Z"
    },
    "id": "92278086",
    "papermill": {
     "duration": 0.017933,
     "end_time": "2023-05-03T13:23:23.751804",
     "exception": false,
     "start_time": "2023-05-03T13:23:23.733871",
     "status": "completed"
    },
    "tags": []
   },
   "outputs": [],
   "source": [
    "#Abrindo arquivo para leitura\n",
    "a1 = open(\"/kaggle/working/arquivo1.txt\",\"r\")"
   ]
  },
  {
   "cell_type": "code",
   "execution_count": 21,
   "id": "fc879b67",
   "metadata": {
    "execution": {
     "iopub.execute_input": "2023-05-03T13:23:23.771274Z",
     "iopub.status.busy": "2023-05-03T13:23:23.770799Z",
     "iopub.status.idle": "2023-05-03T13:23:23.776752Z",
     "shell.execute_reply": "2023-05-03T13:23:23.775378Z"
    },
    "id": "7647e06d",
    "outputId": "c1230efc-b811-4586-90a9-d7e122ff91e6",
    "papermill": {
     "duration": 0.019141,
     "end_time": "2023-05-03T13:23:23.779708",
     "exception": false,
     "start_time": "2023-05-03T13:23:23.760567",
     "status": "completed"
    },
    "tags": []
   },
   "outputs": [
    {
     "name": "stdout",
     "output_type": "stream",
     "text": [
      "\n"
     ]
    }
   ],
   "source": [
    "# Lendo o arquivo\n",
    "print(a1.read())"
   ]
  }
 ],
 "metadata": {
  "kernelspec": {
   "display_name": "Python 3",
   "language": "python",
   "name": "python3"
  },
  "language_info": {
   "codemirror_mode": {
    "name": "ipython",
    "version": 3
   },
   "file_extension": ".py",
   "mimetype": "text/x-python",
   "name": "python",
   "nbconvert_exporter": "python",
   "pygments_lexer": "ipython3",
   "version": "3.10.10"
  },
  "papermill": {
   "default_parameters": {},
   "duration": 14.143155,
   "end_time": "2023-05-03T13:23:24.814128",
   "environment_variables": {},
   "exception": null,
   "input_path": "__notebook__.ipynb",
   "output_path": "__notebook__.ipynb",
   "parameters": {},
   "start_time": "2023-05-03T13:23:10.670973",
   "version": "2.4.0"
  }
 },
 "nbformat": 4,
 "nbformat_minor": 5
}
