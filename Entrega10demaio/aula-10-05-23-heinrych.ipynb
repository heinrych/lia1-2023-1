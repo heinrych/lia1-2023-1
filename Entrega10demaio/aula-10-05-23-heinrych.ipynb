{
 "cells": [
  {
   "cell_type": "code",
   "execution_count": 1,
   "id": "c4ea874d",
   "metadata": {
    "_cell_guid": "b1076dfc-b9ad-4769-8c92-a6c4dae69d19",
    "_uuid": "8f2839f25d086af736a60e9eeb907d3b93b6e0e5",
    "execution": {
     "iopub.execute_input": "2023-05-10T23:51:19.600386Z",
     "iopub.status.busy": "2023-05-10T23:51:19.599291Z",
     "iopub.status.idle": "2023-05-10T23:51:19.616402Z",
     "shell.execute_reply": "2023-05-10T23:51:19.615084Z"
    },
    "papermill": {
     "duration": 0.031191,
     "end_time": "2023-05-10T23:51:19.619088",
     "exception": false,
     "start_time": "2023-05-10T23:51:19.587897",
     "status": "completed"
    },
    "tags": []
   },
   "outputs": [
    {
     "name": "stdout",
     "output_type": "stream",
     "text": [
      "/kaggle/input/laboratrio-de-inovao-e-automao-1/hospital.csv\n"
     ]
    }
   ],
   "source": [
    "# This Python 3 environment comes with many helpful analytics libraries installed\n",
    "# It is defined by the kaggle/python Docker image: https://github.com/kaggle/docker-python\n",
    "# For example, here's several helpful packages to load\n",
    "\n",
    "import numpy as np # linear algebra\n",
    "import pandas as pd # data processing, CSV file I/O (e.g. pd.read_csv)\n",
    "\n",
    "# Input data files are available in the read-only \"../input/\" directory\n",
    "# For example, running this (by clicking run or pressing Shift+Enter) will list all files under the input directory\n",
    "\n",
    "import os\n",
    "for dirname, _, filenames in os.walk('/kaggle/input'):\n",
    "    for filename in filenames:\n",
    "        print(os.path.join(dirname, filename))\n",
    "\n",
    "# You can write up to 20GB to the current directory (/kaggle/working/) that gets preserved as output when you create a version using \"Save & Run All\" \n",
    "# You can also write temporary files to /kaggle/temp/, but they won't be saved outside of the current session"
   ]
  },
  {
   "cell_type": "code",
   "execution_count": 2,
   "id": "033b3a78",
   "metadata": {
    "execution": {
     "iopub.execute_input": "2023-05-10T23:51:19.639113Z",
     "iopub.status.busy": "2023-05-10T23:51:19.638636Z",
     "iopub.status.idle": "2023-05-10T23:51:19.645089Z",
     "shell.execute_reply": "2023-05-10T23:51:19.643565Z"
    },
    "papermill": {
     "duration": 0.019311,
     "end_time": "2023-05-10T23:51:19.647359",
     "exception": false,
     "start_time": "2023-05-10T23:51:19.628048",
     "status": "completed"
    },
    "tags": []
   },
   "outputs": [
    {
     "name": "stdout",
     "output_type": "stream",
     "text": [
      "A versão da linguagem Python usada neste projeto é a 3.10.10!\n"
     ]
    }
   ],
   "source": [
    "# Confirmar a versão da Linguagem Python instalada\n",
    "from platform import python_version\n",
    "print(f'A versão da linguagem Python usada neste projeto é a {python_version()}!')"
   ]
  },
  {
   "cell_type": "code",
   "execution_count": 3,
   "id": "92fc880c",
   "metadata": {
    "execution": {
     "iopub.execute_input": "2023-05-10T23:51:19.667315Z",
     "iopub.status.busy": "2023-05-10T23:51:19.666827Z",
     "iopub.status.idle": "2023-05-10T23:51:21.314253Z",
     "shell.execute_reply": "2023-05-10T23:51:21.312702Z"
    },
    "papermill": {
     "duration": 1.661241,
     "end_time": "2023-05-10T23:51:21.317341",
     "exception": false,
     "start_time": "2023-05-10T23:51:19.656100",
     "status": "completed"
    },
    "tags": []
   },
   "outputs": [
    {
     "name": "stderr",
     "output_type": "stream",
     "text": [
      "/opt/conda/lib/python3.10/site-packages/scipy/__init__.py:146: UserWarning: A NumPy version >=1.16.5 and <1.23.0 is required for this version of SciPy (detected version 1.23.5\n",
      "  warnings.warn(f\"A NumPy version >={np_minversion} and <{np_maxversion}\"\n"
     ]
    },
    {
     "name": "stdout",
     "output_type": "stream",
     "text": [
      "Bibliotecas carregadas com sucesso!\n"
     ]
    }
   ],
   "source": [
    "# importar a biblioteca - Todos os projetos passarão pelo Numpy!\n",
    "import numpy as np\n",
    "\n",
    "# importar a biblioteca - Excel do Python!\n",
    "import pandas as pd \n",
    "\n",
    "# importar as bibliotecas - Visualizar dados!\n",
    "import seaborn as sns\n",
    "import matplotlib.pyplot as plt\n",
    "\n",
    "print('Bibliotecas carregadas com sucesso!')\n",
    "\n",
    "# Instalação silenciosa\n",
    "#!pip install -q numpy"
   ]
  },
  {
   "cell_type": "code",
   "execution_count": 4,
   "id": "26593bcb",
   "metadata": {
    "execution": {
     "iopub.execute_input": "2023-05-10T23:51:21.336827Z",
     "iopub.status.busy": "2023-05-10T23:51:21.336352Z",
     "iopub.status.idle": "2023-05-10T23:51:21.578622Z",
     "shell.execute_reply": "2023-05-10T23:51:21.577160Z"
    },
    "papermill": {
     "duration": 0.25539,
     "end_time": "2023-05-10T23:51:21.581578",
     "exception": false,
     "start_time": "2023-05-10T23:51:21.326188",
     "status": "completed"
    },
    "tags": []
   },
   "outputs": [],
   "source": [
    "df_dataset = pd.read_csv(\"https://raw.githubusercontent.com/heinrych/lia1-2023-1/main/hospital.txt\",sep=',')"
   ]
  },
  {
   "cell_type": "code",
   "execution_count": 5,
   "id": "aa2f6417",
   "metadata": {
    "execution": {
     "iopub.execute_input": "2023-05-10T23:51:21.601004Z",
     "iopub.status.busy": "2023-05-10T23:51:21.600533Z",
     "iopub.status.idle": "2023-05-10T23:51:21.610487Z",
     "shell.execute_reply": "2023-05-10T23:51:21.609101Z"
    },
    "papermill": {
     "duration": 0.022963,
     "end_time": "2023-05-10T23:51:21.613077",
     "exception": false,
     "start_time": "2023-05-10T23:51:21.590114",
     "status": "completed"
    },
    "tags": []
   },
   "outputs": [
    {
     "data": {
      "text/plain": [
       "(14, 11)"
      ]
     },
     "execution_count": 5,
     "metadata": {},
     "output_type": "execute_result"
    }
   ],
   "source": [
    "df_dataset.shape"
   ]
  },
  {
   "cell_type": "code",
   "execution_count": 6,
   "id": "eedb230d",
   "metadata": {
    "execution": {
     "iopub.execute_input": "2023-05-10T23:51:21.633429Z",
     "iopub.status.busy": "2023-05-10T23:51:21.632968Z",
     "iopub.status.idle": "2023-05-10T23:51:21.678216Z",
     "shell.execute_reply": "2023-05-10T23:51:21.676886Z"
    },
    "papermill": {
     "duration": 0.058817,
     "end_time": "2023-05-10T23:51:21.680877",
     "exception": false,
     "start_time": "2023-05-10T23:51:21.622060",
     "status": "completed"
    },
    "tags": []
   },
   "outputs": [
    {
     "data": {
      "text/html": [
       "<div>\n",
       "<style scoped>\n",
       "    .dataframe tbody tr th:only-of-type {\n",
       "        vertical-align: middle;\n",
       "    }\n",
       "\n",
       "    .dataframe tbody tr th {\n",
       "        vertical-align: top;\n",
       "    }\n",
       "\n",
       "    .dataframe thead th {\n",
       "        text-align: right;\n",
       "    }\n",
       "</style>\n",
       "<table border=\"1\" class=\"dataframe\">\n",
       "  <thead>\n",
       "    <tr style=\"text-align: right;\">\n",
       "      <th></th>\n",
       "      <th>Id</th>\n",
       "      <th>Nome</th>\n",
       "      <th>Idade</th>\n",
       "      <th>Sexo</th>\n",
       "      <th>Peso</th>\n",
       "      <th>Manchas</th>\n",
       "      <th>Temp</th>\n",
       "      <th>Internação</th>\n",
       "      <th>Estado</th>\n",
       "      <th>Time</th>\n",
       "      <th>Diagnóstico</th>\n",
       "    </tr>\n",
       "  </thead>\n",
       "  <tbody>\n",
       "    <tr>\n",
       "      <th>0</th>\n",
       "      <td>4201</td>\n",
       "      <td>João</td>\n",
       "      <td>55</td>\n",
       "      <td>M</td>\n",
       "      <td>90.0</td>\n",
       "      <td>Concentradas</td>\n",
       "      <td>38.0</td>\n",
       "      <td>2</td>\n",
       "      <td>SP</td>\n",
       "      <td>Palmeiras</td>\n",
       "      <td>Doente</td>\n",
       "    </tr>\n",
       "    <tr>\n",
       "      <th>1</th>\n",
       "      <td>3217</td>\n",
       "      <td>Maria</td>\n",
       "      <td>56</td>\n",
       "      <td>F</td>\n",
       "      <td>91.0</td>\n",
       "      <td>Inexistentes</td>\n",
       "      <td>39.5</td>\n",
       "      <td>4</td>\n",
       "      <td>MG</td>\n",
       "      <td>Cruzeiro</td>\n",
       "      <td>Doente</td>\n",
       "    </tr>\n",
       "    <tr>\n",
       "      <th>2</th>\n",
       "      <td>4039</td>\n",
       "      <td>Luiz</td>\n",
       "      <td>49</td>\n",
       "      <td>M</td>\n",
       "      <td>92.0</td>\n",
       "      <td>Espalhadas</td>\n",
       "      <td>38.0</td>\n",
       "      <td>2</td>\n",
       "      <td>RS</td>\n",
       "      <td>Grêmio</td>\n",
       "      <td>Saudável</td>\n",
       "    </tr>\n",
       "    <tr>\n",
       "      <th>3</th>\n",
       "      <td>1920</td>\n",
       "      <td>José</td>\n",
       "      <td>57</td>\n",
       "      <td>M</td>\n",
       "      <td>93.0</td>\n",
       "      <td>Inexistentes</td>\n",
       "      <td>38.5</td>\n",
       "      <td>2</td>\n",
       "      <td>MG</td>\n",
       "      <td>Atlético</td>\n",
       "      <td>Doente</td>\n",
       "    </tr>\n",
       "    <tr>\n",
       "      <th>4</th>\n",
       "      <td>4340</td>\n",
       "      <td>Cláudia</td>\n",
       "      <td>21</td>\n",
       "      <td>F</td>\n",
       "      <td>52.0</td>\n",
       "      <td>Uniformes</td>\n",
       "      <td>37.6</td>\n",
       "      <td>1</td>\n",
       "      <td>PE</td>\n",
       "      <td>Sport</td>\n",
       "      <td>Saudável</td>\n",
       "    </tr>\n",
       "    <tr>\n",
       "      <th>5</th>\n",
       "      <td>2301</td>\n",
       "      <td>Ana</td>\n",
       "      <td>58</td>\n",
       "      <td>F</td>\n",
       "      <td>94.0</td>\n",
       "      <td>Inexistentes</td>\n",
       "      <td>38.0</td>\n",
       "      <td>3</td>\n",
       "      <td>RJ</td>\n",
       "      <td>Botafogo</td>\n",
       "      <td>Doente</td>\n",
       "    </tr>\n",
       "    <tr>\n",
       "      <th>6</th>\n",
       "      <td>1322</td>\n",
       "      <td>Marta</td>\n",
       "      <td>19</td>\n",
       "      <td>F</td>\n",
       "      <td>87.0</td>\n",
       "      <td>Espalhadas</td>\n",
       "      <td>39.0</td>\n",
       "      <td>3</td>\n",
       "      <td>AM</td>\n",
       "      <td>Flamengo</td>\n",
       "      <td>Doente</td>\n",
       "    </tr>\n",
       "    <tr>\n",
       "      <th>7</th>\n",
       "      <td>3027</td>\n",
       "      <td>Paulo</td>\n",
       "      <td>34</td>\n",
       "      <td>M</td>\n",
       "      <td>67.0</td>\n",
       "      <td>Uniformes</td>\n",
       "      <td>38.4</td>\n",
       "      <td>2</td>\n",
       "      <td>GO</td>\n",
       "      <td>Vila Nova</td>\n",
       "      <td>Saudável</td>\n",
       "    </tr>\n",
       "    <tr>\n",
       "      <th>8</th>\n",
       "      <td>3546</td>\n",
       "      <td>Roberto</td>\n",
       "      <td>44</td>\n",
       "      <td>M</td>\n",
       "      <td>NaN</td>\n",
       "      <td>Uniformes</td>\n",
       "      <td>37.6</td>\n",
       "      <td>1</td>\n",
       "      <td>PE</td>\n",
       "      <td>Sport</td>\n",
       "      <td>Saudável</td>\n",
       "    </tr>\n",
       "    <tr>\n",
       "      <th>9</th>\n",
       "      <td>6754</td>\n",
       "      <td>Lorena</td>\n",
       "      <td>33</td>\n",
       "      <td>F</td>\n",
       "      <td>72.0</td>\n",
       "      <td>Inexistentes</td>\n",
       "      <td>38.0</td>\n",
       "      <td>3</td>\n",
       "      <td>RJ</td>\n",
       "      <td>Botafogo</td>\n",
       "      <td>Doente</td>\n",
       "    </tr>\n",
       "    <tr>\n",
       "      <th>10</th>\n",
       "      <td>1735</td>\n",
       "      <td>Pedro</td>\n",
       "      <td>13</td>\n",
       "      <td>M</td>\n",
       "      <td>87.0</td>\n",
       "      <td>Espalhadas</td>\n",
       "      <td>6.0</td>\n",
       "      <td>4</td>\n",
       "      <td>AM</td>\n",
       "      <td>Flamengo</td>\n",
       "      <td>Doente</td>\n",
       "    </tr>\n",
       "    <tr>\n",
       "      <th>11</th>\n",
       "      <td>9834</td>\n",
       "      <td>Laura</td>\n",
       "      <td>65</td>\n",
       "      <td>F</td>\n",
       "      <td>NaN</td>\n",
       "      <td>Uniformes</td>\n",
       "      <td>38.4</td>\n",
       "      <td>2</td>\n",
       "      <td>GO</td>\n",
       "      <td>Vila Nova</td>\n",
       "      <td>Saudável</td>\n",
       "    </tr>\n",
       "    <tr>\n",
       "      <th>12</th>\n",
       "      <td>4201</td>\n",
       "      <td>João</td>\n",
       "      <td>28</td>\n",
       "      <td>M</td>\n",
       "      <td>79.0</td>\n",
       "      <td>Concentradas</td>\n",
       "      <td>38.0</td>\n",
       "      <td>2</td>\n",
       "      <td>SP</td>\n",
       "      <td>Palmeiras</td>\n",
       "      <td>Doente</td>\n",
       "    </tr>\n",
       "    <tr>\n",
       "      <th>13</th>\n",
       "      <td>3217</td>\n",
       "      <td>Maria</td>\n",
       "      <td>18</td>\n",
       "      <td>F</td>\n",
       "      <td>67.0</td>\n",
       "      <td>Inexistentes</td>\n",
       "      <td>39.5</td>\n",
       "      <td>4</td>\n",
       "      <td>MG</td>\n",
       "      <td>Cruzeiro</td>\n",
       "      <td>Saudável</td>\n",
       "    </tr>\n",
       "  </tbody>\n",
       "</table>\n",
       "</div>"
      ],
      "text/plain": [
       "      Id     Nome  Idade Sexo  Peso       Manchas  Temp  Internação Estado  \\\n",
       "0   4201     João     55    M  90.0  Concentradas  38.0           2     SP   \n",
       "1   3217    Maria     56    F  91.0  Inexistentes  39.5           4     MG   \n",
       "2   4039     Luiz     49    M  92.0    Espalhadas  38.0           2     RS   \n",
       "3   1920     José     57    M  93.0  Inexistentes  38.5           2     MG   \n",
       "4   4340  Cláudia     21    F  52.0     Uniformes  37.6           1     PE   \n",
       "5   2301      Ana     58    F  94.0  Inexistentes  38.0           3     RJ   \n",
       "6   1322    Marta     19    F  87.0    Espalhadas  39.0           3     AM   \n",
       "7   3027    Paulo     34    M  67.0     Uniformes  38.4           2     GO   \n",
       "8   3546  Roberto     44    M   NaN     Uniformes  37.6           1     PE   \n",
       "9   6754   Lorena     33    F  72.0  Inexistentes  38.0           3     RJ   \n",
       "10  1735    Pedro     13    M  87.0    Espalhadas   6.0           4     AM   \n",
       "11  9834    Laura     65    F   NaN     Uniformes  38.4           2     GO   \n",
       "12  4201     João     28    M  79.0  Concentradas  38.0           2     SP   \n",
       "13  3217    Maria     18    F  67.0  Inexistentes  39.5           4     MG   \n",
       "\n",
       "         Time Diagnóstico  \n",
       "0   Palmeiras      Doente  \n",
       "1    Cruzeiro      Doente  \n",
       "2      Grêmio    Saudável  \n",
       "3    Atlético      Doente  \n",
       "4       Sport    Saudável  \n",
       "5    Botafogo      Doente  \n",
       "6    Flamengo      Doente  \n",
       "7   Vila Nova    Saudável  \n",
       "8       Sport    Saudável  \n",
       "9    Botafogo      Doente  \n",
       "10   Flamengo      Doente  \n",
       "11  Vila Nova    Saudável  \n",
       "12  Palmeiras      Doente  \n",
       "13   Cruzeiro    Saudável  "
      ]
     },
     "metadata": {},
     "output_type": "display_data"
    }
   ],
   "source": [
    "display(df_dataset.head(15))"
   ]
  },
  {
   "cell_type": "code",
   "execution_count": 7,
   "id": "8c384bf5",
   "metadata": {
    "execution": {
     "iopub.execute_input": "2023-05-10T23:51:21.701487Z",
     "iopub.status.busy": "2023-05-10T23:51:21.700989Z",
     "iopub.status.idle": "2023-05-10T23:51:21.711055Z",
     "shell.execute_reply": "2023-05-10T23:51:21.709704Z"
    },
    "papermill": {
     "duration": 0.023628,
     "end_time": "2023-05-10T23:51:21.713690",
     "exception": false,
     "start_time": "2023-05-10T23:51:21.690062",
     "status": "completed"
    },
    "tags": []
   },
   "outputs": [],
   "source": [
    "df_dataset.loc[df_dataset['Temp'] < 30, 'Temp'] = 31\n"
   ]
  },
  {
   "cell_type": "code",
   "execution_count": 8,
   "id": "35b1dd83",
   "metadata": {
    "execution": {
     "iopub.execute_input": "2023-05-10T23:51:21.734046Z",
     "iopub.status.busy": "2023-05-10T23:51:21.733588Z",
     "iopub.status.idle": "2023-05-10T23:51:21.741243Z",
     "shell.execute_reply": "2023-05-10T23:51:21.739937Z"
    },
    "papermill": {
     "duration": 0.021136,
     "end_time": "2023-05-10T23:51:21.743968",
     "exception": false,
     "start_time": "2023-05-10T23:51:21.722832",
     "status": "completed"
    },
    "tags": []
   },
   "outputs": [],
   "source": [
    "df_dataset['Peso'] = df_dataset['Peso'].fillna(80)"
   ]
  },
  {
   "cell_type": "code",
   "execution_count": 9,
   "id": "dde685c4",
   "metadata": {
    "execution": {
     "iopub.execute_input": "2023-05-10T23:51:21.764771Z",
     "iopub.status.busy": "2023-05-10T23:51:21.764356Z",
     "iopub.status.idle": "2023-05-10T23:51:21.786221Z",
     "shell.execute_reply": "2023-05-10T23:51:21.784893Z"
    },
    "papermill": {
     "duration": 0.035466,
     "end_time": "2023-05-10T23:51:21.789106",
     "exception": false,
     "start_time": "2023-05-10T23:51:21.753640",
     "status": "completed"
    },
    "tags": []
   },
   "outputs": [
    {
     "data": {
      "text/html": [
       "<div>\n",
       "<style scoped>\n",
       "    .dataframe tbody tr th:only-of-type {\n",
       "        vertical-align: middle;\n",
       "    }\n",
       "\n",
       "    .dataframe tbody tr th {\n",
       "        vertical-align: top;\n",
       "    }\n",
       "\n",
       "    .dataframe thead th {\n",
       "        text-align: right;\n",
       "    }\n",
       "</style>\n",
       "<table border=\"1\" class=\"dataframe\">\n",
       "  <thead>\n",
       "    <tr style=\"text-align: right;\">\n",
       "      <th></th>\n",
       "      <th>Id</th>\n",
       "      <th>Nome</th>\n",
       "      <th>Idade</th>\n",
       "      <th>Sexo</th>\n",
       "      <th>Peso</th>\n",
       "      <th>Manchas</th>\n",
       "      <th>Temp</th>\n",
       "      <th>Internação</th>\n",
       "      <th>Estado</th>\n",
       "      <th>Time</th>\n",
       "      <th>Diagnóstico</th>\n",
       "    </tr>\n",
       "  </thead>\n",
       "  <tbody>\n",
       "    <tr>\n",
       "      <th>0</th>\n",
       "      <td>4201</td>\n",
       "      <td>João</td>\n",
       "      <td>55</td>\n",
       "      <td>M</td>\n",
       "      <td>90.0</td>\n",
       "      <td>Concentradas</td>\n",
       "      <td>38.0</td>\n",
       "      <td>2</td>\n",
       "      <td>SP</td>\n",
       "      <td>Palmeiras</td>\n",
       "      <td>Doente</td>\n",
       "    </tr>\n",
       "    <tr>\n",
       "      <th>1</th>\n",
       "      <td>3217</td>\n",
       "      <td>Maria</td>\n",
       "      <td>56</td>\n",
       "      <td>F</td>\n",
       "      <td>91.0</td>\n",
       "      <td>Inexistentes</td>\n",
       "      <td>39.5</td>\n",
       "      <td>4</td>\n",
       "      <td>MG</td>\n",
       "      <td>Cruzeiro</td>\n",
       "      <td>Doente</td>\n",
       "    </tr>\n",
       "    <tr>\n",
       "      <th>2</th>\n",
       "      <td>4039</td>\n",
       "      <td>Luiz</td>\n",
       "      <td>49</td>\n",
       "      <td>M</td>\n",
       "      <td>92.0</td>\n",
       "      <td>Espalhadas</td>\n",
       "      <td>38.0</td>\n",
       "      <td>2</td>\n",
       "      <td>RS</td>\n",
       "      <td>Grêmio</td>\n",
       "      <td>Saudável</td>\n",
       "    </tr>\n",
       "    <tr>\n",
       "      <th>3</th>\n",
       "      <td>1920</td>\n",
       "      <td>José</td>\n",
       "      <td>57</td>\n",
       "      <td>M</td>\n",
       "      <td>93.0</td>\n",
       "      <td>Inexistentes</td>\n",
       "      <td>38.5</td>\n",
       "      <td>2</td>\n",
       "      <td>MG</td>\n",
       "      <td>Atlético</td>\n",
       "      <td>Doente</td>\n",
       "    </tr>\n",
       "    <tr>\n",
       "      <th>4</th>\n",
       "      <td>4340</td>\n",
       "      <td>Cláudia</td>\n",
       "      <td>21</td>\n",
       "      <td>F</td>\n",
       "      <td>52.0</td>\n",
       "      <td>Uniformes</td>\n",
       "      <td>37.6</td>\n",
       "      <td>1</td>\n",
       "      <td>PE</td>\n",
       "      <td>Sport</td>\n",
       "      <td>Saudável</td>\n",
       "    </tr>\n",
       "    <tr>\n",
       "      <th>5</th>\n",
       "      <td>2301</td>\n",
       "      <td>Ana</td>\n",
       "      <td>58</td>\n",
       "      <td>F</td>\n",
       "      <td>94.0</td>\n",
       "      <td>Inexistentes</td>\n",
       "      <td>38.0</td>\n",
       "      <td>3</td>\n",
       "      <td>RJ</td>\n",
       "      <td>Botafogo</td>\n",
       "      <td>Doente</td>\n",
       "    </tr>\n",
       "    <tr>\n",
       "      <th>6</th>\n",
       "      <td>1322</td>\n",
       "      <td>Marta</td>\n",
       "      <td>19</td>\n",
       "      <td>F</td>\n",
       "      <td>87.0</td>\n",
       "      <td>Espalhadas</td>\n",
       "      <td>39.0</td>\n",
       "      <td>3</td>\n",
       "      <td>AM</td>\n",
       "      <td>Flamengo</td>\n",
       "      <td>Doente</td>\n",
       "    </tr>\n",
       "    <tr>\n",
       "      <th>7</th>\n",
       "      <td>3027</td>\n",
       "      <td>Paulo</td>\n",
       "      <td>34</td>\n",
       "      <td>M</td>\n",
       "      <td>67.0</td>\n",
       "      <td>Uniformes</td>\n",
       "      <td>38.4</td>\n",
       "      <td>2</td>\n",
       "      <td>GO</td>\n",
       "      <td>Vila Nova</td>\n",
       "      <td>Saudável</td>\n",
       "    </tr>\n",
       "    <tr>\n",
       "      <th>8</th>\n",
       "      <td>3546</td>\n",
       "      <td>Roberto</td>\n",
       "      <td>44</td>\n",
       "      <td>M</td>\n",
       "      <td>80.0</td>\n",
       "      <td>Uniformes</td>\n",
       "      <td>37.6</td>\n",
       "      <td>1</td>\n",
       "      <td>PE</td>\n",
       "      <td>Sport</td>\n",
       "      <td>Saudável</td>\n",
       "    </tr>\n",
       "    <tr>\n",
       "      <th>9</th>\n",
       "      <td>6754</td>\n",
       "      <td>Lorena</td>\n",
       "      <td>33</td>\n",
       "      <td>F</td>\n",
       "      <td>72.0</td>\n",
       "      <td>Inexistentes</td>\n",
       "      <td>38.0</td>\n",
       "      <td>3</td>\n",
       "      <td>RJ</td>\n",
       "      <td>Botafogo</td>\n",
       "      <td>Doente</td>\n",
       "    </tr>\n",
       "    <tr>\n",
       "      <th>10</th>\n",
       "      <td>1735</td>\n",
       "      <td>Pedro</td>\n",
       "      <td>13</td>\n",
       "      <td>M</td>\n",
       "      <td>87.0</td>\n",
       "      <td>Espalhadas</td>\n",
       "      <td>31.0</td>\n",
       "      <td>4</td>\n",
       "      <td>AM</td>\n",
       "      <td>Flamengo</td>\n",
       "      <td>Doente</td>\n",
       "    </tr>\n",
       "    <tr>\n",
       "      <th>11</th>\n",
       "      <td>9834</td>\n",
       "      <td>Laura</td>\n",
       "      <td>65</td>\n",
       "      <td>F</td>\n",
       "      <td>80.0</td>\n",
       "      <td>Uniformes</td>\n",
       "      <td>38.4</td>\n",
       "      <td>2</td>\n",
       "      <td>GO</td>\n",
       "      <td>Vila Nova</td>\n",
       "      <td>Saudável</td>\n",
       "    </tr>\n",
       "    <tr>\n",
       "      <th>12</th>\n",
       "      <td>4201</td>\n",
       "      <td>João</td>\n",
       "      <td>28</td>\n",
       "      <td>M</td>\n",
       "      <td>79.0</td>\n",
       "      <td>Concentradas</td>\n",
       "      <td>38.0</td>\n",
       "      <td>2</td>\n",
       "      <td>SP</td>\n",
       "      <td>Palmeiras</td>\n",
       "      <td>Doente</td>\n",
       "    </tr>\n",
       "    <tr>\n",
       "      <th>13</th>\n",
       "      <td>3217</td>\n",
       "      <td>Maria</td>\n",
       "      <td>18</td>\n",
       "      <td>F</td>\n",
       "      <td>67.0</td>\n",
       "      <td>Inexistentes</td>\n",
       "      <td>39.5</td>\n",
       "      <td>4</td>\n",
       "      <td>MG</td>\n",
       "      <td>Cruzeiro</td>\n",
       "      <td>Saudável</td>\n",
       "    </tr>\n",
       "  </tbody>\n",
       "</table>\n",
       "</div>"
      ],
      "text/plain": [
       "      Id     Nome  Idade Sexo  Peso       Manchas  Temp  Internação Estado  \\\n",
       "0   4201     João     55    M  90.0  Concentradas  38.0           2     SP   \n",
       "1   3217    Maria     56    F  91.0  Inexistentes  39.5           4     MG   \n",
       "2   4039     Luiz     49    M  92.0    Espalhadas  38.0           2     RS   \n",
       "3   1920     José     57    M  93.0  Inexistentes  38.5           2     MG   \n",
       "4   4340  Cláudia     21    F  52.0     Uniformes  37.6           1     PE   \n",
       "5   2301      Ana     58    F  94.0  Inexistentes  38.0           3     RJ   \n",
       "6   1322    Marta     19    F  87.0    Espalhadas  39.0           3     AM   \n",
       "7   3027    Paulo     34    M  67.0     Uniformes  38.4           2     GO   \n",
       "8   3546  Roberto     44    M  80.0     Uniformes  37.6           1     PE   \n",
       "9   6754   Lorena     33    F  72.0  Inexistentes  38.0           3     RJ   \n",
       "10  1735    Pedro     13    M  87.0    Espalhadas  31.0           4     AM   \n",
       "11  9834    Laura     65    F  80.0     Uniformes  38.4           2     GO   \n",
       "12  4201     João     28    M  79.0  Concentradas  38.0           2     SP   \n",
       "13  3217    Maria     18    F  67.0  Inexistentes  39.5           4     MG   \n",
       "\n",
       "         Time Diagnóstico  \n",
       "0   Palmeiras      Doente  \n",
       "1    Cruzeiro      Doente  \n",
       "2      Grêmio    Saudável  \n",
       "3    Atlético      Doente  \n",
       "4       Sport    Saudável  \n",
       "5    Botafogo      Doente  \n",
       "6    Flamengo      Doente  \n",
       "7   Vila Nova    Saudável  \n",
       "8       Sport    Saudável  \n",
       "9    Botafogo      Doente  \n",
       "10   Flamengo      Doente  \n",
       "11  Vila Nova    Saudável  \n",
       "12  Palmeiras      Doente  \n",
       "13   Cruzeiro    Saudável  "
      ]
     },
     "execution_count": 9,
     "metadata": {},
     "output_type": "execute_result"
    }
   ],
   "source": [
    "df_dataset"
   ]
  },
  {
   "cell_type": "code",
   "execution_count": 10,
   "id": "b6eb6c27",
   "metadata": {
    "execution": {
     "iopub.execute_input": "2023-05-10T23:51:21.811989Z",
     "iopub.status.busy": "2023-05-10T23:51:21.811598Z",
     "iopub.status.idle": "2023-05-10T23:51:21.830549Z",
     "shell.execute_reply": "2023-05-10T23:51:21.829316Z"
    },
    "papermill": {
     "duration": 0.033418,
     "end_time": "2023-05-10T23:51:21.832829",
     "exception": false,
     "start_time": "2023-05-10T23:51:21.799411",
     "status": "completed"
    },
    "tags": []
   },
   "outputs": [
    {
     "data": {
      "text/html": [
       "<div>\n",
       "<style scoped>\n",
       "    .dataframe tbody tr th:only-of-type {\n",
       "        vertical-align: middle;\n",
       "    }\n",
       "\n",
       "    .dataframe tbody tr th {\n",
       "        vertical-align: top;\n",
       "    }\n",
       "\n",
       "    .dataframe thead th {\n",
       "        text-align: right;\n",
       "    }\n",
       "</style>\n",
       "<table border=\"1\" class=\"dataframe\">\n",
       "  <thead>\n",
       "    <tr style=\"text-align: right;\">\n",
       "      <th></th>\n",
       "      <th>Id</th>\n",
       "      <th>Nome</th>\n",
       "      <th>Idade</th>\n",
       "      <th>Sexo</th>\n",
       "      <th>Peso</th>\n",
       "      <th>Manchas</th>\n",
       "      <th>Temp</th>\n",
       "      <th>Internação</th>\n",
       "      <th>Estado</th>\n",
       "      <th>Time</th>\n",
       "      <th>Diagnóstico</th>\n",
       "    </tr>\n",
       "  </thead>\n",
       "  <tbody>\n",
       "    <tr>\n",
       "      <th>0</th>\n",
       "      <td>4201</td>\n",
       "      <td>João</td>\n",
       "      <td>55</td>\n",
       "      <td>M</td>\n",
       "      <td>90.0</td>\n",
       "      <td>Concentradas</td>\n",
       "      <td>38.0</td>\n",
       "      <td>2</td>\n",
       "      <td>SP</td>\n",
       "      <td>Palmeiras</td>\n",
       "      <td>Doente</td>\n",
       "    </tr>\n",
       "    <tr>\n",
       "      <th>1</th>\n",
       "      <td>3217</td>\n",
       "      <td>Maria</td>\n",
       "      <td>56</td>\n",
       "      <td>F</td>\n",
       "      <td>91.0</td>\n",
       "      <td>Inexistentes</td>\n",
       "      <td>39.5</td>\n",
       "      <td>4</td>\n",
       "      <td>MG</td>\n",
       "      <td>Cruzeiro</td>\n",
       "      <td>Doente</td>\n",
       "    </tr>\n",
       "    <tr>\n",
       "      <th>2</th>\n",
       "      <td>4039</td>\n",
       "      <td>Luiz</td>\n",
       "      <td>49</td>\n",
       "      <td>M</td>\n",
       "      <td>92.0</td>\n",
       "      <td>Espalhadas</td>\n",
       "      <td>38.0</td>\n",
       "      <td>2</td>\n",
       "      <td>RS</td>\n",
       "      <td>Grêmio</td>\n",
       "      <td>Saudável</td>\n",
       "    </tr>\n",
       "    <tr>\n",
       "      <th>3</th>\n",
       "      <td>1920</td>\n",
       "      <td>José</td>\n",
       "      <td>57</td>\n",
       "      <td>M</td>\n",
       "      <td>93.0</td>\n",
       "      <td>Inexistentes</td>\n",
       "      <td>38.5</td>\n",
       "      <td>2</td>\n",
       "      <td>MG</td>\n",
       "      <td>Atlético</td>\n",
       "      <td>Doente</td>\n",
       "    </tr>\n",
       "    <tr>\n",
       "      <th>4</th>\n",
       "      <td>4340</td>\n",
       "      <td>Cláudia</td>\n",
       "      <td>21</td>\n",
       "      <td>F</td>\n",
       "      <td>52.0</td>\n",
       "      <td>Uniformes</td>\n",
       "      <td>37.6</td>\n",
       "      <td>1</td>\n",
       "      <td>PE</td>\n",
       "      <td>Sport</td>\n",
       "      <td>Saudável</td>\n",
       "    </tr>\n",
       "    <tr>\n",
       "      <th>5</th>\n",
       "      <td>2301</td>\n",
       "      <td>Ana</td>\n",
       "      <td>58</td>\n",
       "      <td>F</td>\n",
       "      <td>94.0</td>\n",
       "      <td>Inexistentes</td>\n",
       "      <td>38.0</td>\n",
       "      <td>3</td>\n",
       "      <td>RJ</td>\n",
       "      <td>Botafogo</td>\n",
       "      <td>Doente</td>\n",
       "    </tr>\n",
       "    <tr>\n",
       "      <th>6</th>\n",
       "      <td>1322</td>\n",
       "      <td>Marta</td>\n",
       "      <td>19</td>\n",
       "      <td>F</td>\n",
       "      <td>87.0</td>\n",
       "      <td>Espalhadas</td>\n",
       "      <td>39.0</td>\n",
       "      <td>3</td>\n",
       "      <td>AM</td>\n",
       "      <td>Flamengo</td>\n",
       "      <td>Doente</td>\n",
       "    </tr>\n",
       "    <tr>\n",
       "      <th>7</th>\n",
       "      <td>3027</td>\n",
       "      <td>Paulo</td>\n",
       "      <td>34</td>\n",
       "      <td>M</td>\n",
       "      <td>67.0</td>\n",
       "      <td>Uniformes</td>\n",
       "      <td>38.4</td>\n",
       "      <td>2</td>\n",
       "      <td>GO</td>\n",
       "      <td>Vila Nova</td>\n",
       "      <td>Saudável</td>\n",
       "    </tr>\n",
       "  </tbody>\n",
       "</table>\n",
       "</div>"
      ],
      "text/plain": [
       "     Id     Nome  Idade Sexo  Peso       Manchas  Temp  Internação Estado  \\\n",
       "0  4201     João     55    M  90.0  Concentradas  38.0           2     SP   \n",
       "1  3217    Maria     56    F  91.0  Inexistentes  39.5           4     MG   \n",
       "2  4039     Luiz     49    M  92.0    Espalhadas  38.0           2     RS   \n",
       "3  1920     José     57    M  93.0  Inexistentes  38.5           2     MG   \n",
       "4  4340  Cláudia     21    F  52.0     Uniformes  37.6           1     PE   \n",
       "5  2301      Ana     58    F  94.0  Inexistentes  38.0           3     RJ   \n",
       "6  1322    Marta     19    F  87.0    Espalhadas  39.0           3     AM   \n",
       "7  3027    Paulo     34    M  67.0     Uniformes  38.4           2     GO   \n",
       "\n",
       "        Time Diagnóstico  \n",
       "0  Palmeiras      Doente  \n",
       "1   Cruzeiro      Doente  \n",
       "2     Grêmio    Saudável  \n",
       "3   Atlético      Doente  \n",
       "4      Sport    Saudável  \n",
       "5   Botafogo      Doente  \n",
       "6   Flamengo      Doente  \n",
       "7  Vila Nova    Saudável  "
      ]
     },
     "metadata": {},
     "output_type": "display_data"
    }
   ],
   "source": [
    "display(df_dataset.head(n=8))\n"
   ]
  },
  {
   "cell_type": "code",
   "execution_count": 11,
   "id": "6a4ec917",
   "metadata": {
    "execution": {
     "iopub.execute_input": "2023-05-10T23:51:21.855965Z",
     "iopub.status.busy": "2023-05-10T23:51:21.855110Z",
     "iopub.status.idle": "2023-05-10T23:51:22.226438Z",
     "shell.execute_reply": "2023-05-10T23:51:22.224628Z"
    },
    "papermill": {
     "duration": 0.388234,
     "end_time": "2023-05-10T23:51:22.231386",
     "exception": false,
     "start_time": "2023-05-10T23:51:21.843152",
     "status": "completed"
    },
    "tags": []
   },
   "outputs": [
    {
     "data": {
      "text/plain": [
       "<AxesSubplot: ylabel='Internação'>"
      ]
     },
     "execution_count": 11,
     "metadata": {},
     "output_type": "execute_result"
    },
    {
     "data": {
      "image/png": "[encoded data removed]",
      "text/plain": [
       "<Figure size 640x480 with 1 Axes>"
      ]
     },
     "metadata": {},
     "output_type": "display_data"
    }
   ],
   "source": [
    "df_dataset.groupby('Diagnóstico').count().plot.pie(y = 'Internação')\n"
   ]
  },
  {
   "cell_type": "code",
   "execution_count": 12,
   "id": "95bedaae",
   "metadata": {
    "execution": {
     "iopub.execute_input": "2023-05-10T23:51:22.255120Z",
     "iopub.status.busy": "2023-05-10T23:51:22.254638Z",
     "iopub.status.idle": "2023-05-10T23:51:22.525449Z",
     "shell.execute_reply": "2023-05-10T23:51:22.523733Z"
    },
    "papermill": {
     "duration": 0.289086,
     "end_time": "2023-05-10T23:51:22.531318",
     "exception": false,
     "start_time": "2023-05-10T23:51:22.242232",
     "status": "completed"
    },
    "tags": []
   },
   "outputs": [
    {
     "data": {
      "text/plain": [
       "<AxesSubplot: ylabel='Internação'>"
      ]
     },
     "execution_count": 12,
     "metadata": {},
     "output_type": "execute_result"
    },
    {
     "data": {
      "image/png": "[encoded data removed]",
      "text/plain": [
       "<Figure size 640x480 with 1 Axes>"
      ]
     },
     "metadata": {},
     "output_type": "display_data"
    }
   ],
   "source": [
    "df_dataset.groupby('Diagnóstico').count().plot.pie(y = 'Internação')\n"
   ]
  },
  {
   "cell_type": "code",
   "execution_count": 13,
   "id": "aaa768be",
   "metadata": {
    "execution": {
     "iopub.execute_input": "2023-05-10T23:51:22.565651Z",
     "iopub.status.busy": "2023-05-10T23:51:22.564455Z",
     "iopub.status.idle": "2023-05-10T23:51:22.572252Z",
     "shell.execute_reply": "2023-05-10T23:51:22.571340Z"
    },
    "papermill": {
     "duration": 0.025759,
     "end_time": "2023-05-10T23:51:22.574578",
     "exception": false,
     "start_time": "2023-05-10T23:51:22.548819",
     "status": "completed"
    },
    "tags": []
   },
   "outputs": [
    {
     "data": {
      "text/plain": [
       "Index(['Id', 'Nome', 'Idade', 'Sexo', 'Peso', 'Manchas', 'Temp', 'Internação',\n",
       "       'Estado', 'Time', 'Diagnóstico'],\n",
       "      dtype='object')"
      ]
     },
     "execution_count": 13,
     "metadata": {},
     "output_type": "execute_result"
    }
   ],
   "source": [
    "df_dataset.columns"
   ]
  },
  {
   "cell_type": "code",
   "execution_count": 14,
   "id": "1d144ef5",
   "metadata": {
    "execution": {
     "iopub.execute_input": "2023-05-10T23:51:22.602461Z",
     "iopub.status.busy": "2023-05-10T23:51:22.601113Z",
     "iopub.status.idle": "2023-05-10T23:51:23.099800Z",
     "shell.execute_reply": "2023-05-10T23:51:23.098099Z"
    },
    "papermill": {
     "duration": 0.517229,
     "end_time": "2023-05-10T23:51:23.104299",
     "exception": false,
     "start_time": "2023-05-10T23:51:22.587070",
     "status": "completed"
    },
    "tags": []
   },
   "outputs": [
    {
     "data": {
      "text/plain": [
       "Text(0.5, 1.0, 'Graph')"
      ]
     },
     "execution_count": 14,
     "metadata": {},
     "output_type": "execute_result"
    },
    {
     "data": {
      "image/png": "[encoded data removed]",
      "text/plain": [
       "<Figure size 640x480 with 1 Axes>"
      ]
     },
     "metadata": {},
     "output_type": "display_data"
    }
   ],
   "source": [
    "import matplotlib.pyplot as plt\n",
    "import seaborn as sns\n",
    "  \n",
    "# plotting strip plot with seaborn\n",
    "# deciding the attributes of dataset on\n",
    "# which plot should be made\n",
    "ax = sns.swarmplot(x='Diagnóstico', y='Time', data=df_dataset)\n",
    "  \n",
    "# giving title to the plot\n",
    "plt.title('Graph')\n",
    "  \n",
    "# function to sho"
   ]
  },
  {
   "cell_type": "code",
   "execution_count": 15,
   "id": "613cf37b",
   "metadata": {
    "execution": {
     "iopub.execute_input": "2023-05-10T23:51:23.152195Z",
     "iopub.status.busy": "2023-05-10T23:51:23.151380Z",
     "iopub.status.idle": "2023-05-10T23:51:23.569408Z",
     "shell.execute_reply": "2023-05-10T23:51:23.567755Z"
    },
    "papermill": {
     "duration": 0.444876,
     "end_time": "2023-05-10T23:51:23.574952",
     "exception": false,
     "start_time": "2023-05-10T23:51:23.130076",
     "status": "completed"
    },
    "tags": []
   },
   "outputs": [
    {
     "data": {
      "image/png": "[encoded data removed]",
      "text/plain": [
       "<Figure size 640x480 with 1 Axes>"
      ]
     },
     "metadata": {},
     "output_type": "display_data"
    }
   ],
   "source": [
    "\n",
    "ax = sns.swarmplot(x='Diagnóstico', y='Time', data=df_dataset)\n",
    "  \n",
    "  \n",
    "# giving title to the plot\n",
    "plt.title('Graph')\n",
    "  \n",
    "# function to show plot\n",
    "plt.show()"
   ]
  },
  {
   "cell_type": "code",
   "execution_count": 16,
   "id": "77f74972",
   "metadata": {
    "execution": {
     "iopub.execute_input": "2023-05-10T23:51:23.625489Z",
     "iopub.status.busy": "2023-05-10T23:51:23.624867Z",
     "iopub.status.idle": "2023-05-10T23:51:23.913104Z",
     "shell.execute_reply": "2023-05-10T23:51:23.911952Z"
    },
    "papermill": {
     "duration": 0.312601,
     "end_time": "2023-05-10T23:51:23.915606",
     "exception": false,
     "start_time": "2023-05-10T23:51:23.603005",
     "status": "completed"
    },
    "tags": []
   },
   "outputs": [
    {
     "data": {
      "text/plain": [
       "<AxesSubplot: xlabel='Diagnóstico'>"
      ]
     },
     "execution_count": 16,
     "metadata": {},
     "output_type": "execute_result"
    },
    {
     "data": {
      "image/png": "[encoded data removed]",
      "text/plain": [
       "<Figure size 640x480 with 1 Axes>"
      ]
     },
     "metadata": {},
     "output_type": "display_data"
    }
   ],
   "source": [
    "df_dataset.groupby(\n",
    "  ['Diagnóstico','Time']\n",
    ").size().to_frame().unstack().plot(kind='bar',stacked=True,legend=False)"
   ]
  },
  {
   "cell_type": "markdown",
   "id": "28f13d8b",
   "metadata": {
    "papermill": {
     "duration": 0.01287,
     "end_time": "2023-05-10T23:51:23.941625",
     "exception": false,
     "start_time": "2023-05-10T23:51:23.928755",
     "status": "completed"
    },
    "tags": []
   },
   "source": [
    "## Graficos Matplot pyplot"
   ]
  },
  {
   "cell_type": "code",
   "execution_count": 17,
   "id": "e7c6c8fe",
   "metadata": {
    "execution": {
     "iopub.execute_input": "2023-05-10T23:51:23.969727Z",
     "iopub.status.busy": "2023-05-10T23:51:23.968965Z",
     "iopub.status.idle": "2023-05-10T23:51:23.973985Z",
     "shell.execute_reply": "2023-05-10T23:51:23.972805Z"
    },
    "papermill": {
     "duration": 0.022388,
     "end_time": "2023-05-10T23:51:23.976889",
     "exception": false,
     "start_time": "2023-05-10T23:51:23.954501",
     "status": "completed"
    },
    "tags": []
   },
   "outputs": [],
   "source": [
    "df = df_dataset"
   ]
  },
  {
   "cell_type": "code",
   "execution_count": 18,
   "id": "cdd30d00",
   "metadata": {
    "execution": {
     "iopub.execute_input": "2023-05-10T23:51:24.005032Z",
     "iopub.status.busy": "2023-05-10T23:51:24.004619Z",
     "iopub.status.idle": "2023-05-10T23:51:24.149162Z",
     "shell.execute_reply": "2023-05-10T23:51:24.147540Z"
    },
    "papermill": {
     "duration": 0.163228,
     "end_time": "2023-05-10T23:51:24.153457",
     "exception": false,
     "start_time": "2023-05-10T23:51:23.990229",
     "status": "completed"
    },
    "tags": []
   },
   "outputs": [
    {
     "data": {
      "image/png": "[encoded data removed]",
      "text/plain": [
       "<Figure size 640x480 with 1 Axes>"
      ]
     },
     "metadata": {},
     "output_type": "display_data"
    }
   ],
   "source": [
    "labels = ['Doente', 'Saudável']\n",
    "sizes = [len([d for d in df['Diagnóstico'] if d == 'Doente']),\n",
    "         len([d for d in df['Diagnóstico'] if d == 'Saudável'])]\n",
    "colors = ['red', 'green']\n",
    "\n",
    "\n",
    "fig, ax = plt.subplots()\n",
    "ax.pie(sizes, labels=labels, colors=colors, autopct='%1.1f%%', startangle=90)\n",
    "\n",
    "ax.set_title('Distribuição dos diagnósticos')\n",
    "\n",
    "plt.show()"
   ]
  },
  {
   "cell_type": "code",
   "execution_count": 19,
   "id": "b97e3388",
   "metadata": {
    "execution": {
     "iopub.execute_input": "2023-05-10T23:51:24.208220Z",
     "iopub.status.busy": "2023-05-10T23:51:24.207485Z",
     "iopub.status.idle": "2023-05-10T23:51:24.438985Z",
     "shell.execute_reply": "2023-05-10T23:51:24.437537Z"
    },
    "papermill": {
     "duration": 0.260028,
     "end_time": "2023-05-10T23:51:24.441358",
     "exception": false,
     "start_time": "2023-05-10T23:51:24.181330",
     "status": "completed"
    },
    "tags": []
   },
   "outputs": [
    {
     "data": {
      "image/png": "[encoded data removed]",
      "text/plain": [
       "<Figure size 640x480 with 1 Axes>"
      ]
     },
     "metadata": {},
     "output_type": "display_data"
    }
   ],
   "source": [
    "import matplotlib.pyplot as plt\n",
    "\n",
    "sexo_count = df.groupby('Sexo').size()\n",
    "plt.bar(sexo_count.index, sexo_count.values)\n",
    "plt.title('Contagem de Pacientes por Sexo')\n",
    "plt.xlabel('Sexo')\n",
    "plt.ylabel('Contagem')\n",
    "plt.show()"
   ]
  },
  {
   "cell_type": "code",
   "execution_count": 20,
   "id": "db12e9be",
   "metadata": {
    "execution": {
     "iopub.execute_input": "2023-05-10T23:51:24.471557Z",
     "iopub.status.busy": "2023-05-10T23:51:24.471082Z",
     "iopub.status.idle": "2023-05-10T23:51:24.723468Z",
     "shell.execute_reply": "2023-05-10T23:51:24.722378Z"
    },
    "papermill": {
     "duration": 0.270825,
     "end_time": "2023-05-10T23:51:24.726297",
     "exception": false,
     "start_time": "2023-05-10T23:51:24.455472",
     "status": "completed"
    },
    "tags": []
   },
   "outputs": [
    {
     "data": {
      "image/png": "[encoded data removed]",
      "text/plain": [
       "<Figure size 640x480 with 1 Axes>"
      ]
     },
     "metadata": {},
     "output_type": "display_data"
    }
   ],
   "source": [
    "plt.scatter(df['Idade'], df['Temp'])\n",
    "plt.title('Relação entre Idade e Temperatura')\n",
    "plt.xlabel('Idade')\n",
    "plt.ylabel('Temperatura')\n",
    "plt.show()"
   ]
  },
  {
   "cell_type": "markdown",
   "id": "bb0444e9",
   "metadata": {
    "papermill": {
     "duration": 0.014183,
     "end_time": "2023-05-10T23:51:24.755598",
     "exception": false,
     "start_time": "2023-05-10T23:51:24.741415",
     "status": "completed"
    },
    "tags": []
   },
   "source": [
    "## Graficos Seborn"
   ]
  },
  {
   "cell_type": "code",
   "execution_count": 21,
   "id": "635cb2a3",
   "metadata": {
    "execution": {
     "iopub.execute_input": "2023-05-10T23:51:24.787495Z",
     "iopub.status.busy": "2023-05-10T23:51:24.787028Z",
     "iopub.status.idle": "2023-05-10T23:51:25.378797Z",
     "shell.execute_reply": "2023-05-10T23:51:25.377505Z"
    },
    "papermill": {
     "duration": 0.611739,
     "end_time": "2023-05-10T23:51:25.381889",
     "exception": false,
     "start_time": "2023-05-10T23:51:24.770150",
     "status": "completed"
    },
    "tags": []
   },
   "outputs": [
    {
     "data": {
      "image/png": "[encoded data removed]",
      "text/plain": [
       "<Figure size 562x500 with 1 Axes>"
      ]
     },
     "metadata": {},
     "output_type": "display_data"
    }
   ],
   "source": [
    "sns.displot(data=df, x='Idade', hue='Sexo', kde=True)\n",
    "plt.title('Distribuição de Idades por Sexo')\n",
    "plt.show()\n"
   ]
  },
  {
   "cell_type": "code",
   "execution_count": 22,
   "id": "9d89d4ae",
   "metadata": {
    "execution": {
     "iopub.execute_input": "2023-05-10T23:51:25.415233Z",
     "iopub.status.busy": "2023-05-10T23:51:25.414758Z",
     "iopub.status.idle": "2023-05-10T23:51:25.759622Z",
     "shell.execute_reply": "2023-05-10T23:51:25.758440Z"
    },
    "papermill": {
     "duration": 0.365071,
     "end_time": "2023-05-10T23:51:25.762190",
     "exception": false,
     "start_time": "2023-05-10T23:51:25.397119",
     "status": "completed"
    },
    "tags": []
   },
   "outputs": [
    {
     "data": {
      "image/png": "[encoded data removed]",
      "text/plain": [
       "<Figure size 640x480 with 1 Axes>"
      ]
     },
     "metadata": {},
     "output_type": "display_data"
    }
   ],
   "source": [
    "sns.countplot(data=df, x='Estado', hue='Diagnóstico')\n",
    "plt.title('Número de Diagnósticos por Estado')\n",
    "plt.show()"
   ]
  },
  {
   "cell_type": "code",
   "execution_count": 23,
   "id": "ac82cf03",
   "metadata": {
    "execution": {
     "iopub.execute_input": "2023-05-10T23:51:25.796050Z",
     "iopub.status.busy": "2023-05-10T23:51:25.795623Z",
     "iopub.status.idle": "2023-05-10T23:51:26.168748Z",
     "shell.execute_reply": "2023-05-10T23:51:26.167599Z"
    },
    "papermill": {
     "duration": 0.393319,
     "end_time": "2023-05-10T23:51:26.171356",
     "exception": false,
     "start_time": "2023-05-10T23:51:25.778037",
     "status": "completed"
    },
    "tags": []
   },
   "outputs": [
    {
     "data": {
      "image/png": "[encoded data removed]",
      "text/plain": [
       "<Figure size 640x480 with 1 Axes>"
      ]
     },
     "metadata": {},
     "output_type": "display_data"
    }
   ],
   "source": [
    "sns.countplot(data=df, x='Time', hue='Diagnóstico')\n",
    "plt.title('Número de Diagnósticos por time')\n",
    "plt.show()"
   ]
  }
 ],
 "metadata": {
  "kernelspec": {
   "display_name": "Python 3",
   "language": "python",
   "name": "python3"
  },
  "language_info": {
   "codemirror_mode": {
    "name": "ipython",
    "version": 3
   },
   "file_extension": ".py",
   "mimetype": "text/x-python",
   "name": "python",
   "nbconvert_exporter": "python",
   "pygments_lexer": "ipython3",
   "version": "3.10.10"
  },
  "papermill": {
   "default_parameters": {},
   "duration": 23.838943,
   "end_time": "2023-05-10T23:51:28.424434",
   "environment_variables": {},
   "exception": null,
   "input_path": "__notebook__.ipynb",
   "output_path": "__notebook__.ipynb",
   "parameters": {},
   "start_time": "2023-05-10T23:51:04.585491",
   "version": "2.4.0"
  }
 },
 "nbformat": 4,
 "nbformat_minor": 5
}
