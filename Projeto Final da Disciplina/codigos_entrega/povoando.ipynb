{
 "cells": [
  {
   "cell_type": "code",
   "execution_count": 1,
   "metadata": {},
   "outputs": [],
   "source": [
    "import pandas as pd # data processing, CSV file I/O (e.g. pd.read_csv)\n",
    "from transformers import BertModel, BertTokenizer, AdamW,  get_linear_schedule_with_warmup\n",
    "from sklearn.metrics import confusion_matrix, accuracy_score, f1_score\n",
    "import seaborn as sns\n",
    "import matplotlib.pyplot as plt\n",
    "import torch.nn.functional as F\n",
    "\n",
    "PRE_TRAINED_MODEL_NAME = 'neuralmind/bert-base-portuguese-cased'\n",
    "tokenizer = BertTokenizer.from_pretrained(PRE_TRAINED_MODEL_NAME)"
   ]
  },
  {
   "cell_type": "code",
   "execution_count": 21,
   "metadata": {},
   "outputs": [
    {
     "name": "stderr",
     "output_type": "stream",
     "text": [
      "[nltk_data] Downloading package wordnet to\n",
      "[nltk_data]     C:\\Users\\heinr\\AppData\\Roaming\\nltk_data...\n",
      "[nltk_data]   Package wordnet is already up-to-date!\n",
      "[nltk_data] Downloading package rslp to\n",
      "[nltk_data]     C:\\Users\\heinr\\AppData\\Roaming\\nltk_data...\n",
      "[nltk_data]   Package rslp is already up-to-date!\n",
      "[nltk_data] Downloading package sentiwordnet to\n",
      "[nltk_data]     C:\\Users\\heinr\\AppData\\Roaming\\nltk_data...\n",
      "[nltk_data]   Package sentiwordnet is already up-to-date!\n",
      "[nltk_data] Downloading package punkt to\n",
      "[nltk_data]     C:\\Users\\heinr\\AppData\\Roaming\\nltk_data...\n",
      "[nltk_data]   Package punkt is already up-to-date!\n",
      "[nltk_data] Downloading package stopwords to\n",
      "[nltk_data]     C:\\Users\\heinr\\AppData\\Roaming\\nltk_data...\n",
      "[nltk_data]   Package stopwords is already up-to-date!\n",
      "[nltk_data] Downloading package averaged_perceptron_tagger to\n",
      "[nltk_data]     C:\\Users\\heinr\\AppData\\Roaming\\nltk_data...\n",
      "[nltk_data]   Package averaged_perceptron_tagger is already up-to-\n",
      "[nltk_data]       date!\n",
      "[nltk_data] Downloading package wordnet to\n",
      "[nltk_data]     C:\\Users\\heinr\\AppData\\Roaming\\nltk_data...\n",
      "[nltk_data]   Package wordnet is already up-to-date!\n"
     ]
    }
   ],
   "source": [
    "import sys\n",
    "sys.path.insert(0, '../Codigos')\n",
    "import codigos\n",
    "from nltk import ngrams\n",
    "import importlib\n",
    "importlib.reload(codigos)\n",
    "\n",
    "import pandas as pd"
   ]
  },
  {
   "cell_type": "code",
   "execution_count": 3,
   "metadata": {},
   "outputs": [
    {
     "data": {
      "text/plain": [
       "<torch._C.Generator at 0x16405e0c570>"
      ]
     },
     "execution_count": 3,
     "metadata": {},
     "output_type": "execute_result"
    }
   ],
   "source": [
    "import torch\n",
    "import numpy as np\n",
    "from torch.utils.data import Dataset, DataLoader\n",
    "from sklearn.model_selection import train_test_split\n",
    "import torch.nn as nn\n",
    "\n",
    "RANDOM_SEED = 42\n",
    "np.random.seed(RANDOM_SEED)\n",
    "torch.manual_seed(RANDOM_SEED)"
   ]
  },
  {
   "cell_type": "code",
   "execution_count": 4,
   "metadata": {},
   "outputs": [],
   "source": [
    "def show_confusion_matrix(confusion_matrix):\n",
    "  hmap = sns.heatmap(confusion_matrix, annot=True, fmt=\"d\", cmap=\"Blues\")\n",
    "  hmap.yaxis.set_ticklabels(hmap.yaxis.get_ticklabels(), rotation=0, ha='right')\n",
    "  hmap.xaxis.set_ticklabels(hmap.xaxis.get_ticklabels(), rotation=30, ha='right')\n",
    "  plt.ylabel('True sentiment')\n",
    "  plt.xlabel('Predicted sentiment');"
   ]
  },
  {
   "cell_type": "code",
   "execution_count": 5,
   "metadata": {},
   "outputs": [],
   "source": [
    "class GPReviewDataset(Dataset):\n",
    "    def __init__(self, reviews, tokenizer, max_len, targets=None):\n",
    "        self.reviews = reviews\n",
    "        self.tokenizer = tokenizer\n",
    "        self.max_len = max_len\n",
    "        self.targets = targets\n",
    "\n",
    "    def __len__(self):\n",
    "        return len(self.reviews)\n",
    "\n",
    "    def __getitem__(self, item):\n",
    "        review = str(self.reviews[item])\n",
    "        encoding = self.tokenizer.encode_plus(\n",
    "            review,\n",
    "            add_special_tokens=True,\n",
    "            max_length=self.max_len,\n",
    "            return_token_type_ids=False,\n",
    "            pad_to_max_length=True,\n",
    "            return_attention_mask=True,\n",
    "            return_tensors='pt',\n",
    "        )\n",
    "        target = self.targets[item] if self.targets is not None else 0\n",
    "\n",
    "        return {\n",
    "            'review_text': review,\n",
    "            'input_ids': encoding['input_ids'].flatten(),\n",
    "            'attention_mask': encoding['attention_mask'].flatten(),\n",
    "            'targets': torch.tensor(target, dtype=torch.long)\n",
    "        }\n"
   ]
  },
  {
   "cell_type": "code",
   "execution_count": 6,
   "metadata": {},
   "outputs": [
    {
     "name": "stdout",
     "output_type": "stream",
     "text": [
      "Number of available CPU cores: 0\n"
     ]
    }
   ],
   "source": [
    "import multiprocessing\n",
    "\n",
    "num_cores = multiprocessing.cpu_count()\n",
    "num_workers = min(num_cores, 0) \n",
    "print(f'Number of available CPU cores: {num_workers}')\n",
    "\n",
    "def create_data_loader(data, tokenizer, max_len, batch_size):\n",
    "  ds = GPReviewDataset(\n",
    "    reviews=data.frase.to_numpy(),\n",
    "    targets=data.polarity.to_numpy(),\n",
    "    tokenizer=tokenizer,\n",
    "    max_len=max_len\n",
    "  )\n",
    "\n",
    "  return DataLoader(\n",
    "    ds,\n",
    "    batch_size=batch_size,\n",
    "    num_workers=num_workers\n",
    "  )\n",
    "\n",
    "def create_data_loader2(data, tokenizer, max_len, batch_size):\n",
    "  ds = GPReviewDataset(\n",
    "    reviews=data.frase.to_numpy(),\n",
    "    tokenizer=tokenizer,\n",
    "    max_len=max_len\n",
    "  )\n",
    "\n",
    "  return DataLoader(\n",
    "    ds,\n",
    "    batch_size=batch_size,\n",
    "    num_workers=num_workers\n",
    "  )\n",
    "\n"
   ]
  },
  {
   "cell_type": "code",
   "execution_count": 7,
   "metadata": {},
   "outputs": [],
   "source": [
    "BATCH_SIZE = 16\n",
    "MAX_LEN = 160\n",
    "\n",
    "\n",
    "data_valid2 = pd.read_csv('../lexicos/base_validacao.csv')\n",
    "data_valid2 = data_valid2.dropna(subset=['polarity','frase'])\n",
    "valid_data_loader2 = create_data_loader(data_valid2, tokenizer, MAX_LEN, BATCH_SIZE)\n",
    "\n",
    "\n",
    "data_valid = pd.read_csv('../lexicos/base_validacao2.csv')\n",
    "data_valid = data_valid.dropna(subset=['polarity','frase'])\n",
    "valid_data_loader = create_data_loader(data_valid, tokenizer, MAX_LEN, BATCH_SIZE)"
   ]
  },
  {
   "cell_type": "code",
   "execution_count": 8,
   "metadata": {},
   "outputs": [],
   "source": [
    "class SentimentClassifier(nn.Module):\n",
    "\n",
    "  def __init__(self, n_classes):\n",
    "    super(SentimentClassifier, self).__init__()\n",
    "    self.bert = BertModel.from_pretrained(PRE_TRAINED_MODEL_NAME, return_dict=False)\n",
    "    self.drop = nn.Dropout(p=0.3)\n",
    "    self.out = nn.Linear(self.bert.config.hidden_size, n_classes)\n",
    "  \n",
    "  def forward(self, input_ids, attention_mask):\n",
    "    _, pooled_output = self.bert(\n",
    "      input_ids=input_ids,\n",
    "      attention_mask=attention_mask\n",
    "    )\n",
    "    output = self.drop(pooled_output)\n",
    "    return self.out(output)"
   ]
  },
  {
   "cell_type": "code",
   "execution_count": 46,
   "metadata": {},
   "outputs": [],
   "source": [
    "import torch\n",
    "import torch.nn.functional as F\n",
    "\n",
    "def get_predictions(model, data_loader):\n",
    "    device = torch.device('cuda' if torch.cuda.is_available() else 'cpu')\n",
    "    model = model.eval()\n",
    "\n",
    "    review_texts = []\n",
    "    predictions = []\n",
    "    prediction_probs = []\n",
    "    real_values = []\n",
    "\n",
    "    with torch.no_grad():\n",
    "        for d in data_loader:\n",
    "            texts = d[\"review_text\"]  \n",
    "            input_ids = d[\"input_ids\"].to(device)\n",
    "            attention_mask = d[\"attention_mask\"].to(device)\n",
    "            targets = d[\"targets\"].to(device)\n",
    "\n",
    "            outputs = model(\n",
    "                input_ids=input_ids,\n",
    "                attention_mask=attention_mask\n",
    "            )\n",
    "            _, preds = torch.max(outputs, dim=1)\n",
    "\n",
    "            probs = F.softmax(outputs, dim=1)\n",
    "\n",
    "            review_texts.extend(texts)\n",
    "            predictions.extend(preds.tolist())\n",
    "            prediction_probs.extend(probs.tolist())\n",
    "            real_values.extend(targets.tolist())\n",
    "\n",
    "    predictions = torch.tensor(predictions).cpu()\n",
    "    prediction_probs = torch.tensor(prediction_probs).cpu()\n",
    "    real_values = torch.tensor(real_values).cpu()\n",
    "    return review_texts, predictions, prediction_probs, real_values\n"
   ]
  },
  {
   "cell_type": "code",
   "execution_count": 10,
   "metadata": {},
   "outputs": [],
   "source": [
    "class_names = ['Negativo', 'Positivo']"
   ]
  },
  {
   "cell_type": "code",
   "execution_count": 11,
   "metadata": {},
   "outputs": [
    {
     "name": "stdout",
     "output_type": "stream",
     "text": [
      "cuda\n"
     ]
    }
   ],
   "source": [
    "device = torch.device(\"cuda\" if torch.cuda.is_available() else \"cpu\")\n",
    "print(device)"
   ]
  },
  {
   "cell_type": "code",
   "execution_count": 12,
   "metadata": {},
   "outputs": [
    {
     "data": {
      "text/plain": [
       "<All keys matched successfully>"
      ]
     },
     "execution_count": 12,
     "metadata": {},
     "output_type": "execute_result"
    }
   ],
   "source": [
    "model = SentimentClassifier(len(class_names))\n",
    "model = model.to(device)\n",
    "\n",
    "model.load_state_dict(torch.load(r'D:\\Users\\heinr\\Desktop\\TCC-Adriano\\classsificação_bert\\best_model_state.bin'))"
   ]
  },
  {
   "cell_type": "code",
   "execution_count": 13,
   "metadata": {},
   "outputs": [],
   "source": [
    "import torch.nn.functional as F\n"
   ]
  },
  {
   "cell_type": "code",
   "execution_count": 14,
   "metadata": {},
   "outputs": [
    {
     "name": "stderr",
     "output_type": "stream",
     "text": [
      "Truncation was not explicitly activated but `max_length` is provided a specific value, please use `truncation=True` to explicitly truncate examples to max length. Defaulting to 'longest_first' truncation strategy. If you encode pairs of sequences (GLUE-style) with the tokenizer you can select this strategy more precisely by providing a specific strategy to `truncation`.\n",
      "d:\\Users\\heinr\\anaconda3\\envs\\tccamb\\Lib\\site-packages\\transformers\\tokenization_utils_base.py:2393: FutureWarning: The `pad_to_max_length` argument is deprecated and will be removed in a future version, use `padding=True` or `padding='longest'` to pad to the longest sequence in the batch, or use `padding='max_length'` to pad to a max length. In this case, you can give a specific length with `max_length` (e.g. `max_length=45`) or leave max_length to None to pad to the maximal input size of the model (e.g. 512 for Bert).\n",
      "  warnings.warn(\n"
     ]
    }
   ],
   "source": [
    "y_review_texts_val, y_pred_val, y_pred_probs_val, y_val = get_predictions(\n",
    "  model,\n",
    "  valid_data_loader\n",
    ")"
   ]
  },
  {
   "cell_type": "code",
   "execution_count": 15,
   "metadata": {},
   "outputs": [
    {
     "data": {
      "image/png": "[encoded data removed]",
      "text/plain": [
       "<Figure size 640x480 with 2 Axes>"
      ]
     },
     "metadata": {},
     "output_type": "display_data"
    }
   ],
   "source": [
    "cm = confusion_matrix(y_val, y_pred_val)\n",
    "df_cm = pd.DataFrame(cm, index=class_names, columns=class_names)\n",
    "show_confusion_matrix(df_cm)"
   ]
  },
  {
   "cell_type": "markdown",
   "metadata": {},
   "source": [
    "# Criando e povoando o banco"
   ]
  },
  {
   "cell_type": "code",
   "execution_count": 16,
   "metadata": {},
   "outputs": [],
   "source": [
    "import psycopg2\n",
    "conn = psycopg2.connect(\n",
    "    host=\"localhost\",\n",
    "    port=5432,\n",
    "    user=\"postgres\",\n",
    "    password=\"aluno\",\n",
    "    database=\"projeto_inova\"\n",
    ")\n",
    "\n",
    "cursor = conn.cursor()"
   ]
  },
  {
   "cell_type": "markdown",
   "metadata": {},
   "source": [
    "### messages"
   ]
  },
  {
   "cell_type": "code",
   "execution_count": 16,
   "metadata": {},
   "outputs": [],
   "source": [
    "import psycopg2\n",
    "\n",
    "\n",
    "conn = psycopg2.connect(\n",
    "    host=\"localhost\",\n",
    "    port=5432,\n",
    "    user=\"postgres\",\n",
    "    password=\"aluno\",\n",
    "    database=\"projeto_inova\"\n",
    ")\n",
    "cur = conn.cursor()\n",
    "\n",
    "\n",
    "cur.execute(\"\"\"\n",
    "    CREATE TABLE IF NOT EXISTS messages (\n",
    "        id SERIAL PRIMARY KEY,\n",
    "        contact_id INT NOT NULL,\n",
    "        body TEXT,\n",
    "        created_at TIMESTAMP DEFAULT CURRENT_TIMESTAMP\n",
    "    );\n",
    "\"\"\")\n",
    "\n",
    "\n",
    "conn.commit()\n",
    "\n",
    "cur.close()\n",
    "conn.close()\n"
   ]
  },
  {
   "cell_type": "markdown",
   "metadata": {},
   "source": [
    "### contacts"
   ]
  },
  {
   "cell_type": "code",
   "execution_count": 17,
   "metadata": {},
   "outputs": [],
   "source": [
    "import psycopg2\n",
    "\n",
    "\n",
    "conn = psycopg2.connect(\n",
    "    host=\"localhost\",\n",
    "    port=5432,\n",
    "    user=\"postgres\",\n",
    "    password=\"aluno\",\n",
    "    database=\"projeto_inova\"\n",
    ")\n",
    "cur = conn.cursor()\n",
    "\n",
    "\n",
    "cur.execute(\"\"\"\n",
    "    CREATE TABLE IF NOT EXISTS contacts (\n",
    "        contact_id SERIAL PRIMARY KEY,\n",
    "        phone VARCHAR(15),\n",
    "        status INT DEFAULT 1\n",
    "    );\n",
    "\"\"\")\n",
    "\n",
    "\n",
    "conn.commit()\n",
    "\n",
    "cur.close()\n",
    "conn.close()\n"
   ]
  },
  {
   "cell_type": "markdown",
   "metadata": {},
   "source": [
    "### inserindo valores na contacts"
   ]
  },
  {
   "cell_type": "code",
   "execution_count": 67,
   "metadata": {},
   "outputs": [],
   "source": [
    "conn = psycopg2.connect(\n",
    "    host=\"localhost\",\n",
    "    port=5432,\n",
    "    user=\"postgres\",\n",
    "    password=\"aluno\",\n",
    "    database=\"projeto_inova\"\n",
    ")\n",
    "cur = conn.cursor()\n",
    "\n",
    "contacts_to_insert = [\n",
    "    (35924643,'62998223865')\n",
    "    #(20235323,'62998223366')\n",
    "    # (32870421, '6299385566'),\n",
    "    # (20671831, '6299385567')\n",
    "]\n",
    "\n",
    "cur.executemany(\"INSERT INTO contacts (contact_id, phone) VALUES (%s, %s);\", contacts_to_insert)\n",
    "\n",
    "conn.commit()\n",
    "\n",
    "cur.close()\n",
    "conn.close()\n"
   ]
  },
  {
   "cell_type": "code",
   "execution_count": 19,
   "metadata": {},
   "outputs": [
    {
     "name": "stdout",
     "output_type": "stream",
     "text": [
      "   contact_id       phone  status\n",
      "0    20671831  6299385567       1\n",
      "1    32870421  6299385566       0\n"
     ]
    },
    {
     "name": "stderr",
     "output_type": "stream",
     "text": [
      "C:\\Users\\heinr\\AppData\\Local\\Temp\\ipykernel_4036\\1849902478.py:15: UserWarning: pandas only supports SQLAlchemy connectable (engine/connection) or database string URI or sqlite3 DBAPI2 connection. Other DBAPI2 objects are not tested. Please consider using SQLAlchemy.\n",
      "  df = pd.read_sql(query, conn)\n"
     ]
    }
   ],
   "source": [
    "import pandas as pd\n",
    "import psycopg2\n",
    "\n",
    "conn = psycopg2.connect(\n",
    "    host=\"localhost\",\n",
    "    port=5432,\n",
    "    user=\"postgres\",\n",
    "    password=\"aluno\",\n",
    "    database=\"projeto_inova\"\n",
    ")\n",
    "\n",
    "query = \"SELECT * FROM contacts\"\n",
    "df = pd.read_sql(query, conn)\n",
    "\n",
    "conn.close()\n",
    "\n",
    "# Agora 'df' contém os dados da tabela 'messages'\n",
    "print(df)\n"
   ]
  },
  {
   "cell_type": "markdown",
   "metadata": {},
   "source": [
    "### inserindo valores na messages"
   ]
  },
  {
   "cell_type": "code",
   "execution_count": 35,
   "metadata": {},
   "outputs": [],
   "source": [
    "# import pandas as pd\n",
    "# import psycopg2\n",
    "\n",
    "# # Supondo que o DataFrame já esteja carregado como df\n",
    "# df = pd.read_csv(r\"D:\\Users\\heinr\\Desktop\\TCC-Adriano\\classsificação_bert\\data_valid3.csv\")\n",
    "# # df = pd.read_csv(r\"D:\\Users\\heinr\\Desktop\\TCC-Adriano\\classsificação_bert\\data_valid1.csv\")\n",
    "\n",
    "# # Conecte-se ao seu banco de dados PostgreSQL\n",
    "# conn = psycopg2.connect(\n",
    "#     host=\"localhost\",\n",
    "#     port=5432,\n",
    "#     user=\"postgres\",\n",
    "#     password=\"aluno\",\n",
    "#     database=\"projeto_inova\"\n",
    "# )\n",
    "\n",
    "# \n",
    "# cur = conn.cursor()\n",
    "\n",
    "# # Insira as linhas do DataFrame na tabela 'messages'\n",
    "# for index, row in df.iterrows():\n",
    "#     cur.execute(\"\"\"\n",
    "#         INSERT INTO messages (contact_id, body, created_at)\n",
    "#         VALUES (%s, %s, %s);\n",
    "#     \"\"\", (row['contact_id'], row['body'], row['created_at']))\n",
    "\n",
    "# \n",
    "# conn.commit()\n",
    "\n",
    "\n",
    "# cur.close()\n",
    "# conn.close()\n"
   ]
  },
  {
   "cell_type": "code",
   "execution_count": 36,
   "metadata": {},
   "outputs": [
    {
     "name": "stdout",
     "output_type": "stream",
     "text": [
      "      id  contact_id  \\\n",
      "0      1    32870421   \n",
      "1      2    32870421   \n",
      "2      3    32870421   \n",
      "3      4    32870421   \n",
      "4      5    32870421   \n",
      "..   ...         ...   \n",
      "379  380    35924643   \n",
      "380  381    35924643   \n",
      "381  382    35924643   \n",
      "382  383    35924643   \n",
      "383  384    35924643   \n",
      "\n",
      "                                                                                                                                                                                                                                                                                              body  \\\n",
      "0                                                                                                                                                                                                                                                           Este contato foi editado em 07/02/2023   \n",
      "1                                                                                                                                                                                                                                                           Este contato foi editado em 07/02/2023   \n",
      "2                                                                                                                                                                                                                                                     *Vitor diz:*\\n\\nNão responda minha mensagem.   \n",
      "3                                                                                                                                                                                                                                        *Vitor diz:*\\n\\nTem dinheiro para comprar minhas cadeiras   \n",
      "4                                                                                                                                                                                                                             Contato redirecionado para Vitor pelo sistema em 07/02/2023 às 14:55   \n",
      "..                                                                                                                                                                                                                                                                                             ...   \n",
      "379                                                                                                                                                                                                                                                                                             ok   \n",
      "380                                                                                                                                                                                                                                                                               lfmelo@gmail.com   \n",
      "381                                                                                                                                                                                                                              *Kennedy Moreira diz:*\\n\\nMaravilha Nando, te encaminhei o invite   \n",
      "382                                                                                                                                                                                                                                                         Este contato foi editado em 25/05/2023   \n",
      "383  {\"body\":\"Bom dia Nando , tudo bem com você Estou entrando em contato para confirmar nossa reunião prevista para o dia de hoje. Posso confirmar \",\"header\":{\"type\":\"none\",\"text\":\"\",\"mediaUrl\":\"\"},\"footer\":\"\",\"buttons\":[],\"category\":1,\"language\":46,\"name\":\"polichat_quick_message_359030\"}   \n",
      "\n",
      "             created_at  \n",
      "0   2023-02-07 18:21:10  \n",
      "1   2023-02-07 18:14:17  \n",
      "2   2023-02-07 18:00:15  \n",
      "3   2023-02-07 17:58:47  \n",
      "4   2023-02-07 17:55:07  \n",
      "..                  ...  \n",
      "379 2023-05-22 20:21:53  \n",
      "380 2023-05-22 20:21:57  \n",
      "381 2023-05-22 20:51:55  \n",
      "382 2023-05-25 12:52:04  \n",
      "383 2023-05-25 12:52:26  \n",
      "\n",
      "[384 rows x 4 columns]\n"
     ]
    },
    {
     "name": "stderr",
     "output_type": "stream",
     "text": [
      "C:\\Users\\heinr\\AppData\\Local\\Temp\\ipykernel_1916\\3275511988.py:15: UserWarning: pandas only supports SQLAlchemy connectable (engine/connection) or database string URI or sqlite3 DBAPI2 connection. Other DBAPI2 objects are not tested. Please consider using SQLAlchemy.\n",
      "  df = pd.read_sql(query, conn)\n"
     ]
    }
   ],
   "source": [
    "import pandas as pd\n",
    "import psycopg2\n",
    "\n",
    "conn = psycopg2.connect(\n",
    "    host=\"localhost\",\n",
    "    port=5432,\n",
    "    user=\"postgres\",\n",
    "    password=\"aluno\",\n",
    "    database=\"projeto_inova\"\n",
    ")\n",
    "\n",
    "query = \"SELECT * FROM messages\" # Ajuste a query de acordo com suas necessidades\n",
    "df = pd.read_sql(query, conn)\n",
    "\n",
    "# Feche a conexão\n",
    "conn.close()\n",
    "\n",
    "# Agora 'df' contém os dados da tabela 'messages'\n",
    "print(df)\n"
   ]
  },
  {
   "cell_type": "markdown",
   "metadata": {},
   "source": [
    "## Atualizando o banco"
   ]
  },
  {
   "cell_type": "markdown",
   "metadata": {},
   "source": [
    "#### limpando o status"
   ]
  },
  {
   "cell_type": "code",
   "execution_count": 61,
   "metadata": {},
   "outputs": [],
   "source": [
    "import pandas as pd\n",
    "import psycopg2\n",
    "\n",
    "# Conectando ao banco de dados\n",
    "conn = psycopg2.connect(\n",
    "    host=\"localhost\",\n",
    "    port=5432,\n",
    "    user=\"postgres\",\n",
    "    password=\"aluno\",\n",
    "    database=\"projeto_inova\"\n",
    ")\n",
    "cur = conn.cursor()\n",
    "\n",
    "# Lendo os dados da tabela 'messages' usando Pandas\n",
    "cur.execute(\"UPDATE contacts SET status = 1;\")\n",
    "conn.commit()\n",
    "# Feche a conexão\n",
    "conn.close()\n",
    "\n",
    "# Agora 'df' contém os dados da tabela 'messages'\n"
   ]
  },
  {
   "cell_type": "code",
   "execution_count": 62,
   "metadata": {},
   "outputs": [
    {
     "name": "stdout",
     "output_type": "stream",
     "text": [
      "   contact_id        phone  status\n",
      "0    34507907  62998223865       1\n",
      "1    32870421   6299385566       1\n",
      "2    20671831   6299385567       1\n"
     ]
    },
    {
     "name": "stderr",
     "output_type": "stream",
     "text": [
      "C:\\Users\\heinr\\AppData\\Local\\Temp\\ipykernel_1916\\403359127.py:15: UserWarning: pandas only supports SQLAlchemy connectable (engine/connection) or database string URI or sqlite3 DBAPI2 connection. Other DBAPI2 objects are not tested. Please consider using SQLAlchemy.\n",
      "  df = pd.read_sql(query, conn)\n"
     ]
    }
   ],
   "source": [
    "import pandas as pd\n",
    "import psycopg2\n",
    "\n",
    "# Conectando ao banco de dados\n",
    "conn = psycopg2.connect(\n",
    "    host=\"localhost\",\n",
    "    port=5432,\n",
    "    user=\"postgres\",\n",
    "    password=\"aluno\",\n",
    "    database=\"projeto_inova\"\n",
    ")\n",
    "\n",
    "# Lendo os dados da tabela 'messages' usando Pandas\n",
    "query = \"SELECT * FROM contacts\" \n",
    "df = pd.read_sql(query, conn)\n",
    "\n",
    "# Feche a conexão\n",
    "conn.close()\n",
    "\n",
    "# Agora 'df' contém os dados da tabela 'messages'\n",
    "print(df)\n"
   ]
  },
  {
   "cell_type": "markdown",
   "metadata": {},
   "source": [
    "#### atualizando status"
   ]
  },
  {
   "cell_type": "code",
   "execution_count": 94,
   "metadata": {},
   "outputs": [
    {
     "name": "stderr",
     "output_type": "stream",
     "text": [
      "C:\\Users\\heinr\\AppData\\Local\\Temp\\ipykernel_1916\\3304194655.py:31: UserWarning: pandas only supports SQLAlchemy connectable (engine/connection) or database string URI or sqlite3 DBAPI2 connection. Other DBAPI2 objects are not tested. Please consider using SQLAlchemy.\n",
      "  df = pd.read_sql(query, conn, params=(contact_id,))\n",
      "d:\\Users\\heinr\\anaconda3\\envs\\tccamb\\Lib\\site-packages\\transformers\\tokenization_utils_base.py:2393: FutureWarning: The `pad_to_max_length` argument is deprecated and will be removed in a future version, use `padding=True` or `padding='longest'` to pad to the longest sequence in the batch, or use `padding='max_length'` to pad to a max length. In this case, you can give a specific length with `max_length` (e.g. `max_length=45`) or leave max_length to None to pad to the maximal input size of the model (e.g. 512 for Bert).\n",
      "  warnings.warn(\n",
      "C:\\Users\\heinr\\AppData\\Local\\Temp\\ipykernel_1916\\3304194655.py:31: UserWarning: pandas only supports SQLAlchemy connectable (engine/connection) or database string URI or sqlite3 DBAPI2 connection. Other DBAPI2 objects are not tested. Please consider using SQLAlchemy.\n",
      "  df = pd.read_sql(query, conn, params=(contact_id,))\n",
      "d:\\Users\\heinr\\anaconda3\\envs\\tccamb\\Lib\\site-packages\\transformers\\tokenization_utils_base.py:2393: FutureWarning: The `pad_to_max_length` argument is deprecated and will be removed in a future version, use `padding=True` or `padding='longest'` to pad to the longest sequence in the batch, or use `padding='max_length'` to pad to a max length. In this case, you can give a specific length with `max_length` (e.g. `max_length=45`) or leave max_length to None to pad to the maximal input size of the model (e.g. 512 for Bert).\n",
      "  warnings.warn(\n"
     ]
    },
    {
     "name": "stdout",
     "output_type": "stream",
     "text": [
      "                                                                                                                                frase  \\\n",
      "0                                                                                                                     contato editado   \n",
      "1                                                                                                 certo vou preparar carrinho compras   \n",
      "3                                                                                                     vitor diz nao responda mensagem   \n",
      "4                                                                                                 vitor diz dinheiro comprar cadeiras   \n",
      "5                                                                                                                        vitor diz oi   \n",
      "6                                                                                                 contato redirecionado vitor sistema   \n",
      "7                                                                                                                                       \n",
      "8  ola tudo bem bemvindo atendimento whatsapp melhor direcionalo digite numero departamento deseja falar comercial suporte financeiro   \n",
      "\n",
      "   y_pred  \n",
      "0       1  \n",
      "1       1  \n",
      "3       0  \n",
      "4       0  \n",
      "5       1  \n",
      "6       0  \n",
      "7       1  \n",
      "8       1  \n",
      "                                                                                                                                                                                                                                                                                                                                                                                                                                          frase  \\\n",
      "0                                                                                                                                                                                                                                                                                                                                                                     juscelino diz grato resposta qualquer situacao pode acionar excelente dia   \n",
      "2                                                                                                                                                                                                                                                                                                                                                                                                      hoje manha funcionando perfeitamente obg   \n",
      "4                                                                                                                                                                                                                                                                                         juscelino diz bom dia leandro tudo bem retorno positivo time tecnico relacao estabilidade plataforma hoje pode contar usabilidade hoje voce gentileza   \n",
      "6  luciana rodrigues diz ola leandro boa tarde chamo luciana faco parte time sucesso cliente poli primeiramente gostaria pedir desculpas nome empresa reforcar voce ja identificamos causa instabilidade afetou dia hoje time tecnico ja operando retomar normalizacao servicos lamentamos ocorrido reforcamos totalmente dedicados solucionar completo questao breve estaremos operando dentro normalidade qualquer duvida aqui poder auxiliar   \n",
      "8                                                                                                                                                                                                                                                                                                                                                                                                                                           nan   \n",
      "\n",
      "   y_pred  \n",
      "0       0  \n",
      "2       1  \n",
      "4       1  \n",
      "6       0  \n",
      "8       0  \n"
     ]
    },
    {
     "name": "stderr",
     "output_type": "stream",
     "text": [
      "C:\\Users\\heinr\\AppData\\Local\\Temp\\ipykernel_1916\\3304194655.py:31: UserWarning: pandas only supports SQLAlchemy connectable (engine/connection) or database string URI or sqlite3 DBAPI2 connection. Other DBAPI2 objects are not tested. Please consider using SQLAlchemy.\n",
      "  df = pd.read_sql(query, conn, params=(contact_id,))\n",
      "d:\\Users\\heinr\\anaconda3\\envs\\tccamb\\Lib\\site-packages\\transformers\\tokenization_utils_base.py:2393: FutureWarning: The `pad_to_max_length` argument is deprecated and will be removed in a future version, use `padding=True` or `padding='longest'` to pad to the longest sequence in the batch, or use `padding='max_length'` to pad to a max length. In this case, you can give a specific length with `max_length` (e.g. `max_length=45`) or leave max_length to None to pad to the maximal input size of the model (e.g. 512 for Bert).\n",
      "  warnings.warn(\n"
     ]
    },
    {
     "name": "stdout",
     "output_type": "stream",
     "text": [
      "                                                                                                                                                                       frase  \\\n",
      "0  body bom dia nando tudo bem voce entrando contato confirmar reuniao prevista dia hoje posso confirmar header type none text mediaurl footer button category language name   \n",
      "1                                                                                                                                                            contato editado   \n",
      "2                                                                                                                      kennedy moreira diz maravilha nando encaminhei invite   \n",
      "3                                                                                                                                                                         ok   \n",
      "4                                                                                                                              kennedy moreira diz vou enviar invite reuniao   \n",
      "5                                                                                                                                        kennedy moreira diz boa tarde nando   \n",
      "6                                                                                                                       contato redirecionado kennedy moreira renato fonseca   \n",
      "7                                                                                                                                                 renato fonseca diz momento   \n",
      "8                                                                                                                                                       preciso falar kenedy   \n",
      "9                                                                                                                                      souza melo consultoria previdenciaria   \n",
      "\n",
      "   y_pred  \n",
      "0       1  \n",
      "1       1  \n",
      "2       1  \n",
      "3       1  \n",
      "4       1  \n",
      "5       1  \n",
      "6       1  \n",
      "7       1  \n",
      "8       1  \n",
      "9       1  \n"
     ]
    }
   ],
   "source": [
    "import psycopg2\n",
    "\n",
    "BATCH_SIZE = 16\n",
    "MAX_LEN = 160\n",
    "\n",
    "# Conecte-se ao banco de dados PostgreSQL\n",
    "conn = psycopg2.connect(\n",
    "    host=\"localhost\",\n",
    "    port=5432,\n",
    "    user=\"postgres\",\n",
    "    password=\"aluno\",\n",
    "    database=\"projeto_inova\"\n",
    ")\n",
    "cur = conn.cursor()\n",
    "\n",
    "# 1. Recupere todos os IDs únicos de contatos\n",
    "cur.execute(\"SELECT DISTINCT contact_id FROM contacts;\")\n",
    "contact_ids = [row[0] for row in cur.fetchall()]\n",
    "\n",
    "i = 0\n",
    "# 2. Para cada ID de contato, recupere as 10 últimas mensagens\n",
    "for contact_id in contact_ids:\n",
    "    i += 1\n",
    "    query = \"\"\"\n",
    "        SELECT body FROM messages\n",
    "        WHERE contact_id = %s\n",
    "        ORDER BY created_at DESC\n",
    "        LIMIT 10;\n",
    "    \"\"\"\n",
    "    cur.execute(query, (contact_id,))\n",
    "    df = pd.read_sql(query, conn, params=(contact_id,))\n",
    "    df.rename(columns={'body': 'review_text'}, inplace=True)\n",
    "    df = codigos.preprocess.preprocess_text_stop(df)\n",
    "    messages = [row[0] for row in cur.fetchall()]\n",
    "\n",
    "    # Prepare o DataLoader com as 10 mensagens\n",
    "    valid_data_loader = create_data_loader2(df, tokenizer, MAX_LEN, BATCH_SIZE)\n",
    "\n",
    "    # 3. Avalie essas mensagens com seu modelo\n",
    "    y_review_texts_val, y_pred_val, y_pred_probs_val, y_val = get_predictions(model, valid_data_loader)\n",
    "\n",
    "    df['y_pred'] = y_pred_val\n",
    "    pd.set_option('display.max_colwidth', None)\n",
    "    print(df[['frase','y_pred']])\n",
    "    match i:\n",
    "        case 1:\n",
    "            a = df\n",
    "        case 2:\n",
    "            b = df\n",
    "        case 3:\n",
    "            c = df\n",
    "\n",
    "    # 4. Se pelo menos uma previsão for zero, atualize o status do contato\n",
    "    if any(pred == 0 for pred in y_pred_val):\n",
    "        cur.execute(\"UPDATE contacts SET status = 0 WHERE contact_id = %s;\", (contact_id,))\n",
    "    else:\n",
    "        cur.execute(\"UPDATE contacts SET status = 1 WHERE contact_id = %s;\", (contact_id,))\n",
    "\n",
    "# Confirme as alterações\n",
    "conn.commit()\n",
    "\n",
    "# Feche o cursor e a conexão\n",
    "cur.close()\n",
    "conn.close()"
   ]
  },
  {
   "cell_type": "code",
   "execution_count": 87,
   "metadata": {},
   "outputs": [
    {
     "data": {
      "text/plain": [
       "Index(['review_text', 'texto_processado', 'frase', 'y_pred'], dtype='object')"
      ]
     },
     "execution_count": 87,
     "metadata": {},
     "output_type": "execute_result"
    }
   ],
   "source": [
    "b.columns"
   ]
  },
  {
   "cell_type": "code",
   "execution_count": 96,
   "metadata": {},
   "outputs": [
    {
     "data": {
      "text/html": [
       "<div>\n",
       "<style scoped>\n",
       "    .dataframe tbody tr th:only-of-type {\n",
       "        vertical-align: middle;\n",
       "    }\n",
       "\n",
       "    .dataframe tbody tr th {\n",
       "        vertical-align: top;\n",
       "    }\n",
       "\n",
       "    .dataframe thead th {\n",
       "        text-align: right;\n",
       "    }\n",
       "</style>\n",
       "<table border=\"1\" class=\"dataframe\">\n",
       "  <thead>\n",
       "    <tr style=\"text-align: right;\">\n",
       "      <th></th>\n",
       "      <th>review_text</th>\n",
       "      <th>y_pred</th>\n",
       "    </tr>\n",
       "  </thead>\n",
       "  <tbody>\n",
       "    <tr>\n",
       "      <th>0</th>\n",
       "      <td>{\"body\":\"Bom dia Nando , tudo bem com você Estou entrando em contato para confirmar nossa reunião prevista para o dia de hoje. Posso confirmar \",\"header\":{\"type\":\"none\",\"text\":\"\",\"mediaUrl\":\"\"},\"footer\":\"\",\"buttons\":[],\"category\":1,\"language\":46,\"name\":\"polichat_quick_message_359030\"}</td>\n",
       "      <td>1</td>\n",
       "    </tr>\n",
       "    <tr>\n",
       "      <th>1</th>\n",
       "      <td>Este contato foi editado em 25/05/2023</td>\n",
       "      <td>1</td>\n",
       "    </tr>\n",
       "    <tr>\n",
       "      <th>2</th>\n",
       "      <td>*Kennedy Moreira diz:*\\n\\nMaravilha Nando, te encaminhei o invite</td>\n",
       "      <td>1</td>\n",
       "    </tr>\n",
       "    <tr>\n",
       "      <th>3</th>\n",
       "      <td>ok</td>\n",
       "      <td>1</td>\n",
       "    </tr>\n",
       "    <tr>\n",
       "      <th>4</th>\n",
       "      <td>*Kennedy Moreira diz:*\\n\\nVou te enviar o invite da nossa reunião</td>\n",
       "      <td>1</td>\n",
       "    </tr>\n",
       "    <tr>\n",
       "      <th>5</th>\n",
       "      <td>*Kennedy Moreira diz:*\\n\\nBoa tarde Nando</td>\n",
       "      <td>1</td>\n",
       "    </tr>\n",
       "    <tr>\n",
       "      <th>6</th>\n",
       "      <td>Contato redirecionado para Kennedy Moreira por Renato Fonseca em 22/05/2023 às 15:31</td>\n",
       "      <td>1</td>\n",
       "    </tr>\n",
       "    <tr>\n",
       "      <th>7</th>\n",
       "      <td>*Renato Fonseca diz:*\\n\\nUm momento</td>\n",
       "      <td>1</td>\n",
       "    </tr>\n",
       "    <tr>\n",
       "      <th>8</th>\n",
       "      <td>Preciso falar com o Kenedy</td>\n",
       "      <td>1</td>\n",
       "    </tr>\n",
       "    <tr>\n",
       "      <th>9</th>\n",
       "      <td>Souza e Melo Consultoria Previdenciária</td>\n",
       "      <td>1</td>\n",
       "    </tr>\n",
       "  </tbody>\n",
       "</table>\n",
       "</div>"
      ],
      "text/plain": [
       "                                                                                                                                                                                                                                                                                     review_text  \\\n",
       "0  {\"body\":\"Bom dia Nando , tudo bem com você Estou entrando em contato para confirmar nossa reunião prevista para o dia de hoje. Posso confirmar \",\"header\":{\"type\":\"none\",\"text\":\"\",\"mediaUrl\":\"\"},\"footer\":\"\",\"buttons\":[],\"category\":1,\"language\":46,\"name\":\"polichat_quick_message_359030\"}   \n",
       "1                                                                                                                                                                                                                                                         Este contato foi editado em 25/05/2023   \n",
       "2                                                                                                                                                                                                                              *Kennedy Moreira diz:*\\n\\nMaravilha Nando, te encaminhei o invite   \n",
       "3                                                                                                                                                                                                                                                                                             ok   \n",
       "4                                                                                                                                                                                                                              *Kennedy Moreira diz:*\\n\\nVou te enviar o invite da nossa reunião   \n",
       "5                                                                                                                                                                                                                                                      *Kennedy Moreira diz:*\\n\\nBoa tarde Nando   \n",
       "6                                                                                                                                                                                                           Contato redirecionado para Kennedy Moreira por Renato Fonseca em 22/05/2023 às 15:31   \n",
       "7                                                                                                                                                                                                                                                            *Renato Fonseca diz:*\\n\\nUm momento   \n",
       "8                                                                                                                                                                                                                                                                     Preciso falar com o Kenedy   \n",
       "9                                                                                                                                                                                                                                                        Souza e Melo Consultoria Previdenciária   \n",
       "\n",
       "   y_pred  \n",
       "0       1  \n",
       "1       1  \n",
       "2       1  \n",
       "3       1  \n",
       "4       1  \n",
       "5       1  \n",
       "6       1  \n",
       "7       1  \n",
       "8       1  \n",
       "9       1  "
      ]
     },
     "execution_count": 96,
     "metadata": {},
     "output_type": "execute_result"
    }
   ],
   "source": [
    "c[['review_text','y_pred']]"
   ]
  },
  {
   "cell_type": "code",
   "execution_count": 80,
   "metadata": {},
   "outputs": [
    {
     "data": {
      "text/plain": [
       "[32870421, 20671831, 35924643]"
      ]
     },
     "execution_count": 80,
     "metadata": {},
     "output_type": "execute_result"
    }
   ],
   "source": [
    "contact_ids"
   ]
  },
  {
   "cell_type": "code",
   "execution_count": 69,
   "metadata": {},
   "outputs": [
    {
     "data": {
      "text/plain": [
       "tensor([1, 1, 1, 1, 1, 1, 0, 1, 1, 0])"
      ]
     },
     "execution_count": 69,
     "metadata": {},
     "output_type": "execute_result"
    }
   ],
   "source": [
    "y_pred_val"
   ]
  },
  {
   "cell_type": "code",
   "execution_count": 91,
   "metadata": {},
   "outputs": [
    {
     "name": "stdout",
     "output_type": "stream",
     "text": [
      "   contact_id        phone  status\n",
      "0    32870421   6299385566       0\n",
      "1    20671831   6299385567       0\n",
      "2    35924643  62998223865       1\n"
     ]
    },
    {
     "name": "stderr",
     "output_type": "stream",
     "text": [
      "C:\\Users\\heinr\\AppData\\Local\\Temp\\ipykernel_1916\\1849902478.py:15: UserWarning: pandas only supports SQLAlchemy connectable (engine/connection) or database string URI or sqlite3 DBAPI2 connection. Other DBAPI2 objects are not tested. Please consider using SQLAlchemy.\n",
      "  df = pd.read_sql(query, conn)\n"
     ]
    }
   ],
   "source": [
    "import pandas as pd\n",
    "import psycopg2\n",
    "\n",
    "# Conectando ao banco de dados\n",
    "conn = psycopg2.connect(\n",
    "    host=\"localhost\",\n",
    "    port=5432,\n",
    "    user=\"postgres\",\n",
    "    password=\"aluno\",\n",
    "    database=\"projeto_inova\"\n",
    ")\n",
    "\n",
    "\n",
    "query = \"SELECT * FROM contacts\" \n",
    "df = pd.read_sql(query, conn)\n",
    "\n",
    "# Feche a conexão\n",
    "conn.close()\n",
    "\n",
    "# Agora 'df' contém os dados da tabela 'contacts'\n",
    "print(df)\n"
   ]
  }
 ],
 "metadata": {
  "kernelspec": {
   "display_name": "Python 3",
   "language": "python",
   "name": "python3"
  },
  "language_info": {
   "codemirror_mode": {
    "name": "ipython",
    "version": 3
   },
   "file_extension": ".py",
   "mimetype": "text/x-python",
   "name": "python",
   "nbconvert_exporter": "python",
   "pygments_lexer": "ipython3",
   "version": "3.11.3"
  },
  "orig_nbformat": 4
 },
 "nbformat": 4,
 "nbformat_minor": 2
}
